{
 "cells": [
  {
   "cell_type": "markdown",
   "id": "7a527f24",
   "metadata": {},
   "source": [
    "## Комплексный анализ данных о продажах компьютерных игр"
   ]
  },
  {
   "cell_type": "markdown",
   "id": "d8f4aad8",
   "metadata": {},
   "source": [
    "### Описание проекта\n",
    "\n",
    "Интернет-магазин «Стримчик», который продаёт по всему миру компьютерные игры. Из открытых источников доступны исторические данные о продажах игр, оценки пользователей и экспертов, жанры и платформы (например, Xbox или PlayStation). \n",
    "\n",
    "Нам нужно выявить определяющие успешность игры закономерности. Это позволит сделать ставку на потенциально популярный продукт и спланировать рекламные кампании.\n",
    "\n",
    "Перед нами данные до 2016 года. Представим, что сейчас декабрь 2016 г., и мы планируем кампанию на 2017-й. Нужно отработать принцип работы с данными. Неважно, прогнозируем ли мы продажи на 2017 год по данным 2016-го или же 2027-й — по данным 2026 года.\n",
    "\n",
    "В наборе данных попадается аббревиатура ESRB (Entertainment Software Rating Board) — это ассоциация, определяющая возрастной рейтинг компьютерных игр. ESRB оценивает игровой контент и присваивает ему подходящую возрастную категорию, например, «Для взрослых», «Для детей младшего возраста» или «Для подростков»."
   ]
  },
  {
   "cell_type": "markdown",
   "id": "4e5935ac",
   "metadata": {},
   "source": [
    "### Описание данных\n",
    "\n",
    "- Name — название игры\n",
    "- Platform — платформа\n",
    "- Year_of_Release — год выпуска\n",
    "- Genre — жанр игры\n",
    "- NA_sales — продажи в Северной Америке (миллионы проданных копий)\n",
    "- EU_sales — продажи в Европе (миллионы проданных копий)\n",
    "- JP_sales — продажи в Японии (миллионы проданных копий)\n",
    "- Other_sales — продажи в других странах (миллионы проданных копий)\n",
    "- Critic_Score — оценка критиков (максимум 100)\n",
    "- User_Score — оценка пользователей (максимум 10)\n",
    "- Rating — рейтинг от организации ESRB (англ. Entertainment Software Rating Board). Эта ассоциация определяет рейтинг компьютерных игр и присваивает им подходящую возрастную категорию.\n",
    "\n",
    "Данные за 2016 год могут быть неполными."
   ]
  },
  {
   "cell_type": "markdown",
   "id": "bd9bf740",
   "metadata": {},
   "source": [
    "### Импорт библиотек"
   ]
  },
  {
   "cell_type": "code",
   "execution_count": 1,
   "id": "03c9be16",
   "metadata": {},
   "outputs": [],
   "source": [
    "import pandas as pd\n",
    "import seaborn as sns\n",
    "import matplotlib.pyplot as plt\n",
    "import numpy as np\n",
    "from scipy import stats as st\n",
    "from matplotlib.pyplot import figure"
   ]
  },
  {
   "cell_type": "markdown",
   "id": "ddc731cf",
   "metadata": {},
   "source": [
    "### Импорт и предобработка данных"
   ]
  },
  {
   "cell_type": "code",
   "execution_count": 2,
   "id": "465bd1c7",
   "metadata": {},
   "outputs": [
    {
     "data": {
      "text/html": [
       "<div>\n",
       "<style scoped>\n",
       "    .dataframe tbody tr th:only-of-type {\n",
       "        vertical-align: middle;\n",
       "    }\n",
       "\n",
       "    .dataframe tbody tr th {\n",
       "        vertical-align: top;\n",
       "    }\n",
       "\n",
       "    .dataframe thead th {\n",
       "        text-align: right;\n",
       "    }\n",
       "</style>\n",
       "<table border=\"1\" class=\"dataframe\">\n",
       "  <thead>\n",
       "    <tr style=\"text-align: right;\">\n",
       "      <th></th>\n",
       "      <th>Name</th>\n",
       "      <th>Platform</th>\n",
       "      <th>Year_of_Release</th>\n",
       "      <th>Genre</th>\n",
       "      <th>NA_sales</th>\n",
       "      <th>EU_sales</th>\n",
       "      <th>JP_sales</th>\n",
       "      <th>Other_sales</th>\n",
       "      <th>Critic_Score</th>\n",
       "      <th>User_Score</th>\n",
       "      <th>Rating</th>\n",
       "    </tr>\n",
       "  </thead>\n",
       "  <tbody>\n",
       "    <tr>\n",
       "      <th>0</th>\n",
       "      <td>Wii Sports</td>\n",
       "      <td>Wii</td>\n",
       "      <td>2006.0</td>\n",
       "      <td>Sports</td>\n",
       "      <td>41.36</td>\n",
       "      <td>28.96</td>\n",
       "      <td>3.77</td>\n",
       "      <td>8.45</td>\n",
       "      <td>76.0</td>\n",
       "      <td>8</td>\n",
       "      <td>E</td>\n",
       "    </tr>\n",
       "    <tr>\n",
       "      <th>1</th>\n",
       "      <td>Super Mario Bros.</td>\n",
       "      <td>NES</td>\n",
       "      <td>1985.0</td>\n",
       "      <td>Platform</td>\n",
       "      <td>29.08</td>\n",
       "      <td>3.58</td>\n",
       "      <td>6.81</td>\n",
       "      <td>0.77</td>\n",
       "      <td>NaN</td>\n",
       "      <td>NaN</td>\n",
       "      <td>NaN</td>\n",
       "    </tr>\n",
       "    <tr>\n",
       "      <th>2</th>\n",
       "      <td>Mario Kart Wii</td>\n",
       "      <td>Wii</td>\n",
       "      <td>2008.0</td>\n",
       "      <td>Racing</td>\n",
       "      <td>15.68</td>\n",
       "      <td>12.76</td>\n",
       "      <td>3.79</td>\n",
       "      <td>3.29</td>\n",
       "      <td>82.0</td>\n",
       "      <td>8.3</td>\n",
       "      <td>E</td>\n",
       "    </tr>\n",
       "    <tr>\n",
       "      <th>3</th>\n",
       "      <td>Wii Sports Resort</td>\n",
       "      <td>Wii</td>\n",
       "      <td>2009.0</td>\n",
       "      <td>Sports</td>\n",
       "      <td>15.61</td>\n",
       "      <td>10.93</td>\n",
       "      <td>3.28</td>\n",
       "      <td>2.95</td>\n",
       "      <td>80.0</td>\n",
       "      <td>8</td>\n",
       "      <td>E</td>\n",
       "    </tr>\n",
       "    <tr>\n",
       "      <th>4</th>\n",
       "      <td>Pokemon Red/Pokemon Blue</td>\n",
       "      <td>GB</td>\n",
       "      <td>1996.0</td>\n",
       "      <td>Role-Playing</td>\n",
       "      <td>11.27</td>\n",
       "      <td>8.89</td>\n",
       "      <td>10.22</td>\n",
       "      <td>1.00</td>\n",
       "      <td>NaN</td>\n",
       "      <td>NaN</td>\n",
       "      <td>NaN</td>\n",
       "    </tr>\n",
       "    <tr>\n",
       "      <th>...</th>\n",
       "      <td>...</td>\n",
       "      <td>...</td>\n",
       "      <td>...</td>\n",
       "      <td>...</td>\n",
       "      <td>...</td>\n",
       "      <td>...</td>\n",
       "      <td>...</td>\n",
       "      <td>...</td>\n",
       "      <td>...</td>\n",
       "      <td>...</td>\n",
       "      <td>...</td>\n",
       "    </tr>\n",
       "    <tr>\n",
       "      <th>16710</th>\n",
       "      <td>Samurai Warriors: Sanada Maru</td>\n",
       "      <td>PS3</td>\n",
       "      <td>2016.0</td>\n",
       "      <td>Action</td>\n",
       "      <td>0.00</td>\n",
       "      <td>0.00</td>\n",
       "      <td>0.01</td>\n",
       "      <td>0.00</td>\n",
       "      <td>NaN</td>\n",
       "      <td>NaN</td>\n",
       "      <td>NaN</td>\n",
       "    </tr>\n",
       "    <tr>\n",
       "      <th>16711</th>\n",
       "      <td>LMA Manager 2007</td>\n",
       "      <td>X360</td>\n",
       "      <td>2006.0</td>\n",
       "      <td>Sports</td>\n",
       "      <td>0.00</td>\n",
       "      <td>0.01</td>\n",
       "      <td>0.00</td>\n",
       "      <td>0.00</td>\n",
       "      <td>NaN</td>\n",
       "      <td>NaN</td>\n",
       "      <td>NaN</td>\n",
       "    </tr>\n",
       "    <tr>\n",
       "      <th>16712</th>\n",
       "      <td>Haitaka no Psychedelica</td>\n",
       "      <td>PSV</td>\n",
       "      <td>2016.0</td>\n",
       "      <td>Adventure</td>\n",
       "      <td>0.00</td>\n",
       "      <td>0.00</td>\n",
       "      <td>0.01</td>\n",
       "      <td>0.00</td>\n",
       "      <td>NaN</td>\n",
       "      <td>NaN</td>\n",
       "      <td>NaN</td>\n",
       "    </tr>\n",
       "    <tr>\n",
       "      <th>16713</th>\n",
       "      <td>Spirits &amp; Spells</td>\n",
       "      <td>GBA</td>\n",
       "      <td>2003.0</td>\n",
       "      <td>Platform</td>\n",
       "      <td>0.01</td>\n",
       "      <td>0.00</td>\n",
       "      <td>0.00</td>\n",
       "      <td>0.00</td>\n",
       "      <td>NaN</td>\n",
       "      <td>NaN</td>\n",
       "      <td>NaN</td>\n",
       "    </tr>\n",
       "    <tr>\n",
       "      <th>16714</th>\n",
       "      <td>Winning Post 8 2016</td>\n",
       "      <td>PSV</td>\n",
       "      <td>2016.0</td>\n",
       "      <td>Simulation</td>\n",
       "      <td>0.00</td>\n",
       "      <td>0.00</td>\n",
       "      <td>0.01</td>\n",
       "      <td>0.00</td>\n",
       "      <td>NaN</td>\n",
       "      <td>NaN</td>\n",
       "      <td>NaN</td>\n",
       "    </tr>\n",
       "  </tbody>\n",
       "</table>\n",
       "<p>16715 rows × 11 columns</p>\n",
       "</div>"
      ],
      "text/plain": [
       "                                Name Platform  Year_of_Release         Genre  \\\n",
       "0                         Wii Sports      Wii           2006.0        Sports   \n",
       "1                  Super Mario Bros.      NES           1985.0      Platform   \n",
       "2                     Mario Kart Wii      Wii           2008.0        Racing   \n",
       "3                  Wii Sports Resort      Wii           2009.0        Sports   \n",
       "4           Pokemon Red/Pokemon Blue       GB           1996.0  Role-Playing   \n",
       "...                              ...      ...              ...           ...   \n",
       "16710  Samurai Warriors: Sanada Maru      PS3           2016.0        Action   \n",
       "16711               LMA Manager 2007     X360           2006.0        Sports   \n",
       "16712        Haitaka no Psychedelica      PSV           2016.0     Adventure   \n",
       "16713               Spirits & Spells      GBA           2003.0      Platform   \n",
       "16714            Winning Post 8 2016      PSV           2016.0    Simulation   \n",
       "\n",
       "       NA_sales  EU_sales  JP_sales  Other_sales  Critic_Score User_Score  \\\n",
       "0         41.36     28.96      3.77         8.45          76.0          8   \n",
       "1         29.08      3.58      6.81         0.77           NaN        NaN   \n",
       "2         15.68     12.76      3.79         3.29          82.0        8.3   \n",
       "3         15.61     10.93      3.28         2.95          80.0          8   \n",
       "4         11.27      8.89     10.22         1.00           NaN        NaN   \n",
       "...         ...       ...       ...          ...           ...        ...   \n",
       "16710      0.00      0.00      0.01         0.00           NaN        NaN   \n",
       "16711      0.00      0.01      0.00         0.00           NaN        NaN   \n",
       "16712      0.00      0.00      0.01         0.00           NaN        NaN   \n",
       "16713      0.01      0.00      0.00         0.00           NaN        NaN   \n",
       "16714      0.00      0.00      0.01         0.00           NaN        NaN   \n",
       "\n",
       "      Rating  \n",
       "0          E  \n",
       "1        NaN  \n",
       "2          E  \n",
       "3          E  \n",
       "4        NaN  \n",
       "...      ...  \n",
       "16710    NaN  \n",
       "16711    NaN  \n",
       "16712    NaN  \n",
       "16713    NaN  \n",
       "16714    NaN  \n",
       "\n",
       "[16715 rows x 11 columns]"
      ]
     },
     "metadata": {},
     "output_type": "display_data"
    },
    {
     "name": "stdout",
     "output_type": "stream",
     "text": [
      "<class 'pandas.core.frame.DataFrame'>\n",
      "RangeIndex: 16715 entries, 0 to 16714\n",
      "Data columns (total 11 columns):\n",
      " #   Column           Non-Null Count  Dtype  \n",
      "---  ------           --------------  -----  \n",
      " 0   Name             16713 non-null  object \n",
      " 1   Platform         16715 non-null  object \n",
      " 2   Year_of_Release  16446 non-null  float64\n",
      " 3   Genre            16713 non-null  object \n",
      " 4   NA_sales         16715 non-null  float64\n",
      " 5   EU_sales         16715 non-null  float64\n",
      " 6   JP_sales         16715 non-null  float64\n",
      " 7   Other_sales      16715 non-null  float64\n",
      " 8   Critic_Score     8137 non-null   float64\n",
      " 9   User_Score       10014 non-null  object \n",
      " 10  Rating           9949 non-null   object \n",
      "dtypes: float64(6), object(5)\n",
      "memory usage: 1.4+ MB\n"
     ]
    }
   ],
   "source": [
    "pd.set_option('display.max_columns', None)\n",
    "\n",
    "df_games = pd.read_csv('/datasets/games.csv', sep=',')\n",
    "display(df_games)\n",
    "df_games.info()"
   ]
  },
  {
   "cell_type": "markdown",
   "id": "905638cc",
   "metadata": {},
   "source": [
    "#### Обработаем пропуски и преобразуем типы данных"
   ]
  },
  {
   "cell_type": "code",
   "execution_count": 3,
   "id": "dda4f5a9",
   "metadata": {
    "scrolled": false
   },
   "outputs": [
    {
     "data": {
      "text/html": [
       "<div>\n",
       "<style scoped>\n",
       "    .dataframe tbody tr th:only-of-type {\n",
       "        vertical-align: middle;\n",
       "    }\n",
       "\n",
       "    .dataframe tbody tr th {\n",
       "        vertical-align: top;\n",
       "    }\n",
       "\n",
       "    .dataframe thead th {\n",
       "        text-align: right;\n",
       "    }\n",
       "</style>\n",
       "<table border=\"1\" class=\"dataframe\">\n",
       "  <thead>\n",
       "    <tr style=\"text-align: right;\">\n",
       "      <th></th>\n",
       "      <th>name</th>\n",
       "      <th>platform</th>\n",
       "      <th>year_of_release</th>\n",
       "      <th>genre</th>\n",
       "      <th>na_sales</th>\n",
       "      <th>eu_sales</th>\n",
       "      <th>jp_sales</th>\n",
       "      <th>other_sales</th>\n",
       "      <th>critic_score</th>\n",
       "      <th>user_score</th>\n",
       "      <th>rating</th>\n",
       "    </tr>\n",
       "  </thead>\n",
       "  <tbody>\n",
       "    <tr>\n",
       "      <th>0</th>\n",
       "      <td>Wii Sports</td>\n",
       "      <td>Wii</td>\n",
       "      <td>2006.0</td>\n",
       "      <td>Sports</td>\n",
       "      <td>41.36</td>\n",
       "      <td>28.96</td>\n",
       "      <td>3.77</td>\n",
       "      <td>8.45</td>\n",
       "      <td>76.0</td>\n",
       "      <td>8</td>\n",
       "      <td>E</td>\n",
       "    </tr>\n",
       "    <tr>\n",
       "      <th>1</th>\n",
       "      <td>Super Mario Bros.</td>\n",
       "      <td>NES</td>\n",
       "      <td>1985.0</td>\n",
       "      <td>Platform</td>\n",
       "      <td>29.08</td>\n",
       "      <td>3.58</td>\n",
       "      <td>6.81</td>\n",
       "      <td>0.77</td>\n",
       "      <td>NaN</td>\n",
       "      <td>NaN</td>\n",
       "      <td>NaN</td>\n",
       "    </tr>\n",
       "    <tr>\n",
       "      <th>2</th>\n",
       "      <td>Mario Kart Wii</td>\n",
       "      <td>Wii</td>\n",
       "      <td>2008.0</td>\n",
       "      <td>Racing</td>\n",
       "      <td>15.68</td>\n",
       "      <td>12.76</td>\n",
       "      <td>3.79</td>\n",
       "      <td>3.29</td>\n",
       "      <td>82.0</td>\n",
       "      <td>8.3</td>\n",
       "      <td>E</td>\n",
       "    </tr>\n",
       "    <tr>\n",
       "      <th>3</th>\n",
       "      <td>Wii Sports Resort</td>\n",
       "      <td>Wii</td>\n",
       "      <td>2009.0</td>\n",
       "      <td>Sports</td>\n",
       "      <td>15.61</td>\n",
       "      <td>10.93</td>\n",
       "      <td>3.28</td>\n",
       "      <td>2.95</td>\n",
       "      <td>80.0</td>\n",
       "      <td>8</td>\n",
       "      <td>E</td>\n",
       "    </tr>\n",
       "    <tr>\n",
       "      <th>4</th>\n",
       "      <td>Pokemon Red/Pokemon Blue</td>\n",
       "      <td>GB</td>\n",
       "      <td>1996.0</td>\n",
       "      <td>Role-Playing</td>\n",
       "      <td>11.27</td>\n",
       "      <td>8.89</td>\n",
       "      <td>10.22</td>\n",
       "      <td>1.00</td>\n",
       "      <td>NaN</td>\n",
       "      <td>NaN</td>\n",
       "      <td>NaN</td>\n",
       "    </tr>\n",
       "  </tbody>\n",
       "</table>\n",
       "</div>"
      ],
      "text/plain": [
       "                       name platform  year_of_release         genre  na_sales  \\\n",
       "0                Wii Sports      Wii           2006.0        Sports     41.36   \n",
       "1         Super Mario Bros.      NES           1985.0      Platform     29.08   \n",
       "2            Mario Kart Wii      Wii           2008.0        Racing     15.68   \n",
       "3         Wii Sports Resort      Wii           2009.0        Sports     15.61   \n",
       "4  Pokemon Red/Pokemon Blue       GB           1996.0  Role-Playing     11.27   \n",
       "\n",
       "   eu_sales  jp_sales  other_sales  critic_score user_score rating  \n",
       "0     28.96      3.77         8.45          76.0          8      E  \n",
       "1      3.58      6.81         0.77           NaN        NaN    NaN  \n",
       "2     12.76      3.79         3.29          82.0        8.3      E  \n",
       "3     10.93      3.28         2.95          80.0          8      E  \n",
       "4      8.89     10.22         1.00           NaN        NaN    NaN  "
      ]
     },
     "metadata": {},
     "output_type": "display_data"
    },
    {
     "name": "stdout",
     "output_type": "stream",
     "text": [
      "name                  2\n",
      "platform              0\n",
      "year_of_release     269\n",
      "genre                 2\n",
      "na_sales              0\n",
      "eu_sales              0\n",
      "jp_sales              0\n",
      "other_sales           0\n",
      "critic_score       8578\n",
      "user_score         6701\n",
      "rating             6766\n",
      "dtype: int64\n"
     ]
    }
   ],
   "source": [
    "df_games.columns = df_games.columns.str.lower() #приведем названия столбцов к нижнему регистру\n",
    "display(df_games.head())\n",
    "print(df_games.isna().sum())"
   ]
  },
  {
   "cell_type": "markdown",
   "id": "2a0d2149",
   "metadata": {},
   "source": [
    "<div class=\"alert alert-info\">\n",
    "    Пропуски в рейтинге вероятно обусловлены отсутствием оценки данным рейтинговым агентством либо давностью релиза игры, их можно значением no rate, ввиду отсутствия оценки будет объективным\n",
    "    \n",
    "</div>"
   ]
  },
  {
   "cell_type": "code",
   "execution_count": 4,
   "id": "393e8900",
   "metadata": {},
   "outputs": [
    {
     "data": {
      "text/plain": [
       "array(['E', nan, 'M', 'T', 'E10+', 'K-A', 'AO', 'EC', 'RP'], dtype=object)"
      ]
     },
     "execution_count": 4,
     "metadata": {},
     "output_type": "execute_result"
    }
   ],
   "source": [
    "df_games['rating'].unique()"
   ]
  },
  {
   "cell_type": "code",
   "execution_count": 5,
   "id": "caed78c3",
   "metadata": {},
   "outputs": [],
   "source": [
    "df_games['rating'] = df_games['rating'].fillna('no rate')"
   ]
  },
  {
   "cell_type": "markdown",
   "id": "ae7136f0",
   "metadata": {},
   "source": [
    "<div class=\"alert alert-info\">\n",
    "    Чтобы заполнить пропуски в столбце \"user_score\", необходимо преобразовать тип данных вo float (единственный столбец, который нам необходимо преобразовать для дальнейшего анализа).\n",
    "\n",
    "Для начала проверим уникальные значения\n",
    "</div>"
   ]
  },
  {
   "cell_type": "code",
   "execution_count": 6,
   "id": "0dcebec4",
   "metadata": {
    "scrolled": true
   },
   "outputs": [
    {
     "data": {
      "text/plain": [
       "array(['8', nan, '8.3', '8.5', '6.6', '8.4', '8.6', '7.7', '6.3', '7.4',\n",
       "       '8.2', '9', '7.9', '8.1', '8.7', '7.1', '3.4', '5.3', '4.8', '3.2',\n",
       "       '8.9', '6.4', '7.8', '7.5', '2.6', '7.2', '9.2', '7', '7.3', '4.3',\n",
       "       '7.6', '5.7', '5', '9.1', '6.5', 'tbd', '8.8', '6.9', '9.4', '6.8',\n",
       "       '6.1', '6.7', '5.4', '4', '4.9', '4.5', '9.3', '6.2', '4.2', '6',\n",
       "       '3.7', '4.1', '5.8', '5.6', '5.5', '4.4', '4.6', '5.9', '3.9',\n",
       "       '3.1', '2.9', '5.2', '3.3', '4.7', '5.1', '3.5', '2.5', '1.9', '3',\n",
       "       '2.7', '2.2', '2', '9.5', '2.1', '3.6', '2.8', '1.8', '3.8', '0',\n",
       "       '1.6', '9.6', '2.4', '1.7', '1.1', '0.3', '1.5', '0.7', '1.2',\n",
       "       '2.3', '0.5', '1.3', '0.2', '0.6', '1.4', '0.9', '1', '9.7'],\n",
       "      dtype=object)"
      ]
     },
     "execution_count": 6,
     "metadata": {},
     "output_type": "execute_result"
    }
   ],
   "source": [
    "df_games['user_score'].unique()"
   ]
  },
  {
   "cell_type": "markdown",
   "id": "7a151e36",
   "metadata": {},
   "source": [
    "<div class=\"alert alert-info\">\n",
    "    Присутствует строчное значение \"tbd\", возможно это игры по которым не удалось сформировать или выгрузить данные по средней пользовательской оценке. Заполнить его можно отрицательным числовым значением для дальнейшей работы в числовом формате.\n",
    "</div>"
   ]
  },
  {
   "cell_type": "code",
   "execution_count": 7,
   "id": "bec62a5d",
   "metadata": {},
   "outputs": [
    {
     "data": {
      "text/plain": [
       "0        8.0\n",
       "1        NaN\n",
       "2        8.3\n",
       "3        8.0\n",
       "4        NaN\n",
       "        ... \n",
       "16710    NaN\n",
       "16711    NaN\n",
       "16712    NaN\n",
       "16713    NaN\n",
       "16714    NaN\n",
       "Name: user_score, Length: 16715, dtype: float64"
      ]
     },
     "execution_count": 7,
     "metadata": {},
     "output_type": "execute_result"
    }
   ],
   "source": [
    "df_games = df_games.replace({'tbd':-1})\n",
    "df_games['user_score'].astype(float)\n",
    "# пропуски оставим, т.к. их слишком много и заполнить приемлемым значением не можем. будм фильтровать где нужно"
   ]
  },
  {
   "cell_type": "code",
   "execution_count": 8,
   "id": "0ba20174",
   "metadata": {},
   "outputs": [],
   "source": [
    "df_games['critic_score'] = df_games['critic_score'].fillna(df_games.groupby('genre')['critic_score'].transform('median'))\n",
    "# столбец с оценкой критиков также заполним медианным значением по жанру"
   ]
  },
  {
   "cell_type": "code",
   "execution_count": 9,
   "id": "a3b75516",
   "metadata": {},
   "outputs": [],
   "source": [
    "df_games['name'] = df_games['name'].dropna() # пропусков мало, их можно удалить\n",
    "df_games['genre'] = df_games['genre'].dropna()"
   ]
  },
  {
   "cell_type": "code",
   "execution_count": 10,
   "id": "b5dae3b1",
   "metadata": {},
   "outputs": [
    {
     "name": "stdout",
     "output_type": "stream",
     "text": [
      "name                  2\n",
      "platform              0\n",
      "year_of_release     269\n",
      "genre                 2\n",
      "na_sales              0\n",
      "eu_sales              0\n",
      "jp_sales              0\n",
      "other_sales           0\n",
      "critic_score          2\n",
      "user_score         6701\n",
      "rating                0\n",
      "dtype: int64\n"
     ]
    }
   ],
   "source": [
    "print(df_games.isna().sum())"
   ]
  },
  {
   "cell_type": "markdown",
   "id": "42b688ff",
   "metadata": {},
   "source": [
    "<div class=\"alert alert-info\">\n",
    "    Пропуски в годе релиза оставим, т.к. нет приемлемого значения для их заполнения, плюс их количество незначительно для дальнейшего анализа.\n",
    "\n",
    "Добавим столбец с суммарными продажами по всем регионам\n",
    "</div>"
   ]
  },
  {
   "cell_type": "markdown",
   "id": "2632e7c3",
   "metadata": {},
   "source": [
    "#### Добавим столбец с суммарными продажами"
   ]
  },
  {
   "cell_type": "code",
   "execution_count": 11,
   "id": "35a7a6c8",
   "metadata": {},
   "outputs": [
    {
     "data": {
      "text/html": [
       "<div>\n",
       "<style scoped>\n",
       "    .dataframe tbody tr th:only-of-type {\n",
       "        vertical-align: middle;\n",
       "    }\n",
       "\n",
       "    .dataframe tbody tr th {\n",
       "        vertical-align: top;\n",
       "    }\n",
       "\n",
       "    .dataframe thead th {\n",
       "        text-align: right;\n",
       "    }\n",
       "</style>\n",
       "<table border=\"1\" class=\"dataframe\">\n",
       "  <thead>\n",
       "    <tr style=\"text-align: right;\">\n",
       "      <th></th>\n",
       "      <th>name</th>\n",
       "      <th>platform</th>\n",
       "      <th>year_of_release</th>\n",
       "      <th>genre</th>\n",
       "      <th>na_sales</th>\n",
       "      <th>eu_sales</th>\n",
       "      <th>jp_sales</th>\n",
       "      <th>other_sales</th>\n",
       "      <th>critic_score</th>\n",
       "      <th>user_score</th>\n",
       "      <th>rating</th>\n",
       "      <th>sum_sales</th>\n",
       "    </tr>\n",
       "  </thead>\n",
       "  <tbody>\n",
       "    <tr>\n",
       "      <th>0</th>\n",
       "      <td>Wii Sports</td>\n",
       "      <td>Wii</td>\n",
       "      <td>2006.0</td>\n",
       "      <td>Sports</td>\n",
       "      <td>41.36</td>\n",
       "      <td>28.96</td>\n",
       "      <td>3.77</td>\n",
       "      <td>8.45</td>\n",
       "      <td>76.0</td>\n",
       "      <td>8</td>\n",
       "      <td>E</td>\n",
       "      <td>82.54</td>\n",
       "    </tr>\n",
       "    <tr>\n",
       "      <th>1</th>\n",
       "      <td>Super Mario Bros.</td>\n",
       "      <td>NES</td>\n",
       "      <td>1985.0</td>\n",
       "      <td>Platform</td>\n",
       "      <td>29.08</td>\n",
       "      <td>3.58</td>\n",
       "      <td>6.81</td>\n",
       "      <td>0.77</td>\n",
       "      <td>69.0</td>\n",
       "      <td>NaN</td>\n",
       "      <td>no rate</td>\n",
       "      <td>40.24</td>\n",
       "    </tr>\n",
       "    <tr>\n",
       "      <th>2</th>\n",
       "      <td>Mario Kart Wii</td>\n",
       "      <td>Wii</td>\n",
       "      <td>2008.0</td>\n",
       "      <td>Racing</td>\n",
       "      <td>15.68</td>\n",
       "      <td>12.76</td>\n",
       "      <td>3.79</td>\n",
       "      <td>3.29</td>\n",
       "      <td>82.0</td>\n",
       "      <td>8.3</td>\n",
       "      <td>E</td>\n",
       "      <td>35.52</td>\n",
       "    </tr>\n",
       "    <tr>\n",
       "      <th>3</th>\n",
       "      <td>Wii Sports Resort</td>\n",
       "      <td>Wii</td>\n",
       "      <td>2009.0</td>\n",
       "      <td>Sports</td>\n",
       "      <td>15.61</td>\n",
       "      <td>10.93</td>\n",
       "      <td>3.28</td>\n",
       "      <td>2.95</td>\n",
       "      <td>80.0</td>\n",
       "      <td>8</td>\n",
       "      <td>E</td>\n",
       "      <td>32.77</td>\n",
       "    </tr>\n",
       "    <tr>\n",
       "      <th>4</th>\n",
       "      <td>Pokemon Red/Pokemon Blue</td>\n",
       "      <td>GB</td>\n",
       "      <td>1996.0</td>\n",
       "      <td>Role-Playing</td>\n",
       "      <td>11.27</td>\n",
       "      <td>8.89</td>\n",
       "      <td>10.22</td>\n",
       "      <td>1.00</td>\n",
       "      <td>74.0</td>\n",
       "      <td>NaN</td>\n",
       "      <td>no rate</td>\n",
       "      <td>31.38</td>\n",
       "    </tr>\n",
       "  </tbody>\n",
       "</table>\n",
       "</div>"
      ],
      "text/plain": [
       "                       name platform  year_of_release         genre  na_sales  \\\n",
       "0                Wii Sports      Wii           2006.0        Sports     41.36   \n",
       "1         Super Mario Bros.      NES           1985.0      Platform     29.08   \n",
       "2            Mario Kart Wii      Wii           2008.0        Racing     15.68   \n",
       "3         Wii Sports Resort      Wii           2009.0        Sports     15.61   \n",
       "4  Pokemon Red/Pokemon Blue       GB           1996.0  Role-Playing     11.27   \n",
       "\n",
       "   eu_sales  jp_sales  other_sales  critic_score user_score   rating  \\\n",
       "0     28.96      3.77         8.45          76.0          8        E   \n",
       "1      3.58      6.81         0.77          69.0        NaN  no rate   \n",
       "2     12.76      3.79         3.29          82.0        8.3        E   \n",
       "3     10.93      3.28         2.95          80.0          8        E   \n",
       "4      8.89     10.22         1.00          74.0        NaN  no rate   \n",
       "\n",
       "   sum_sales  \n",
       "0      82.54  \n",
       "1      40.24  \n",
       "2      35.52  \n",
       "3      32.77  \n",
       "4      31.38  "
      ]
     },
     "metadata": {},
     "output_type": "display_data"
    }
   ],
   "source": [
    "df_games['sum_sales'] = df_games['na_sales'] + df_games['eu_sales'] + df_games['jp_sales'] + df_games['other_sales']\n",
    "display(df_games.head())"
   ]
  },
  {
   "cell_type": "markdown",
   "id": "5785a3c0",
   "metadata": {},
   "source": [
    "### Проведем исследовательский анализ\n",
    "\n",
    "#### Распределение релизов по годам"
   ]
  },
  {
   "cell_type": "code",
   "execution_count": 12,
   "id": "16df81c7",
   "metadata": {},
   "outputs": [
    {
     "data": {
      "text/plain": [
       "<AxesSubplot:>"
      ]
     },
     "execution_count": 12,
     "metadata": {},
     "output_type": "execute_result"
    },
    {
     "data": {
      "image/png": "[encoded data removed]",
      "text/plain": [
       "<Figure size 432x288 with 1 Axes>"
      ]
     },
     "metadata": {
      "needs_background": "light"
     },
     "output_type": "display_data"
    }
   ],
   "source": [
    "df_games['year_of_release'].hist(bins=36)"
   ]
  },
  {
   "cell_type": "markdown",
   "id": "de7bb9f4",
   "metadata": {},
   "source": [
    "<div class=\"alert alert-info\">\n",
    "Период с 1980 по 1990 наименее важен, за этот период очень мало данных и трудно выделить тренды, ведь в то время каждая игра была как открытие, а возможность поиграть - привилегией.\n",
    "    \n",
    "В некоторые года, периодически, релизов практически нет.\n",
    "    \n",
    "Выделим за актуальный период 2014-2016 гг., т.к. в индустрии современных все очень быстро меняется, плюс по резкому снижению релизов к 2012 году заметно, что производители стали выпускать меньше, но качественней. Ведь аудитория стала более избирательна, начался бум сетевых игр и у производителей было больше каналов для монетизации и пользователей.\n",
    "</div>"
   ]
  },
  {
   "cell_type": "markdown",
   "id": "9ac3ef36",
   "metadata": {},
   "source": [
    "#### Выделим актуальный период для дальнейшего исследования"
   ]
  },
  {
   "cell_type": "code",
   "execution_count": 13,
   "id": "cbe2f7f8",
   "metadata": {},
   "outputs": [
    {
     "data": {
      "text/plain": [
       "1689"
      ]
     },
     "metadata": {},
     "output_type": "display_data"
    }
   ],
   "source": [
    "df_games_actually = df_games[df_games['year_of_release'] > 2013]\n",
    "display(len(df_games_actually['year_of_release']))"
   ]
  },
  {
   "cell_type": "markdown",
   "id": "89af4b10",
   "metadata": {},
   "source": [
    "<div class=\"alert alert-info\">\n",
    "    Вполне достаточно для репрезентативной выборки\n",
    "</div>"
   ]
  },
  {
   "cell_type": "markdown",
   "id": "630b7871",
   "metadata": {},
   "source": [
    "#### Выделим топ-платформ и проанализируем их данные"
   ]
  },
  {
   "cell_type": "code",
   "execution_count": 14,
   "id": "04098b98",
   "metadata": {},
   "outputs": [
    {
     "data": {
      "text/html": [
       "<div>\n",
       "<style scoped>\n",
       "    .dataframe tbody tr th:only-of-type {\n",
       "        vertical-align: middle;\n",
       "    }\n",
       "\n",
       "    .dataframe tbody tr th {\n",
       "        vertical-align: top;\n",
       "    }\n",
       "\n",
       "    .dataframe thead th {\n",
       "        text-align: right;\n",
       "    }\n",
       "</style>\n",
       "<table border=\"1\" class=\"dataframe\">\n",
       "  <thead>\n",
       "    <tr style=\"text-align: right;\">\n",
       "      <th></th>\n",
       "      <th>sum_sales</th>\n",
       "    </tr>\n",
       "    <tr>\n",
       "      <th>platform</th>\n",
       "      <th></th>\n",
       "    </tr>\n",
       "  </thead>\n",
       "  <tbody>\n",
       "    <tr>\n",
       "      <th>PS2</th>\n",
       "      <td>1255.77</td>\n",
       "    </tr>\n",
       "    <tr>\n",
       "      <th>X360</th>\n",
       "      <td>971.42</td>\n",
       "    </tr>\n",
       "    <tr>\n",
       "      <th>PS3</th>\n",
       "      <td>939.65</td>\n",
       "    </tr>\n",
       "    <tr>\n",
       "      <th>Wii</th>\n",
       "      <td>907.51</td>\n",
       "    </tr>\n",
       "    <tr>\n",
       "      <th>DS</th>\n",
       "      <td>806.12</td>\n",
       "    </tr>\n",
       "    <tr>\n",
       "      <th>PS</th>\n",
       "      <td>730.86</td>\n",
       "    </tr>\n",
       "    <tr>\n",
       "      <th>GBA</th>\n",
       "      <td>317.85</td>\n",
       "    </tr>\n",
       "    <tr>\n",
       "      <th>PS4</th>\n",
       "      <td>314.14</td>\n",
       "    </tr>\n",
       "    <tr>\n",
       "      <th>PSP</th>\n",
       "      <td>294.05</td>\n",
       "    </tr>\n",
       "    <tr>\n",
       "      <th>PC</th>\n",
       "      <td>259.52</td>\n",
       "    </tr>\n",
       "  </tbody>\n",
       "</table>\n",
       "</div>"
      ],
      "text/plain": [
       "          sum_sales\n",
       "platform           \n",
       "PS2         1255.77\n",
       "X360         971.42\n",
       "PS3          939.65\n",
       "Wii          907.51\n",
       "DS           806.12\n",
       "PS           730.86\n",
       "GBA          317.85\n",
       "PS4          314.14\n",
       "PSP          294.05\n",
       "PC           259.52"
      ]
     },
     "metadata": {},
     "output_type": "display_data"
    }
   ],
   "source": [
    "display(df_games.pivot_table(index='platform', values='sum_sales', aggfunc='sum').sort_values('sum_sales', ascending=False).head(10))"
   ]
  },
  {
   "cell_type": "code",
   "execution_count": 15,
   "id": "02b653df",
   "metadata": {
    "scrolled": false
   },
   "outputs": [
    {
     "data": {
      "image/png": "[encoded data removed]",
      "text/plain": [
       "<Figure size 432x288 with 1 Axes>"
      ]
     },
     "metadata": {
      "needs_background": "light"
     },
     "output_type": "display_data"
    }
   ],
   "source": [
    "top_platforms = ['PS2', 'X360', 'PS3', 'Wii', 'DS', 'PS']\n",
    "for i in top_platforms:\n",
    "    df_games.query('platform == @i').groupby('year_of_release')['sum_sales'].sum().plot()\n",
    "    plt.legend(top_platforms)"
   ]
  },
  {
   "cell_type": "code",
   "execution_count": 16,
   "id": "17b8c8db",
   "metadata": {},
   "outputs": [
    {
     "data": {
      "text/plain": [
       "array([2006., 2005., 2010., 2009., 2004., 2007., 2012., 2008., 2011.,\n",
       "         nan, 2013., 1985.])"
      ]
     },
     "execution_count": 16,
     "metadata": {},
     "output_type": "execute_result"
    }
   ],
   "source": [
    "df_games[df_games['platform'] == 'DS']['year_of_release'].unique() # у платформы DS странный хвост, похоже на аномалию"
   ]
  },
  {
   "cell_type": "markdown",
   "id": "97929582",
   "metadata": {},
   "source": [
    "<div class=\"alert alert-info\">\n",
    "    У платформы DS в данных закралась ошибка в дате релиза 1985 год, такого быть не может, ее релиз состоялся в 2004. Мы учтем это при анализе.\n",
    "    \n",
    "По данным о суммарных продажах по платформам мы видим, что в среднем платформы имеют продажи от 8 до 10 лет. Это логично, ведь производители игр и приставок периодически, каждые 10 лет, обновляют качество разработки и графики игр, а также соответственно \"железо\" на игровых консолях и минимальные требования к десктопам.\n",
    "</div>"
   ]
  },
  {
   "cell_type": "code",
   "execution_count": 17,
   "id": "b3aa4266",
   "metadata": {},
   "outputs": [
    {
     "data": {
      "text/html": [
       "<div>\n",
       "<style scoped>\n",
       "    .dataframe tbody tr th:only-of-type {\n",
       "        vertical-align: middle;\n",
       "    }\n",
       "\n",
       "    .dataframe tbody tr th {\n",
       "        vertical-align: top;\n",
       "    }\n",
       "\n",
       "    .dataframe thead th {\n",
       "        text-align: right;\n",
       "    }\n",
       "</style>\n",
       "<table border=\"1\" class=\"dataframe\">\n",
       "  <thead>\n",
       "    <tr style=\"text-align: right;\">\n",
       "      <th></th>\n",
       "      <th>sum_sales</th>\n",
       "    </tr>\n",
       "    <tr>\n",
       "      <th>platform</th>\n",
       "      <th></th>\n",
       "    </tr>\n",
       "  </thead>\n",
       "  <tbody>\n",
       "    <tr>\n",
       "      <th>PS4</th>\n",
       "      <td>288.15</td>\n",
       "    </tr>\n",
       "    <tr>\n",
       "      <th>XOne</th>\n",
       "      <td>140.36</td>\n",
       "    </tr>\n",
       "    <tr>\n",
       "      <th>3DS</th>\n",
       "      <td>86.68</td>\n",
       "    </tr>\n",
       "    <tr>\n",
       "      <th>PS3</th>\n",
       "      <td>68.18</td>\n",
       "    </tr>\n",
       "    <tr>\n",
       "      <th>X360</th>\n",
       "      <td>48.22</td>\n",
       "    </tr>\n",
       "    <tr>\n",
       "      <th>WiiU</th>\n",
       "      <td>42.98</td>\n",
       "    </tr>\n",
       "    <tr>\n",
       "      <th>PC</th>\n",
       "      <td>27.05</td>\n",
       "    </tr>\n",
       "    <tr>\n",
       "      <th>PSV</th>\n",
       "      <td>22.40</td>\n",
       "    </tr>\n",
       "    <tr>\n",
       "      <th>Wii</th>\n",
       "      <td>5.07</td>\n",
       "    </tr>\n",
       "    <tr>\n",
       "      <th>PSP</th>\n",
       "      <td>0.36</td>\n",
       "    </tr>\n",
       "  </tbody>\n",
       "</table>\n",
       "</div>"
      ],
      "text/plain": [
       "          sum_sales\n",
       "platform           \n",
       "PS4          288.15\n",
       "XOne         140.36\n",
       "3DS           86.68\n",
       "PS3           68.18\n",
       "X360          48.22\n",
       "WiiU          42.98\n",
       "PC            27.05\n",
       "PSV           22.40\n",
       "Wii            5.07\n",
       "PSP            0.36"
      ]
     },
     "metadata": {},
     "output_type": "display_data"
    }
   ],
   "source": [
    "display(df_games_actually.pivot_table(index='platform', values='sum_sales', aggfunc='sum').sort_values('sum_sales', ascending=False).head(10))"
   ]
  },
  {
   "cell_type": "code",
   "execution_count": 18,
   "id": "76057572",
   "metadata": {},
   "outputs": [
    {
     "data": {
      "image/png": "[encoded data removed]",
      "text/plain": [
       "<Figure size 576x432 with 1 Axes>"
      ]
     },
     "metadata": {
      "needs_background": "light"
     },
     "output_type": "display_data"
    }
   ],
   "source": [
    "top_platforms_actually = ['PS4', 'XOne', '3DS', 'PS3', 'X360', 'WiiU', 'PC', 'PSV']\n",
    "for i in top_platforms_actually:\n",
    "    df_games_actually.query('platform == @i').groupby('year_of_release')['sum_sales'].sum().plot(x='years_of_release', y='sum_sales', figsize=(8, 6))\n",
    "    plt.legend(top_platforms_actually)"
   ]
  },
  {
   "cell_type": "markdown",
   "id": "2503e65e",
   "metadata": {},
   "source": [
    "<div class=\"alert alert-info\">\n",
    "    По продажам за актуальный период можно выделить топ-3 платформ (PS4, XOne и 3DS) с достаточно высоким уровнем продаж, указывающим что пик этих платформ еще не прошел. За данный период у всех платформ наблюдается спад продаж, за исключением PC, который всегда актуален в силу своей универсальности и распространенности.\n",
    "</div>"
   ]
  },
  {
   "cell_type": "markdown",
   "id": "af30ea1e",
   "metadata": {},
   "source": [
    "#### Проанализируем распределение и выбросы"
   ]
  },
  {
   "cell_type": "code",
   "execution_count": 19,
   "id": "8a6f632a",
   "metadata": {
    "scrolled": true
   },
   "outputs": [
    {
     "data": {
      "text/plain": [
       "(0.0, 5.0)"
      ]
     },
     "execution_count": 19,
     "metadata": {},
     "output_type": "execute_result"
    },
    {
     "data": {
      "image/png": "[encoded data removed]",
      "text/plain": [
       "<Figure size 432x288 with 1 Axes>"
      ]
     },
     "metadata": {
      "needs_background": "light"
     },
     "output_type": "display_data"
    }
   ],
   "source": [
    "sns.boxplot(data = df_games_actually, y = 'sum_sales', x = 'platform')\n",
    "plt.ylim(0, 5)\n"
   ]
  },
  {
   "cell_type": "markdown",
   "id": "eb798e24",
   "metadata": {},
   "source": [
    "\n",
    "- вытянутый \"правый ус\" и количество выбросов к максимальным значениям у платформ говорит о наличии игр-хитов продаж. Больше всего их у вышеупомянутого топа-3 и их предшествующих версий. \n",
    "- у платформы Wii и WiiU таких хитов в разы меньше, однако объемы их продаж стабильны как у топов. \n",
    "- у платформы PC хитов в несколько раз больше, но при этом объем продаж значительно меньше чем у топов и Wii.\n",
    "- PSP на данный период практически утратила свою популярность и продажи.\n"
   ]
  },
  {
   "cell_type": "markdown",
   "id": "43254515",
   "metadata": {},
   "source": [
    "#### Оценим влияние оценок пользователей и критиков на продажи"
   ]
  },
  {
   "cell_type": "code",
   "execution_count": 20,
   "id": "8531e921",
   "metadata": {},
   "outputs": [],
   "source": [
    "df_games_actually = df_games_actually[df_games_actually['user_score'] != -1] # предварительно отфильтруем значение -1"
   ]
  },
  {
   "cell_type": "code",
   "execution_count": 21,
   "id": "3222d430",
   "metadata": {
    "scrolled": false
   },
   "outputs": [
    {
     "name": "stdout",
     "output_type": "stream",
     "text": [
      "Коэффициент корреляции по отзывам критиков: 0.34501774838308114\n",
      "Коэффициент корреляции по отзывам пользователей: 0.11018824489046782\n"
     ]
    },
    {
     "data": {
      "image/png": "[encoded data removed]",
      "text/plain": [
       "<Figure size 432x288 with 1 Axes>"
      ]
     },
     "metadata": {
      "needs_background": "light"
     },
     "output_type": "display_data"
    },
    {
     "data": {
      "image/png": "[encoded data removed]",
      "text/plain": [
       "<Figure size 432x288 with 1 Axes>"
      ]
     },
     "metadata": {
      "needs_background": "light"
     },
     "output_type": "display_data"
    }
   ],
   "source": [
    "df_games_actually.query('platform == \"PS4\"').plot(x='critic_score', y='sum_sales', kind='scatter', alpha=0.3)\n",
    "df_games_actually.query('platform == \"PS4\"').plot(x='user_score', y='sum_sales', kind='scatter', alpha=0.3)\n",
    "print('Коэффициент корреляции по отзывам критиков:', df_games_actually.query('platform == \"PS4\"')['critic_score'].corr(df_games_actually['sum_sales']))\n",
    "print('Коэффициент корреляции по отзывам пользователей:', df_games_actually.query('platform == \"PS4\"')['user_score'].notna().corr(df_games_actually['sum_sales']))"
   ]
  },
  {
   "cell_type": "markdown",
   "id": "0f8dc074",
   "metadata": {},
   "source": [
    "<div class=\"alert alert-info\">\n",
    "    У платформы \"PS4\" наблюдается небольшая прямая корреляция высокой оценки и высоких продаж по оценкам критиков, по пользовательскому рейтингу корреляции практически нет. При этом релизы, имеющие оценку критиков менее 60 и пользовательский рейтинг менее 4 практически не достигают высоких продаж. \n",
    "    \n",
    "    Коэффициенты корреляции говорят об отсутствии зависимости продаж от рейтингов\n",
    "</div>"
   ]
  },
  {
   "cell_type": "code",
   "execution_count": 22,
   "id": "3b35f21b",
   "metadata": {
    "scrolled": false
   },
   "outputs": [
    {
     "name": "stdout",
     "output_type": "stream",
     "text": [
      "Коэффициент корреляции по отзывам критиков: 0.3888838036128578\n",
      "Коэффициент корреляции по отзывам пользователей: 0.0958623193205179\n"
     ]
    },
    {
     "data": {
      "image/png": "[encoded data removed]",
      "text/plain": [
       "<Figure size 432x288 with 1 Axes>"
      ]
     },
     "metadata": {
      "needs_background": "light"
     },
     "output_type": "display_data"
    },
    {
     "data": {
      "image/png": "[encoded data removed]",
      "text/plain": [
       "<Figure size 432x288 with 1 Axes>"
      ]
     },
     "metadata": {
      "needs_background": "light"
     },
     "output_type": "display_data"
    }
   ],
   "source": [
    "df_games_actually.query('platform == \"XOne\"').plot(x='critic_score', y='sum_sales', kind='scatter', alpha=0.3)\n",
    "df_games_actually.query('platform == \"XOne\"').plot(x='user_score', y='sum_sales', kind='scatter', alpha=0.3)\n",
    "print('Коэффициент корреляции по отзывам критиков:', df_games_actually.query('platform == \"XOne\"')['critic_score'].corr(df_games_actually['sum_sales']))\n",
    "print('Коэффициент корреляции по отзывам пользователей:', df_games_actually.query('platform == \"XOne\"')['user_score'].notna().corr(df_games_actually['sum_sales']))"
   ]
  },
  {
   "cell_type": "markdown",
   "id": "e0f6422b",
   "metadata": {},
   "source": [
    "<div class=\"alert alert-info\">\n",
    "    У платформы \"XOne\" наблюдается более выраженная прямая корреляция высокой оценки и высоких продаж по оценкам критиков, но менее выраженная по пользовательскому рейтингу. Релизы, имеющие оценку критиков менее 70 практически не достигают высоких продаж, а по пользовательским рейтингам уже оценка 4 и выше позволяет выйти в топ. Из этого следует, что оценки критиков слабо, но влияют на выбор пользователей при покупке игры. Возможно меньшая зависимость от оценки пользователей на данной платформе говорит о значительно меньшей базе обзоров и рейтингов для игр на платформе XOne.\n",
    "    \n",
    "    По коэффициенту корреляции пользовательские оценки на продажи платформы не влияют.\n",
    "</div>"
   ]
  },
  {
   "cell_type": "code",
   "execution_count": 23,
   "id": "689cc67e",
   "metadata": {
    "scrolled": true
   },
   "outputs": [
    {
     "name": "stdout",
     "output_type": "stream",
     "text": [
      "Коэффициент корреляции по отзывам критиков: 0.163244954485537\n",
      "Коэффициент корреляции по отзывам пользователей: 0.02143383400832079\n"
     ]
    },
    {
     "data": {
      "image/png": "[encoded data removed]",
      "text/plain": [
       "<Figure size 432x288 with 1 Axes>"
      ]
     },
     "metadata": {
      "needs_background": "light"
     },
     "output_type": "display_data"
    },
    {
     "data": {
      "image/png": "[encoded data removed]",
      "text/plain": [
       "<Figure size 432x288 with 1 Axes>"
      ]
     },
     "metadata": {
      "needs_background": "light"
     },
     "output_type": "display_data"
    }
   ],
   "source": [
    "df_games_actually.query('platform == \"3DS\"').plot(x='critic_score', y='sum_sales', kind='scatter', alpha=0.3)\n",
    "df_games_actually.query('platform == \"3DS\"').plot(x='user_score', y='sum_sales', kind='scatter', alpha=0.3)\n",
    "print('Коэффициент корреляции по отзывам критиков:', df_games_actually.query('platform == \"3DS\"')['critic_score'].corr(df_games_actually['sum_sales']))\n",
    "print('Коэффициент корреляции по отзывам пользователей:', df_games_actually.query('platform == \"3DS\"')['user_score'].notna().corr(df_games_actually['sum_sales']))"
   ]
  },
  {
   "cell_type": "markdown",
   "id": "ace66dbd",
   "metadata": {},
   "source": [
    "<div class=\"alert alert-info\">\n",
    "    У платформы \"3DS\" семейства Nintendo, разработанной для портативных консолей наблюдается крайне слабая корреляции уровня оценки и высоких продаж, как и по оценкам критиков, так и по пользовательскому рейтингу. Релизы с высокой оценкой точечно становятся хитами продаж, но в основном распределение нормальное, с низкими продажами при низких оценках. Из этого следует, что оценки не влияют на выбор пользователей при покупке игры, то же характерно для мобильных платформ. Ведь пользователи мобильных устройств чаще пробуют новые игры без предварительной оценки, а также среди таких пользователей довольно много детей младшего возраста, которым и вовсе не важны оценки.\n",
    "    \n",
    "    Корреляция по пользовательским рейтингам у данной платформы практически нулевая.\n",
    "</div>"
   ]
  },
  {
   "cell_type": "code",
   "execution_count": 24,
   "id": "943a7822",
   "metadata": {
    "scrolled": false
   },
   "outputs": [
    {
     "name": "stdout",
     "output_type": "stream",
     "text": [
      "Соотношение по данным всего актуального периода\n",
      "Общий коэффициент корреляции по отзывам критиков: 0.281925828354397\n",
      "Общий коэффициент корреляции по отзывам пользователей: 0.14288371716319181\n"
     ]
    },
    {
     "data": {
      "image/png": "[encoded data removed]",
      "text/plain": [
       "<Figure size 432x288 with 1 Axes>"
      ]
     },
     "metadata": {
      "needs_background": "light"
     },
     "output_type": "display_data"
    },
    {
     "data": {
      "image/png": "[encoded data removed]",
      "text/plain": [
       "<Figure size 432x288 with 1 Axes>"
      ]
     },
     "metadata": {
      "needs_background": "light"
     },
     "output_type": "display_data"
    }
   ],
   "source": [
    "print('Соотношение по данным всего актуального периода')\n",
    "df_games_actually.plot(x='critic_score', y='sum_sales', kind='scatter', alpha=0.3)\n",
    "df_games_actually.plot(x='user_score', y='sum_sales', kind='scatter', alpha=0.3)\n",
    "print('Общий коэффициент корреляции по отзывам критиков:', df_games_actually['critic_score'].corr(df_games_actually['sum_sales']))\n",
    "print('Общий коэффициент корреляции по отзывам пользователей:', df_games_actually['user_score'].notna().corr(df_games_actually['sum_sales']))"
   ]
  },
  {
   "cell_type": "markdown",
   "id": "54aef70e",
   "metadata": {},
   "source": [
    "<div class=\"alert alert-info\">\n",
    "    По всем платформам наблюдается слабая прямая корреляция высокой оценки и высоких продаж по оценкам критиков, по пользовательскому рейтингу почти все платформы показывают отсутствие зависимости продаж от оценки. На пользовательскую корреляцию также влияет значительная доля мобильных платформ, где значительному сегменту игроков неважно какая оценка у скачиваемой игры. \n",
    "    \n",
    "    Общий вывод: безусловно присутсвуют пользователи, ктр ориентируются на рейтинги и оценки критиков. Однако высокие продажи формируются хитами одного релиза и серийными играми - флагманами продаж. Такие релизы анонсируются за год вперед, и их ожидают уже после прохождения предыдущей части. В таких случаях пользователи оценки принимают лишь как дополнительную информацию.\n",
    "</div>"
   ]
  },
  {
   "cell_type": "markdown",
   "id": "94503ed6",
   "metadata": {},
   "source": [
    "#### Распределение продаж по жанрам"
   ]
  },
  {
   "cell_type": "code",
   "execution_count": 25,
   "id": "c8d5f5c2",
   "metadata": {
    "scrolled": false
   },
   "outputs": [
    {
     "data": {
      "text/plain": [
       "genre\n",
       "Action          579\n",
       "Adventure       176\n",
       "Fighting         58\n",
       "Misc            101\n",
       "Platform         34\n",
       "Puzzle           10\n",
       "Racing           66\n",
       "Role-Playing    221\n",
       "Shooter         123\n",
       "Simulation       40\n",
       "Sports          151\n",
       "Strategy         37\n",
       "Name: name, dtype: int64"
      ]
     },
     "metadata": {},
     "output_type": "display_data"
    },
    {
     "data": {
      "image/png": "[encoded data removed]",
      "text/plain": [
       "<Figure size 432x288 with 1 Axes>"
      ]
     },
     "metadata": {
      "needs_background": "light"
     },
     "output_type": "display_data"
    }
   ],
   "source": [
    "df_games_actually.plot(x='sum_sales', y='genre', kind='scatter', alpha=0.3)\n",
    "display(df_games_actually.groupby('genre')['name'].count())"
   ]
  },
  {
   "cell_type": "markdown",
   "id": "ba7e8843",
   "metadata": {},
   "source": [
    "- Распределение продаж по жанрам показывает явное преобладание шутеров и жанра action по объемам продаж и популярности, затем идут ролевые игры и спорт, также можно выделить в топ файтинг и гонки. \n",
    "    \n",
    "- Среди шутеров много хитов(CS Go, Call of Duty, Halo и др.) неудивительно что жанр лидирует, также игры этого жанра наиболее универсальны по платформам, в них удобно играть как на консолях, так и на десктопах и мобильных устройствах.\n",
    "   \n",
    "- Аction также обладает универсальностью, особой увлекательностью и завлекающими сюжетами в основном за счет повествовательной основы и наиболее реалистичной графики.\n",
    "    \n",
    "- Ролевые игры имеют свой сегмент пользователей за своих особенностей жанра, а также универсальностью к платформам. Часто имею длительный и многосценарный сюжет, либо и вовсе не имеют его. Жанр имеет свою нишу и уровень продаж держится в силу вышеперечисленных особенностей.\n",
    "    \n",
    "- Жанр спорт также имеет свой сегмент пользователей и особенности геймплея на некоторых платформах, и всегда будет иметь свой объем продаж на рынке.\n",
    "    \n",
    "- Файтинг и гонки можно также выделить как жанры со своими уникальными свойствами и аудиторией, имеющей значительную долю среди пользователей, в т.ч. передовые достижения в области графики. Жанр Гонки тесно связан с автомобильным рынком, и производители игр имеют массу спонсоров в разработке и продвижении игр.\n",
    "    \n",
    "- Остальные жанры имеют меньший объем продаж в силу специфики и популярности жанра, соответственно меньший объем аудитории, платформ и устройств.\n",
    "    \n",
    "- Общий вывод: жанр безусловно имеет влияние на объем продаж, в первую очередь из-за доли поклонников определенного жанра, во-вторых каждый жанр имеет свою степень популярности в силу своих спефицических свойств и кроссплатформенности.\n",
    "\n",
    "- Action, Shooter, Role-Playing, Sports имеют более 100 релизов, что соответствует высокому уровню продаж.\n",
    "\n",
    "- Жанры Misc и Adventure несмотря на большое количество релизов показывают относительно малые объемы продаж."
   ]
  },
  {
   "cell_type": "markdown",
   "id": "cc393161",
   "metadata": {},
   "source": [
    "### Составим портрет пользователя по регионам NA,EU & JP\n",
    "\n",
    "#### Предпочтения по платформам и жанрам"
   ]
  },
  {
   "cell_type": "code",
   "execution_count": 26,
   "id": "3af0180e",
   "metadata": {
    "scrolled": false
   },
   "outputs": [
    {
     "data": {
      "text/plain": [
       "<AxesSubplot:ylabel='na_sales'>"
      ]
     },
     "execution_count": 26,
     "metadata": {},
     "output_type": "execute_result"
    },
    {
     "data": {
      "image/png": "[encoded data removed]",
      "text/plain": [
       "<Figure size 432x288 with 1 Axes>"
      ]
     },
     "metadata": {},
     "output_type": "display_data"
    },
    {
     "data": {
      "image/png": "[encoded data removed]",
      "text/plain": [
       "<Figure size 432x288 with 1 Axes>"
      ]
     },
     "metadata": {},
     "output_type": "display_data"
    }
   ],
   "source": [
    "df_games_actually.pivot_table(index='platform', values='na_sales', aggfunc='sum').sort_values(by='na_sales', ascending=False).head(5).plot(kind='pie', y='na_sales', autopct='%1.0f%%')\n",
    "df_games_actually.pivot_table(index='genre', values='na_sales', aggfunc='sum').sort_values(by='na_sales', ascending=False).head(5).plot(kind='pie', y='na_sales', autopct='%1.0f%%')"
   ]
  },
  {
   "cell_type": "markdown",
   "id": "fe79fa1a",
   "metadata": {},
   "source": [
    "- пользователи в Северной Америке предпочитают PS4 и XOne, доля более 70%, это логично, ведь последние являются новинками. \n",
    "- меньшую долю 9 и 11 процентов занимают их предыдущие версии PS3 и X360, ктр уже прошли свой пик продаж, их покупают в основном те, кто еще не обновил консоль либо предпочитает игры старой версии. \n",
    "- замыкает пятерку платформа Nintendo 3DS со значительной долей игр жанров Sports и Role-Playing.\n",
    "\n",
    "- жанровые предпочтения североамериканцев возглавляют с долей 61% от продаж Action и Shooter, не удивительно, ведь они составляют основу жанров платформ PS и XBox.\n",
    "- 3 место по популярности с долей 19% занимает жанр Sports\n",
    "- далее пятерку предпочтений закрывают ролевые игры и смешанные жанр с долей 14 и 6% соответсвенно"
   ]
  },
  {
   "cell_type": "code",
   "execution_count": 27,
   "id": "d4428053",
   "metadata": {
    "scrolled": false
   },
   "outputs": [
    {
     "data": {
      "text/plain": [
       "<AxesSubplot:ylabel='eu_sales'>"
      ]
     },
     "execution_count": 27,
     "metadata": {},
     "output_type": "execute_result"
    },
    {
     "data": {
      "image/png": "[encoded data removed]",
      "text/plain": [
       "<Figure size 432x288 with 1 Axes>"
      ]
     },
     "metadata": {},
     "output_type": "display_data"
    },
    {
     "data": {
      "image/png": "[encoded data removed]",
      "text/plain": [
       "<Figure size 432x288 with 1 Axes>"
      ]
     },
     "metadata": {},
     "output_type": "display_data"
    }
   ],
   "source": [
    "df_games_actually.pivot_table(index='platform', values='eu_sales', aggfunc='sum').sort_values(by='eu_sales', ascending=False).head(5).plot(kind='pie', y='eu_sales', autopct='%1.0f%%')\n",
    "df_games_actually.pivot_table(index='genre', values='eu_sales', aggfunc='sum').sort_values(by='eu_sales', ascending=False).head(5).plot(kind='pie', y='eu_sales', autopct='%1.0f%%')"
   ]
  },
  {
   "cell_type": "markdown",
   "id": "0d7d2e1b",
   "metadata": {},
   "source": [
    "- пользователи в Европе в большей степени (55% + 11% PS3) предпочитают платформу PS.  \n",
    "- XOne занимает долю 20% при том, что более старая версия X360 уже не в топе у европейского пользователя\n",
    "- остальные 15% продаж из топа составляют платформы PC и 3DS, последние наименее предпочтительны в еврозоне.\n",
    "\n",
    "- жанровые предпочтения европейцев практически схожи с североамериканскими с отличием, замыкающего топ жанра Racing. Европейцы гонки любят больше, чем американцы."
   ]
  },
  {
   "cell_type": "code",
   "execution_count": 28,
   "id": "fe068ecc",
   "metadata": {
    "scrolled": false
   },
   "outputs": [
    {
     "data": {
      "text/plain": [
       "<AxesSubplot:ylabel='jp_sales'>"
      ]
     },
     "execution_count": 28,
     "metadata": {},
     "output_type": "execute_result"
    },
    {
     "data": {
      "image/png": "[encoded data removed]",
      "text/plain": [
       "<Figure size 432x288 with 1 Axes>"
      ]
     },
     "metadata": {},
     "output_type": "display_data"
    },
    {
     "data": {
      "image/png": "[encoded data removed]",
      "text/plain": [
       "<Figure size 432x288 with 1 Axes>"
      ]
     },
     "metadata": {},
     "output_type": "display_data"
    }
   ],
   "source": [
    "df_games_actually.pivot_table(index='platform', values='jp_sales', aggfunc='sum').sort_values(by='jp_sales', ascending=False).head(5).plot(kind='pie', y='jp_sales', autopct='%1.0f%%')\n",
    "df_games_actually.pivot_table(index='genre', values='jp_sales', aggfunc='sum').sort_values(by='jp_sales', ascending=False).head(5).plot(kind='pie', y='jp_sales', autopct='%1.0f%%')"
   ]
  },
  {
   "cell_type": "markdown",
   "id": "5751cf89",
   "metadata": {},
   "source": [
    "- японцы сильно отличаются в предпочтениях, их топ возглавляет Nintendo 3DS 48% + 8% предыдущая версия WiiU. Тоже не удивительно, японцы создавали платформу для себя, и выпускали популярные игры в первую очередь под нее.\n",
    "- платформы PS4 и PS3 занимают треть от топа продаж в регионе, плюс значительную долю 16% занимает портативная PSV, которая не присутствует в топе предыдущих регионов.\n",
    "\n",
    "- жанровые предпочтения японцев также отличны от европейских и североамериканских. Здесь преобладает с долей 40% Ролевые игры, и 38% Action\n",
    "- жанр Fighting предпочитают 8%, ктр отсутствует в топе предыдущих регионов\n",
    "- остальные 6 и 7% топа занимают Смешанный жанр и Shooter.\n",
    "\n",
    "- японцы, как создатели наиболее популярных платформ PS и Nintendo формируют свою оригинальную картину препочтений."
   ]
  },
  {
   "cell_type": "markdown",
   "id": "d434b1cb",
   "metadata": {},
   "source": [
    "#### Распределение продаж по рейтингу ESRB в регионах"
   ]
  },
  {
   "cell_type": "code",
   "execution_count": 29,
   "id": "767e7965",
   "metadata": {
    "scrolled": true
   },
   "outputs": [
    {
     "data": {
      "image/png": "[encoded data removed]",
      "text/plain": [
       "<Figure size 432x288 with 1 Axes>"
      ]
     },
     "metadata": {
      "needs_background": "light"
     },
     "output_type": "display_data"
    }
   ],
   "source": [
    "ax = sns.barplot(x='rating', y='na_sales', data=df_games_actually)"
   ]
  },
  {
   "cell_type": "code",
   "execution_count": 30,
   "id": "e75a379e",
   "metadata": {},
   "outputs": [
    {
     "data": {
      "image/png": "[encoded data removed]",
      "text/plain": [
       "<Figure size 432x288 with 1 Axes>"
      ]
     },
     "metadata": {
      "needs_background": "light"
     },
     "output_type": "display_data"
    }
   ],
   "source": [
    "ax = sns.barplot(x='rating', y='eu_sales', data=df_games_actually)"
   ]
  },
  {
   "cell_type": "code",
   "execution_count": 31,
   "id": "cec6c4eb",
   "metadata": {},
   "outputs": [
    {
     "data": {
      "image/png": "[encoded data removed]",
      "text/plain": [
       "<Figure size 432x288 with 1 Axes>"
      ]
     },
     "metadata": {
      "needs_background": "light"
     },
     "output_type": "display_data"
    }
   ],
   "source": [
    "ax = sns.barplot(x='rating', y='jp_sales', data=df_games_actually)"
   ]
  },
  {
   "cell_type": "markdown",
   "id": "262f3c5a",
   "metadata": {},
   "source": [
    "<div class=\"alert alert-info\">\n",
    "    В Северной Америке большей популярностью пользуются рейтинг М(от 17 лет) и без рейтинга, далее для всех Е, Т и Е10+. Т.е. чем выше ограничение по возрастной категории аудитории, тем более популярна игра.\n",
    "\n",
    "В Европейском регионе продажи от рейтингов слабо различаются, только Е10+ отличается более низкими продажами.\n",
    "\n",
    "В Японии наибольший объем продаж имеют релизы без рейтинга, вероятней всего последние не попадают по оценку рейтингового агентства, которое ориентировано больше на Европу и Северную Америку. Остальные рейтинги схожи по объемам продаж.\n",
    "    </div>"
   ]
  },
  {
   "cell_type": "markdown",
   "id": "658476c0",
   "metadata": {},
   "source": [
    "## Проверим гипотезы"
   ]
  },
  {
   "cell_type": "markdown",
   "id": "349da080",
   "metadata": {},
   "source": [
    "### Нулевая гипотеза: средние пользовательские рейтинги платформ Xbox One и PC одинаковые\n",
    "\n",
    "### Альтернативная гипотеза: средние пользовательские рейтинги платформ Xbox One и PC различаются\n",
    "\n",
    "#### Проверку гипотезы осуществим с помощью t-testa для двусторонней гипотезы, т.к. нас интересует лишь равентсво, либо его отсутствие."
   ]
  },
  {
   "cell_type": "code",
   "execution_count": 32,
   "id": "0d81540b",
   "metadata": {
    "scrolled": true
   },
   "outputs": [
    {
     "name": "stdout",
     "output_type": "stream",
     "text": [
      "p-значение: 0.08444718554148302\n",
      "Не получилось отвергнуть нулевую гипотезу\n"
     ]
    }
   ],
   "source": [
    "xone_rate = df_games_actually[df_games_actually['platform'] == 'XOne']['user_score'].notna()\n",
    "pc_rate = df_games_actually[df_games_actually['platform'] == 'PC']['user_score'].notna()\n",
    "\n",
    "alpha = .05 # критический уровень статистической значимости\n",
    "            \n",
    "\n",
    "results = st.ttest_ind(\n",
    "    xone_rate, \n",
    "    pc_rate)\n",
    "\n",
    "print('p-значение:', results.pvalue)\n",
    "\n",
    "if results.pvalue < alpha:\n",
    "    print(\"Отвергаем нулевую гипотезу\")\n",
    "else:\n",
    "    print(\"Не получилось отвергнуть нулевую гипотезу\") "
   ]
  },
  {
   "cell_type": "code",
   "execution_count": 33,
   "id": "16762a06",
   "metadata": {},
   "outputs": [
    {
     "name": "stdout",
     "output_type": "stream",
     "text": [
      "Средние показатели рейтингов платформ XOne и PC:\n",
      "0.7603686635944701\n",
      "0.8356164383561644\n"
     ]
    }
   ],
   "source": [
    "print('Средние показатели рейтингов платформ XOne и PC:')\n",
    "print(df_games_actually[df_games_actually['platform'] == 'XOne']['user_score'].notna().mean())\n",
    "print(df_games_actually[df_games_actually['platform'] == 'PC']['user_score'].notna().mean())\n"
   ]
  },
  {
   "cell_type": "markdown",
   "id": "225f039e",
   "metadata": {},
   "source": [
    "<div class=\"alert alert-info\">\n",
    "    Нулевая гипотеза о сравнении пользовательских рейтингов данных платформ выбраны ввиду их принципиальной схожести как по геймплею, так и по разной аудитории. Релизы этих платформ выходят сначала для консолей XBox, а затем на PC. Поэтому проведя тест на равенство рейтингов от пользователей, мы видим их сходство\n",
    "    \n",
    "    Средние показатели это подтверждают.\n",
    "</div>"
   ]
  },
  {
   "cell_type": "markdown",
   "id": "163564eb",
   "metadata": {},
   "source": [
    "### Вторая нулевая гипотеза: средние пользовательские рейтинги жанров Action (англ. «действие», экшен-игры) и Sports (англ. «спортивные соревнования») разные\n",
    "\n",
    "### Вторая альтернативная гипотеза: средние пользовательские рейтинги жанров Action (англ. «действие», экшен-игры) и Sports (англ. «спортивные соревнования») одинаковые\n",
    "\n",
    "#### Проверку гипотезы осуществим с помощью t-testa для двусторонней гипотезы, т.к. нас интересует лишь статистическая значимость различия средних показателей."
   ]
  },
  {
   "cell_type": "code",
   "execution_count": 34,
   "id": "697391d1",
   "metadata": {
    "scrolled": false
   },
   "outputs": [
    {
     "name": "stdout",
     "output_type": "stream",
     "text": [
      "p-значение: 1.3428155459891826e-13\n",
      "Отвергаем нулевую гипотезу\n"
     ]
    }
   ],
   "source": [
    "action_rate = df_games_actually[df_games_actually['genre'] == 'Action']['user_score'].notna()\n",
    "sports_rate = df_games_actually[df_games_actually['genre'] == 'Sports']['user_score'].notna()\n",
    "\n",
    "alpha = .05 # критический уровень статистической значимости\n",
    "            \n",
    "\n",
    "results = st.ttest_ind(\n",
    "    action_rate, \n",
    "    sports_rate)\n",
    "\n",
    "print('p-значение:', results.pvalue)\n",
    "\n",
    "if results.pvalue < alpha:\n",
    "    print(\"Отвергаем нулевую гипотезу\")\n",
    "else:\n",
    "    print(\"Не получилось отвергнуть нулевую гипотезу\")"
   ]
  },
  {
   "cell_type": "code",
   "execution_count": 35,
   "id": "4b5a691b",
   "metadata": {
    "scrolled": true
   },
   "outputs": [
    {
     "name": "stdout",
     "output_type": "stream",
     "text": [
      "Средние показатели рейтингов жанров Action и Sports:\n",
      "0.5129533678756477\n",
      "0.8410596026490066\n"
     ]
    }
   ],
   "source": [
    "print('Средние показатели рейтингов жанров Action и Sports:')\n",
    "print(df_games_actually[df_games_actually['genre'] == 'Action']['user_score'].notna().mean())\n",
    "print(df_games_actually[df_games_actually['genre'] == 'Sports']['user_score'].notna().mean())"
   ]
  },
  {
   "cell_type": "markdown",
   "id": "a3d02924",
   "metadata": {},
   "source": [
    "<div class=\"alert alert-info\">\n",
    "!!! Не понятно, почему тест показывает отсутствие статистической значимости, но при этом средние оценки разные. Может что-то со средними искажено?\n",
    "</div>    "
   ]
  },
  {
   "cell_type": "markdown",
   "id": "d07a826e",
   "metadata": {},
   "source": [
    "   Нулевая гипотеза о разности пользовательских рейтингов двух популярных жанров формулировалась, исходя из их отличий по геймплею и аудитории. Однако проведя тест мы не наблюдаем статистически значимой разности."
   ]
  },
  {
   "cell_type": "markdown",
   "id": "4273283d",
   "metadata": {},
   "source": [
    "## Общие выводы"
   ]
  },
  {
   "cell_type": "markdown",
   "id": "d53512db",
   "metadata": {},
   "source": [
    "#### - общий массив данных включает более 20 лет истории релизов в игровой индустрии\n",
    "#### - средний срок жизни платформы примерно 10 лет, на смену ей приходит более продвинутая\n",
    "#### - пользовательские рейтинги и оценки критиков безусловно влияют на уровень продаж релиза, за исключением некоторых мобильных платформ и жанров, у которых этот параметр маловажен для пользователя\n",
    "#### - на рынке преобладают несколько топовых платформ, которые имеют более 90% объемов продаж\n",
    "#### - жанр игры также значительно влияет на уровень продаж, в основном в силу своих особенностей, влияющих на его популярность и долю пользовательской аудитории\n",
    "#### - предпочтения по платформам и жанрам в регионах отличаются. Европейцы и американцы больше предпочитают PS и XBox, а японцы больше Nintendo. Также и в жанрах, у японцев наиболее популярны Role-Playing и Shooter, а у европейского и американского пользователя - Shooter и Action\n",
    "#### - в каждом регионе в топе-5 жанров и платформ есть хотя бы одна\\один, который не входит в топ других регионов\n",
    "#### - японцы, как создатели наиболее популярных платформ PS и Nintendo формируют свою оригинальную картину препочтений.\n",
    "#### - средние пользовательские рейтинги платформ XOne и PC, жанров Action и Sports не отличаются\n",
    "\n",
    "### Рекомендации: \n",
    "- исходя из жанра учитывать охват аудитории, рекламный бюджет и более тщательно настраивать геотаргетинг\n",
    "- при выстраивании рекомендательных систем на сайте магазина обязательно учитывать регион проживания пользователя, жанровые предпочтения в его регионе, как дополнение отображать оценки критиков.\n",
    "- учитывать срок жизни платформы, также предпочтения пользователя последнюю версию платформы или предыдущую, на что также влияет его платежеспособность."
   ]
  }
 ],
 "metadata": {
  "ExecuteTimeLog": [
   {
    "duration": 1271,
    "start_time": "2022-06-23T11:52:24.322Z"
   },
   {
    "duration": 152,
    "start_time": "2022-06-23T11:52:25.596Z"
   },
   {
    "duration": 0,
    "start_time": "2022-06-23T11:52:25.750Z"
   },
   {
    "duration": 0,
    "start_time": "2022-06-23T11:52:25.751Z"
   },
   {
    "duration": 0,
    "start_time": "2022-06-23T11:52:25.753Z"
   },
   {
    "duration": 0,
    "start_time": "2022-06-23T11:52:25.754Z"
   },
   {
    "duration": 0,
    "start_time": "2022-06-23T11:52:25.756Z"
   },
   {
    "duration": 0,
    "start_time": "2022-06-23T11:52:25.757Z"
   },
   {
    "duration": 0,
    "start_time": "2022-06-23T11:52:25.758Z"
   },
   {
    "duration": 0,
    "start_time": "2022-06-23T11:52:25.760Z"
   },
   {
    "duration": 0,
    "start_time": "2022-06-23T11:52:25.761Z"
   },
   {
    "duration": 0,
    "start_time": "2022-06-23T11:52:25.766Z"
   },
   {
    "duration": 0,
    "start_time": "2022-06-23T11:52:25.767Z"
   },
   {
    "duration": 0,
    "start_time": "2022-06-23T11:52:25.769Z"
   },
   {
    "duration": 0,
    "start_time": "2022-06-23T11:52:25.770Z"
   },
   {
    "duration": 0,
    "start_time": "2022-06-23T11:52:25.771Z"
   },
   {
    "duration": 0,
    "start_time": "2022-06-23T11:52:25.772Z"
   },
   {
    "duration": 0,
    "start_time": "2022-06-23T11:52:25.774Z"
   },
   {
    "duration": 0,
    "start_time": "2022-06-23T11:52:25.775Z"
   },
   {
    "duration": 0,
    "start_time": "2022-06-23T11:52:25.776Z"
   },
   {
    "duration": 0,
    "start_time": "2022-06-23T11:52:25.777Z"
   },
   {
    "duration": 0,
    "start_time": "2022-06-23T11:52:25.778Z"
   },
   {
    "duration": 0,
    "start_time": "2022-06-23T11:52:25.779Z"
   },
   {
    "duration": 0,
    "start_time": "2022-06-23T11:52:25.781Z"
   },
   {
    "duration": 0,
    "start_time": "2022-06-23T11:52:25.782Z"
   },
   {
    "duration": 0,
    "start_time": "2022-06-23T11:52:25.783Z"
   },
   {
    "duration": 0,
    "start_time": "2022-06-23T11:52:25.784Z"
   },
   {
    "duration": 0,
    "start_time": "2022-06-23T11:52:25.785Z"
   },
   {
    "duration": 0,
    "start_time": "2022-06-23T11:52:25.786Z"
   },
   {
    "duration": 0,
    "start_time": "2022-06-23T11:52:25.787Z"
   },
   {
    "duration": 1332,
    "start_time": "2022-06-23T12:01:53.604Z"
   },
   {
    "duration": 118,
    "start_time": "2022-06-23T12:01:54.938Z"
   },
   {
    "duration": 20,
    "start_time": "2022-06-23T12:01:55.057Z"
   },
   {
    "duration": 7,
    "start_time": "2022-06-23T12:01:55.078Z"
   },
   {
    "duration": 20,
    "start_time": "2022-06-23T12:01:55.088Z"
   },
   {
    "duration": 18,
    "start_time": "2022-06-23T12:01:55.110Z"
   },
   {
    "duration": 21,
    "start_time": "2022-06-23T12:01:55.130Z"
   },
   {
    "duration": 7,
    "start_time": "2022-06-23T12:01:55.153Z"
   },
   {
    "duration": 10,
    "start_time": "2022-06-23T12:01:55.161Z"
   },
   {
    "duration": 19,
    "start_time": "2022-06-23T12:01:55.172Z"
   },
   {
    "duration": 31,
    "start_time": "2022-06-23T12:01:55.193Z"
   },
   {
    "duration": 162,
    "start_time": "2022-06-23T12:01:55.226Z"
   },
   {
    "duration": 7,
    "start_time": "2022-06-23T12:01:55.389Z"
   },
   {
    "duration": 26,
    "start_time": "2022-06-23T12:01:55.398Z"
   },
   {
    "duration": 237,
    "start_time": "2022-06-23T12:01:55.425Z"
   },
   {
    "duration": 16,
    "start_time": "2022-06-23T12:01:55.664Z"
   },
   {
    "duration": 324,
    "start_time": "2022-06-23T12:01:55.681Z"
   },
   {
    "duration": 228,
    "start_time": "2022-06-23T12:01:56.007Z"
   },
   {
    "duration": 286,
    "start_time": "2022-06-23T12:01:56.237Z"
   },
   {
    "duration": 275,
    "start_time": "2022-06-23T12:01:56.525Z"
   },
   {
    "duration": 337,
    "start_time": "2022-06-23T12:01:56.802Z"
   },
   {
    "duration": 288,
    "start_time": "2022-06-23T12:01:57.141Z"
   },
   {
    "duration": 162,
    "start_time": "2022-06-23T12:01:57.431Z"
   },
   {
    "duration": 374,
    "start_time": "2022-06-23T12:01:57.595Z"
   },
   {
    "duration": 390,
    "start_time": "2022-06-23T12:01:57.971Z"
   },
   {
    "duration": 361,
    "start_time": "2022-06-23T12:01:58.362Z"
   },
   {
    "duration": 378,
    "start_time": "2022-06-23T12:01:58.724Z"
   },
   {
    "duration": 4,
    "start_time": "2022-06-23T12:01:59.104Z"
   },
   {
    "duration": 17,
    "start_time": "2022-06-23T12:01:59.109Z"
   },
   {
    "duration": 7,
    "start_time": "2022-06-23T12:01:59.128Z"
   },
   {
    "duration": 1320,
    "start_time": "2022-06-23T14:55:55.839Z"
   },
   {
    "duration": 151,
    "start_time": "2022-06-23T14:55:57.161Z"
   },
   {
    "duration": 26,
    "start_time": "2022-06-23T14:55:57.314Z"
   },
   {
    "duration": 15,
    "start_time": "2022-06-23T14:55:57.342Z"
   },
   {
    "duration": 24,
    "start_time": "2022-06-23T14:55:57.359Z"
   },
   {
    "duration": 22,
    "start_time": "2022-06-23T14:55:57.385Z"
   },
   {
    "duration": 41,
    "start_time": "2022-06-23T14:55:57.409Z"
   },
   {
    "duration": 11,
    "start_time": "2022-06-23T14:55:57.453Z"
   },
   {
    "duration": 32,
    "start_time": "2022-06-23T14:55:57.466Z"
   },
   {
    "duration": 13,
    "start_time": "2022-06-23T14:55:57.502Z"
   },
   {
    "duration": 29,
    "start_time": "2022-06-23T14:55:57.518Z"
   },
   {
    "duration": 138,
    "start_time": "2022-06-23T14:55:57.549Z"
   },
   {
    "duration": 6,
    "start_time": "2022-06-23T14:55:57.689Z"
   },
   {
    "duration": 26,
    "start_time": "2022-06-23T14:55:57.697Z"
   },
   {
    "duration": 251,
    "start_time": "2022-06-23T14:55:57.724Z"
   },
   {
    "duration": 12,
    "start_time": "2022-06-23T14:55:57.976Z"
   },
   {
    "duration": 338,
    "start_time": "2022-06-23T14:55:57.990Z"
   },
   {
    "duration": 223,
    "start_time": "2022-06-23T14:55:58.330Z"
   },
   {
    "duration": 299,
    "start_time": "2022-06-23T14:55:58.558Z"
   },
   {
    "duration": 286,
    "start_time": "2022-06-23T14:55:58.860Z"
   },
   {
    "duration": 344,
    "start_time": "2022-06-23T14:55:59.147Z"
   },
   {
    "duration": 288,
    "start_time": "2022-06-23T14:55:59.492Z"
   },
   {
    "duration": 159,
    "start_time": "2022-06-23T14:55:59.782Z"
   },
   {
    "duration": 366,
    "start_time": "2022-06-23T14:55:59.943Z"
   },
   {
    "duration": 372,
    "start_time": "2022-06-23T14:56:00.311Z"
   },
   {
    "duration": 363,
    "start_time": "2022-06-23T14:56:00.685Z"
   },
   {
    "duration": 356,
    "start_time": "2022-06-23T14:56:01.050Z"
   },
   {
    "duration": 5,
    "start_time": "2022-06-23T14:56:01.409Z"
   },
   {
    "duration": 11,
    "start_time": "2022-06-23T14:56:01.415Z"
   },
   {
    "duration": 37,
    "start_time": "2022-06-23T14:56:01.428Z"
   },
   {
    "duration": 1144,
    "start_time": "2022-06-23T15:29:18.931Z"
   },
   {
    "duration": 82,
    "start_time": "2022-06-23T15:29:20.077Z"
   },
   {
    "duration": 18,
    "start_time": "2022-06-23T15:29:20.160Z"
   },
   {
    "duration": 5,
    "start_time": "2022-06-23T15:29:20.180Z"
   },
   {
    "duration": 9,
    "start_time": "2022-06-23T15:29:20.187Z"
   },
   {
    "duration": 17,
    "start_time": "2022-06-23T15:29:20.197Z"
   },
   {
    "duration": 41,
    "start_time": "2022-06-23T15:29:20.215Z"
   },
   {
    "duration": 6,
    "start_time": "2022-06-23T15:29:20.257Z"
   },
   {
    "duration": 7,
    "start_time": "2022-06-23T15:29:20.265Z"
   },
   {
    "duration": 9,
    "start_time": "2022-06-23T15:29:20.275Z"
   },
   {
    "duration": 17,
    "start_time": "2022-06-23T15:29:20.285Z"
   },
   {
    "duration": 157,
    "start_time": "2022-06-23T15:29:20.304Z"
   },
   {
    "duration": 10,
    "start_time": "2022-06-23T15:29:20.463Z"
   },
   {
    "duration": 22,
    "start_time": "2022-06-23T15:29:20.475Z"
   },
   {
    "duration": 241,
    "start_time": "2022-06-23T15:29:20.499Z"
   },
   {
    "duration": 23,
    "start_time": "2022-06-23T15:29:20.742Z"
   },
   {
    "duration": 303,
    "start_time": "2022-06-23T15:29:20.766Z"
   },
   {
    "duration": 222,
    "start_time": "2022-06-23T15:29:21.071Z"
   },
   {
    "duration": 287,
    "start_time": "2022-06-23T15:29:21.295Z"
   },
   {
    "duration": 281,
    "start_time": "2022-06-23T15:29:21.584Z"
   },
   {
    "duration": 353,
    "start_time": "2022-06-23T15:29:21.867Z"
   },
   {
    "duration": 289,
    "start_time": "2022-06-23T15:29:22.222Z"
   },
   {
    "duration": 165,
    "start_time": "2022-06-23T15:29:22.513Z"
   },
   {
    "duration": 358,
    "start_time": "2022-06-23T15:29:22.680Z"
   },
   {
    "duration": 354,
    "start_time": "2022-06-23T15:29:23.040Z"
   },
   {
    "duration": 338,
    "start_time": "2022-06-23T15:29:23.396Z"
   },
   {
    "duration": 351,
    "start_time": "2022-06-23T15:29:23.736Z"
   },
   {
    "duration": 4,
    "start_time": "2022-06-23T15:29:24.091Z"
   },
   {
    "duration": 28,
    "start_time": "2022-06-23T15:29:24.097Z"
   },
   {
    "duration": 30,
    "start_time": "2022-06-23T15:29:24.127Z"
   },
   {
    "duration": 71,
    "start_time": "2022-06-24T03:34:03.229Z"
   },
   {
    "duration": 1415,
    "start_time": "2022-06-24T03:54:29.174Z"
   },
   {
    "duration": 134,
    "start_time": "2022-06-24T03:54:30.592Z"
   },
   {
    "duration": 21,
    "start_time": "2022-06-24T03:54:30.728Z"
   },
   {
    "duration": 17,
    "start_time": "2022-06-24T03:54:30.752Z"
   },
   {
    "duration": 19,
    "start_time": "2022-06-24T03:54:30.773Z"
   },
   {
    "duration": 24,
    "start_time": "2022-06-24T03:54:30.794Z"
   },
   {
    "duration": 100,
    "start_time": "2022-06-24T03:54:30.820Z"
   },
   {
    "duration": 0,
    "start_time": "2022-06-24T03:54:30.922Z"
   },
   {
    "duration": 0,
    "start_time": "2022-06-24T03:54:30.923Z"
   },
   {
    "duration": 0,
    "start_time": "2022-06-24T03:54:30.924Z"
   },
   {
    "duration": 0,
    "start_time": "2022-06-24T03:54:30.926Z"
   },
   {
    "duration": 0,
    "start_time": "2022-06-24T03:54:30.927Z"
   },
   {
    "duration": 0,
    "start_time": "2022-06-24T03:54:30.928Z"
   },
   {
    "duration": 0,
    "start_time": "2022-06-24T03:54:30.929Z"
   },
   {
    "duration": 0,
    "start_time": "2022-06-24T03:54:30.931Z"
   },
   {
    "duration": 0,
    "start_time": "2022-06-24T03:54:30.932Z"
   },
   {
    "duration": 0,
    "start_time": "2022-06-24T03:54:30.933Z"
   },
   {
    "duration": 0,
    "start_time": "2022-06-24T03:54:30.934Z"
   },
   {
    "duration": 0,
    "start_time": "2022-06-24T03:54:30.962Z"
   },
   {
    "duration": 0,
    "start_time": "2022-06-24T03:54:30.963Z"
   },
   {
    "duration": 0,
    "start_time": "2022-06-24T03:54:30.964Z"
   },
   {
    "duration": 0,
    "start_time": "2022-06-24T03:54:30.964Z"
   },
   {
    "duration": 0,
    "start_time": "2022-06-24T03:54:30.965Z"
   },
   {
    "duration": 0,
    "start_time": "2022-06-24T03:54:30.966Z"
   },
   {
    "duration": 0,
    "start_time": "2022-06-24T03:54:30.966Z"
   },
   {
    "duration": 0,
    "start_time": "2022-06-24T03:54:30.967Z"
   },
   {
    "duration": 0,
    "start_time": "2022-06-24T03:54:30.967Z"
   },
   {
    "duration": 0,
    "start_time": "2022-06-24T03:54:30.968Z"
   },
   {
    "duration": 1,
    "start_time": "2022-06-24T03:54:30.968Z"
   },
   {
    "duration": 0,
    "start_time": "2022-06-24T03:54:30.969Z"
   },
   {
    "duration": 0,
    "start_time": "2022-06-24T03:54:30.970Z"
   },
   {
    "duration": 1151,
    "start_time": "2022-06-24T03:55:43.024Z"
   },
   {
    "duration": 92,
    "start_time": "2022-06-24T03:55:44.178Z"
   },
   {
    "duration": 20,
    "start_time": "2022-06-24T03:55:44.272Z"
   },
   {
    "duration": 5,
    "start_time": "2022-06-24T03:55:44.294Z"
   },
   {
    "duration": 5,
    "start_time": "2022-06-24T03:55:44.301Z"
   },
   {
    "duration": 8,
    "start_time": "2022-06-24T03:55:44.308Z"
   },
   {
    "duration": 50,
    "start_time": "2022-06-24T03:55:44.317Z"
   },
   {
    "duration": 8,
    "start_time": "2022-06-24T03:55:44.369Z"
   },
   {
    "duration": 14,
    "start_time": "2022-06-24T03:55:44.379Z"
   },
   {
    "duration": 11,
    "start_time": "2022-06-24T03:55:44.396Z"
   },
   {
    "duration": 26,
    "start_time": "2022-06-24T03:55:44.409Z"
   },
   {
    "duration": 203,
    "start_time": "2022-06-24T03:55:44.437Z"
   },
   {
    "duration": 6,
    "start_time": "2022-06-24T03:55:44.642Z"
   },
   {
    "duration": 31,
    "start_time": "2022-06-24T03:55:44.650Z"
   },
   {
    "duration": 122,
    "start_time": "2022-06-24T03:55:44.682Z"
   },
   {
    "duration": 0,
    "start_time": "2022-06-24T03:55:44.806Z"
   },
   {
    "duration": 0,
    "start_time": "2022-06-24T03:55:44.807Z"
   },
   {
    "duration": 0,
    "start_time": "2022-06-24T03:55:44.809Z"
   },
   {
    "duration": 0,
    "start_time": "2022-06-24T03:55:44.811Z"
   },
   {
    "duration": 0,
    "start_time": "2022-06-24T03:55:44.812Z"
   },
   {
    "duration": 0,
    "start_time": "2022-06-24T03:55:44.813Z"
   },
   {
    "duration": 0,
    "start_time": "2022-06-24T03:55:44.814Z"
   },
   {
    "duration": 0,
    "start_time": "2022-06-24T03:55:44.816Z"
   },
   {
    "duration": 0,
    "start_time": "2022-06-24T03:55:44.817Z"
   },
   {
    "duration": 0,
    "start_time": "2022-06-24T03:55:44.818Z"
   },
   {
    "duration": 0,
    "start_time": "2022-06-24T03:55:44.819Z"
   },
   {
    "duration": 0,
    "start_time": "2022-06-24T03:55:44.820Z"
   },
   {
    "duration": 0,
    "start_time": "2022-06-24T03:55:44.821Z"
   },
   {
    "duration": 0,
    "start_time": "2022-06-24T03:55:44.822Z"
   },
   {
    "duration": 0,
    "start_time": "2022-06-24T03:55:44.822Z"
   },
   {
    "duration": 0,
    "start_time": "2022-06-24T03:55:44.823Z"
   },
   {
    "duration": 16,
    "start_time": "2022-06-24T03:57:29.625Z"
   },
   {
    "duration": 14,
    "start_time": "2022-06-24T03:58:23.225Z"
   },
   {
    "duration": 15,
    "start_time": "2022-06-24T04:00:14.782Z"
   },
   {
    "duration": 7,
    "start_time": "2022-06-24T04:01:11.986Z"
   },
   {
    "duration": 9,
    "start_time": "2022-06-24T04:01:44.175Z"
   },
   {
    "duration": 12,
    "start_time": "2022-06-24T04:01:55.356Z"
   },
   {
    "duration": 13,
    "start_time": "2022-06-24T04:02:17.033Z"
   },
   {
    "duration": 11,
    "start_time": "2022-06-24T04:04:07.959Z"
   },
   {
    "duration": 7,
    "start_time": "2022-06-24T04:05:59.023Z"
   },
   {
    "duration": 1141,
    "start_time": "2022-06-24T04:11:45.187Z"
   },
   {
    "duration": 92,
    "start_time": "2022-06-24T04:11:46.330Z"
   },
   {
    "duration": 18,
    "start_time": "2022-06-24T04:11:46.424Z"
   },
   {
    "duration": 24,
    "start_time": "2022-06-24T04:11:46.444Z"
   },
   {
    "duration": 15,
    "start_time": "2022-06-24T04:11:46.473Z"
   },
   {
    "duration": 7,
    "start_time": "2022-06-24T04:11:46.489Z"
   },
   {
    "duration": 20,
    "start_time": "2022-06-24T04:11:46.498Z"
   },
   {
    "duration": 5,
    "start_time": "2022-06-24T04:11:46.519Z"
   },
   {
    "duration": 9,
    "start_time": "2022-06-24T04:11:46.526Z"
   },
   {
    "duration": 8,
    "start_time": "2022-06-24T04:11:46.537Z"
   },
   {
    "duration": 29,
    "start_time": "2022-06-24T04:11:46.546Z"
   },
   {
    "duration": 223,
    "start_time": "2022-06-24T04:11:46.583Z"
   },
   {
    "duration": 6,
    "start_time": "2022-06-24T04:11:46.808Z"
   },
   {
    "duration": 16,
    "start_time": "2022-06-24T04:11:46.816Z"
   },
   {
    "duration": 260,
    "start_time": "2022-06-24T04:11:46.833Z"
   },
   {
    "duration": 8,
    "start_time": "2022-06-24T04:11:47.094Z"
   },
   {
    "duration": 20,
    "start_time": "2022-06-24T04:11:47.103Z"
   },
   {
    "duration": 364,
    "start_time": "2022-06-24T04:11:47.125Z"
   },
   {
    "duration": 0,
    "start_time": "2022-06-24T04:11:47.491Z"
   },
   {
    "duration": 0,
    "start_time": "2022-06-24T04:11:47.492Z"
   },
   {
    "duration": 0,
    "start_time": "2022-06-24T04:11:47.493Z"
   },
   {
    "duration": 0,
    "start_time": "2022-06-24T04:11:47.494Z"
   },
   {
    "duration": 0,
    "start_time": "2022-06-24T04:11:47.495Z"
   },
   {
    "duration": 0,
    "start_time": "2022-06-24T04:11:47.496Z"
   },
   {
    "duration": 0,
    "start_time": "2022-06-24T04:11:47.497Z"
   },
   {
    "duration": 0,
    "start_time": "2022-06-24T04:11:47.498Z"
   },
   {
    "duration": 0,
    "start_time": "2022-06-24T04:11:47.499Z"
   },
   {
    "duration": 0,
    "start_time": "2022-06-24T04:11:47.500Z"
   },
   {
    "duration": 0,
    "start_time": "2022-06-24T04:11:47.501Z"
   },
   {
    "duration": 0,
    "start_time": "2022-06-24T04:11:47.502Z"
   },
   {
    "duration": 0,
    "start_time": "2022-06-24T04:11:47.503Z"
   },
   {
    "duration": 1232,
    "start_time": "2022-06-24T04:18:06.689Z"
   },
   {
    "duration": 91,
    "start_time": "2022-06-24T04:18:07.923Z"
   },
   {
    "duration": 18,
    "start_time": "2022-06-24T04:18:08.016Z"
   },
   {
    "duration": 5,
    "start_time": "2022-06-24T04:18:08.036Z"
   },
   {
    "duration": 22,
    "start_time": "2022-06-24T04:18:08.042Z"
   },
   {
    "duration": 27,
    "start_time": "2022-06-24T04:18:08.066Z"
   },
   {
    "duration": 18,
    "start_time": "2022-06-24T04:18:08.095Z"
   },
   {
    "duration": 6,
    "start_time": "2022-06-24T04:18:08.115Z"
   },
   {
    "duration": 8,
    "start_time": "2022-06-24T04:18:08.122Z"
   },
   {
    "duration": 7,
    "start_time": "2022-06-24T04:18:08.132Z"
   },
   {
    "duration": 42,
    "start_time": "2022-06-24T04:18:08.140Z"
   },
   {
    "duration": 204,
    "start_time": "2022-06-24T04:18:08.186Z"
   },
   {
    "duration": 7,
    "start_time": "2022-06-24T04:18:08.391Z"
   },
   {
    "duration": 27,
    "start_time": "2022-06-24T04:18:08.399Z"
   },
   {
    "duration": 259,
    "start_time": "2022-06-24T04:18:08.428Z"
   },
   {
    "duration": 7,
    "start_time": "2022-06-24T04:18:08.689Z"
   },
   {
    "duration": 15,
    "start_time": "2022-06-24T04:18:08.697Z"
   },
   {
    "duration": 1396,
    "start_time": "2022-06-24T04:18:08.713Z"
   },
   {
    "duration": 318,
    "start_time": "2022-06-24T04:18:10.111Z"
   },
   {
    "duration": 654,
    "start_time": "2022-06-24T04:18:10.431Z"
   },
   {
    "duration": 0,
    "start_time": "2022-06-24T04:18:11.087Z"
   },
   {
    "duration": 0,
    "start_time": "2022-06-24T04:18:11.088Z"
   },
   {
    "duration": 0,
    "start_time": "2022-06-24T04:18:11.090Z"
   },
   {
    "duration": 0,
    "start_time": "2022-06-24T04:18:11.091Z"
   },
   {
    "duration": 0,
    "start_time": "2022-06-24T04:18:11.093Z"
   },
   {
    "duration": 0,
    "start_time": "2022-06-24T04:18:11.094Z"
   },
   {
    "duration": 0,
    "start_time": "2022-06-24T04:18:11.095Z"
   },
   {
    "duration": 0,
    "start_time": "2022-06-24T04:18:11.097Z"
   },
   {
    "duration": 0,
    "start_time": "2022-06-24T04:18:11.098Z"
   },
   {
    "duration": 0,
    "start_time": "2022-06-24T04:18:11.100Z"
   },
   {
    "duration": 0,
    "start_time": "2022-06-24T04:18:11.101Z"
   },
   {
    "duration": 442,
    "start_time": "2022-06-24T04:22:07.213Z"
   },
   {
    "duration": 192,
    "start_time": "2022-06-24T04:24:04.663Z"
   },
   {
    "duration": 448,
    "start_time": "2022-06-24T05:41:21.156Z"
   },
   {
    "duration": 1114,
    "start_time": "2022-06-24T05:41:39.163Z"
   },
   {
    "duration": 80,
    "start_time": "2022-06-24T05:41:40.279Z"
   },
   {
    "duration": 18,
    "start_time": "2022-06-24T05:41:40.361Z"
   },
   {
    "duration": 5,
    "start_time": "2022-06-24T05:41:40.381Z"
   },
   {
    "duration": 5,
    "start_time": "2022-06-24T05:41:40.388Z"
   },
   {
    "duration": 7,
    "start_time": "2022-06-24T05:41:40.394Z"
   },
   {
    "duration": 17,
    "start_time": "2022-06-24T05:41:40.402Z"
   },
   {
    "duration": 7,
    "start_time": "2022-06-24T05:41:40.420Z"
   },
   {
    "duration": 36,
    "start_time": "2022-06-24T05:41:40.429Z"
   },
   {
    "duration": 8,
    "start_time": "2022-06-24T05:41:40.468Z"
   },
   {
    "duration": 21,
    "start_time": "2022-06-24T05:41:40.477Z"
   },
   {
    "duration": 199,
    "start_time": "2022-06-24T05:41:40.499Z"
   },
   {
    "duration": 8,
    "start_time": "2022-06-24T05:41:40.700Z"
   },
   {
    "duration": 15,
    "start_time": "2022-06-24T05:41:40.709Z"
   },
   {
    "duration": 260,
    "start_time": "2022-06-24T05:41:40.725Z"
   },
   {
    "duration": 7,
    "start_time": "2022-06-24T05:41:40.987Z"
   },
   {
    "duration": 13,
    "start_time": "2022-06-24T05:41:40.996Z"
   },
   {
    "duration": 311,
    "start_time": "2022-06-24T05:41:41.011Z"
   },
   {
    "duration": 218,
    "start_time": "2022-06-24T05:41:41.323Z"
   },
   {
    "duration": 504,
    "start_time": "2022-06-24T05:41:41.543Z"
   },
   {
    "duration": 0,
    "start_time": "2022-06-24T05:41:42.049Z"
   },
   {
    "duration": 0,
    "start_time": "2022-06-24T05:41:42.058Z"
   },
   {
    "duration": 0,
    "start_time": "2022-06-24T05:41:42.059Z"
   },
   {
    "duration": 0,
    "start_time": "2022-06-24T05:41:42.060Z"
   },
   {
    "duration": 0,
    "start_time": "2022-06-24T05:41:42.061Z"
   },
   {
    "duration": 0,
    "start_time": "2022-06-24T05:41:42.062Z"
   },
   {
    "duration": 0,
    "start_time": "2022-06-24T05:41:42.063Z"
   },
   {
    "duration": 0,
    "start_time": "2022-06-24T05:41:42.065Z"
   },
   {
    "duration": 0,
    "start_time": "2022-06-24T05:41:42.066Z"
   },
   {
    "duration": 0,
    "start_time": "2022-06-24T05:41:42.067Z"
   },
   {
    "duration": 1,
    "start_time": "2022-06-24T05:41:42.067Z"
   },
   {
    "duration": 231,
    "start_time": "2022-06-24T05:43:42.100Z"
   },
   {
    "duration": 416,
    "start_time": "2022-06-24T05:44:08.795Z"
   },
   {
    "duration": 167,
    "start_time": "2022-06-24T05:44:32.664Z"
   },
   {
    "duration": 56,
    "start_time": "2022-06-24T05:45:04.265Z"
   },
   {
    "duration": 49,
    "start_time": "2022-06-24T05:45:17.022Z"
   },
   {
    "duration": 147,
    "start_time": "2022-06-24T05:45:28.878Z"
   },
   {
    "duration": 48,
    "start_time": "2022-06-24T05:45:46.388Z"
   },
   {
    "duration": 481,
    "start_time": "2022-06-24T05:50:28.463Z"
   },
   {
    "duration": 156,
    "start_time": "2022-06-24T05:51:51.278Z"
   },
   {
    "duration": 156,
    "start_time": "2022-06-24T05:52:33.118Z"
   },
   {
    "duration": 4,
    "start_time": "2022-06-24T05:56:31.280Z"
   },
   {
    "duration": 435,
    "start_time": "2022-06-24T05:56:34.741Z"
   },
   {
    "duration": 1054,
    "start_time": "2022-06-24T05:57:14.524Z"
   },
   {
    "duration": 81,
    "start_time": "2022-06-24T05:57:15.580Z"
   },
   {
    "duration": 20,
    "start_time": "2022-06-24T05:57:15.662Z"
   },
   {
    "duration": 5,
    "start_time": "2022-06-24T05:57:15.684Z"
   },
   {
    "duration": 6,
    "start_time": "2022-06-24T05:57:15.691Z"
   },
   {
    "duration": 6,
    "start_time": "2022-06-24T05:57:15.699Z"
   },
   {
    "duration": 18,
    "start_time": "2022-06-24T05:57:15.706Z"
   },
   {
    "duration": 33,
    "start_time": "2022-06-24T05:57:15.726Z"
   },
   {
    "duration": 9,
    "start_time": "2022-06-24T05:57:15.760Z"
   },
   {
    "duration": 7,
    "start_time": "2022-06-24T05:57:15.771Z"
   },
   {
    "duration": 20,
    "start_time": "2022-06-24T05:57:15.780Z"
   },
   {
    "duration": 206,
    "start_time": "2022-06-24T05:57:15.801Z"
   },
   {
    "duration": 6,
    "start_time": "2022-06-24T05:57:16.009Z"
   },
   {
    "duration": 15,
    "start_time": "2022-06-24T05:57:16.016Z"
   },
   {
    "duration": 227,
    "start_time": "2022-06-24T05:57:16.033Z"
   },
   {
    "duration": 7,
    "start_time": "2022-06-24T05:57:16.262Z"
   },
   {
    "duration": 17,
    "start_time": "2022-06-24T05:57:16.270Z"
   },
   {
    "duration": 320,
    "start_time": "2022-06-24T05:57:16.289Z"
   },
   {
    "duration": 213,
    "start_time": "2022-06-24T05:57:16.611Z"
   },
   {
    "duration": 4,
    "start_time": "2022-06-24T05:57:16.825Z"
   },
   {
    "duration": 607,
    "start_time": "2022-06-24T05:57:16.831Z"
   },
   {
    "duration": 0,
    "start_time": "2022-06-24T05:57:17.440Z"
   },
   {
    "duration": 0,
    "start_time": "2022-06-24T05:57:17.442Z"
   },
   {
    "duration": 0,
    "start_time": "2022-06-24T05:57:17.443Z"
   },
   {
    "duration": 0,
    "start_time": "2022-06-24T05:57:17.444Z"
   },
   {
    "duration": 0,
    "start_time": "2022-06-24T05:57:17.458Z"
   },
   {
    "duration": 0,
    "start_time": "2022-06-24T05:57:17.459Z"
   },
   {
    "duration": 1,
    "start_time": "2022-06-24T05:57:17.460Z"
   },
   {
    "duration": 0,
    "start_time": "2022-06-24T05:57:17.461Z"
   },
   {
    "duration": 0,
    "start_time": "2022-06-24T05:57:17.462Z"
   },
   {
    "duration": 0,
    "start_time": "2022-06-24T05:57:17.464Z"
   },
   {
    "duration": 0,
    "start_time": "2022-06-24T05:57:17.464Z"
   },
   {
    "duration": 334,
    "start_time": "2022-06-24T05:58:39.166Z"
   },
   {
    "duration": 465,
    "start_time": "2022-06-24T06:09:18.925Z"
   },
   {
    "duration": 320,
    "start_time": "2022-06-24T06:10:19.730Z"
   },
   {
    "duration": 277,
    "start_time": "2022-06-24T06:14:22.688Z"
   },
   {
    "duration": 525,
    "start_time": "2022-06-24T06:19:23.637Z"
   },
   {
    "duration": 260,
    "start_time": "2022-06-24T06:19:38.899Z"
   },
   {
    "duration": 1111,
    "start_time": "2022-06-24T06:33:43.801Z"
   },
   {
    "duration": 80,
    "start_time": "2022-06-24T06:33:44.914Z"
   },
   {
    "duration": 20,
    "start_time": "2022-06-24T06:33:44.996Z"
   },
   {
    "duration": 20,
    "start_time": "2022-06-24T06:33:45.018Z"
   },
   {
    "duration": 8,
    "start_time": "2022-06-24T06:33:45.040Z"
   },
   {
    "duration": 10,
    "start_time": "2022-06-24T06:33:45.050Z"
   },
   {
    "duration": 24,
    "start_time": "2022-06-24T06:33:45.061Z"
   },
   {
    "duration": 6,
    "start_time": "2022-06-24T06:33:45.087Z"
   },
   {
    "duration": 10,
    "start_time": "2022-06-24T06:33:45.094Z"
   },
   {
    "duration": 9,
    "start_time": "2022-06-24T06:33:45.107Z"
   },
   {
    "duration": 17,
    "start_time": "2022-06-24T06:33:45.118Z"
   },
   {
    "duration": 199,
    "start_time": "2022-06-24T06:33:45.137Z"
   },
   {
    "duration": 7,
    "start_time": "2022-06-24T06:33:45.337Z"
   },
   {
    "duration": 23,
    "start_time": "2022-06-24T06:33:45.345Z"
   },
   {
    "duration": 230,
    "start_time": "2022-06-24T06:33:45.370Z"
   },
   {
    "duration": 8,
    "start_time": "2022-06-24T06:33:45.601Z"
   },
   {
    "duration": 16,
    "start_time": "2022-06-24T06:33:45.610Z"
   },
   {
    "duration": 325,
    "start_time": "2022-06-24T06:33:45.627Z"
   },
   {
    "duration": 218,
    "start_time": "2022-06-24T06:33:45.953Z"
   },
   {
    "duration": 5,
    "start_time": "2022-06-24T06:33:46.173Z"
   },
   {
    "duration": 293,
    "start_time": "2022-06-24T06:33:46.179Z"
   },
   {
    "duration": 375,
    "start_time": "2022-06-24T06:33:46.474Z"
   },
   {
    "duration": 267,
    "start_time": "2022-06-24T06:33:46.850Z"
   },
   {
    "duration": 360,
    "start_time": "2022-06-24T06:33:47.119Z"
   },
   {
    "duration": 332,
    "start_time": "2022-06-24T06:33:47.482Z"
   },
   {
    "duration": 347,
    "start_time": "2022-06-24T06:33:47.815Z"
   },
   {
    "duration": 346,
    "start_time": "2022-06-24T06:33:48.164Z"
   },
   {
    "duration": 366,
    "start_time": "2022-06-24T06:33:48.514Z"
   },
   {
    "duration": 57507,
    "start_time": "2022-06-24T06:33:48.881Z"
   },
   {
    "duration": 97,
    "start_time": "2022-06-24T06:34:46.390Z"
   },
   {
    "duration": 0,
    "start_time": "2022-06-24T06:34:46.489Z"
   },
   {
    "duration": 164,
    "start_time": "2022-06-24T06:36:29.676Z"
   },
   {
    "duration": 300,
    "start_time": "2022-06-24T06:40:36.663Z"
   },
   {
    "duration": 46,
    "start_time": "2022-06-24T06:57:55.793Z"
   },
   {
    "duration": 154,
    "start_time": "2022-06-24T06:58:04.867Z"
   },
   {
    "duration": 1199,
    "start_time": "2022-06-24T07:04:44.262Z"
   },
   {
    "duration": 84,
    "start_time": "2022-06-24T07:04:45.464Z"
   },
   {
    "duration": 19,
    "start_time": "2022-06-24T07:04:45.550Z"
   },
   {
    "duration": 13,
    "start_time": "2022-06-24T07:04:45.571Z"
   },
   {
    "duration": 9,
    "start_time": "2022-06-24T07:04:45.587Z"
   },
   {
    "duration": 10,
    "start_time": "2022-06-24T07:04:45.599Z"
   },
   {
    "duration": 26,
    "start_time": "2022-06-24T07:04:45.612Z"
   },
   {
    "duration": 9,
    "start_time": "2022-06-24T07:04:45.660Z"
   },
   {
    "duration": 20,
    "start_time": "2022-06-24T07:04:45.670Z"
   },
   {
    "duration": 16,
    "start_time": "2022-06-24T07:04:45.693Z"
   },
   {
    "duration": 28,
    "start_time": "2022-06-24T07:04:45.711Z"
   },
   {
    "duration": 209,
    "start_time": "2022-06-24T07:04:45.758Z"
   },
   {
    "duration": 9,
    "start_time": "2022-06-24T07:04:45.968Z"
   },
   {
    "duration": 20,
    "start_time": "2022-06-24T07:04:45.978Z"
   },
   {
    "duration": 259,
    "start_time": "2022-06-24T07:04:46.000Z"
   },
   {
    "duration": 9,
    "start_time": "2022-06-24T07:04:46.261Z"
   },
   {
    "duration": 17,
    "start_time": "2022-06-24T07:04:46.272Z"
   },
   {
    "duration": 380,
    "start_time": "2022-06-24T07:04:46.292Z"
   },
   {
    "duration": 262,
    "start_time": "2022-06-24T07:04:46.674Z"
   },
   {
    "duration": 4,
    "start_time": "2022-06-24T07:04:46.938Z"
   },
   {
    "duration": 382,
    "start_time": "2022-06-24T07:04:46.944Z"
   },
   {
    "duration": 420,
    "start_time": "2022-06-24T07:04:47.328Z"
   },
   {
    "duration": 312,
    "start_time": "2022-06-24T07:04:47.751Z"
   },
   {
    "duration": 296,
    "start_time": "2022-06-24T07:04:48.066Z"
   },
   {
    "duration": 226,
    "start_time": "2022-06-24T07:04:48.364Z"
   },
   {
    "duration": 406,
    "start_time": "2022-06-24T07:04:48.592Z"
   },
   {
    "duration": 405,
    "start_time": "2022-06-24T07:04:49.001Z"
   },
   {
    "duration": 387,
    "start_time": "2022-06-24T07:04:49.411Z"
   },
   {
    "duration": 62315,
    "start_time": "2022-06-24T07:04:49.800Z"
   },
   {
    "duration": 115,
    "start_time": "2022-06-24T07:05:52.117Z"
   },
   {
    "duration": 0,
    "start_time": "2022-06-24T07:05:52.234Z"
   },
   {
    "duration": 60303,
    "start_time": "2022-06-24T07:10:31.227Z"
   },
   {
    "duration": 474,
    "start_time": "2022-06-24T07:11:32.182Z"
   },
   {
    "duration": 136,
    "start_time": "2022-06-24T07:12:28.353Z"
   },
   {
    "duration": 124017,
    "start_time": "2022-06-24T07:12:48.427Z"
   },
   {
    "duration": 62473,
    "start_time": "2022-06-24T07:16:25.013Z"
   },
   {
    "duration": 198,
    "start_time": "2022-06-24T07:20:02.231Z"
   },
   {
    "duration": 435,
    "start_time": "2022-06-24T07:20:39.676Z"
   },
   {
    "duration": 8340,
    "start_time": "2022-06-24T07:23:37.852Z"
   },
   {
    "duration": 345,
    "start_time": "2022-06-24T07:24:21.698Z"
   },
   {
    "duration": 225,
    "start_time": "2022-06-24T07:24:40.743Z"
   },
   {
    "duration": 1187,
    "start_time": "2022-06-24T07:25:24.399Z"
   },
   {
    "duration": 90,
    "start_time": "2022-06-24T07:25:25.588Z"
   },
   {
    "duration": 18,
    "start_time": "2022-06-24T07:25:25.680Z"
   },
   {
    "duration": 6,
    "start_time": "2022-06-24T07:25:25.701Z"
   },
   {
    "duration": 8,
    "start_time": "2022-06-24T07:25:25.708Z"
   },
   {
    "duration": 8,
    "start_time": "2022-06-24T07:25:25.717Z"
   },
   {
    "duration": 55,
    "start_time": "2022-06-24T07:25:25.727Z"
   },
   {
    "duration": 9,
    "start_time": "2022-06-24T07:25:25.784Z"
   },
   {
    "duration": 9,
    "start_time": "2022-06-24T07:25:25.795Z"
   },
   {
    "duration": 8,
    "start_time": "2022-06-24T07:25:25.807Z"
   },
   {
    "duration": 18,
    "start_time": "2022-06-24T07:25:25.817Z"
   },
   {
    "duration": 251,
    "start_time": "2022-06-24T07:25:25.837Z"
   },
   {
    "duration": 7,
    "start_time": "2022-06-24T07:25:26.090Z"
   },
   {
    "duration": 17,
    "start_time": "2022-06-24T07:25:26.098Z"
   },
   {
    "duration": 268,
    "start_time": "2022-06-24T07:25:26.116Z"
   },
   {
    "duration": 8,
    "start_time": "2022-06-24T07:25:26.386Z"
   },
   {
    "duration": 20,
    "start_time": "2022-06-24T07:25:26.396Z"
   },
   {
    "duration": 359,
    "start_time": "2022-06-24T07:25:26.418Z"
   },
   {
    "duration": 232,
    "start_time": "2022-06-24T07:25:26.780Z"
   },
   {
    "duration": 5,
    "start_time": "2022-06-24T07:25:27.014Z"
   },
   {
    "duration": 385,
    "start_time": "2022-06-24T07:25:27.021Z"
   },
   {
    "duration": 423,
    "start_time": "2022-06-24T07:25:27.409Z"
   },
   {
    "duration": 337,
    "start_time": "2022-06-24T07:25:27.834Z"
   },
   {
    "duration": 311,
    "start_time": "2022-06-24T07:25:28.172Z"
   },
   {
    "duration": 183,
    "start_time": "2022-06-24T07:25:28.485Z"
   },
   {
    "duration": 384,
    "start_time": "2022-06-24T07:25:28.676Z"
   },
   {
    "duration": 476,
    "start_time": "2022-06-24T07:25:29.069Z"
   },
   {
    "duration": 367,
    "start_time": "2022-06-24T07:25:29.560Z"
   },
   {
    "duration": 214,
    "start_time": "2022-06-24T07:25:29.929Z"
   },
   {
    "duration": 219,
    "start_time": "2022-06-24T07:25:30.145Z"
   },
   {
    "duration": 215,
    "start_time": "2022-06-24T07:25:30.368Z"
   },
   {
    "duration": 104,
    "start_time": "2022-06-24T07:25:30.585Z"
   },
   {
    "duration": 0,
    "start_time": "2022-06-24T07:25:30.691Z"
   },
   {
    "duration": 8,
    "start_time": "2022-06-24T07:28:05.080Z"
   },
   {
    "duration": 7,
    "start_time": "2022-06-24T07:28:11.949Z"
   },
   {
    "duration": 8,
    "start_time": "2022-06-24T07:43:27.392Z"
   },
   {
    "duration": 7,
    "start_time": "2022-06-24T07:44:41.208Z"
   },
   {
    "duration": 7,
    "start_time": "2022-06-24T07:44:48.075Z"
   },
   {
    "duration": 9,
    "start_time": "2022-06-24T07:47:56.745Z"
   },
   {
    "duration": 9,
    "start_time": "2022-06-24T07:48:31.904Z"
   },
   {
    "duration": 10,
    "start_time": "2022-06-24T07:50:18.250Z"
   },
   {
    "duration": 8,
    "start_time": "2022-06-24T07:50:33.286Z"
   },
   {
    "duration": 22,
    "start_time": "2022-06-24T07:51:37.074Z"
   },
   {
    "duration": 10,
    "start_time": "2022-06-24T07:52:47.418Z"
   },
   {
    "duration": 10,
    "start_time": "2022-06-24T07:59:29.089Z"
   },
   {
    "duration": 12,
    "start_time": "2022-06-24T08:00:25.374Z"
   },
   {
    "duration": 1152,
    "start_time": "2022-06-24T08:03:27.215Z"
   },
   {
    "duration": 81,
    "start_time": "2022-06-24T08:03:28.376Z"
   },
   {
    "duration": 24,
    "start_time": "2022-06-24T08:03:28.458Z"
   },
   {
    "duration": 5,
    "start_time": "2022-06-24T08:03:28.484Z"
   },
   {
    "duration": 7,
    "start_time": "2022-06-24T08:03:28.490Z"
   },
   {
    "duration": 9,
    "start_time": "2022-06-24T08:03:28.499Z"
   },
   {
    "duration": 19,
    "start_time": "2022-06-24T08:03:28.510Z"
   },
   {
    "duration": 29,
    "start_time": "2022-06-24T08:03:28.531Z"
   },
   {
    "duration": 11,
    "start_time": "2022-06-24T08:03:28.567Z"
   },
   {
    "duration": 9,
    "start_time": "2022-06-24T08:03:28.581Z"
   },
   {
    "duration": 19,
    "start_time": "2022-06-24T08:03:28.591Z"
   },
   {
    "duration": 220,
    "start_time": "2022-06-24T08:03:28.612Z"
   },
   {
    "duration": 6,
    "start_time": "2022-06-24T08:03:28.834Z"
   },
   {
    "duration": 32,
    "start_time": "2022-06-24T08:03:28.842Z"
   },
   {
    "duration": 247,
    "start_time": "2022-06-24T08:03:28.876Z"
   },
   {
    "duration": 8,
    "start_time": "2022-06-24T08:03:29.125Z"
   },
   {
    "duration": 14,
    "start_time": "2022-06-24T08:03:29.134Z"
   },
   {
    "duration": 328,
    "start_time": "2022-06-24T08:03:29.161Z"
   },
   {
    "duration": 223,
    "start_time": "2022-06-24T08:03:29.490Z"
   },
   {
    "duration": 5,
    "start_time": "2022-06-24T08:03:29.715Z"
   },
   {
    "duration": 314,
    "start_time": "2022-06-24T08:03:29.722Z"
   },
   {
    "duration": 375,
    "start_time": "2022-06-24T08:03:30.039Z"
   },
   {
    "duration": 292,
    "start_time": "2022-06-24T08:03:30.415Z"
   },
   {
    "duration": 313,
    "start_time": "2022-06-24T08:03:30.709Z"
   },
   {
    "duration": 188,
    "start_time": "2022-06-24T08:03:31.024Z"
   },
   {
    "duration": 365,
    "start_time": "2022-06-24T08:03:31.214Z"
   },
   {
    "duration": 387,
    "start_time": "2022-06-24T08:03:31.581Z"
   },
   {
    "duration": 359,
    "start_time": "2022-06-24T08:03:31.971Z"
   },
   {
    "duration": 205,
    "start_time": "2022-06-24T08:03:32.332Z"
   },
   {
    "duration": 202,
    "start_time": "2022-06-24T08:03:32.539Z"
   },
   {
    "duration": 221,
    "start_time": "2022-06-24T08:03:32.743Z"
   },
   {
    "duration": 10,
    "start_time": "2022-06-24T08:03:32.974Z"
   },
   {
    "duration": 11,
    "start_time": "2022-06-24T08:03:32.985Z"
   },
   {
    "duration": 27,
    "start_time": "2022-06-24T08:03:32.998Z"
   },
   {
    "duration": 20,
    "start_time": "2022-06-24T08:03:33.026Z"
   },
   {
    "duration": 1264,
    "start_time": "2022-06-26T07:55:08.937Z"
   },
   {
    "duration": 117,
    "start_time": "2022-06-26T07:55:10.203Z"
   },
   {
    "duration": 19,
    "start_time": "2022-06-26T07:55:10.321Z"
   },
   {
    "duration": 5,
    "start_time": "2022-06-26T07:55:10.342Z"
   },
   {
    "duration": 9,
    "start_time": "2022-06-26T07:55:10.349Z"
   },
   {
    "duration": 7,
    "start_time": "2022-06-26T07:55:10.359Z"
   },
   {
    "duration": 16,
    "start_time": "2022-06-26T07:55:10.367Z"
   },
   {
    "duration": 5,
    "start_time": "2022-06-26T07:55:10.384Z"
   },
   {
    "duration": 7,
    "start_time": "2022-06-26T07:55:10.390Z"
   },
   {
    "duration": 6,
    "start_time": "2022-06-26T07:55:10.400Z"
   },
   {
    "duration": 16,
    "start_time": "2022-06-26T07:55:10.407Z"
   },
   {
    "duration": 224,
    "start_time": "2022-06-26T07:55:10.424Z"
   },
   {
    "duration": 7,
    "start_time": "2022-06-26T07:55:10.649Z"
   },
   {
    "duration": 14,
    "start_time": "2022-06-26T07:55:10.658Z"
   },
   {
    "duration": 240,
    "start_time": "2022-06-26T07:55:10.673Z"
   },
   {
    "duration": 6,
    "start_time": "2022-06-26T07:55:10.915Z"
   },
   {
    "duration": 59,
    "start_time": "2022-06-26T07:55:10.923Z"
   },
   {
    "duration": 313,
    "start_time": "2022-06-26T07:55:10.984Z"
   },
   {
    "duration": 208,
    "start_time": "2022-06-26T07:55:11.298Z"
   },
   {
    "duration": 3,
    "start_time": "2022-06-26T07:55:11.508Z"
   },
   {
    "duration": 297,
    "start_time": "2022-06-26T07:55:11.513Z"
   },
   {
    "duration": 344,
    "start_time": "2022-06-26T07:55:11.811Z"
   },
   {
    "duration": 260,
    "start_time": "2022-06-26T07:55:12.158Z"
   },
   {
    "duration": 289,
    "start_time": "2022-06-26T07:55:12.419Z"
   },
   {
    "duration": 167,
    "start_time": "2022-06-26T07:55:12.709Z"
   },
   {
    "duration": 348,
    "start_time": "2022-06-26T07:55:12.877Z"
   },
   {
    "duration": 378,
    "start_time": "2022-06-26T07:55:13.227Z"
   },
   {
    "duration": 375,
    "start_time": "2022-06-26T07:55:13.609Z"
   },
   {
    "duration": 215,
    "start_time": "2022-06-26T07:55:13.986Z"
   },
   {
    "duration": 201,
    "start_time": "2022-06-26T07:55:14.203Z"
   },
   {
    "duration": 205,
    "start_time": "2022-06-26T07:55:14.406Z"
   },
   {
    "duration": 7,
    "start_time": "2022-06-26T07:55:14.612Z"
   },
   {
    "duration": 9,
    "start_time": "2022-06-26T07:55:14.620Z"
   },
   {
    "duration": 22,
    "start_time": "2022-06-26T07:55:14.630Z"
   },
   {
    "duration": 6,
    "start_time": "2022-06-26T07:55:14.653Z"
   },
   {
    "duration": 110,
    "start_time": "2022-06-26T07:57:07.355Z"
   },
   {
    "duration": 74,
    "start_time": "2022-06-26T07:57:36.900Z"
   },
   {
    "duration": 12,
    "start_time": "2022-06-26T07:57:44.324Z"
   },
   {
    "duration": 1122,
    "start_time": "2022-06-26T08:00:46.832Z"
   },
   {
    "duration": 78,
    "start_time": "2022-06-26T08:00:47.956Z"
   },
   {
    "duration": 17,
    "start_time": "2022-06-26T08:00:48.035Z"
   },
   {
    "duration": 9,
    "start_time": "2022-06-26T08:00:48.053Z"
   },
   {
    "duration": 5,
    "start_time": "2022-06-26T08:00:48.064Z"
   },
   {
    "duration": 10,
    "start_time": "2022-06-26T08:00:48.071Z"
   },
   {
    "duration": 25,
    "start_time": "2022-06-26T08:00:48.083Z"
   },
   {
    "duration": 12,
    "start_time": "2022-06-26T08:00:48.110Z"
   },
   {
    "duration": 10,
    "start_time": "2022-06-26T08:00:48.124Z"
   },
   {
    "duration": 8,
    "start_time": "2022-06-26T08:00:48.135Z"
   },
   {
    "duration": 20,
    "start_time": "2022-06-26T08:00:48.145Z"
   },
   {
    "duration": 196,
    "start_time": "2022-06-26T08:00:48.167Z"
   },
   {
    "duration": 6,
    "start_time": "2022-06-26T08:00:48.365Z"
   },
   {
    "duration": 18,
    "start_time": "2022-06-26T08:00:48.374Z"
   },
   {
    "duration": 250,
    "start_time": "2022-06-26T08:00:48.394Z"
   },
   {
    "duration": 8,
    "start_time": "2022-06-26T08:00:48.646Z"
   },
   {
    "duration": 17,
    "start_time": "2022-06-26T08:00:48.655Z"
   },
   {
    "duration": 327,
    "start_time": "2022-06-26T08:00:48.673Z"
   },
   {
    "duration": 226,
    "start_time": "2022-06-26T08:00:49.002Z"
   },
   {
    "duration": 4,
    "start_time": "2022-06-26T08:00:49.230Z"
   },
   {
    "duration": 309,
    "start_time": "2022-06-26T08:00:49.235Z"
   },
   {
    "duration": 371,
    "start_time": "2022-06-26T08:00:49.546Z"
   },
   {
    "duration": 300,
    "start_time": "2022-06-26T08:00:49.918Z"
   },
   {
    "duration": 279,
    "start_time": "2022-06-26T08:00:50.220Z"
   },
   {
    "duration": 171,
    "start_time": "2022-06-26T08:00:50.501Z"
   },
   {
    "duration": 366,
    "start_time": "2022-06-26T08:00:50.674Z"
   },
   {
    "duration": 364,
    "start_time": "2022-06-26T08:00:51.041Z"
   },
   {
    "duration": 350,
    "start_time": "2022-06-26T08:00:51.406Z"
   },
   {
    "duration": 294,
    "start_time": "2022-06-26T08:00:51.758Z"
   },
   {
    "duration": 218,
    "start_time": "2022-06-26T08:00:52.054Z"
   },
   {
    "duration": 214,
    "start_time": "2022-06-26T08:00:52.274Z"
   },
   {
    "duration": 8,
    "start_time": "2022-06-26T08:00:52.490Z"
   },
   {
    "duration": 14,
    "start_time": "2022-06-26T08:00:52.500Z"
   },
   {
    "duration": 12,
    "start_time": "2022-06-26T08:00:52.516Z"
   },
   {
    "duration": 11,
    "start_time": "2022-06-26T08:00:52.530Z"
   },
   {
    "duration": 1284,
    "start_time": "2022-06-26T17:08:54.860Z"
   },
   {
    "duration": 228,
    "start_time": "2022-06-26T17:08:56.145Z"
   },
   {
    "duration": 20,
    "start_time": "2022-06-26T17:08:56.375Z"
   },
   {
    "duration": 5,
    "start_time": "2022-06-26T17:08:56.397Z"
   },
   {
    "duration": 4,
    "start_time": "2022-06-26T17:08:56.404Z"
   },
   {
    "duration": 6,
    "start_time": "2022-06-26T17:08:56.410Z"
   },
   {
    "duration": 52,
    "start_time": "2022-06-26T17:08:56.417Z"
   },
   {
    "duration": 7,
    "start_time": "2022-06-26T17:08:56.471Z"
   },
   {
    "duration": 9,
    "start_time": "2022-06-26T17:08:56.479Z"
   },
   {
    "duration": 7,
    "start_time": "2022-06-26T17:08:56.491Z"
   },
   {
    "duration": 1554,
    "start_time": "2022-06-26T17:08:56.499Z"
   },
   {
    "duration": 0,
    "start_time": "2022-06-26T17:08:58.055Z"
   },
   {
    "duration": 0,
    "start_time": "2022-06-26T17:08:58.056Z"
   },
   {
    "duration": 0,
    "start_time": "2022-06-26T17:08:58.057Z"
   },
   {
    "duration": 0,
    "start_time": "2022-06-26T17:08:58.058Z"
   },
   {
    "duration": 0,
    "start_time": "2022-06-26T17:08:58.059Z"
   },
   {
    "duration": 0,
    "start_time": "2022-06-26T17:08:58.060Z"
   },
   {
    "duration": 0,
    "start_time": "2022-06-26T17:08:58.061Z"
   },
   {
    "duration": 0,
    "start_time": "2022-06-26T17:08:58.062Z"
   },
   {
    "duration": 0,
    "start_time": "2022-06-26T17:08:58.064Z"
   },
   {
    "duration": 0,
    "start_time": "2022-06-26T17:08:58.064Z"
   },
   {
    "duration": 0,
    "start_time": "2022-06-26T17:08:58.065Z"
   },
   {
    "duration": 0,
    "start_time": "2022-06-26T17:08:58.066Z"
   },
   {
    "duration": 0,
    "start_time": "2022-06-26T17:08:58.067Z"
   },
   {
    "duration": 0,
    "start_time": "2022-06-26T17:08:58.068Z"
   },
   {
    "duration": 0,
    "start_time": "2022-06-26T17:08:58.070Z"
   },
   {
    "duration": 0,
    "start_time": "2022-06-26T17:08:58.071Z"
   },
   {
    "duration": 0,
    "start_time": "2022-06-26T17:08:58.072Z"
   },
   {
    "duration": 0,
    "start_time": "2022-06-26T17:08:58.073Z"
   },
   {
    "duration": 0,
    "start_time": "2022-06-26T17:08:58.074Z"
   },
   {
    "duration": 0,
    "start_time": "2022-06-26T17:08:58.075Z"
   },
   {
    "duration": 0,
    "start_time": "2022-06-26T17:08:58.076Z"
   },
   {
    "duration": 0,
    "start_time": "2022-06-26T17:08:58.077Z"
   },
   {
    "duration": 0,
    "start_time": "2022-06-26T17:08:58.078Z"
   },
   {
    "duration": 0,
    "start_time": "2022-06-26T17:08:58.079Z"
   },
   {
    "duration": 0,
    "start_time": "2022-06-26T17:08:58.080Z"
   },
   {
    "duration": 14,
    "start_time": "2022-06-26T17:11:12.961Z"
   },
   {
    "duration": 8,
    "start_time": "2022-06-26T17:14:24.119Z"
   },
   {
    "duration": 107,
    "start_time": "2022-06-26T17:20:23.801Z"
   },
   {
    "duration": 147,
    "start_time": "2022-06-26T17:20:54.418Z"
   },
   {
    "duration": 99,
    "start_time": "2022-06-26T17:22:14.662Z"
   },
   {
    "duration": 12,
    "start_time": "2022-06-26T17:22:53.525Z"
   },
   {
    "duration": 11,
    "start_time": "2022-06-26T17:23:06.991Z"
   },
   {
    "duration": 18,
    "start_time": "2022-06-26T17:25:03.348Z"
   },
   {
    "duration": 1074,
    "start_time": "2022-06-26T17:25:19.404Z"
   },
   {
    "duration": 85,
    "start_time": "2022-06-26T17:25:20.480Z"
   },
   {
    "duration": 18,
    "start_time": "2022-06-26T17:25:20.567Z"
   },
   {
    "duration": 5,
    "start_time": "2022-06-26T17:25:20.587Z"
   },
   {
    "duration": 8,
    "start_time": "2022-06-26T17:25:20.594Z"
   },
   {
    "duration": 9,
    "start_time": "2022-06-26T17:25:20.603Z"
   },
   {
    "duration": 50,
    "start_time": "2022-06-26T17:25:20.614Z"
   },
   {
    "duration": 6,
    "start_time": "2022-06-26T17:25:20.665Z"
   },
   {
    "duration": 8,
    "start_time": "2022-06-26T17:25:20.672Z"
   },
   {
    "duration": 8,
    "start_time": "2022-06-26T17:25:20.683Z"
   },
   {
    "duration": 22,
    "start_time": "2022-06-26T17:25:20.692Z"
   },
   {
    "duration": 225,
    "start_time": "2022-06-26T17:25:20.715Z"
   },
   {
    "duration": 18,
    "start_time": "2022-06-26T17:25:20.941Z"
   },
   {
    "duration": 17,
    "start_time": "2022-06-26T17:25:20.961Z"
   },
   {
    "duration": 290,
    "start_time": "2022-06-26T17:25:20.980Z"
   },
   {
    "duration": 8,
    "start_time": "2022-06-26T17:25:21.272Z"
   },
   {
    "duration": 126,
    "start_time": "2022-06-26T17:25:21.281Z"
   },
   {
    "duration": 0,
    "start_time": "2022-06-26T17:25:21.409Z"
   },
   {
    "duration": 0,
    "start_time": "2022-06-26T17:25:21.410Z"
   },
   {
    "duration": 0,
    "start_time": "2022-06-26T17:25:21.410Z"
   },
   {
    "duration": 0,
    "start_time": "2022-06-26T17:25:21.411Z"
   },
   {
    "duration": 0,
    "start_time": "2022-06-26T17:25:21.413Z"
   },
   {
    "duration": 0,
    "start_time": "2022-06-26T17:25:21.414Z"
   },
   {
    "duration": 0,
    "start_time": "2022-06-26T17:25:21.415Z"
   },
   {
    "duration": 0,
    "start_time": "2022-06-26T17:25:21.416Z"
   },
   {
    "duration": 0,
    "start_time": "2022-06-26T17:25:21.417Z"
   },
   {
    "duration": 0,
    "start_time": "2022-06-26T17:25:21.418Z"
   },
   {
    "duration": 0,
    "start_time": "2022-06-26T17:25:21.419Z"
   },
   {
    "duration": 0,
    "start_time": "2022-06-26T17:25:21.420Z"
   },
   {
    "duration": 0,
    "start_time": "2022-06-26T17:25:21.421Z"
   },
   {
    "duration": 0,
    "start_time": "2022-06-26T17:25:21.422Z"
   },
   {
    "duration": 0,
    "start_time": "2022-06-26T17:25:21.423Z"
   },
   {
    "duration": 0,
    "start_time": "2022-06-26T17:25:21.453Z"
   },
   {
    "duration": 0,
    "start_time": "2022-06-26T17:25:21.454Z"
   },
   {
    "duration": 0,
    "start_time": "2022-06-26T17:25:21.455Z"
   },
   {
    "duration": 0,
    "start_time": "2022-06-26T17:25:21.456Z"
   },
   {
    "duration": 14,
    "start_time": "2022-06-26T17:26:55.165Z"
   },
   {
    "duration": 1302,
    "start_time": "2022-06-26T17:27:41.435Z"
   },
   {
    "duration": 86,
    "start_time": "2022-06-26T17:27:42.739Z"
   },
   {
    "duration": 26,
    "start_time": "2022-06-26T17:27:42.827Z"
   },
   {
    "duration": 6,
    "start_time": "2022-06-26T17:27:42.855Z"
   },
   {
    "duration": 10,
    "start_time": "2022-06-26T17:27:42.863Z"
   },
   {
    "duration": 12,
    "start_time": "2022-06-26T17:27:42.875Z"
   },
   {
    "duration": 34,
    "start_time": "2022-06-26T17:27:42.890Z"
   },
   {
    "duration": 29,
    "start_time": "2022-06-26T17:27:42.926Z"
   },
   {
    "duration": 7,
    "start_time": "2022-06-26T17:27:42.958Z"
   },
   {
    "duration": 9,
    "start_time": "2022-06-26T17:27:42.967Z"
   },
   {
    "duration": 18,
    "start_time": "2022-06-26T17:27:42.978Z"
   },
   {
    "duration": 266,
    "start_time": "2022-06-26T17:27:42.998Z"
   },
   {
    "duration": 8,
    "start_time": "2022-06-26T17:27:43.266Z"
   },
   {
    "duration": 19,
    "start_time": "2022-06-26T17:27:43.278Z"
   },
   {
    "duration": 277,
    "start_time": "2022-06-26T17:27:43.299Z"
   },
   {
    "duration": 10,
    "start_time": "2022-06-26T17:27:43.578Z"
   },
   {
    "duration": 20,
    "start_time": "2022-06-26T17:27:43.589Z"
   },
   {
    "duration": 374,
    "start_time": "2022-06-26T17:27:43.611Z"
   },
   {
    "duration": 239,
    "start_time": "2022-06-26T17:27:43.987Z"
   },
   {
    "duration": 5,
    "start_time": "2022-06-26T17:27:44.227Z"
   },
   {
    "duration": 306,
    "start_time": "2022-06-26T17:27:44.233Z"
   },
   {
    "duration": 315,
    "start_time": "2022-06-26T17:27:44.541Z"
   },
   {
    "duration": 343,
    "start_time": "2022-06-26T17:27:44.858Z"
   },
   {
    "duration": 284,
    "start_time": "2022-06-26T17:27:45.203Z"
   },
   {
    "duration": 165,
    "start_time": "2022-06-26T17:27:45.489Z"
   },
   {
    "duration": 368,
    "start_time": "2022-06-26T17:27:45.656Z"
   },
   {
    "duration": 433,
    "start_time": "2022-06-26T17:27:46.025Z"
   },
   {
    "duration": 351,
    "start_time": "2022-06-26T17:27:46.460Z"
   },
   {
    "duration": 213,
    "start_time": "2022-06-26T17:27:46.812Z"
   },
   {
    "duration": 213,
    "start_time": "2022-06-26T17:27:47.027Z"
   },
   {
    "duration": 214,
    "start_time": "2022-06-26T17:27:47.242Z"
   },
   {
    "duration": 8,
    "start_time": "2022-06-26T17:27:47.457Z"
   },
   {
    "duration": 9,
    "start_time": "2022-06-26T17:27:47.466Z"
   },
   {
    "duration": 8,
    "start_time": "2022-06-26T17:27:47.477Z"
   },
   {
    "duration": 9,
    "start_time": "2022-06-26T17:27:47.487Z"
   }
  ],
  "kernelspec": {
   "display_name": "Python 3 (ipykernel)",
   "language": "python",
   "name": "python3"
  },
  "language_info": {
   "codemirror_mode": {
    "name": "ipython",
    "version": 3
   },
   "file_extension": ".py",
   "mimetype": "text/x-python",
   "name": "python",
   "nbconvert_exporter": "python",
   "pygments_lexer": "ipython3",
   "version": "3.9.7"
  },
  "toc": {
   "base_numbering": 1,
   "nav_menu": {},
   "number_sections": true,
   "sideBar": true,
   "skip_h1_title": true,
   "title_cell": "Table of Contents",
   "title_sidebar": "Contents",
   "toc_cell": false,
   "toc_position": {},
   "toc_section_display": true,
   "toc_window_display": false
  }
 },
 "nbformat": 4,
 "nbformat_minor": 5
}
