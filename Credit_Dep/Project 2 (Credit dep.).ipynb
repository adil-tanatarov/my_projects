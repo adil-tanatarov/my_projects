{
 "cells": [
  {
   "cell_type": "markdown",
   "id": "854d2eaf",
   "metadata": {},
   "source": [
    "# Исследовательский анализ данных заемщиков Банка"
   ]
  },
  {
   "cell_type": "markdown",
   "id": "f83a00a2",
   "metadata": {},
   "source": [
    "## Описание проекта:\n",
    "\n",
    "#### Заказчик — кредитный отдел банка. Нужно разобраться, влияет ли семейное положение и количество детей клиента на факт погашения кредита в срок. Входные данные от банка — статистика о платёжеспособности клиентов.\n",
    "\n",
    "#### Результаты исследования будут учтены при построении модели кредитного скоринга — специальной системы, которая оценивает способность потенциального заёмщика вернуть кредит банку."
   ]
  },
  {
   "cell_type": "markdown",
   "id": "0eca58e9",
   "metadata": {},
   "source": [
    "## Описание данных:"
   ]
  },
  {
   "cell_type": "code",
   "execution_count": 13,
   "id": "bebd9056",
   "metadata": {},
   "outputs": [],
   "source": [
    "import pandas as pd"
   ]
  },
  {
   "cell_type": "code",
   "execution_count": 14,
   "id": "4b3d7947",
   "metadata": {},
   "outputs": [
    {
     "name": "stdout",
     "output_type": "stream",
     "text": [
      "<class 'pandas.core.frame.DataFrame'>\n",
      "RangeIndex: 21525 entries, 0 to 21524\n",
      "Data columns (total 12 columns):\n",
      " #   Column            Non-Null Count  Dtype  \n",
      "---  ------            --------------  -----  \n",
      " 0   children          21525 non-null  int64  \n",
      " 1   days_employed     19351 non-null  float64\n",
      " 2   dob_years         21525 non-null  int64  \n",
      " 3   education         21525 non-null  object \n",
      " 4   education_id      21525 non-null  int64  \n",
      " 5   family_status     21525 non-null  object \n",
      " 6   family_status_id  21525 non-null  int64  \n",
      " 7   gender            21525 non-null  object \n",
      " 8   income_type       21525 non-null  object \n",
      " 9   debt              21525 non-null  int64  \n",
      " 10  total_income      19351 non-null  float64\n",
      " 11  purpose           21525 non-null  object \n",
      "dtypes: float64(2), int64(5), object(5)\n",
      "memory usage: 2.0+ MB\n"
     ]
    }
   ],
   "source": [
    "data = pd.read_csv('D:\\Yandex_Practikum\\Credit_Dep\\Project_Credit_Dep.csv')\n",
    "\n",
    "data.info() # смотрим общую информацию по датасету"
   ]
  },
  {
   "cell_type": "markdown",
   "id": "9dba83d4",
   "metadata": {},
   "source": [
    "Датасет содержит ~ 25 000 строк с данными о заемщиках Банка. \n",
    "\n",
    "- children — количество детей в семье\n",
    "- days_employed — общий трудовой стаж в днях\n",
    "- dob_years — возраст клиента в годах\n",
    "- education — уровень образования клиента\n",
    "- education_id — идентификатор уровня образования\n",
    "- family_status — семейное положение\n",
    "- family_status_id — идентификатор семейного положения\n",
    "- gender — пол клиента\n",
    "- income_type — тип занятости\n",
    "- debt — имел ли задолженность по возврату кредитов\n",
    "- total_income — ежемесячный доход\n",
    "- purpose — цель получения кредита\n",
    "\n",
    "#### Заказ от кредитного отдела проверить гипотезы:\n",
    "- есть ли зависимость между количеством детей и возвратом кредита в срок?\n",
    "- есть ли зависимость между семейным положением и возвратом кредита в срок?\n",
    "- есть ли зависимость между уровнем дохода и возвратом кредита в срок?\n",
    "- как разные цели кредита влияют на его возврат в срок?"
   ]
  },
  {
   "cell_type": "markdown",
   "id": "dcde84a0",
   "metadata": {},
   "source": [
    "# Предобработка данных"
   ]
  },
  {
   "cell_type": "markdown",
   "id": "9f02890e",
   "metadata": {},
   "source": [
    "### Работа с пропусками"
   ]
  },
  {
   "cell_type": "code",
   "execution_count": 15,
   "id": "8e644011",
   "metadata": {},
   "outputs": [
    {
     "name": "stdout",
     "output_type": "stream",
     "text": [
      "children               0\n",
      "days_employed       2174\n",
      "dob_years              0\n",
      "education              0\n",
      "education_id           0\n",
      "family_status          0\n",
      "family_status_id       0\n",
      "gender                 0\n",
      "income_type            0\n",
      "debt                   0\n",
      "total_income        2174\n",
      "purpose                0\n",
      "dtype: int64\n"
     ]
    }
   ],
   "source": [
    "data_na = data.isna().sum() # считаем сумму явных пропусков\n",
    "print(data_na)"
   ]
  },
  {
   "cell_type": "markdown",
   "id": "c0882537",
   "metadata": {},
   "source": [
    "С помощью метода isna мы обнаружили наличие пропусков в столбцах:\n",
    "- 'days_employed'(кол-во дней в труд.стаже, тип данных - float)\n",
    "- 'total_income'(сумма кредита, тип данных - float).\n",
    "\n",
    "Количество пропусков в обоих столбцах одинаково. Возможно эти пропуски взаимосвязаны. Проверим это с помощью фильтрации данных."
   ]
  },
  {
   "cell_type": "code",
   "execution_count": 16,
   "id": "07a32da0",
   "metadata": {},
   "outputs": [
    {
     "data": {
      "text/html": [
       "<div>\n",
       "<style scoped>\n",
       "    .dataframe tbody tr th:only-of-type {\n",
       "        vertical-align: middle;\n",
       "    }\n",
       "\n",
       "    .dataframe tbody tr th {\n",
       "        vertical-align: top;\n",
       "    }\n",
       "\n",
       "    .dataframe thead th {\n",
       "        text-align: right;\n",
       "    }\n",
       "</style>\n",
       "<table border=\"1\" class=\"dataframe\">\n",
       "  <thead>\n",
       "    <tr style=\"text-align: right;\">\n",
       "      <th></th>\n",
       "      <th>children</th>\n",
       "      <th>days_employed</th>\n",
       "      <th>dob_years</th>\n",
       "      <th>education</th>\n",
       "      <th>education_id</th>\n",
       "      <th>family_status</th>\n",
       "      <th>family_status_id</th>\n",
       "      <th>gender</th>\n",
       "      <th>income_type</th>\n",
       "      <th>debt</th>\n",
       "      <th>total_income</th>\n",
       "      <th>purpose</th>\n",
       "    </tr>\n",
       "  </thead>\n",
       "  <tbody>\n",
       "    <tr>\n",
       "      <th>12</th>\n",
       "      <td>0</td>\n",
       "      <td>NaN</td>\n",
       "      <td>65</td>\n",
       "      <td>среднее</td>\n",
       "      <td>1</td>\n",
       "      <td>гражданский брак</td>\n",
       "      <td>1</td>\n",
       "      <td>M</td>\n",
       "      <td>пенсионер</td>\n",
       "      <td>0</td>\n",
       "      <td>NaN</td>\n",
       "      <td>сыграть свадьбу</td>\n",
       "    </tr>\n",
       "    <tr>\n",
       "      <th>26</th>\n",
       "      <td>0</td>\n",
       "      <td>NaN</td>\n",
       "      <td>41</td>\n",
       "      <td>среднее</td>\n",
       "      <td>1</td>\n",
       "      <td>женат / замужем</td>\n",
       "      <td>0</td>\n",
       "      <td>M</td>\n",
       "      <td>госслужащий</td>\n",
       "      <td>0</td>\n",
       "      <td>NaN</td>\n",
       "      <td>образование</td>\n",
       "    </tr>\n",
       "    <tr>\n",
       "      <th>29</th>\n",
       "      <td>0</td>\n",
       "      <td>NaN</td>\n",
       "      <td>63</td>\n",
       "      <td>среднее</td>\n",
       "      <td>1</td>\n",
       "      <td>Не женат / не замужем</td>\n",
       "      <td>4</td>\n",
       "      <td>F</td>\n",
       "      <td>пенсионер</td>\n",
       "      <td>0</td>\n",
       "      <td>NaN</td>\n",
       "      <td>строительство жилой недвижимости</td>\n",
       "    </tr>\n",
       "    <tr>\n",
       "      <th>41</th>\n",
       "      <td>0</td>\n",
       "      <td>NaN</td>\n",
       "      <td>50</td>\n",
       "      <td>среднее</td>\n",
       "      <td>1</td>\n",
       "      <td>женат / замужем</td>\n",
       "      <td>0</td>\n",
       "      <td>F</td>\n",
       "      <td>госслужащий</td>\n",
       "      <td>0</td>\n",
       "      <td>NaN</td>\n",
       "      <td>сделка с подержанным автомобилем</td>\n",
       "    </tr>\n",
       "    <tr>\n",
       "      <th>55</th>\n",
       "      <td>0</td>\n",
       "      <td>NaN</td>\n",
       "      <td>54</td>\n",
       "      <td>среднее</td>\n",
       "      <td>1</td>\n",
       "      <td>гражданский брак</td>\n",
       "      <td>1</td>\n",
       "      <td>F</td>\n",
       "      <td>пенсионер</td>\n",
       "      <td>1</td>\n",
       "      <td>NaN</td>\n",
       "      <td>сыграть свадьбу</td>\n",
       "    </tr>\n",
       "    <tr>\n",
       "      <th>65</th>\n",
       "      <td>0</td>\n",
       "      <td>NaN</td>\n",
       "      <td>21</td>\n",
       "      <td>среднее</td>\n",
       "      <td>1</td>\n",
       "      <td>Не женат / не замужем</td>\n",
       "      <td>4</td>\n",
       "      <td>M</td>\n",
       "      <td>компаньон</td>\n",
       "      <td>0</td>\n",
       "      <td>NaN</td>\n",
       "      <td>операции с коммерческой недвижимостью</td>\n",
       "    </tr>\n",
       "    <tr>\n",
       "      <th>67</th>\n",
       "      <td>0</td>\n",
       "      <td>NaN</td>\n",
       "      <td>52</td>\n",
       "      <td>высшее</td>\n",
       "      <td>0</td>\n",
       "      <td>женат / замужем</td>\n",
       "      <td>0</td>\n",
       "      <td>F</td>\n",
       "      <td>пенсионер</td>\n",
       "      <td>0</td>\n",
       "      <td>NaN</td>\n",
       "      <td>покупка жилья для семьи</td>\n",
       "    </tr>\n",
       "    <tr>\n",
       "      <th>72</th>\n",
       "      <td>1</td>\n",
       "      <td>NaN</td>\n",
       "      <td>32</td>\n",
       "      <td>высшее</td>\n",
       "      <td>0</td>\n",
       "      <td>женат / замужем</td>\n",
       "      <td>0</td>\n",
       "      <td>M</td>\n",
       "      <td>госслужащий</td>\n",
       "      <td>0</td>\n",
       "      <td>NaN</td>\n",
       "      <td>операции с коммерческой недвижимостью</td>\n",
       "    </tr>\n",
       "    <tr>\n",
       "      <th>82</th>\n",
       "      <td>2</td>\n",
       "      <td>NaN</td>\n",
       "      <td>50</td>\n",
       "      <td>высшее</td>\n",
       "      <td>0</td>\n",
       "      <td>женат / замужем</td>\n",
       "      <td>0</td>\n",
       "      <td>F</td>\n",
       "      <td>сотрудник</td>\n",
       "      <td>0</td>\n",
       "      <td>NaN</td>\n",
       "      <td>жилье</td>\n",
       "    </tr>\n",
       "    <tr>\n",
       "      <th>83</th>\n",
       "      <td>0</td>\n",
       "      <td>NaN</td>\n",
       "      <td>52</td>\n",
       "      <td>среднее</td>\n",
       "      <td>1</td>\n",
       "      <td>женат / замужем</td>\n",
       "      <td>0</td>\n",
       "      <td>M</td>\n",
       "      <td>сотрудник</td>\n",
       "      <td>0</td>\n",
       "      <td>NaN</td>\n",
       "      <td>жилье</td>\n",
       "    </tr>\n",
       "    <tr>\n",
       "      <th>90</th>\n",
       "      <td>2</td>\n",
       "      <td>NaN</td>\n",
       "      <td>35</td>\n",
       "      <td>высшее</td>\n",
       "      <td>0</td>\n",
       "      <td>женат / замужем</td>\n",
       "      <td>0</td>\n",
       "      <td>F</td>\n",
       "      <td>сотрудник</td>\n",
       "      <td>0</td>\n",
       "      <td>NaN</td>\n",
       "      <td>операции с жильем</td>\n",
       "    </tr>\n",
       "    <tr>\n",
       "      <th>94</th>\n",
       "      <td>1</td>\n",
       "      <td>NaN</td>\n",
       "      <td>34</td>\n",
       "      <td>высшее</td>\n",
       "      <td>0</td>\n",
       "      <td>гражданский брак</td>\n",
       "      <td>1</td>\n",
       "      <td>F</td>\n",
       "      <td>компаньон</td>\n",
       "      <td>0</td>\n",
       "      <td>NaN</td>\n",
       "      <td>на проведение свадьбы</td>\n",
       "    </tr>\n",
       "    <tr>\n",
       "      <th>96</th>\n",
       "      <td>0</td>\n",
       "      <td>NaN</td>\n",
       "      <td>44</td>\n",
       "      <td>СРЕДНЕЕ</td>\n",
       "      <td>1</td>\n",
       "      <td>женат / замужем</td>\n",
       "      <td>0</td>\n",
       "      <td>F</td>\n",
       "      <td>сотрудник</td>\n",
       "      <td>0</td>\n",
       "      <td>NaN</td>\n",
       "      <td>покупка жилой недвижимости</td>\n",
       "    </tr>\n",
       "    <tr>\n",
       "      <th>97</th>\n",
       "      <td>0</td>\n",
       "      <td>NaN</td>\n",
       "      <td>47</td>\n",
       "      <td>высшее</td>\n",
       "      <td>0</td>\n",
       "      <td>женат / замужем</td>\n",
       "      <td>0</td>\n",
       "      <td>F</td>\n",
       "      <td>сотрудник</td>\n",
       "      <td>0</td>\n",
       "      <td>NaN</td>\n",
       "      <td>профильное образование</td>\n",
       "    </tr>\n",
       "    <tr>\n",
       "      <th>120</th>\n",
       "      <td>0</td>\n",
       "      <td>NaN</td>\n",
       "      <td>46</td>\n",
       "      <td>среднее</td>\n",
       "      <td>1</td>\n",
       "      <td>женат / замужем</td>\n",
       "      <td>0</td>\n",
       "      <td>F</td>\n",
       "      <td>сотрудник</td>\n",
       "      <td>0</td>\n",
       "      <td>NaN</td>\n",
       "      <td>высшее образование</td>\n",
       "    </tr>\n",
       "  </tbody>\n",
       "</table>\n",
       "</div>"
      ],
      "text/plain": [
       "     children  days_employed  dob_years education  education_id  \\\n",
       "12          0            NaN         65   среднее             1   \n",
       "26          0            NaN         41   среднее             1   \n",
       "29          0            NaN         63   среднее             1   \n",
       "41          0            NaN         50   среднее             1   \n",
       "55          0            NaN         54   среднее             1   \n",
       "65          0            NaN         21   среднее             1   \n",
       "67          0            NaN         52    высшее             0   \n",
       "72          1            NaN         32    высшее             0   \n",
       "82          2            NaN         50    высшее             0   \n",
       "83          0            NaN         52   среднее             1   \n",
       "90          2            NaN         35    высшее             0   \n",
       "94          1            NaN         34    высшее             0   \n",
       "96          0            NaN         44   СРЕДНЕЕ             1   \n",
       "97          0            NaN         47    высшее             0   \n",
       "120         0            NaN         46   среднее             1   \n",
       "\n",
       "             family_status  family_status_id gender  income_type  debt  \\\n",
       "12        гражданский брак                 1      M    пенсионер     0   \n",
       "26         женат / замужем                 0      M  госслужащий     0   \n",
       "29   Не женат / не замужем                 4      F    пенсионер     0   \n",
       "41         женат / замужем                 0      F  госслужащий     0   \n",
       "55        гражданский брак                 1      F    пенсионер     1   \n",
       "65   Не женат / не замужем                 4      M    компаньон     0   \n",
       "67         женат / замужем                 0      F    пенсионер     0   \n",
       "72         женат / замужем                 0      M  госслужащий     0   \n",
       "82         женат / замужем                 0      F    сотрудник     0   \n",
       "83         женат / замужем                 0      M    сотрудник     0   \n",
       "90         женат / замужем                 0      F    сотрудник     0   \n",
       "94        гражданский брак                 1      F    компаньон     0   \n",
       "96         женат / замужем                 0      F    сотрудник     0   \n",
       "97         женат / замужем                 0      F    сотрудник     0   \n",
       "120        женат / замужем                 0      F    сотрудник     0   \n",
       "\n",
       "     total_income                                purpose  \n",
       "12            NaN                        сыграть свадьбу  \n",
       "26            NaN                            образование  \n",
       "29            NaN       строительство жилой недвижимости  \n",
       "41            NaN       сделка с подержанным автомобилем  \n",
       "55            NaN                        сыграть свадьбу  \n",
       "65            NaN  операции с коммерческой недвижимостью  \n",
       "67            NaN                покупка жилья для семьи  \n",
       "72            NaN  операции с коммерческой недвижимостью  \n",
       "82            NaN                                  жилье  \n",
       "83            NaN                                  жилье  \n",
       "90            NaN                      операции с жильем  \n",
       "94            NaN                  на проведение свадьбы  \n",
       "96            NaN             покупка жилой недвижимости  \n",
       "97            NaN                 профильное образование  \n",
       "120           NaN                     высшее образование  "
      ]
     },
     "metadata": {},
     "output_type": "display_data"
    }
   ],
   "source": [
    "data_check_na = data.loc[data['days_employed'].isna()] # изучаем строки с пропусками\n",
    "\n",
    "display(data_check_na.head(15))"
   ]
  },
  {
   "cell_type": "markdown",
   "id": "719ce2e1",
   "metadata": {},
   "source": [
    "<div class=\"alert alert-success\" role=\"alert\">\n",
    "Взаимосвязь пропусков очевидна. Возможные причины этих пропусков:\n",
    "    \n",
    "- это пул заявок не прошедших первоначальный скоринг, с неподтвержденными данными по занятости. Поэтому нет точных данных по стажу и сумме кредита, которые рассчитываются на более поздних этапах скоринга.\n",
    "- часть из них возможно связаны с политикой Банка в отношении персональных данных некоторых категорий заемщиков.\n",
    "</div>"
   ]
  },
  {
   "cell_type": "code",
   "execution_count": 17,
   "id": "4dc06bfd",
   "metadata": {},
   "outputs": [
    {
     "name": "stdout",
     "output_type": "stream",
     "text": [
      "children            0.000000\n",
      "days_employed       0.100999\n",
      "dob_years           0.000000\n",
      "education           0.000000\n",
      "education_id        0.000000\n",
      "family_status       0.000000\n",
      "family_status_id    0.000000\n",
      "gender              0.000000\n",
      "income_type         0.000000\n",
      "debt                0.000000\n",
      "total_income        0.100999\n",
      "purpose             0.000000\n",
      "dtype: float64\n"
     ]
    }
   ],
   "source": [
    "print(data_na / len(data)) # считаем долю пропущенных значений от общей"
   ]
  },
  {
   "cell_type": "markdown",
   "id": "6d73ec93",
   "metadata": {},
   "source": [
    "##### Предварительно исправим аномалию в данных столбца с трудовым стажем, большая часть значений в нем отрицательные. Переведем значения в положительные методом abs().  Возможно это ошибка при выгрузке данных, либо особенности учета в банковской системе."
   ]
  },
  {
   "cell_type": "code",
   "execution_count": 18,
   "id": "b277aa94",
   "metadata": {},
   "outputs": [],
   "source": [
    "data['days_employed'] = data['days_employed'].abs() "
   ]
  },
  {
   "cell_type": "markdown",
   "id": "1c8e3af4",
   "metadata": {},
   "source": [
    "Соотношение пропусков к общему количеству строк около 11%. \n",
    "\n",
    "Исходя из количественной категории данных, количества дней в трудовом стаже и ежемесячном доходе, пропуски для большей объективности данных лучше заполнить медианным значением. \n",
    "\n",
    "Т.к при подсчете среднего значения:\n",
    "\n",
    "- максимальное значение (суммы больше миллиона) нескольких заемщиков может сильно сместить среднее значение к максимальному\n",
    "- минимальные (в т.ч. пропуски, приравненные к 0) сильно сместить в сторону минимального\n",
    "    \n",
    "Подсчитаем медианное значение для столбцов с пропусками, и заполним этим значением пропуски.\n"
   ]
  },
  {
   "cell_type": "markdown",
   "id": "537ca05b",
   "metadata": {},
   "source": [
    "#### Заполним медианным значением пропуски и проверим результаты"
   ]
  },
  {
   "cell_type": "code",
   "execution_count": 19,
   "id": "37ee2b2c",
   "metadata": {},
   "outputs": [
    {
     "name": "stdout",
     "output_type": "stream",
     "text": [
      "12    2194.220567\n",
      "26    2194.220567\n",
      "29    2194.220567\n",
      "41    2194.220567\n",
      "55    2194.220567\n",
      "Name: days_employed, dtype: float64\n",
      "12    145017.937533\n",
      "26    145017.937533\n",
      "29    145017.937533\n",
      "41    145017.937533\n",
      "55    145017.937533\n",
      "Name: total_income, dtype: float64\n"
     ]
    }
   ],
   "source": [
    "days_employed_median = pd.Series(data['days_employed']).median() #вычисляем медианное значение для стажа\n",
    "total_income_median = pd.Series(data['total_income']).median() #вычисляем медианное значение для доходов\n",
    "\n",
    "data['days_employed'] = data['days_employed'].fillna(value=days_employed_median) #заполняем медианным значением пропуски в стаже\n",
    "data['total_income'] = data['total_income'].fillna(value=total_income_median) #заполняем медианным значением пропуски в доходах\n",
    "\n",
    "print(data[data['days_employed'] == days_employed_median]['days_employed'].head(5))\n",
    "print(data[data['total_income'] == total_income_median]['total_income'].head(5))"
   ]
  },
  {
   "cell_type": "markdown",
   "id": "5fd16a7d",
   "metadata": {},
   "source": [
    "Проверим остались ли необработанные пропуски"
   ]
  },
  {
   "cell_type": "code",
   "execution_count": 20,
   "id": "78a5cd12",
   "metadata": {},
   "outputs": [
    {
     "name": "stdout",
     "output_type": "stream",
     "text": [
      "children            0\n",
      "days_employed       0\n",
      "dob_years           0\n",
      "education           0\n",
      "education_id        0\n",
      "family_status       0\n",
      "family_status_id    0\n",
      "gender              0\n",
      "income_type         0\n",
      "debt                0\n",
      "total_income        0\n",
      "purpose             0\n",
      "dtype: int64\n"
     ]
    }
   ],
   "source": [
    "print(data.isna().sum()) "
   ]
  },
  {
   "cell_type": "markdown",
   "id": "c94cb6fe",
   "metadata": {},
   "source": [
    "Пропуски устранены."
   ]
  },
  {
   "cell_type": "markdown",
   "id": "f6e5e940",
   "metadata": {},
   "source": [
    "#### Устраняем аномалии"
   ]
  },
  {
   "cell_type": "markdown",
   "id": "aaf6ad7d",
   "metadata": {},
   "source": [
    "Проверим есть ли еще аномалии в других столбцах с помощью метода unique() для перебора уникальных значений"
   ]
  },
  {
   "cell_type": "code",
   "execution_count": 21,
   "id": "6efcc1f8",
   "metadata": {},
   "outputs": [
    {
     "name": "stdout",
     "output_type": "stream",
     "text": [
      "[ 1  0  3  2 -1  4 20  5]\n"
     ]
    }
   ],
   "source": [
    "print(data['children'].unique()) "
   ]
  },
  {
   "cell_type": "markdown",
   "id": "46ca2608",
   "metadata": {},
   "source": [
    "<div class=\"alert alert-info\">\n",
    "\n",
    "Значения 20 и -1 явно аномальные\n",
    "</div>"
   ]
  },
  {
   "cell_type": "code",
   "execution_count": 22,
   "id": "b8727d92",
   "metadata": {},
   "outputs": [
    {
     "name": "stdout",
     "output_type": "stream",
     "text": [
      "[42 36 33 32 53 27 43 50 35 41 40 65 54 56 26 48 24 21 57 67 28 63 62 47\n",
      " 34 68 25 31 30 20 49 37 45 61 64 44 52 46 23 38 39 51  0 59 29 60 55 58\n",
      " 71 22 73 66 69 19 72 70 74 75]\n"
     ]
    }
   ],
   "source": [
    "print(data['dob_years'].unique()) "
   ]
  },
  {
   "cell_type": "markdown",
   "id": "daf54dcd",
   "metadata": {},
   "source": [
    "<div class=\"alert alert-info\">\n",
    "\n",
    "Значение 0 также аномальное\n",
    "</div>"
   ]
  },
  {
   "cell_type": "code",
   "execution_count": 23,
   "id": "2e772e6d",
   "metadata": {},
   "outputs": [
    {
     "name": "stdout",
     "output_type": "stream",
     "text": [
      "['высшее' 'среднее' 'Среднее' 'СРЕДНЕЕ' 'ВЫСШЕЕ' 'неоконченное высшее'\n",
      " 'начальное' 'Высшее' 'НЕОКОНЧЕННОЕ ВЫСШЕЕ' 'Неоконченное высшее'\n",
      " 'НАЧАЛЬНОЕ' 'Начальное' 'Ученая степень' 'УЧЕНАЯ СТЕПЕНЬ'\n",
      " 'ученая степень']\n"
     ]
    }
   ],
   "source": [
    "print(data['education'].unique()) "
   ]
  },
  {
   "cell_type": "markdown",
   "id": "1621f078",
   "metadata": {},
   "source": [
    "<div class=\"alert alert-info\">\n",
    "\n",
    "Присутствуют значения с разлиным регистром\n",
    "</div>"
   ]
  },
  {
   "cell_type": "code",
   "execution_count": 24,
   "id": "8ab001a5",
   "metadata": {},
   "outputs": [
    {
     "name": "stdout",
     "output_type": "stream",
     "text": [
      "['женат / замужем' 'гражданский брак' 'вдовец / вдова' 'в разводе'\n",
      " 'Не женат / не замужем']\n"
     ]
    }
   ],
   "source": [
    "print(data['family_status'].unique()) "
   ]
  },
  {
   "cell_type": "markdown",
   "id": "94d4787a",
   "metadata": {},
   "source": [
    "<div class=\"alert alert-info\">\n",
    "\n",
    "Присутствуют значения с разлиным регистром\n",
    "</div>"
   ]
  },
  {
   "cell_type": "code",
   "execution_count": 25,
   "id": "fa169885",
   "metadata": {},
   "outputs": [
    {
     "name": "stdout",
     "output_type": "stream",
     "text": [
      "['сотрудник' 'пенсионер' 'компаньон' 'госслужащий' 'безработный'\n",
      " 'предприниматель' 'студент' 'в декрете']\n"
     ]
    }
   ],
   "source": [
    "print(data['income_type'].unique()) "
   ]
  },
  {
   "cell_type": "code",
   "execution_count": 26,
   "id": "fbb859e9",
   "metadata": {},
   "outputs": [
    {
     "name": "stdout",
     "output_type": "stream",
     "text": [
      "['покупка жилья' 'приобретение автомобиля' 'дополнительное образование'\n",
      " 'сыграть свадьбу' 'операции с жильем' 'образование'\n",
      " 'на проведение свадьбы' 'покупка жилья для семьи' 'покупка недвижимости'\n",
      " 'покупка коммерческой недвижимости' 'покупка жилой недвижимости'\n",
      " 'строительство собственной недвижимости' 'недвижимость'\n",
      " 'строительство недвижимости' 'на покупку подержанного автомобиля'\n",
      " 'на покупку своего автомобиля' 'операции с коммерческой недвижимостью'\n",
      " 'строительство жилой недвижимости' 'жилье'\n",
      " 'операции со своей недвижимостью' 'автомобили' 'заняться образованием'\n",
      " 'сделка с подержанным автомобилем' 'получение образования' 'автомобиль'\n",
      " 'свадьба' 'получение дополнительного образования' 'покупка своего жилья'\n",
      " 'операции с недвижимостью' 'получение высшего образования'\n",
      " 'свой автомобиль' 'сделка с автомобилем' 'профильное образование'\n",
      " 'высшее образование' 'покупка жилья для сдачи' 'на покупку автомобиля'\n",
      " 'ремонт жилью' 'заняться высшим образованием']\n"
     ]
    }
   ],
   "source": [
    "print(data['purpose'].unique()) "
   ]
  },
  {
   "cell_type": "markdown",
   "id": "d9d4e82c",
   "metadata": {},
   "source": [
    "<div class=\"alert alert-info\">\n",
    "\n",
    "Присутствуют неявные дубликаты, которые можно разбить на категории\n",
    "</div>"
   ]
  },
  {
   "cell_type": "code",
   "execution_count": 27,
   "id": "0d27b2c5",
   "metadata": {},
   "outputs": [
    {
     "name": "stdout",
     "output_type": "stream",
     "text": [
      "401755.40047533\n",
      "24.14163324048118\n"
     ]
    }
   ],
   "source": [
    "print(data['days_employed'].max()) \n",
    "print(data['days_employed'].min()) \n",
    "\n",
    "data['days_employed'] = data['days_employed'].astype(int) \n",
    "data = data[data['days_employed'] <= 22000]"
   ]
  },
  {
   "cell_type": "markdown",
   "id": "6189e404",
   "metadata": {},
   "source": [
    "<div class=\"alert alert-info\">\n",
    "\n",
    "- трудовой стаж вероятнее всего указан в календарных днях, поэтому максимальные значения аномальны.\n",
    "- трудовой стаж в 65 лет составляет не более 22 000 дней, переведем значения в целочисленные, и отфильтруем аномальные значения.\n",
    "</div>"
   ]
  },
  {
   "cell_type": "code",
   "execution_count": 28,
   "id": "f580b0ea",
   "metadata": {},
   "outputs": [
    {
     "name": "stdout",
     "output_type": "stream",
     "text": [
      "gender\n",
      "F      11429\n",
      "M       6650\n",
      "XNA        1\n",
      "Name: gender, dtype: int64\n"
     ]
    }
   ],
   "source": [
    "print(data.groupby('gender')['gender'].count())"
   ]
  },
  {
   "cell_type": "markdown",
   "id": "29a923f4",
   "metadata": {},
   "source": [
    "<div class=\"alert alert-info\">\n",
    "\n",
    "Присутствует одно аномальное значение, оставим его\n",
    "</div>"
   ]
  },
  {
   "cell_type": "markdown",
   "id": "118af1db",
   "metadata": {},
   "source": [
    "#### В столбцах возраст и кол-во детей присутствуют аномальные значения. Вероятно они возникли при заполнении заемщиком анкеты и система скоринга обработала их, не приняв за ошибку."
   ]
  },
  {
   "cell_type": "markdown",
   "id": "27a32ca8",
   "metadata": {},
   "source": [
    "##### Посчитаем их количество и решим, удалить их из выборки или предположить среднее значение, и им заполнить"
   ]
  },
  {
   "cell_type": "code",
   "execution_count": 29,
   "id": "91581a00",
   "metadata": {},
   "outputs": [
    {
     "name": "stdout",
     "output_type": "stream",
     "text": [
      "69\n",
      "40\n",
      "84\n"
     ]
    }
   ],
   "source": [
    "print(data[data['children'] == 20]['children'].count()) \n",
    "print(data[data['children'] == -1]['children'].count())\n",
    "print(data[data['dob_years'] == 0]['dob_years'].count())\n",
    "\n"
   ]
  },
  {
   "cell_type": "markdown",
   "id": "7849add9",
   "metadata": {},
   "source": [
    "<div class=\"alert alert-info\">\n",
    "\n",
    "- подсчет выдает 76, 47 и 101 строку с аномальным значением соответственно.\n",
    "- строки со значением 20 и 0 отфильтруем, а значения -1 приведем в положительное значение с помощью abs()\n",
    "</div>"
   ]
  },
  {
   "cell_type": "code",
   "execution_count": 30,
   "id": "adf02a32",
   "metadata": {},
   "outputs": [],
   "source": [
    "data = data[data['children'] != 20]\n",
    "data = data[data['dob_years'] != 0] \n",
    "data['children'] = data['children'].abs() "
   ]
  },
  {
   "cell_type": "markdown",
   "id": "e76ad348",
   "metadata": {},
   "source": [
    "### Замена вещественного типа данных на целочисленный"
   ]
  },
  {
   "cell_type": "markdown",
   "id": "95b40b2d",
   "metadata": {},
   "source": [
    "#### Сумма задолженности нам понадобится для дальнейшего анализа, поэтому изменим тип данных вещественного(дробного) на целочисленный int "
   ]
  },
  {
   "cell_type": "code",
   "execution_count": 31,
   "id": "cbee1d3b",
   "metadata": {},
   "outputs": [],
   "source": [
    "data['total_income'] = data['total_income'].astype(int) #приводим ежемесячный доход в целочисленное значение"
   ]
  },
  {
   "cell_type": "markdown",
   "id": "f330914b",
   "metadata": {},
   "source": [
    "<div class=\"alert alert-info\">\n",
    "\n",
    "В столбцах education и family_status присутствуют значения без единого (змеиного) регистра. Вероятно они возникли вследствие различного регистра при заполнении анкет заемщиками.\n",
    "</div>"
   ]
  },
  {
   "cell_type": "markdown",
   "id": "670b87bb",
   "metadata": {},
   "source": [
    "### Удаляем дубликаты"
   ]
  },
  {
   "cell_type": "markdown",
   "id": "05e0dcce",
   "metadata": {},
   "source": [
    "##### Для начала приведем их к единому регистру с помощью метода str.lower()"
   ]
  },
  {
   "cell_type": "code",
   "execution_count": 32,
   "id": "ffb31bc7",
   "metadata": {},
   "outputs": [],
   "source": [
    "data['education'] = data['education'].str.lower() \n",
    "data['family_status'] = data['family_status'].str.lower() "
   ]
  },
  {
   "cell_type": "code",
   "execution_count": 33,
   "id": "060217b8",
   "metadata": {},
   "outputs": [
    {
     "name": "stdout",
     "output_type": "stream",
     "text": [
      "71\n"
     ]
    }
   ],
   "source": [
    "print(data.duplicated().sum()) "
   ]
  },
  {
   "cell_type": "code",
   "execution_count": 34,
   "id": "13a42e09",
   "metadata": {},
   "outputs": [
    {
     "name": "stdout",
     "output_type": "stream",
     "text": [
      "0\n"
     ]
    }
   ],
   "source": [
    "data = data.drop_duplicates() \n",
    "print(data.duplicated().sum()) "
   ]
  },
  {
   "cell_type": "markdown",
   "id": "193981c8",
   "metadata": {},
   "source": [
    "### Категоризация данных"
   ]
  },
  {
   "cell_type": "code",
   "execution_count": 35,
   "id": "ee284169",
   "metadata": {},
   "outputs": [],
   "source": [
    "education_id = data[['education','education_id']] #создадим два датафрейма education_id и family_status_id\n",
    "family_status_id = data[['family_status', 'family_status_id']]\n",
    "\n",
    "data.drop('education', axis=1, inplace=True) #удалим столбцы education и family_status из исходного датафрейма\n",
    "data.drop('family_status', axis=1, inplace=True)"
   ]
  },
  {
   "cell_type": "markdown",
   "id": "14c38470",
   "metadata": {},
   "source": [
    "##### Разобъем заемщиков по категориям, исходя из уровня дохода"
   ]
  },
  {
   "cell_type": "code",
   "execution_count": 36,
   "id": "d2474a60",
   "metadata": {
    "scrolled": false
   },
   "outputs": [],
   "source": [
    "def income_category(row):\n",
    "    if row['total_income'] <= 30000: #Категоризириуем данные столбца с уровнем дохода заемщика\n",
    "        return 'E'\n",
    "    if row['total_income'] <= 50000:\n",
    "        return 'D'\n",
    "    if row['total_income'] <= 200000:\n",
    "        return 'C'\n",
    "    if row['total_income'] <= 1000000:\n",
    "        return 'B'\n",
    "    return 'A' \n",
    "\n",
    "data['total_income_category'] = data.apply(income_category, axis=1)"
   ]
  },
  {
   "cell_type": "markdown",
   "id": "f69044ee",
   "metadata": {},
   "source": [
    "#### Также по целям кредитования"
   ]
  },
  {
   "cell_type": "code",
   "execution_count": 37,
   "id": "4febb997",
   "metadata": {},
   "outputs": [],
   "source": [
    "def purpose_category(row):\n",
    "    if 'авто' in row['purpose']: #Категоризириуем данные столбца с целями кредитования\n",
    "        return 'операции с автомобилем'\n",
    "    if 'недвиж' in row['purpose']:\n",
    "        return 'операции с недвижимостью'\n",
    "    if 'жил' in row['purpose']:\n",
    "        return 'операции с недвижимостью'\n",
    "    if 'свадьб' in row['purpose']:\n",
    "        return 'проведение свадьбы'\n",
    "    if 'образов' in row['purpose']:\n",
    "        return 'получение образования'\n",
    "\n",
    "data['purpose_category'] = data.apply(purpose_category, axis=1)"
   ]
  },
  {
   "cell_type": "markdown",
   "id": "2c278240",
   "metadata": {},
   "source": [
    "### Проверяем гипотезы"
   ]
  },
  {
   "cell_type": "markdown",
   "id": "42f92e2b",
   "metadata": {},
   "source": [
    "#### Зависимость возвратов кредита от количества детей"
   ]
  },
  {
   "cell_type": "code",
   "execution_count": 38,
   "id": "84eb8c80",
   "metadata": {
    "scrolled": true
   },
   "outputs": [
    {
     "data": {
      "text/html": [
       "<div>\n",
       "<style scoped>\n",
       "    .dataframe tbody tr th:only-of-type {\n",
       "        vertical-align: middle;\n",
       "    }\n",
       "\n",
       "    .dataframe tbody tr th {\n",
       "        vertical-align: top;\n",
       "    }\n",
       "\n",
       "    .dataframe thead tr th {\n",
       "        text-align: left;\n",
       "    }\n",
       "\n",
       "    .dataframe thead tr:last-of-type th {\n",
       "        text-align: right;\n",
       "    }\n",
       "</style>\n",
       "<table border=\"1\" class=\"dataframe\">\n",
       "  <thead>\n",
       "    <tr>\n",
       "      <th></th>\n",
       "      <th>sum</th>\n",
       "      <th>count</th>\n",
       "      <th>children_ratio</th>\n",
       "    </tr>\n",
       "    <tr>\n",
       "      <th></th>\n",
       "      <th>debt</th>\n",
       "      <th>debt</th>\n",
       "      <th></th>\n",
       "    </tr>\n",
       "    <tr>\n",
       "      <th>children</th>\n",
       "      <th></th>\n",
       "      <th></th>\n",
       "      <th></th>\n",
       "    </tr>\n",
       "  </thead>\n",
       "  <tbody>\n",
       "    <tr>\n",
       "      <th>0</th>\n",
       "      <td>892</td>\n",
       "      <td>10885</td>\n",
       "      <td>8.194763</td>\n",
       "    </tr>\n",
       "    <tr>\n",
       "      <th>1</th>\n",
       "      <td>430</td>\n",
       "      <td>4579</td>\n",
       "      <td>9.390697</td>\n",
       "    </tr>\n",
       "    <tr>\n",
       "      <th>2</th>\n",
       "      <td>192</td>\n",
       "      <td>2022</td>\n",
       "      <td>9.495549</td>\n",
       "    </tr>\n",
       "    <tr>\n",
       "      <th>3</th>\n",
       "      <td>26</td>\n",
       "      <td>322</td>\n",
       "      <td>8.074534</td>\n",
       "    </tr>\n",
       "    <tr>\n",
       "      <th>4</th>\n",
       "      <td>4</td>\n",
       "      <td>40</td>\n",
       "      <td>10.000000</td>\n",
       "    </tr>\n",
       "    <tr>\n",
       "      <th>5</th>\n",
       "      <td>0</td>\n",
       "      <td>9</td>\n",
       "      <td>0.000000</td>\n",
       "    </tr>\n",
       "  </tbody>\n",
       "</table>\n",
       "</div>"
      ],
      "text/plain": [
       "          sum  count children_ratio\n",
       "         debt   debt               \n",
       "children                           \n",
       "0         892  10885       8.194763\n",
       "1         430   4579       9.390697\n",
       "2         192   2022       9.495549\n",
       "3          26    322       8.074534\n",
       "4           4     40      10.000000\n",
       "5           0      9       0.000000"
      ]
     },
     "metadata": {},
     "output_type": "display_data"
    }
   ],
   "source": [
    "df_pivot_child = data.pivot_table(index='children', values='debt', aggfunc=['sum','count']) #создаем сводную таблицу по данным о количестве детей\n",
    "df_pivot_child.reset_index()\n",
    "df_pivot_child['children_ratio'] = df_pivot_child['sum'] / df_pivot_child['count'] * 100 # считаем долю проблемных займов по категориям\n",
    "\n",
    "display(df_pivot_child)"
   ]
  },
  {
   "cell_type": "code",
   "execution_count": 39,
   "id": "199efa8c",
   "metadata": {},
   "outputs": [
    {
     "data": {
      "text/html": [
       "<div>\n",
       "<style scoped>\n",
       "    .dataframe tbody tr th:only-of-type {\n",
       "        vertical-align: middle;\n",
       "    }\n",
       "\n",
       "    .dataframe tbody tr th {\n",
       "        vertical-align: top;\n",
       "    }\n",
       "\n",
       "    .dataframe thead th {\n",
       "        text-align: right;\n",
       "    }\n",
       "</style>\n",
       "<table border=\"1\" class=\"dataframe\">\n",
       "  <thead>\n",
       "    <tr style=\"text-align: right;\">\n",
       "      <th></th>\n",
       "      <th>count</th>\n",
       "      <th>sum</th>\n",
       "      <th>mean</th>\n",
       "    </tr>\n",
       "    <tr>\n",
       "      <th>children</th>\n",
       "      <th></th>\n",
       "      <th></th>\n",
       "      <th></th>\n",
       "    </tr>\n",
       "  </thead>\n",
       "  <tbody>\n",
       "    <tr>\n",
       "      <th>0</th>\n",
       "      <td>10885</td>\n",
       "      <td>892</td>\n",
       "      <td>0.081948</td>\n",
       "    </tr>\n",
       "    <tr>\n",
       "      <th>1</th>\n",
       "      <td>4579</td>\n",
       "      <td>430</td>\n",
       "      <td>0.093907</td>\n",
       "    </tr>\n",
       "    <tr>\n",
       "      <th>2</th>\n",
       "      <td>2022</td>\n",
       "      <td>192</td>\n",
       "      <td>0.094955</td>\n",
       "    </tr>\n",
       "    <tr>\n",
       "      <th>3</th>\n",
       "      <td>322</td>\n",
       "      <td>26</td>\n",
       "      <td>0.080745</td>\n",
       "    </tr>\n",
       "    <tr>\n",
       "      <th>4</th>\n",
       "      <td>40</td>\n",
       "      <td>4</td>\n",
       "      <td>0.100000</td>\n",
       "    </tr>\n",
       "    <tr>\n",
       "      <th>5</th>\n",
       "      <td>9</td>\n",
       "      <td>0</td>\n",
       "      <td>0.000000</td>\n",
       "    </tr>\n",
       "  </tbody>\n",
       "</table>\n",
       "</div>"
      ],
      "text/plain": [
       "          count  sum      mean\n",
       "children                      \n",
       "0         10885  892  0.081948\n",
       "1          4579  430  0.093907\n",
       "2          2022  192  0.094955\n",
       "3           322   26  0.080745\n",
       "4            40    4  0.100000\n",
       "5             9    0  0.000000"
      ]
     },
     "execution_count": 39,
     "metadata": {},
     "output_type": "execute_result"
    }
   ],
   "source": [
    "data.groupby('children')['debt'].agg(['count','sum','mean'])"
   ]
  },
  {
   "cell_type": "code",
   "execution_count": 40,
   "id": "cfd116b8",
   "metadata": {},
   "outputs": [
    {
     "data": {
      "text/html": [
       "<div>\n",
       "<style scoped>\n",
       "    .dataframe tbody tr th:only-of-type {\n",
       "        vertical-align: middle;\n",
       "    }\n",
       "\n",
       "    .dataframe tbody tr th {\n",
       "        vertical-align: top;\n",
       "    }\n",
       "\n",
       "    .dataframe thead th {\n",
       "        text-align: right;\n",
       "    }\n",
       "</style>\n",
       "<table border=\"1\" class=\"dataframe\">\n",
       "  <thead>\n",
       "    <tr style=\"text-align: right;\">\n",
       "      <th></th>\n",
       "      <th>count</th>\n",
       "      <th>sum</th>\n",
       "      <th>my_mean</th>\n",
       "    </tr>\n",
       "    <tr>\n",
       "      <th>children</th>\n",
       "      <th></th>\n",
       "      <th></th>\n",
       "      <th></th>\n",
       "    </tr>\n",
       "  </thead>\n",
       "  <tbody>\n",
       "    <tr>\n",
       "      <th>0</th>\n",
       "      <td>10885</td>\n",
       "      <td>892</td>\n",
       "      <td>8.194763</td>\n",
       "    </tr>\n",
       "    <tr>\n",
       "      <th>1</th>\n",
       "      <td>4579</td>\n",
       "      <td>430</td>\n",
       "      <td>9.390697</td>\n",
       "    </tr>\n",
       "    <tr>\n",
       "      <th>2</th>\n",
       "      <td>2022</td>\n",
       "      <td>192</td>\n",
       "      <td>9.495549</td>\n",
       "    </tr>\n",
       "    <tr>\n",
       "      <th>3</th>\n",
       "      <td>322</td>\n",
       "      <td>26</td>\n",
       "      <td>8.074534</td>\n",
       "    </tr>\n",
       "    <tr>\n",
       "      <th>4</th>\n",
       "      <td>40</td>\n",
       "      <td>4</td>\n",
       "      <td>10.000000</td>\n",
       "    </tr>\n",
       "    <tr>\n",
       "      <th>5</th>\n",
       "      <td>9</td>\n",
       "      <td>0</td>\n",
       "      <td>0.000000</td>\n",
       "    </tr>\n",
       "  </tbody>\n",
       "</table>\n",
       "</div>"
      ],
      "text/plain": [
       "          count  sum    my_mean\n",
       "children                       \n",
       "0         10885  892   8.194763\n",
       "1          4579  430   9.390697\n",
       "2          2022  192   9.495549\n",
       "3           322   26   8.074534\n",
       "4            40    4  10.000000\n",
       "5             9    0   0.000000"
      ]
     },
     "execution_count": 40,
     "metadata": {},
     "output_type": "execute_result"
    }
   ],
   "source": [
    "def my_mean(x): return x.mean()*100\n",
    "\n",
    "# В кач-ве агрегирования можно любую функцию брать.\n",
    "data.groupby('children')['debt'].agg(['count', 'sum', my_mean])"
   ]
  },
  {
   "cell_type": "code",
   "execution_count": 41,
   "id": "558e7880",
   "metadata": {},
   "outputs": [
    {
     "data": {
      "text/html": [
       "<div>\n",
       "<style scoped>\n",
       "    .dataframe tbody tr th:only-of-type {\n",
       "        vertical-align: middle;\n",
       "    }\n",
       "\n",
       "    .dataframe tbody tr th {\n",
       "        vertical-align: top;\n",
       "    }\n",
       "\n",
       "    .dataframe thead th {\n",
       "        text-align: right;\n",
       "    }\n",
       "</style>\n",
       "<table border=\"1\" class=\"dataframe\">\n",
       "  <thead>\n",
       "    <tr style=\"text-align: right;\">\n",
       "      <th></th>\n",
       "      <th>count</th>\n",
       "      <th>sum</th>\n",
       "      <th>my_mean</th>\n",
       "    </tr>\n",
       "    <tr>\n",
       "      <th>children</th>\n",
       "      <th></th>\n",
       "      <th></th>\n",
       "      <th></th>\n",
       "    </tr>\n",
       "  </thead>\n",
       "  <tbody>\n",
       "    <tr>\n",
       "      <th>0</th>\n",
       "      <td>10885</td>\n",
       "      <td>892</td>\n",
       "      <td>8.19%</td>\n",
       "    </tr>\n",
       "    <tr>\n",
       "      <th>1</th>\n",
       "      <td>4579</td>\n",
       "      <td>430</td>\n",
       "      <td>9.39%</td>\n",
       "    </tr>\n",
       "    <tr>\n",
       "      <th>2</th>\n",
       "      <td>2022</td>\n",
       "      <td>192</td>\n",
       "      <td>9.50%</td>\n",
       "    </tr>\n",
       "    <tr>\n",
       "      <th>3</th>\n",
       "      <td>322</td>\n",
       "      <td>26</td>\n",
       "      <td>8.07%</td>\n",
       "    </tr>\n",
       "    <tr>\n",
       "      <th>4</th>\n",
       "      <td>40</td>\n",
       "      <td>4</td>\n",
       "      <td>10.00%</td>\n",
       "    </tr>\n",
       "    <tr>\n",
       "      <th>5</th>\n",
       "      <td>9</td>\n",
       "      <td>0</td>\n",
       "      <td>0.00%</td>\n",
       "    </tr>\n",
       "  </tbody>\n",
       "</table>\n",
       "</div>"
      ],
      "text/plain": [
       "          count  sum  my_mean\n",
       "children                     \n",
       "0         10885  892   8.19% \n",
       "1          4579  430   9.39% \n",
       "2          2022  192   9.50% \n",
       "3           322   26   8.07% \n",
       "4            40    4  10.00% \n",
       "5             9    0   0.00% "
      ]
     },
     "execution_count": 41,
     "metadata": {},
     "output_type": "execute_result"
    }
   ],
   "source": [
    "def my_mean(x): return '{:.2%} '.format(x.mean())\n",
    "\n",
    "data.groupby('children')['debt'].agg(['count', 'sum', my_mean])"
   ]
  },
  {
   "cell_type": "markdown",
   "id": "983cd786",
   "metadata": {},
   "source": [
    "<div class=\"alert alert-success\" role=\"alert\">\n",
    "\n",
    "- Самая большая доля заемщиков не имеющих детей, от общей выборки более 60%\n",
    "- Выборка заемщиков с 4 и 5 детьми крайне мала и ее процент возвратности мы не учитываем.\n",
    "- Процент возвратности примерно одинаков, разница не более 2%. Но если учесть еще объем кредитования в денежном выражении. Разница даже в 1% может быть значительной.\n",
    "\n",
    "Вывод: возвратность кредита от количества детей у заемщика варьируется в пределах 3%. При этом рост на 1% при наличии 1 и 2 детей возможно связан с:\n",
    "    \n",
    "- заемщики в этой категории чаще моложе и доходы в этом возрасте менее стабильны\n",
    "- расходы значительно возрастают с появлением ребенка, при этом возможность использования материнского капитала для их снижения используется через 3 и более лет\n",
    "- семьи с 3 и более детей чаще более зрелые и стабильные, в т.ч. относительно доходов\n",
    "- заемщики, не имеющие детей, составляют наибольшую долю от общего числа заемщиков и явно больше других пользуются кредитными продуктами.\n",
    "\n",
    "</div>"
   ]
  },
  {
   "cell_type": "markdown",
   "id": "f9b8d35c",
   "metadata": {},
   "source": [
    "</p>.<span style=\"color:green\">\n",
    "    Зависимость возвратов кредита от семейного положения\n",
    "    </span>"
   ]
  },
  {
   "cell_type": "code",
   "execution_count": 42,
   "id": "0e7961af",
   "metadata": {
    "scrolled": true
   },
   "outputs": [
    {
     "data": {
      "text/html": [
       "<div>\n",
       "<style scoped>\n",
       "    .dataframe tbody tr th:only-of-type {\n",
       "        vertical-align: middle;\n",
       "    }\n",
       "\n",
       "    .dataframe tbody tr th {\n",
       "        vertical-align: top;\n",
       "    }\n",
       "\n",
       "    .dataframe thead th {\n",
       "        text-align: right;\n",
       "    }\n",
       "</style>\n",
       "<table border=\"1\" class=\"dataframe\">\n",
       "  <thead>\n",
       "    <tr style=\"text-align: right;\">\n",
       "      <th></th>\n",
       "      <th>family_status</th>\n",
       "      <th>family_status_id</th>\n",
       "      <th>sum_debt</th>\n",
       "      <th>count_debt</th>\n",
       "      <th>family_status_ratio</th>\n",
       "    </tr>\n",
       "  </thead>\n",
       "  <tbody>\n",
       "    <tr>\n",
       "      <th>0</th>\n",
       "      <td>женат / замужем</td>\n",
       "      <td>0</td>\n",
       "      <td>826</td>\n",
       "      <td>10381</td>\n",
       "      <td>7.956844</td>\n",
       "    </tr>\n",
       "    <tr>\n",
       "      <th>1</th>\n",
       "      <td>гражданский брак</td>\n",
       "      <td>1</td>\n",
       "      <td>354</td>\n",
       "      <td>3542</td>\n",
       "      <td>9.994353</td>\n",
       "    </tr>\n",
       "    <tr>\n",
       "      <th>2</th>\n",
       "      <td>в разводе</td>\n",
       "      <td>3</td>\n",
       "      <td>73</td>\n",
       "      <td>986</td>\n",
       "      <td>7.403651</td>\n",
       "    </tr>\n",
       "    <tr>\n",
       "      <th>3</th>\n",
       "      <td>не женат / не замужем</td>\n",
       "      <td>4</td>\n",
       "      <td>260</td>\n",
       "      <td>2476</td>\n",
       "      <td>10.500808</td>\n",
       "    </tr>\n",
       "    <tr>\n",
       "      <th>4</th>\n",
       "      <td>вдовец / вдова</td>\n",
       "      <td>2</td>\n",
       "      <td>31</td>\n",
       "      <td>472</td>\n",
       "      <td>6.567797</td>\n",
       "    </tr>\n",
       "  </tbody>\n",
       "</table>\n",
       "</div>"
      ],
      "text/plain": [
       "           family_status  family_status_id  sum_debt  count_debt  \\\n",
       "0        женат / замужем                 0       826       10381   \n",
       "1       гражданский брак                 1       354        3542   \n",
       "2              в разводе                 3        73         986   \n",
       "3  не женат / не замужем                 4       260        2476   \n",
       "4         вдовец / вдова                 2        31         472   \n",
       "\n",
       "   family_status_ratio  \n",
       "0             7.956844  \n",
       "1             9.994353  \n",
       "2             7.403651  \n",
       "3            10.500808  \n",
       "4             6.567797  "
      ]
     },
     "metadata": {},
     "output_type": "display_data"
    }
   ],
   "source": [
    "df_pivot_family_st = data.pivot_table(index='family_status_id', values='debt', aggfunc=['sum', 'count']) #создаем сводную таблицу по данным о семейном положении\n",
    "\n",
    "\n",
    "df_pivot_family_st.columns = ['sum_debt', 'count_debt']\n",
    "df_pivot_family_st = df_pivot_family_st.reset_index()\n",
    "df_pivot_family_st['family_status_ratio'] = df_pivot_family_st['sum_debt'] / df_pivot_family_st['count_debt'] * 100 # считаем долю проблемных займов по категориям\n",
    "family_status_id = family_status_id.drop_duplicates()\n",
    "df_pivot_family_st = family_status_id.merge(df_pivot_family_st, how = 'outer', left_on='family_status_id', right_on='family_status_id') #объединяем датафрейм с таблицей со значениями family_status_id\n",
    "\n",
    "\n",
    "display(df_pivot_family_st)\n"
   ]
  },
  {
   "cell_type": "markdown",
   "id": "7cace2fb",
   "metadata": {},
   "source": [
    "<div class=\"alert alert-success\" role=\"alert\">\n",
    "\n",
    "- Среди заемщиков больше всего женатых, от общей выборки более 60%, при этом в данной категории наименьший процент проблемных займов (если учесть количество заемщиков и не учитывать категорию \"вдовцов\")\n",
    "- Наибольший процент невозвратности наблюдается у неженатых, и живущих в гражданском браке\n",
    "- Разница в показателях заметна около 4%\n",
    "- Банк выдает женатым в 2 раза больше кредитов, чем неженатым.\n",
    "    \n",
    "Вывод: зависимость доли проблемных займов от общей наблюдается. Женатые, в разводе и вдовцы имеют меньше проблем с кредитами, чем неженатые. Возможные причины:\n",
    "    \n",
    "- Женатые, в разводе и вдовцы более ответственные в распределении своих бюджетов и в обязательствах перед Банком\n",
    "- Также у последних более стабильны: отношение к источникам своих доходов и семейные бюджеты\n",
    "\n",
    "</div>"
   ]
  },
  {
   "cell_type": "markdown",
   "id": "c7066f07",
   "metadata": {},
   "source": [
    "#### Зависимость возвратности кредита от уровня дохода заемщика (А - самый высокий, Е - самый низкий)"
   ]
  },
  {
   "cell_type": "code",
   "execution_count": 43,
   "id": "9dcb9efa",
   "metadata": {
    "scrolled": true
   },
   "outputs": [
    {
     "data": {
      "text/html": [
       "<div>\n",
       "<style scoped>\n",
       "    .dataframe tbody tr th:only-of-type {\n",
       "        vertical-align: middle;\n",
       "    }\n",
       "\n",
       "    .dataframe tbody tr th {\n",
       "        vertical-align: top;\n",
       "    }\n",
       "\n",
       "    .dataframe thead tr th {\n",
       "        text-align: left;\n",
       "    }\n",
       "\n",
       "    .dataframe thead tr:last-of-type th {\n",
       "        text-align: right;\n",
       "    }\n",
       "</style>\n",
       "<table border=\"1\" class=\"dataframe\">\n",
       "  <thead>\n",
       "    <tr>\n",
       "      <th></th>\n",
       "      <th>sum</th>\n",
       "      <th>count</th>\n",
       "      <th>total_income_ratio</th>\n",
       "    </tr>\n",
       "    <tr>\n",
       "      <th></th>\n",
       "      <th>debt</th>\n",
       "      <th>debt</th>\n",
       "      <th></th>\n",
       "    </tr>\n",
       "    <tr>\n",
       "      <th>total_income_category</th>\n",
       "      <th></th>\n",
       "      <th></th>\n",
       "      <th></th>\n",
       "    </tr>\n",
       "  </thead>\n",
       "  <tbody>\n",
       "    <tr>\n",
       "      <th>A</th>\n",
       "      <td>2</td>\n",
       "      <td>25</td>\n",
       "      <td>8.000000</td>\n",
       "    </tr>\n",
       "    <tr>\n",
       "      <th>B</th>\n",
       "      <td>322</td>\n",
       "      <td>4447</td>\n",
       "      <td>7.240837</td>\n",
       "    </tr>\n",
       "    <tr>\n",
       "      <th>C</th>\n",
       "      <td>1206</td>\n",
       "      <td>13194</td>\n",
       "      <td>9.140518</td>\n",
       "    </tr>\n",
       "    <tr>\n",
       "      <th>D</th>\n",
       "      <td>14</td>\n",
       "      <td>184</td>\n",
       "      <td>7.608696</td>\n",
       "    </tr>\n",
       "    <tr>\n",
       "      <th>E</th>\n",
       "      <td>0</td>\n",
       "      <td>7</td>\n",
       "      <td>0.000000</td>\n",
       "    </tr>\n",
       "  </tbody>\n",
       "</table>\n",
       "</div>"
      ],
      "text/plain": [
       "                        sum  count total_income_ratio\n",
       "                       debt   debt                   \n",
       "total_income_category                                \n",
       "A                         2     25           8.000000\n",
       "B                       322   4447           7.240837\n",
       "C                      1206  13194           9.140518\n",
       "D                        14    184           7.608696\n",
       "E                         0      7           0.000000"
      ]
     },
     "metadata": {},
     "output_type": "display_data"
    }
   ],
   "source": [
    "df_pivot_income = data.pivot_table(index='total_income_category', values='debt', aggfunc=['sum', 'count']) #создаем сводную таблицу по данным о доходах заемщиков\n",
    "\n",
    "df_pivot_income.reset_index()\n",
    "df_pivot_income['total_income_ratio'] = df_pivot_income['sum'] / df_pivot_income['count'] * 100 # считаем долю проблемных займов по категориям\n",
    "\n",
    "display(df_pivot_income)"
   ]
  },
  {
   "cell_type": "markdown",
   "id": "2aaf6972",
   "metadata": {},
   "source": [
    "<div class=\"alert alert-success\" role=\"alert\">\n",
    "\n",
    "- Самая большая доля заемщиков категории \"С\"(со средним доходом), от общей выборки более 70%, при этом в данной категории наибольший процент проблемных займов.\n",
    "- Выборка заемщиков категории \"E\"(с низким доходом) крайне мала и ее процент возвратности мы не учитываем.\n",
    "- Процент возвратности примерно одинаков, разница менее 2% незначительна\n",
    "    \n",
    "    \n",
    "Вывод: на первый вгляд возвратность кредита от уровня дохода заемщика незначительна. Однако данные по категории заемщиков со средним доходом говорят, что это наиболее проблемные заемщики. Возможные причины:\n",
    "    \n",
    "- их больше всего в кредитном портфеле Банка\n",
    "- их кредитные лимиты довольно большие, что чаще негативно влияет на кредитную нагрузку заемщика\n",
    "- данная категория уровня доходов наиболее нестабильная в своем диапазоне\n",
    "\n",
    "</div>"
   ]
  },
  {
   "cell_type": "markdown",
   "id": "bd0ce0f3",
   "metadata": {},
   "source": [
    "#### Зависимость возвратности кредита от целей кредитования"
   ]
  },
  {
   "cell_type": "code",
   "execution_count": 44,
   "id": "27cd8c9b",
   "metadata": {
    "scrolled": true
   },
   "outputs": [
    {
     "data": {
      "text/html": [
       "<div>\n",
       "<style scoped>\n",
       "    .dataframe tbody tr th:only-of-type {\n",
       "        vertical-align: middle;\n",
       "    }\n",
       "\n",
       "    .dataframe tbody tr th {\n",
       "        vertical-align: top;\n",
       "    }\n",
       "\n",
       "    .dataframe thead tr th {\n",
       "        text-align: left;\n",
       "    }\n",
       "\n",
       "    .dataframe thead tr:last-of-type th {\n",
       "        text-align: right;\n",
       "    }\n",
       "</style>\n",
       "<table border=\"1\" class=\"dataframe\">\n",
       "  <thead>\n",
       "    <tr>\n",
       "      <th></th>\n",
       "      <th>sum</th>\n",
       "      <th>count</th>\n",
       "      <th>purpose_ratio</th>\n",
       "    </tr>\n",
       "    <tr>\n",
       "      <th></th>\n",
       "      <th>debt</th>\n",
       "      <th>debt</th>\n",
       "      <th></th>\n",
       "    </tr>\n",
       "    <tr>\n",
       "      <th>purpose_category</th>\n",
       "      <th></th>\n",
       "      <th></th>\n",
       "      <th></th>\n",
       "    </tr>\n",
       "  </thead>\n",
       "  <tbody>\n",
       "    <tr>\n",
       "      <th>операции с автомобилем</th>\n",
       "      <td>356</td>\n",
       "      <td>3559</td>\n",
       "      <td>10.002810</td>\n",
       "    </tr>\n",
       "    <tr>\n",
       "      <th>операции с недвижимостью</th>\n",
       "      <td>699</td>\n",
       "      <td>9039</td>\n",
       "      <td>7.733156</td>\n",
       "    </tr>\n",
       "    <tr>\n",
       "      <th>получение образования</th>\n",
       "      <td>327</td>\n",
       "      <td>3332</td>\n",
       "      <td>9.813926</td>\n",
       "    </tr>\n",
       "    <tr>\n",
       "      <th>проведение свадьбы</th>\n",
       "      <td>162</td>\n",
       "      <td>1927</td>\n",
       "      <td>8.406850</td>\n",
       "    </tr>\n",
       "  </tbody>\n",
       "</table>\n",
       "</div>"
      ],
      "text/plain": [
       "                          sum count purpose_ratio\n",
       "                         debt  debt              \n",
       "purpose_category                                 \n",
       "операции с автомобилем    356  3559     10.002810\n",
       "операции с недвижимостью  699  9039      7.733156\n",
       "получение образования     327  3332      9.813926\n",
       "проведение свадьбы        162  1927      8.406850"
      ]
     },
     "metadata": {},
     "output_type": "display_data"
    }
   ],
   "source": [
    "df_pivot_purpose = data.pivot_table(index='purpose_category', values='debt', aggfunc=['sum', 'count']) #создаем сводную таблицу по данным о целях кредитования заемщиков\n",
    "\n",
    "df_pivot_purpose.reset_index()\n",
    "df_pivot_purpose['purpose_ratio'] = df_pivot_purpose['sum'] / df_pivot_purpose['count'] * 100 # считаем долю проблемных займов по категориям\n",
    "\n",
    "display(df_pivot_purpose)"
   ]
  },
  {
   "cell_type": "markdown",
   "id": "3d56e5f5",
   "metadata": {},
   "source": [
    "<div class=\"alert alert-success\" role=\"alert\">\n",
    "\n",
    "- Самая большая доля заемщиков в категории \"Операции с недвижимостью\", от общей выборки около 50%\n",
    "- При этом в категории \"Операции с недвижимостью\" наименьшая доля проблемных займов.\n",
    "- Найбольшая доля проблемных кредитов в категориях \"Операции с автомобилем\" и \"Получение образования\"\n",
    "\n",
    "Выводы:\n",
    "    \n",
    "- доля кредитного портфеля на категории \"Операции с автомобилем\" и \"Получение образования\" составляет чуть более 30% и имеет наибольший процент проблемных займов, хоть и незначительный.\n",
    "    \n",
    "Возможно это связано с влиянием на уровень расходов заемщика после получения кредита:\n",
    "    \n",
    "- после приобретения авто значительно возрастают расходы на топливо, обслуживание и страхование автомобиля, помимо платежей по кредиту\n",
    "- получение образования обычно занимает много времени, т.е. от повышения\\смены квалификации доход приходит нескоро, если вообще приходит. Плюс если заемщик берет кредит на собственное обучение, то это значительно повышает нагрузку на его работоспособность и ресурсоемкость, соответственно у последних чаще возникают нестабильность и форс-мажорные ситуации.\n",
    "    \n",
    "Меньший процент невозвратности по другим категориям возможен по причинам:\n",
    "    \n",
    "- \"операции с недвижимостью\" часто снижают расходы заемщика (исключая аренду жилья при приобретении своего, плюс у заемщика больше мотивации выкупать свое жилье, а не арендовать, займы на ремонт менее проблемны из-за сумм и размеров платежей)\n",
    "- \"проведение свадьбы\" часто подразумевает досрочный возврат значительной суммы кредита за счет подарков в виде денежных средств\n",
    "\n",
    "</div>"
   ]
  },
  {
   "cell_type": "markdown",
   "id": "732f0482",
   "metadata": {},
   "source": [
    "## Общий вывод:\n",
    "\n",
    "#### Вышеизложенные категории имеют незначительные влияния на возвратность кредита заемщиком, если их учитывать по отдельности.\n",
    "\n",
    "- заемщики без детей, за счет наибольшей доли в кредитном портфеле более 60%, можно назвать самыми проблемными, а с детьми более ответственными.\n",
    "\n",
    "- Банк выдает больше всего кредитов женатым, более 60% от общего числа заемщиков, и как показало исследование последние более ответственны к обязательствам по платежам. А неженатые и проживающие в гражданском браке менее ответственны.\n",
    "\n",
    "- по уровню дохода заемщики с высоким и низким доходом, несмотря на меньшую долю, более ответственны. Состоятельные чаще умеют управлять своими финансами, а люди с низким доходом часто имеют немного кредитов. А люди со средним доходом наиболее проблемные, т.к. чаще имеют много кредитов, соответственно бюджетом труднее управлять, плюс они составляют наибольший процент (более 70%) заемщиков как по числу, так и по объему кредитного портфеля.\n",
    "\n",
    "- исходя из целей кредитования наиболее проблемными, с совокупной долей от портфеля около 30%, являются приобретение автомобиля и образовательных услуг. А наиболее ответственными заемщики, приобретающие жилье, и планирующие свадьбу. При чем ипотечные займы самые значительные по объему.\n",
    "\n",
    "\n",
    "#### При совокупном применении всех категорий к заемщику и соответствующем анализе (с учетом сумм кредитных портфелей для каждой категории и их прибыльности), можно составить вполне показательный кредитный рейтинг для заемщиков."
   ]
  }
 ],
 "metadata": {
  "ExecuteTimeLog": [
   {
    "duration": 2850,
    "start_time": "2022-03-05T22:03:12.173Z"
   },
   {
    "duration": -2954,
    "start_time": "2022-03-05T22:03:17.980Z"
   },
   {
    "duration": -2955,
    "start_time": "2022-03-05T22:03:17.981Z"
   },
   {
    "duration": -2956,
    "start_time": "2022-03-05T22:03:17.983Z"
   },
   {
    "duration": -2956,
    "start_time": "2022-03-05T22:03:17.984Z"
   },
   {
    "duration": -2956,
    "start_time": "2022-03-05T22:03:17.985Z"
   },
   {
    "duration": -2956,
    "start_time": "2022-03-05T22:03:17.986Z"
   },
   {
    "duration": -2955,
    "start_time": "2022-03-05T22:03:17.986Z"
   },
   {
    "duration": -2955,
    "start_time": "2022-03-05T22:03:17.987Z"
   },
   {
    "duration": -2955,
    "start_time": "2022-03-05T22:03:17.988Z"
   },
   {
    "duration": -2956,
    "start_time": "2022-03-05T22:03:17.989Z"
   },
   {
    "duration": -2958,
    "start_time": "2022-03-05T22:03:17.992Z"
   },
   {
    "duration": -2958,
    "start_time": "2022-03-05T22:03:17.993Z"
   },
   {
    "duration": -2958,
    "start_time": "2022-03-05T22:03:17.994Z"
   },
   {
    "duration": -2958,
    "start_time": "2022-03-05T22:03:17.995Z"
   },
   {
    "duration": -2957,
    "start_time": "2022-03-05T22:03:17.996Z"
   },
   {
    "duration": -2958,
    "start_time": "2022-03-05T22:03:17.997Z"
   },
   {
    "duration": -2994,
    "start_time": "2022-03-05T22:03:18.034Z"
   },
   {
    "duration": -2997,
    "start_time": "2022-03-05T22:03:18.038Z"
   },
   {
    "duration": -2997,
    "start_time": "2022-03-05T22:03:18.039Z"
   },
   {
    "duration": -2998,
    "start_time": "2022-03-05T22:03:18.041Z"
   },
   {
    "duration": -2998,
    "start_time": "2022-03-05T22:03:18.042Z"
   },
   {
    "duration": -2998,
    "start_time": "2022-03-05T22:03:18.043Z"
   },
   {
    "duration": -2998,
    "start_time": "2022-03-05T22:03:18.044Z"
   },
   {
    "duration": -2998,
    "start_time": "2022-03-05T22:03:18.045Z"
   },
   {
    "duration": -2998,
    "start_time": "2022-03-05T22:03:18.046Z"
   },
   {
    "duration": -2999,
    "start_time": "2022-03-05T22:03:18.047Z"
   },
   {
    "duration": 786,
    "start_time": "2022-03-06T08:56:56.823Z"
   },
   {
    "duration": 75,
    "start_time": "2022-03-06T09:06:45.394Z"
   },
   {
    "duration": 13,
    "start_time": "2022-03-06T09:06:45.472Z"
   },
   {
    "duration": 73,
    "start_time": "2022-03-06T09:06:45.488Z"
   },
   {
    "duration": 9,
    "start_time": "2022-03-06T09:06:45.564Z"
   },
   {
    "duration": 23,
    "start_time": "2022-03-06T09:06:45.575Z"
   },
   {
    "duration": 36,
    "start_time": "2022-03-06T09:06:45.601Z"
   },
   {
    "duration": 35,
    "start_time": "2022-03-06T09:06:45.640Z"
   },
   {
    "duration": 25,
    "start_time": "2022-03-06T09:06:45.679Z"
   },
   {
    "duration": 20,
    "start_time": "2022-03-06T09:06:45.707Z"
   },
   {
    "duration": 27,
    "start_time": "2022-03-06T09:06:45.729Z"
   },
   {
    "duration": 28,
    "start_time": "2022-03-06T09:06:45.758Z"
   },
   {
    "duration": 23,
    "start_time": "2022-03-06T09:06:45.788Z"
   },
   {
    "duration": 13,
    "start_time": "2022-03-06T09:06:45.814Z"
   },
   {
    "duration": 14,
    "start_time": "2022-03-06T09:06:45.829Z"
   },
   {
    "duration": 12,
    "start_time": "2022-03-06T09:06:45.846Z"
   },
   {
    "duration": 23,
    "start_time": "2022-03-06T09:06:45.860Z"
   },
   {
    "duration": 4,
    "start_time": "2022-03-06T09:06:45.886Z"
   },
   {
    "duration": 39,
    "start_time": "2022-03-06T09:06:45.893Z"
   },
   {
    "duration": 46,
    "start_time": "2022-03-06T09:06:45.934Z"
   },
   {
    "duration": 39,
    "start_time": "2022-03-06T09:06:45.983Z"
   },
   {
    "duration": 16,
    "start_time": "2022-03-06T09:06:46.025Z"
   },
   {
    "duration": 729,
    "start_time": "2022-03-06T09:06:46.044Z"
   },
   {
    "duration": 627,
    "start_time": "2022-03-06T09:06:46.777Z"
   },
   {
    "duration": 41,
    "start_time": "2022-03-06T09:06:47.406Z"
   },
   {
    "duration": 57,
    "start_time": "2022-03-06T09:06:47.449Z"
   },
   {
    "duration": 39,
    "start_time": "2022-03-06T09:06:47.508Z"
   },
   {
    "duration": 60,
    "start_time": "2022-03-06T09:06:47.549Z"
   },
   {
    "duration": 74,
    "start_time": "2022-03-06T09:09:09.266Z"
   },
   {
    "duration": 34,
    "start_time": "2022-03-06T09:09:09.344Z"
   },
   {
    "duration": 29,
    "start_time": "2022-03-06T09:09:09.382Z"
   },
   {
    "duration": 8,
    "start_time": "2022-03-06T09:09:09.414Z"
   },
   {
    "duration": 57,
    "start_time": "2022-03-06T09:09:09.424Z"
   },
   {
    "duration": 17,
    "start_time": "2022-03-06T09:09:09.484Z"
   },
   {
    "duration": 12,
    "start_time": "2022-03-06T09:09:09.503Z"
   },
   {
    "duration": 4,
    "start_time": "2022-03-06T09:09:09.519Z"
   },
   {
    "duration": 8,
    "start_time": "2022-03-06T09:09:09.526Z"
   },
   {
    "duration": 6,
    "start_time": "2022-03-06T09:09:09.575Z"
   },
   {
    "duration": 7,
    "start_time": "2022-03-06T09:09:09.583Z"
   },
   {
    "duration": 6,
    "start_time": "2022-03-06T09:09:09.592Z"
   },
   {
    "duration": 7,
    "start_time": "2022-03-06T09:09:09.601Z"
   },
   {
    "duration": 12,
    "start_time": "2022-03-06T09:09:09.611Z"
   },
   {
    "duration": 12,
    "start_time": "2022-03-06T09:09:09.674Z"
   },
   {
    "duration": 16,
    "start_time": "2022-03-06T09:09:09.688Z"
   },
   {
    "duration": 6,
    "start_time": "2022-03-06T09:09:09.706Z"
   },
   {
    "duration": 31,
    "start_time": "2022-03-06T09:09:09.714Z"
   },
   {
    "duration": 25,
    "start_time": "2022-03-06T09:09:09.773Z"
   },
   {
    "duration": 39,
    "start_time": "2022-03-06T09:09:09.800Z"
   },
   {
    "duration": 39,
    "start_time": "2022-03-06T09:09:09.842Z"
   },
   {
    "duration": 716,
    "start_time": "2022-03-06T09:09:09.884Z"
   },
   {
    "duration": 640,
    "start_time": "2022-03-06T09:09:10.604Z"
   },
   {
    "duration": 47,
    "start_time": "2022-03-06T09:09:11.246Z"
   },
   {
    "duration": 42,
    "start_time": "2022-03-06T09:09:11.295Z"
   },
   {
    "duration": 66,
    "start_time": "2022-03-06T09:09:11.339Z"
   },
   {
    "duration": 40,
    "start_time": "2022-03-06T09:09:11.407Z"
   },
   {
    "duration": 68,
    "start_time": "2022-03-06T09:13:58.441Z"
   },
   {
    "duration": 12,
    "start_time": "2022-03-06T09:13:58.511Z"
   },
   {
    "duration": 49,
    "start_time": "2022-03-06T09:13:58.526Z"
   },
   {
    "duration": 6,
    "start_time": "2022-03-06T09:13:58.577Z"
   },
   {
    "duration": 14,
    "start_time": "2022-03-06T09:13:58.585Z"
   },
   {
    "duration": 21,
    "start_time": "2022-03-06T09:13:58.602Z"
   },
   {
    "duration": 12,
    "start_time": "2022-03-06T09:13:58.626Z"
   },
   {
    "duration": 5,
    "start_time": "2022-03-06T09:13:58.676Z"
   },
   {
    "duration": 7,
    "start_time": "2022-03-06T09:13:58.684Z"
   },
   {
    "duration": 10,
    "start_time": "2022-03-06T09:13:58.694Z"
   },
   {
    "duration": 9,
    "start_time": "2022-03-06T09:13:58.707Z"
   },
   {
    "duration": 10,
    "start_time": "2022-03-06T09:13:58.718Z"
   },
   {
    "duration": 7,
    "start_time": "2022-03-06T09:13:58.773Z"
   },
   {
    "duration": 20,
    "start_time": "2022-03-06T09:13:58.783Z"
   },
   {
    "duration": 11,
    "start_time": "2022-03-06T09:13:58.805Z"
   },
   {
    "duration": 18,
    "start_time": "2022-03-06T09:13:58.819Z"
   },
   {
    "duration": 33,
    "start_time": "2022-03-06T09:13:58.840Z"
   },
   {
    "duration": 25,
    "start_time": "2022-03-06T09:13:58.876Z"
   },
   {
    "duration": 28,
    "start_time": "2022-03-06T09:13:58.904Z"
   },
   {
    "duration": 65,
    "start_time": "2022-03-06T09:13:58.934Z"
   },
   {
    "duration": 15,
    "start_time": "2022-03-06T09:13:59.001Z"
   },
   {
    "duration": 733,
    "start_time": "2022-03-06T09:13:59.018Z"
   },
   {
    "duration": 623,
    "start_time": "2022-03-06T09:13:59.755Z"
   },
   {
    "duration": 40,
    "start_time": "2022-03-06T09:14:00.381Z"
   },
   {
    "duration": 71,
    "start_time": "2022-03-06T09:14:00.423Z"
   },
   {
    "duration": 38,
    "start_time": "2022-03-06T09:14:00.496Z"
   },
   {
    "duration": 63,
    "start_time": "2022-03-06T09:14:00.536Z"
   },
   {
    "duration": 67,
    "start_time": "2022-03-06T09:16:28.314Z"
   },
   {
    "duration": 12,
    "start_time": "2022-03-06T09:16:28.383Z"
   },
   {
    "duration": 23,
    "start_time": "2022-03-06T09:16:28.397Z"
   },
   {
    "duration": 6,
    "start_time": "2022-03-06T09:16:28.496Z"
   },
   {
    "duration": 5,
    "start_time": "2022-03-06T09:16:28.519Z"
   },
   {
    "duration": 17,
    "start_time": "2022-03-06T09:16:28.530Z"
   },
   {
    "duration": 12,
    "start_time": "2022-03-06T09:16:28.549Z"
   },
   {
    "duration": 11,
    "start_time": "2022-03-06T09:16:28.564Z"
   },
   {
    "duration": 6,
    "start_time": "2022-03-06T09:16:28.578Z"
   },
   {
    "duration": 7,
    "start_time": "2022-03-06T09:16:28.586Z"
   },
   {
    "duration": 8,
    "start_time": "2022-03-06T09:16:28.595Z"
   },
   {
    "duration": 9,
    "start_time": "2022-03-06T09:16:28.605Z"
   },
   {
    "duration": 56,
    "start_time": "2022-03-06T09:16:28.617Z"
   },
   {
    "duration": 12,
    "start_time": "2022-03-06T09:16:28.676Z"
   },
   {
    "duration": 11,
    "start_time": "2022-03-06T09:16:28.690Z"
   },
   {
    "duration": 15,
    "start_time": "2022-03-06T09:16:28.703Z"
   },
   {
    "duration": 5,
    "start_time": "2022-03-06T09:16:28.720Z"
   },
   {
    "duration": 61,
    "start_time": "2022-03-06T09:16:28.728Z"
   },
   {
    "duration": 28,
    "start_time": "2022-03-06T09:16:28.792Z"
   },
   {
    "duration": 63,
    "start_time": "2022-03-06T09:16:28.823Z"
   },
   {
    "duration": 14,
    "start_time": "2022-03-06T09:16:28.888Z"
   },
   {
    "duration": 748,
    "start_time": "2022-03-06T09:16:28.904Z"
   },
   {
    "duration": 640,
    "start_time": "2022-03-06T09:16:29.656Z"
   },
   {
    "duration": 42,
    "start_time": "2022-03-06T09:16:30.298Z"
   },
   {
    "duration": 64,
    "start_time": "2022-03-06T09:16:30.342Z"
   },
   {
    "duration": 39,
    "start_time": "2022-03-06T09:16:30.408Z"
   },
   {
    "duration": 62,
    "start_time": "2022-03-06T09:16:30.449Z"
   },
   {
    "duration": 78,
    "start_time": "2022-03-06T09:17:52.067Z"
   },
   {
    "duration": 29,
    "start_time": "2022-03-06T09:17:52.149Z"
   },
   {
    "duration": 22,
    "start_time": "2022-03-06T09:17:52.182Z"
   },
   {
    "duration": 7,
    "start_time": "2022-03-06T09:17:52.207Z"
   },
   {
    "duration": 10,
    "start_time": "2022-03-06T09:17:52.216Z"
   },
   {
    "duration": 56,
    "start_time": "2022-03-06T09:17:52.228Z"
   },
   {
    "duration": 13,
    "start_time": "2022-03-06T09:17:52.286Z"
   },
   {
    "duration": 6,
    "start_time": "2022-03-06T09:17:52.303Z"
   },
   {
    "duration": 5,
    "start_time": "2022-03-06T09:17:52.312Z"
   },
   {
    "duration": 6,
    "start_time": "2022-03-06T09:17:52.319Z"
   },
   {
    "duration": 51,
    "start_time": "2022-03-06T09:17:52.328Z"
   },
   {
    "duration": 8,
    "start_time": "2022-03-06T09:17:52.381Z"
   },
   {
    "duration": 7,
    "start_time": "2022-03-06T09:17:52.392Z"
   },
   {
    "duration": 12,
    "start_time": "2022-03-06T09:17:52.401Z"
   },
   {
    "duration": 65,
    "start_time": "2022-03-06T09:17:52.415Z"
   },
   {
    "duration": 17,
    "start_time": "2022-03-06T09:17:52.482Z"
   },
   {
    "duration": 4,
    "start_time": "2022-03-06T09:17:52.501Z"
   },
   {
    "duration": 27,
    "start_time": "2022-03-06T09:17:52.508Z"
   },
   {
    "duration": 55,
    "start_time": "2022-03-06T09:17:52.538Z"
   },
   {
    "duration": 38,
    "start_time": "2022-03-06T09:17:52.596Z"
   },
   {
    "duration": 46,
    "start_time": "2022-03-06T09:17:52.637Z"
   },
   {
    "duration": 1315,
    "start_time": "2022-03-06T09:17:52.686Z"
   },
   {
    "duration": 889,
    "start_time": "2022-03-06T09:17:54.007Z"
   },
   {
    "duration": 40,
    "start_time": "2022-03-06T09:17:54.898Z"
   },
   {
    "duration": 64,
    "start_time": "2022-03-06T09:17:54.941Z"
   },
   {
    "duration": 43,
    "start_time": "2022-03-06T09:17:55.007Z"
   },
   {
    "duration": 58,
    "start_time": "2022-03-06T09:17:55.052Z"
   },
   {
    "duration": 67,
    "start_time": "2022-03-06T09:18:28.078Z"
   },
   {
    "duration": 28,
    "start_time": "2022-03-06T09:18:28.148Z"
   },
   {
    "duration": 23,
    "start_time": "2022-03-06T09:18:28.179Z"
   },
   {
    "duration": 9,
    "start_time": "2022-03-06T09:18:28.205Z"
   },
   {
    "duration": 23,
    "start_time": "2022-03-06T09:18:28.216Z"
   },
   {
    "duration": 17,
    "start_time": "2022-03-06T09:18:28.273Z"
   },
   {
    "duration": 11,
    "start_time": "2022-03-06T09:18:28.292Z"
   },
   {
    "duration": 11,
    "start_time": "2022-03-06T09:18:28.305Z"
   },
   {
    "duration": 9,
    "start_time": "2022-03-06T09:18:28.320Z"
   },
   {
    "duration": 41,
    "start_time": "2022-03-06T09:18:28.333Z"
   },
   {
    "duration": 7,
    "start_time": "2022-03-06T09:18:28.377Z"
   },
   {
    "duration": 7,
    "start_time": "2022-03-06T09:18:28.386Z"
   },
   {
    "duration": 8,
    "start_time": "2022-03-06T09:18:28.396Z"
   },
   {
    "duration": 13,
    "start_time": "2022-03-06T09:18:28.406Z"
   },
   {
    "duration": 60,
    "start_time": "2022-03-06T09:18:28.421Z"
   },
   {
    "duration": 12,
    "start_time": "2022-03-06T09:18:28.483Z"
   },
   {
    "duration": 5,
    "start_time": "2022-03-06T09:18:28.497Z"
   },
   {
    "duration": 31,
    "start_time": "2022-03-06T09:18:28.504Z"
   },
   {
    "duration": 59,
    "start_time": "2022-03-06T09:18:28.538Z"
   },
   {
    "duration": 40,
    "start_time": "2022-03-06T09:18:28.600Z"
   },
   {
    "duration": 38,
    "start_time": "2022-03-06T09:18:28.642Z"
   },
   {
    "duration": 889,
    "start_time": "2022-03-06T09:18:28.684Z"
   },
   {
    "duration": 632,
    "start_time": "2022-03-06T09:18:29.575Z"
   },
   {
    "duration": 38,
    "start_time": "2022-03-06T09:18:30.209Z"
   },
   {
    "duration": 59,
    "start_time": "2022-03-06T09:18:30.249Z"
   },
   {
    "duration": 42,
    "start_time": "2022-03-06T09:18:30.310Z"
   },
   {
    "duration": 41,
    "start_time": "2022-03-06T09:18:30.373Z"
   },
   {
    "duration": 573,
    "start_time": "2022-03-06T19:25:23.186Z"
   },
   {
    "duration": 10,
    "start_time": "2022-03-06T19:25:23.761Z"
   },
   {
    "duration": 30,
    "start_time": "2022-03-06T19:25:23.774Z"
   },
   {
    "duration": 6,
    "start_time": "2022-03-06T19:25:23.806Z"
   },
   {
    "duration": 24,
    "start_time": "2022-03-06T19:25:23.814Z"
   },
   {
    "duration": 14,
    "start_time": "2022-03-06T19:25:23.839Z"
   },
   {
    "duration": 8,
    "start_time": "2022-03-06T19:25:23.855Z"
   },
   {
    "duration": 3,
    "start_time": "2022-03-06T19:25:23.865Z"
   },
   {
    "duration": 6,
    "start_time": "2022-03-06T19:25:23.871Z"
   },
   {
    "duration": 6,
    "start_time": "2022-03-06T19:25:23.879Z"
   },
   {
    "duration": 5,
    "start_time": "2022-03-06T19:25:23.887Z"
   },
   {
    "duration": 4,
    "start_time": "2022-03-06T19:25:23.894Z"
   },
   {
    "duration": 39,
    "start_time": "2022-03-06T19:25:23.899Z"
   },
   {
    "duration": 9,
    "start_time": "2022-03-06T19:25:23.940Z"
   },
   {
    "duration": 11,
    "start_time": "2022-03-06T19:25:23.951Z"
   },
   {
    "duration": 8,
    "start_time": "2022-03-06T19:25:23.964Z"
   },
   {
    "duration": 3,
    "start_time": "2022-03-06T19:25:23.973Z"
   },
   {
    "duration": 22,
    "start_time": "2022-03-06T19:25:23.978Z"
   },
   {
    "duration": 47,
    "start_time": "2022-03-06T19:25:24.002Z"
   },
   {
    "duration": 24,
    "start_time": "2022-03-06T19:25:24.051Z"
   },
   {
    "duration": 9,
    "start_time": "2022-03-06T19:25:24.076Z"
   },
   {
    "duration": 458,
    "start_time": "2022-03-06T19:25:24.087Z"
   },
   {
    "duration": 370,
    "start_time": "2022-03-06T19:25:24.546Z"
   },
   {
    "duration": 34,
    "start_time": "2022-03-06T19:25:24.918Z"
   },
   {
    "duration": 26,
    "start_time": "2022-03-06T19:25:24.954Z"
   },
   {
    "duration": 25,
    "start_time": "2022-03-06T19:25:24.982Z"
   },
   {
    "duration": 49,
    "start_time": "2022-03-06T19:25:25.010Z"
   },
   {
    "duration": 17,
    "start_time": "2022-03-06T19:28:04.335Z"
   },
   {
    "duration": 52,
    "start_time": "2022-03-06T19:28:10.386Z"
   },
   {
    "duration": 8,
    "start_time": "2022-03-06T19:28:10.439Z"
   },
   {
    "duration": 17,
    "start_time": "2022-03-06T19:28:10.449Z"
   },
   {
    "duration": 4,
    "start_time": "2022-03-06T19:28:10.468Z"
   },
   {
    "duration": 6,
    "start_time": "2022-03-06T19:28:10.473Z"
   },
   {
    "duration": 13,
    "start_time": "2022-03-06T19:28:10.480Z"
   },
   {
    "duration": 8,
    "start_time": "2022-03-06T19:28:10.494Z"
   },
   {
    "duration": 4,
    "start_time": "2022-03-06T19:28:10.537Z"
   },
   {
    "duration": 6,
    "start_time": "2022-03-06T19:28:10.543Z"
   },
   {
    "duration": 6,
    "start_time": "2022-03-06T19:28:10.550Z"
   },
   {
    "duration": 5,
    "start_time": "2022-03-06T19:28:10.558Z"
   },
   {
    "duration": 6,
    "start_time": "2022-03-06T19:28:10.565Z"
   },
   {
    "duration": 10,
    "start_time": "2022-03-06T19:28:10.572Z"
   },
   {
    "duration": 22,
    "start_time": "2022-03-06T19:28:13.519Z"
   },
   {
    "duration": 10,
    "start_time": "2022-03-06T19:28:18.255Z"
   },
   {
    "duration": 19,
    "start_time": "2022-03-06T19:28:20.838Z"
   },
   {
    "duration": 4,
    "start_time": "2022-03-06T19:30:41.350Z"
   },
   {
    "duration": 18,
    "start_time": "2022-03-06T19:32:15.383Z"
   },
   {
    "duration": 51,
    "start_time": "2022-03-06T19:32:20.906Z"
   },
   {
    "duration": 10,
    "start_time": "2022-03-06T19:32:20.959Z"
   },
   {
    "duration": 20,
    "start_time": "2022-03-06T19:32:20.971Z"
   },
   {
    "duration": 4,
    "start_time": "2022-03-06T19:32:20.994Z"
   },
   {
    "duration": 7,
    "start_time": "2022-03-06T19:32:21.000Z"
   },
   {
    "duration": 36,
    "start_time": "2022-03-06T19:32:21.009Z"
   },
   {
    "duration": 11,
    "start_time": "2022-03-06T19:32:21.047Z"
   },
   {
    "duration": 5,
    "start_time": "2022-03-06T19:32:21.061Z"
   },
   {
    "duration": 5,
    "start_time": "2022-03-06T19:32:21.068Z"
   },
   {
    "duration": 8,
    "start_time": "2022-03-06T19:32:21.074Z"
   },
   {
    "duration": 6,
    "start_time": "2022-03-06T19:32:21.083Z"
   },
   {
    "duration": 47,
    "start_time": "2022-03-06T19:32:21.091Z"
   },
   {
    "duration": 5,
    "start_time": "2022-03-06T19:32:21.139Z"
   },
   {
    "duration": 11,
    "start_time": "2022-03-06T19:32:21.146Z"
   },
   {
    "duration": 7,
    "start_time": "2022-03-06T19:32:21.159Z"
   },
   {
    "duration": 9,
    "start_time": "2022-03-06T19:32:21.168Z"
   },
   {
    "duration": 3,
    "start_time": "2022-03-06T19:32:21.179Z"
   },
   {
    "duration": 20,
    "start_time": "2022-03-06T19:32:21.183Z"
   },
   {
    "duration": 48,
    "start_time": "2022-03-06T19:32:21.204Z"
   },
   {
    "duration": 27,
    "start_time": "2022-03-06T19:32:21.254Z"
   },
   {
    "duration": 10,
    "start_time": "2022-03-06T19:32:21.283Z"
   },
   {
    "duration": 15,
    "start_time": "2022-03-06T19:32:23.022Z"
   },
   {
    "duration": 9,
    "start_time": "2022-03-06T19:32:28.094Z"
   },
   {
    "duration": 12,
    "start_time": "2022-03-06T19:34:36.499Z"
   },
   {
    "duration": 13,
    "start_time": "2022-03-06T19:34:40.547Z"
   },
   {
    "duration": 15,
    "start_time": "2022-03-06T19:34:44.448Z"
   },
   {
    "duration": 572,
    "start_time": "2022-03-14T14:15:57.183Z"
   },
   {
    "duration": 54,
    "start_time": "2022-03-14T14:15:57.757Z"
   },
   {
    "duration": 8,
    "start_time": "2022-03-14T14:15:57.814Z"
   },
   {
    "duration": 32,
    "start_time": "2022-03-14T14:15:57.824Z"
   },
   {
    "duration": 5,
    "start_time": "2022-03-14T14:15:57.858Z"
   },
   {
    "duration": 8,
    "start_time": "2022-03-14T14:15:57.865Z"
   },
   {
    "duration": 14,
    "start_time": "2022-03-14T14:15:57.875Z"
   },
   {
    "duration": 8,
    "start_time": "2022-03-14T14:15:57.892Z"
   },
   {
    "duration": 35,
    "start_time": "2022-03-14T14:15:57.903Z"
   },
   {
    "duration": 4,
    "start_time": "2022-03-14T14:15:57.940Z"
   },
   {
    "duration": 8,
    "start_time": "2022-03-14T14:15:57.946Z"
   },
   {
    "duration": 7,
    "start_time": "2022-03-14T14:15:57.956Z"
   },
   {
    "duration": 16,
    "start_time": "2022-03-14T14:15:57.965Z"
   },
   {
    "duration": 13,
    "start_time": "2022-03-14T14:15:57.983Z"
   },
   {
    "duration": 14,
    "start_time": "2022-03-14T14:15:57.998Z"
   },
   {
    "duration": 29,
    "start_time": "2022-03-14T14:15:58.014Z"
   },
   {
    "duration": 14,
    "start_time": "2022-03-14T14:15:58.045Z"
   },
   {
    "duration": 4,
    "start_time": "2022-03-14T14:15:58.061Z"
   },
   {
    "duration": 20,
    "start_time": "2022-03-14T14:15:58.067Z"
   },
   {
    "duration": 28,
    "start_time": "2022-03-14T14:15:58.089Z"
   },
   {
    "duration": 44,
    "start_time": "2022-03-14T14:15:58.119Z"
   },
   {
    "duration": 10,
    "start_time": "2022-03-14T14:15:58.165Z"
   },
   {
    "duration": 427,
    "start_time": "2022-03-14T14:15:58.179Z"
   },
   {
    "duration": 368,
    "start_time": "2022-03-14T14:15:58.608Z"
   },
   {
    "duration": 28,
    "start_time": "2022-03-14T14:15:58.977Z"
   },
   {
    "duration": 12,
    "start_time": "2022-03-14T14:15:59.007Z"
   },
   {
    "duration": 14,
    "start_time": "2022-03-14T14:15:59.037Z"
   },
   {
    "duration": 12,
    "start_time": "2022-03-14T14:15:59.053Z"
   },
   {
    "duration": 28,
    "start_time": "2022-03-14T14:15:59.067Z"
   },
   {
    "duration": 56,
    "start_time": "2022-03-14T14:15:59.097Z"
   },
   {
    "duration": 28,
    "start_time": "2022-03-14T14:15:59.155Z"
   },
   {
    "duration": 533,
    "start_time": "2022-03-15T11:29:46.300Z"
   },
   {
    "duration": 59,
    "start_time": "2022-03-15T11:29:46.835Z"
   },
   {
    "duration": 10,
    "start_time": "2022-03-15T11:29:46.896Z"
   },
   {
    "duration": 22,
    "start_time": "2022-03-15T11:29:46.908Z"
   },
   {
    "duration": 6,
    "start_time": "2022-03-15T11:29:46.932Z"
   },
   {
    "duration": 4,
    "start_time": "2022-03-15T11:29:46.958Z"
   },
   {
    "duration": 15,
    "start_time": "2022-03-15T11:29:46.964Z"
   },
   {
    "duration": 9,
    "start_time": "2022-03-15T11:29:46.980Z"
   },
   {
    "duration": 4,
    "start_time": "2022-03-15T11:29:46.991Z"
   },
   {
    "duration": 5,
    "start_time": "2022-03-15T11:29:46.997Z"
   },
   {
    "duration": 5,
    "start_time": "2022-03-15T11:29:47.004Z"
   },
   {
    "duration": 48,
    "start_time": "2022-03-15T11:29:47.011Z"
   },
   {
    "duration": 4,
    "start_time": "2022-03-15T11:29:47.061Z"
   },
   {
    "duration": 6,
    "start_time": "2022-03-15T11:29:47.067Z"
   },
   {
    "duration": 9,
    "start_time": "2022-03-15T11:29:47.074Z"
   },
   {
    "duration": 5,
    "start_time": "2022-03-15T11:29:47.085Z"
   },
   {
    "duration": 8,
    "start_time": "2022-03-15T11:29:47.091Z"
   },
   {
    "duration": 8,
    "start_time": "2022-03-15T11:29:47.101Z"
   },
   {
    "duration": 3,
    "start_time": "2022-03-15T11:29:47.111Z"
   },
   {
    "duration": 59,
    "start_time": "2022-03-15T11:29:47.116Z"
   },
   {
    "duration": 16,
    "start_time": "2022-03-15T11:29:47.176Z"
   },
   {
    "duration": 74,
    "start_time": "2022-03-15T11:29:47.194Z"
   },
   {
    "duration": 9,
    "start_time": "2022-03-15T11:29:47.269Z"
   },
   {
    "duration": 633,
    "start_time": "2022-03-15T11:29:47.280Z"
   },
   {
    "duration": 391,
    "start_time": "2022-03-15T11:29:47.915Z"
   },
   {
    "duration": 28,
    "start_time": "2022-03-15T11:29:48.307Z"
   },
   {
    "duration": 28,
    "start_time": "2022-03-15T11:29:48.338Z"
   },
   {
    "duration": 13,
    "start_time": "2022-03-15T11:29:48.368Z"
   },
   {
    "duration": 13,
    "start_time": "2022-03-15T11:29:48.382Z"
   },
   {
    "duration": 27,
    "start_time": "2022-03-15T11:29:48.397Z"
   },
   {
    "duration": 55,
    "start_time": "2022-03-15T11:29:48.426Z"
   },
   {
    "duration": 25,
    "start_time": "2022-03-15T11:29:48.483Z"
   },
   {
    "duration": 2,
    "start_time": "2022-03-15T11:30:27.294Z"
   },
   {
    "duration": 58,
    "start_time": "2022-03-15T11:30:27.298Z"
   },
   {
    "duration": 8,
    "start_time": "2022-03-15T11:30:27.358Z"
   },
   {
    "duration": 15,
    "start_time": "2022-03-15T11:30:27.368Z"
   },
   {
    "duration": 3,
    "start_time": "2022-03-15T11:30:27.385Z"
   },
   {
    "duration": 4,
    "start_time": "2022-03-15T11:30:27.390Z"
   },
   {
    "duration": 11,
    "start_time": "2022-03-15T11:30:27.396Z"
   },
   {
    "duration": 9,
    "start_time": "2022-03-15T11:30:27.408Z"
   },
   {
    "duration": 4,
    "start_time": "2022-03-15T11:30:27.419Z"
   },
   {
    "duration": 36,
    "start_time": "2022-03-15T11:30:27.424Z"
   },
   {
    "duration": 7,
    "start_time": "2022-03-15T11:30:27.462Z"
   },
   {
    "duration": 7,
    "start_time": "2022-03-15T11:30:27.470Z"
   },
   {
    "duration": 7,
    "start_time": "2022-03-15T11:30:27.478Z"
   },
   {
    "duration": 6,
    "start_time": "2022-03-15T11:30:27.486Z"
   },
   {
    "duration": 8,
    "start_time": "2022-03-15T11:30:27.493Z"
   },
   {
    "duration": 19,
    "start_time": "2022-03-15T11:30:30.178Z"
   },
   {
    "duration": 3,
    "start_time": "2022-03-15T11:34:03.014Z"
   },
   {
    "duration": 53,
    "start_time": "2022-03-15T11:34:03.018Z"
   },
   {
    "duration": 8,
    "start_time": "2022-03-15T11:34:03.073Z"
   },
   {
    "duration": 20,
    "start_time": "2022-03-15T11:34:03.083Z"
   },
   {
    "duration": 4,
    "start_time": "2022-03-15T11:34:03.104Z"
   },
   {
    "duration": 5,
    "start_time": "2022-03-15T11:34:03.110Z"
   },
   {
    "duration": 13,
    "start_time": "2022-03-15T11:34:03.116Z"
   },
   {
    "duration": 35,
    "start_time": "2022-03-15T11:34:03.131Z"
   },
   {
    "duration": 3,
    "start_time": "2022-03-15T11:34:03.168Z"
   },
   {
    "duration": 7,
    "start_time": "2022-03-15T11:34:03.173Z"
   },
   {
    "duration": 7,
    "start_time": "2022-03-15T11:34:03.181Z"
   },
   {
    "duration": 5,
    "start_time": "2022-03-15T11:34:03.190Z"
   },
   {
    "duration": 10,
    "start_time": "2022-03-15T11:34:03.197Z"
   },
   {
    "duration": 6,
    "start_time": "2022-03-15T11:34:03.208Z"
   },
   {
    "duration": 8,
    "start_time": "2022-03-15T11:34:03.216Z"
   },
   {
    "duration": 37,
    "start_time": "2022-03-15T11:34:03.225Z"
   },
   {
    "duration": 7,
    "start_time": "2022-03-15T11:34:03.264Z"
   },
   {
    "duration": 7,
    "start_time": "2022-03-15T11:34:03.273Z"
   },
   {
    "duration": 3,
    "start_time": "2022-03-15T11:34:03.282Z"
   },
   {
    "duration": 20,
    "start_time": "2022-03-15T11:34:03.286Z"
   },
   {
    "duration": 16,
    "start_time": "2022-03-15T11:34:03.307Z"
   },
   {
    "duration": 56,
    "start_time": "2022-03-15T11:34:03.324Z"
   },
   {
    "duration": 8,
    "start_time": "2022-03-15T11:34:03.383Z"
   },
   {
    "duration": 428,
    "start_time": "2022-03-15T11:34:03.392Z"
   },
   {
    "duration": 542,
    "start_time": "2022-03-15T11:34:03.822Z"
   },
   {
    "duration": 25,
    "start_time": "2022-03-15T11:34:04.366Z"
   },
   {
    "duration": 67,
    "start_time": "2022-03-15T11:34:04.392Z"
   },
   {
    "duration": 13,
    "start_time": "2022-03-15T11:34:04.461Z"
   },
   {
    "duration": 13,
    "start_time": "2022-03-15T11:34:04.476Z"
   },
   {
    "duration": 75,
    "start_time": "2022-03-15T11:34:04.490Z"
   },
   {
    "duration": 26,
    "start_time": "2022-03-15T11:34:04.567Z"
   },
   {
    "duration": 26,
    "start_time": "2022-03-15T11:34:04.595Z"
   },
   {
    "duration": 9,
    "start_time": "2022-03-15T11:34:08.786Z"
   },
   {
    "duration": 12,
    "start_time": "2022-03-15T11:35:06.917Z"
   },
   {
    "duration": 2,
    "start_time": "2022-03-15T11:35:38.961Z"
   },
   {
    "duration": 61,
    "start_time": "2022-03-15T11:35:38.965Z"
   },
   {
    "duration": 7,
    "start_time": "2022-03-15T11:35:39.028Z"
   },
   {
    "duration": 30,
    "start_time": "2022-03-15T11:35:39.037Z"
   },
   {
    "duration": 4,
    "start_time": "2022-03-15T11:35:39.068Z"
   },
   {
    "duration": 5,
    "start_time": "2022-03-15T11:35:39.074Z"
   },
   {
    "duration": 12,
    "start_time": "2022-03-15T11:35:39.080Z"
   },
   {
    "duration": 8,
    "start_time": "2022-03-15T11:35:39.093Z"
   },
   {
    "duration": 3,
    "start_time": "2022-03-15T11:35:39.104Z"
   },
   {
    "duration": 5,
    "start_time": "2022-03-15T11:35:39.108Z"
   },
   {
    "duration": 5,
    "start_time": "2022-03-15T11:35:39.114Z"
   },
   {
    "duration": 4,
    "start_time": "2022-03-15T11:35:39.160Z"
   },
   {
    "duration": 6,
    "start_time": "2022-03-15T11:35:39.166Z"
   },
   {
    "duration": 7,
    "start_time": "2022-03-15T11:35:39.173Z"
   },
   {
    "duration": 9,
    "start_time": "2022-03-15T11:35:39.181Z"
   },
   {
    "duration": 6,
    "start_time": "2022-03-15T11:35:39.191Z"
   },
   {
    "duration": 7,
    "start_time": "2022-03-15T11:35:39.199Z"
   },
   {
    "duration": 6,
    "start_time": "2022-03-15T11:35:39.208Z"
   },
   {
    "duration": 44,
    "start_time": "2022-03-15T11:35:39.216Z"
   },
   {
    "duration": 20,
    "start_time": "2022-03-15T11:35:39.262Z"
   },
   {
    "duration": 17,
    "start_time": "2022-03-15T11:35:39.284Z"
   },
   {
    "duration": 24,
    "start_time": "2022-03-15T11:35:39.303Z"
   },
   {
    "duration": 31,
    "start_time": "2022-03-15T11:35:39.329Z"
   },
   {
    "duration": 15,
    "start_time": "2022-03-15T11:35:39.362Z"
   },
   {
    "duration": 9,
    "start_time": "2022-03-15T11:36:10.488Z"
   }
  ],
  "kernelspec": {
   "display_name": "Python 3 (ipykernel)",
   "language": "python",
   "name": "python3"
  },
  "language_info": {
   "codemirror_mode": {
    "name": "ipython",
    "version": 3
   },
   "file_extension": ".py",
   "mimetype": "text/x-python",
   "name": "python",
   "nbconvert_exporter": "python",
   "pygments_lexer": "ipython3",
   "version": "3.9.7"
  },
  "toc": {
   "base_numbering": 1,
   "nav_menu": {},
   "number_sections": true,
   "sideBar": true,
   "skip_h1_title": true,
   "title_cell": "Table of Contents",
   "title_sidebar": "Contents",
   "toc_cell": false,
   "toc_position": {
    "height": "calc(100% - 180px)",
    "left": "10px",
    "top": "150px",
    "width": "292px"
   },
   "toc_section_display": true,
   "toc_window_display": true
  }
 },
 "nbformat": 4,
 "nbformat_minor": 5
}
