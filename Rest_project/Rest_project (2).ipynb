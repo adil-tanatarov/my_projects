{
 "cells": [
  {
   "cell_type": "markdown",
   "id": "f52b0a65",
   "metadata": {},
   "source": [
    "## **Комментарий ревьюера**\n",
    "\n",
    "Привет👋\n",
    "\n",
    "Меня зовут Кузьмич Валентин, и я буду проверять твой проект. Предлагаю сразу договориться общаться на «ты», если для тебя это не уместно, то дай, пожалуйста, знать, будем общаться на «вы».\n",
    "\n",
    "### **Краткое резюме по ревью**\n",
    "\n",
    "<div style=\"border-radius: 15px; box-shadow: 2px 2px 4px; border: 1px solid; background:Gainsboro; padding: 20px\">\n",
    "\n",
    "Видны твои старания при работе над данным проектом. Большинство основных этапов в работе сделано хорошо:\n",
    "- есть много сильных и интересных алгоритмов 🤩\n",
    "- очень красиво оформлен проект\n",
    "- качественно исследованы данные\n",
    "- построено много интересных графиков\n",
    "- сделано много верных промежуточных выводов, основанных на полученных данных\n",
    "- создана красивая и информативная презентация\n",
    "\n",
    "Твоего внимания требует:\n",
    "- дополнение предобработки данных\n",
    "- небольшое исправление графиков\n",
    "- пересмотр выводов\n",
    "- исправление презентации\n",
    "\n",
    "Я описал замечания в комментариях, которые помечены цветом(красным, желтым), после их доработки я смогу принять работу.\n",
    "    \n",
    "Спасибо тебе за твой труд! Я на все 100% уверен, что у тебя все получится, и с нетерпением буду ждать твою работу на повторное ревью 😉\n",
    "\n",
    "</div>\n",
    "\n",
    "### **Правила оформления:**\n",
    "\n",
    "По ходу тетрадки ты найдешь комментарии к проекту, они будут в отдельных ячейках Markdown с заголовком «Комментарий ревьюера». Постарайся учесть эти комментарии для дальнейших проектов. Я использую заголовки в комментариях, они изменят твое оглавление. Но тебе будет удобно перемещаться от комментария к комментарию. А перед перемещением проекта в портфолио просто уберешь данные комментарии.\n",
    "\n",
    "Пожалуйста, **не перемещай, не изменяй и не удаляй мои комментарии**. Всё это поможет выполнить повторную проверку твоего проекта быстрее.\n",
    "\n",
    "Я буду красить комментарии цветом:\n",
    "\n",
    "<div class=\"alert alert-danger\"; style=\"border-left: 7px solid FireBrick\">\n",
    "<h4> ❌ <font color=\"FireBrick\">Комментарий ревьюера (красный)</font></h4>\n",
    "\n",
    "Такой комментарий нужно исправить обязательно, он критически влияет на удачное выполнение проекта.\n",
    "\n",
    "Также жду от тебя комментарии, где вкратце опишешь изменения, которые были внесены.\n",
    "</div>\n",
    "\n",
    "<div class=\"alert alert-warning\"; style=\"border-left: 7px solid Gold\">\n",
    "<h4> ⚠️ <font color=\"DarkGoldenRod\">Комментарий ревьюера (желтый)</font></h4>\n",
    "\n",
    "Такой комментарий является рекомендацией или советом. Можешь использовать их на своё усмотрение.\n",
    "    \n",
    "В случае изменений кода, опиши, пожалуйста, вкратце то, что изменилось. Если изменений не было, то просто опиши свои мысли на эту тему.\n",
    "</div>\n",
    "\n",
    "<div class=\"alert alert-success\"; style=\"border-left: 7px solid green\">\n",
    "<h4> ✔️ <font color=\"green\">Комментарий ревьюера (зеленый)</font></h4>\n",
    "\n",
    "Такой комментарий говорит о том, что было сделано что-то качественное и правильное 😃\n",
    "    \n",
    "Я не буду ждать твоего комментария, но буду ему очень рад 🤗\n",
    "</div>\n",
    "\n",
    "Чтобы мы были на одной волне, рекомендую общаться в том же стиле 😊 Твои ответы на мои комментарии будут подкрашиваться в синий цвет.\n",
    "\n",
    "Ниже я оформил образец для твоего удобства, тебе остается только добавить после моего комментария ячейку с типом **Markdown**, скопировать туда код(чтобы увидеть код дважды, кликни на ячейку) из образца и написать свои мысли по поводу комментария."
   ]
  },
  {
   "cell_type": "markdown",
   "id": "8ad1d417",
   "metadata": {},
   "source": [
    "<div class=\"alert alert-info\"; style=\"border-left: 7px solid SteelBlue\">\n",
    "<h5>🎓 <font color=\"SteelBlue\">Комментарий от студента (синий)</font></h5>    \n",
    "\n",
    "Напиши здесь свои мысли и идеи по поводу комментария ревьюера.\n",
    "\n",
    "</div>"
   ]
  },
  {
   "cell_type": "markdown",
   "id": "da629dce",
   "metadata": {},
   "source": [
    "# Исследование рынка заведений общественного питания Москвы"
   ]
  },
  {
   "cell_type": "markdown",
   "id": "6634d43c",
   "metadata": {},
   "source": [
    "## Описание проекта\n",
    "\n",
    "Мы решили открыть небольшое кафе в Москве. Оно оригинальное — гостей должны обслуживать роботы. Проект многообещающий, но дорогой. Вместе с партнёрами решили обратиться к инвесторам. Их интересует текущее положение дел на рынке — сможем ли мы снискать популярность на долгое время, когда все зеваки насмотрятся на роботов-официантов?\n",
    "\n",
    "Мы — гуру аналитики, и партнёры просят нас подготовить исследование рынка. У нас есть открытые данные о заведениях общественного питания в Москве."
   ]
  },
  {
   "cell_type": "markdown",
   "id": "4cd4b344",
   "metadata": {},
   "source": [
    "## Описание данных\n",
    "\n",
    "Таблица rest_data:\n",
    "- id — идентификатор объекта;\n",
    "- object_name — название объекта общественного питания;\n",
    "- chain — сетевой ресторан;\n",
    "- object_type — тип объекта общественного питания;\n",
    "- address — адрес;\n",
    "- number — количество посадочных мест."
   ]
  },
  {
   "cell_type": "markdown",
   "id": "7a1d753a",
   "metadata": {},
   "source": [
    "## Импорт данных и библиотек"
   ]
  },
  {
   "cell_type": "code",
   "execution_count": 1,
   "id": "0dcf6079",
   "metadata": {},
   "outputs": [],
   "source": [
    "import pandas as pd\n",
    "import matplotlib.pyplot as plt\n",
    "import seaborn as sns\n",
    "import plotly.express as px\n",
    "from plotly import graph_objects as go\n",
    "sns.set()\n",
    "\n"
   ]
  },
  {
   "cell_type": "markdown",
   "id": "c9fc50a3",
   "metadata": {},
   "source": [
    "<div class=\"alert alert-success\"; style=\"border-left: 7px solid green\">\n",
    "<h5> ✔️ <font color=\"green\">Комментарий ревьюера (зеленый)</font></h5>\n",
    "\n",
    "Молодец, что загружаешь все библиотеки в начале проекта. Так сложней случайно удалить ячейку с загрузкой нужной библиотеки и сделать код не работающим. А получатель отчета сразу поймет, какие библиотеки ты используешь и какие ему нужно установить для запуска проекта.\n",
    "\n",
    "</div>"
   ]
  },
  {
   "cell_type": "code",
   "execution_count": 2,
   "id": "d4b39f60",
   "metadata": {
    "scrolled": true
   },
   "outputs": [
    {
     "data": {
      "text/html": [
       "<div>\n",
       "<style scoped>\n",
       "    .dataframe tbody tr th:only-of-type {\n",
       "        vertical-align: middle;\n",
       "    }\n",
       "\n",
       "    .dataframe tbody tr th {\n",
       "        vertical-align: top;\n",
       "    }\n",
       "\n",
       "    .dataframe thead th {\n",
       "        text-align: right;\n",
       "    }\n",
       "</style>\n",
       "<table border=\"1\" class=\"dataframe\">\n",
       "  <thead>\n",
       "    <tr style=\"text-align: right;\">\n",
       "      <th></th>\n",
       "      <th>id</th>\n",
       "      <th>object_name</th>\n",
       "      <th>chain</th>\n",
       "      <th>object_type</th>\n",
       "      <th>address</th>\n",
       "      <th>number</th>\n",
       "    </tr>\n",
       "  </thead>\n",
       "  <tbody>\n",
       "    <tr>\n",
       "      <th>0</th>\n",
       "      <td>151635</td>\n",
       "      <td>СМЕТАНА</td>\n",
       "      <td>нет</td>\n",
       "      <td>кафе</td>\n",
       "      <td>город Москва, улица Егора Абакумова, дом 9</td>\n",
       "      <td>48</td>\n",
       "    </tr>\n",
       "    <tr>\n",
       "      <th>1</th>\n",
       "      <td>77874</td>\n",
       "      <td>Родник</td>\n",
       "      <td>нет</td>\n",
       "      <td>кафе</td>\n",
       "      <td>город Москва, улица Талалихина, дом 2/1, корпус 1</td>\n",
       "      <td>35</td>\n",
       "    </tr>\n",
       "    <tr>\n",
       "      <th>2</th>\n",
       "      <td>24309</td>\n",
       "      <td>Кафе «Академия»</td>\n",
       "      <td>нет</td>\n",
       "      <td>кафе</td>\n",
       "      <td>город Москва, Абельмановская улица, дом 6</td>\n",
       "      <td>95</td>\n",
       "    </tr>\n",
       "    <tr>\n",
       "      <th>3</th>\n",
       "      <td>21894</td>\n",
       "      <td>ПИЦЦЕТОРИЯ</td>\n",
       "      <td>да</td>\n",
       "      <td>кафе</td>\n",
       "      <td>город Москва, Абрамцевская улица, дом 1</td>\n",
       "      <td>40</td>\n",
       "    </tr>\n",
       "    <tr>\n",
       "      <th>4</th>\n",
       "      <td>119365</td>\n",
       "      <td>Кафе «Вишневая метель»</td>\n",
       "      <td>нет</td>\n",
       "      <td>кафе</td>\n",
       "      <td>город Москва, Абрамцевская улица, дом 9, корпус 1</td>\n",
       "      <td>50</td>\n",
       "    </tr>\n",
       "  </tbody>\n",
       "</table>\n",
       "</div>"
      ],
      "text/plain": [
       "       id             object_name chain object_type  \\\n",
       "0  151635                 СМЕТАНА   нет        кафе   \n",
       "1   77874                  Родник   нет        кафе   \n",
       "2   24309         Кафе «Академия»   нет        кафе   \n",
       "3   21894              ПИЦЦЕТОРИЯ    да        кафе   \n",
       "4  119365  Кафе «Вишневая метель»   нет        кафе   \n",
       "\n",
       "                                             address  number  \n",
       "0         город Москва, улица Егора Абакумова, дом 9      48  \n",
       "1  город Москва, улица Талалихина, дом 2/1, корпус 1      35  \n",
       "2          город Москва, Абельмановская улица, дом 6      95  \n",
       "3            город Москва, Абрамцевская улица, дом 1      40  \n",
       "4  город Москва, Абрамцевская улица, дом 9, корпус 1      50  "
      ]
     },
     "metadata": {},
     "output_type": "display_data"
    }
   ],
   "source": [
    "try:\n",
    "    rest_data = pd.read_csv(r'D:\\Yandex_Practikum\\Rest_project\\rest_data.csv')\n",
    "except:\n",
    "    rest_data = pd.read_csv('/datasets/rest_data.csv')\n",
    "\n",
    "pd.options.display.max_colwidth = 50\n",
    "display(rest_data.head())"
   ]
  },
  {
   "cell_type": "markdown",
   "id": "cf5269ba",
   "metadata": {},
   "source": [
    "<div class=\"alert alert-success\"; style=\"border-left: 7px solid green\">\n",
    "<h5> ✔️ <font color=\"green\">Комментарий ревьюера (зеленый)</font></h5>\n",
    "\n",
    "Здорово, что ты используешь конструкцию ``try-except`` для путей файлов. Но еще лучше использовать библиотеку ``os``:\n",
    "\n",
    "    import os\n",
    "\n",
    "    pth1 = '/folder_1/data.csv'\n",
    "    pth2 = '/folder_2/data.csv'\n",
    "    \n",
    "    if os.path.exists(pth1):\n",
    "        query_1 = pd.read_csv(pth1)\n",
    "    elif os.path.exists(pth2):\n",
    "        query_1 = pd.read_csv(pth2)\n",
    "    else:\n",
    "        print('Something is wrong)\n",
    "\n",
    "</div>"
   ]
  },
  {
   "cell_type": "markdown",
   "id": "45428de2",
   "metadata": {},
   "source": [
    "## Проверим тип данных, дубликаты и пропуски"
   ]
  },
  {
   "cell_type": "code",
   "execution_count": 3,
   "id": "8ba6c78b",
   "metadata": {
    "scrolled": true
   },
   "outputs": [
    {
     "name": "stdout",
     "output_type": "stream",
     "text": [
      "<class 'pandas.core.frame.DataFrame'>\n",
      "RangeIndex: 15366 entries, 0 to 15365\n",
      "Data columns (total 6 columns):\n",
      " #   Column       Non-Null Count  Dtype \n",
      "---  ------       --------------  ----- \n",
      " 0   id           15366 non-null  int64 \n",
      " 1   object_name  15366 non-null  object\n",
      " 2   chain        15366 non-null  object\n",
      " 3   object_type  15366 non-null  object\n",
      " 4   address      15366 non-null  object\n",
      " 5   number       15366 non-null  int64 \n",
      "dtypes: int64(2), object(4)\n",
      "memory usage: 720.4+ KB\n"
     ]
    }
   ],
   "source": [
    "rest_data.info()"
   ]
  },
  {
   "cell_type": "code",
   "execution_count": 4,
   "id": "e9298108",
   "metadata": {
    "scrolled": false
   },
   "outputs": [
    {
     "name": "stdout",
     "output_type": "stream",
     "text": [
      "Дубликаты: 0\n",
      "Пропуски: id             0\n",
      "object_name    0\n",
      "chain          0\n",
      "object_type    0\n",
      "address        0\n",
      "number         0\n",
      "dtype: int64\n",
      "Дубликаты адресов: 6258\n",
      "Дубликаты названий: 4973\n"
     ]
    }
   ],
   "source": [
    "print('Дубликаты:', rest_data.duplicated().sum())\n",
    "print('Пропуски:', rest_data.isna().sum())\n",
    "print('Дубликаты адресов:', rest_data['address'].duplicated().sum())\n",
    "print('Дубликаты названий:', rest_data['object_name'].duplicated().sum())"
   ]
  },
  {
   "cell_type": "markdown",
   "id": "8ba677a4",
   "metadata": {},
   "source": [
    "- импорт данных прошел успешно, заголовки столбцов в нужном стиле. \n",
    "- типы данных также в порядке. \n",
    "- дубликаты строк отсутствуют, присутствуют дубликаты названий ресторанов и улиц. Это следствие дублирования названий сетевых ресторанов, также встречаются и совпадения. Дубликаты улиц следствие нахождений ресторанов в одном здании, ТЦ."
   ]
  },
  {
   "cell_type": "code",
   "execution_count": 5,
   "id": "0c432fd8",
   "metadata": {
    "scrolled": true
   },
   "outputs": [],
   "source": [
    "rest_data['object_name'] = rest_data['object_name'].str.lower() # приведем названия ресторанов к нижнему регистру для более эффективной группировки"
   ]
  },
  {
   "cell_type": "code",
   "execution_count": 6,
   "id": "dab07d1f",
   "metadata": {
    "scrolled": true
   },
   "outputs": [
    {
     "name": "stdout",
     "output_type": "stream",
     "text": [
      "Дубликаты: 0\n",
      "Пропуски: id             0\n",
      "object_name    0\n",
      "chain          0\n",
      "object_type    0\n",
      "address        0\n",
      "number         0\n",
      "dtype: int64\n",
      "Дубликаты адресов: 6258\n",
      "Дубликаты названий: 5442\n"
     ]
    }
   ],
   "source": [
    "print('Дубликаты:', rest_data.duplicated().sum())\n",
    "print('Пропуски:', rest_data.isna().sum())\n",
    "print('Дубликаты адресов:', rest_data['address'].duplicated().sum())\n",
    "print('Дубликаты названий:', rest_data['object_name'].duplicated().sum())"
   ]
  },
  {
   "cell_type": "markdown",
   "id": "1d73cf96",
   "metadata": {},
   "source": [
    "- прибавились дубликаты в названиях ресторанов. Здесь вероятно сетевые объекты, записанные в разном регистре "
   ]
  },
  {
   "cell_type": "markdown",
   "id": "e5816aa2",
   "metadata": {},
   "source": [
    "<div class=\"alert alert-danger\"; style=\"border-left: 7px solid FireBrick\">\n",
    "<h5> ❌ <font color=\"FireBrick\">Комментарий ревьюера (красный)</font></h5>\n",
    "\n",
    "Отлично применен метод `lower`!\n",
    "    \n",
    "Теперь было бы здорово проверить еще раз таблицу на наличие дублей, так как после применения `lower` они могли образоваться.\n",
    "\n",
    "</div>"
   ]
  },
  {
   "cell_type": "markdown",
   "id": "db132377",
   "metadata": {},
   "source": [
    "## Проведем исследование, построим и изучим графики"
   ]
  },
  {
   "cell_type": "code",
   "execution_count": 7,
   "id": "728e2172",
   "metadata": {
    "scrolled": true
   },
   "outputs": [
    {
     "data": {
      "text/html": [
       "<div>\n",
       "<style scoped>\n",
       "    .dataframe tbody tr th:only-of-type {\n",
       "        vertical-align: middle;\n",
       "    }\n",
       "\n",
       "    .dataframe tbody tr th {\n",
       "        vertical-align: top;\n",
       "    }\n",
       "\n",
       "    .dataframe thead th {\n",
       "        text-align: right;\n",
       "    }\n",
       "</style>\n",
       "<table border=\"1\" class=\"dataframe\">\n",
       "  <thead>\n",
       "    <tr style=\"text-align: right;\">\n",
       "      <th></th>\n",
       "      <th>object_type</th>\n",
       "      <th>count_objects</th>\n",
       "      <th>number_mean</th>\n",
       "    </tr>\n",
       "  </thead>\n",
       "  <tbody>\n",
       "    <tr>\n",
       "      <th>0</th>\n",
       "      <td>кафе</td>\n",
       "      <td>6099</td>\n",
       "      <td>39.7</td>\n",
       "    </tr>\n",
       "    <tr>\n",
       "      <th>1</th>\n",
       "      <td>столовая</td>\n",
       "      <td>2587</td>\n",
       "      <td>130.2</td>\n",
       "    </tr>\n",
       "    <tr>\n",
       "      <th>2</th>\n",
       "      <td>ресторан</td>\n",
       "      <td>2285</td>\n",
       "      <td>96.8</td>\n",
       "    </tr>\n",
       "    <tr>\n",
       "      <th>3</th>\n",
       "      <td>предприятие быстрого обслуживания</td>\n",
       "      <td>1923</td>\n",
       "      <td>20.6</td>\n",
       "    </tr>\n",
       "    <tr>\n",
       "      <th>4</th>\n",
       "      <td>бар</td>\n",
       "      <td>856</td>\n",
       "      <td>43.5</td>\n",
       "    </tr>\n",
       "    <tr>\n",
       "      <th>5</th>\n",
       "      <td>буфет</td>\n",
       "      <td>585</td>\n",
       "      <td>51.1</td>\n",
       "    </tr>\n",
       "    <tr>\n",
       "      <th>6</th>\n",
       "      <td>кафетерий</td>\n",
       "      <td>398</td>\n",
       "      <td>9.1</td>\n",
       "    </tr>\n",
       "    <tr>\n",
       "      <th>7</th>\n",
       "      <td>закусочная</td>\n",
       "      <td>360</td>\n",
       "      <td>7.6</td>\n",
       "    </tr>\n",
       "    <tr>\n",
       "      <th>8</th>\n",
       "      <td>магазин (отдел кулинарии)</td>\n",
       "      <td>273</td>\n",
       "      <td>5.6</td>\n",
       "    </tr>\n",
       "  </tbody>\n",
       "</table>\n",
       "</div>"
      ],
      "text/plain": [
       "                         object_type  count_objects  number_mean\n",
       "0                               кафе           6099         39.7\n",
       "1                           столовая           2587        130.2\n",
       "2                           ресторан           2285         96.8\n",
       "3  предприятие быстрого обслуживания           1923         20.6\n",
       "4                                бар            856         43.5\n",
       "5                              буфет            585         51.1\n",
       "6                          кафетерий            398          9.1\n",
       "7                         закусочная            360          7.6\n",
       "8          магазин (отдел кулинарии)            273          5.6"
      ]
     },
     "metadata": {},
     "output_type": "display_data"
    }
   ],
   "source": [
    "rest_type = rest_data.groupby('object_type').agg({'id': 'nunique', 'number': 'mean'}).round(1).rename(columns={'id': 'count_objects', 'number': 'number_mean'}).sort_values(by='count_objects', ascending=False).reset_index()\n",
    "display(rest_type) # посмотрим распределение по типам заведений"
   ]
  },
  {
   "cell_type": "code",
   "execution_count": 8,
   "id": "b385edd4",
   "metadata": {
    "scrolled": true
   },
   "outputs": [
    {
     "data": {
      "image/png": "[encoded data removed]",
      "text/plain": [
       "<Figure size 432x288 with 1 Axes>"
      ]
     },
     "metadata": {},
     "output_type": "display_data"
    }
   ],
   "source": [
    "ax = sns.barplot(x='count_objects', y='object_type', data=rest_type, color='green')\n",
    "ax.set_title('Распределение по типам заведений')\n",
    "ax.set_xlabel('Количество объектов')\n",
    "ax.set_ylabel('Тип объекта')\n",
    "plt.show()"
   ]
  },
  {
   "cell_type": "markdown",
   "id": "b33299b2",
   "metadata": {},
   "source": [
    "<div class=\"alert alert-warning\"; style=\"border-left: 7px solid Gold\">\n",
    "<h5> ⚠️ <font color=\"DarkGoldenRod\">Комментарий ревьюера (желтый)</font></h5>\n",
    "\n",
    "Хорошо, что данные отсортированы.\n",
    "    \n",
    "В данном случае цвет не несет смысла, но может сбить с толку, лучше все построить в одной цветовой гамме.\n",
    "\n",
    "</div>"
   ]
  },
  {
   "cell_type": "markdown",
   "id": "1317be42",
   "metadata": {},
   "source": [
    "- самый распространенный, около 40%, заведение типа \"кафе\". Вполне логично, т.к. данный тип наиболее универсален по площади и общим требованиям, и позволяет легче специализировать по кухне, меню и аудитории.\n",
    "- столовые распространены за счет простоты меню и схемы обслуживания. Их аудитории нужно бюджетно и по-домашнему перекусить\n",
    "- рестораны как правило имеют большое количество посадочных мест, и ориентированы на удовлетворение эстетических запросов населения\n",
    "- предприятия быстрого обслуживания в основе являются частью сети (наиболее яркие представители MacDonalds, KFC и Burger King), отличаются отработанными алгоритмами обслуживания для обеспечения высокого спроса как на вынос, так и питания на месте, а также популярным меню и брендом\n",
    "- бары, как и рестораны имеют свою специфику в меню, интерьере и схеме обслуживания для своей аудитории. Является неотъемлемой частью сегмента заведений общественного питания.\n",
    "- остальные типы заведений менее популярны вследствие ограниченности меню и малого количества посадочных мест. Возможно в малых городах они более распространены, но в Москве не столь популярны."
   ]
  },
  {
   "cell_type": "markdown",
   "id": "566ae805",
   "metadata": {},
   "source": [
    "### Посмотрим распределение по количеству сетевых и несетевых заведений"
   ]
  },
  {
   "cell_type": "code",
   "execution_count": 9,
   "id": "bf6817c6",
   "metadata": {
    "scrolled": true
   },
   "outputs": [
    {
     "data": {
      "text/html": [
       "<div>\n",
       "<style scoped>\n",
       "    .dataframe tbody tr th:only-of-type {\n",
       "        vertical-align: middle;\n",
       "    }\n",
       "\n",
       "    .dataframe tbody tr th {\n",
       "        vertical-align: top;\n",
       "    }\n",
       "\n",
       "    .dataframe thead th {\n",
       "        text-align: right;\n",
       "    }\n",
       "</style>\n",
       "<table border=\"1\" class=\"dataframe\">\n",
       "  <thead>\n",
       "    <tr style=\"text-align: right;\">\n",
       "      <th></th>\n",
       "      <th>chain</th>\n",
       "      <th>count_objects</th>\n",
       "    </tr>\n",
       "  </thead>\n",
       "  <tbody>\n",
       "    <tr>\n",
       "      <th>0</th>\n",
       "      <td>да</td>\n",
       "      <td>2968</td>\n",
       "    </tr>\n",
       "    <tr>\n",
       "      <th>1</th>\n",
       "      <td>нет</td>\n",
       "      <td>12398</td>\n",
       "    </tr>\n",
       "  </tbody>\n",
       "</table>\n",
       "</div>"
      ],
      "text/plain": [
       "  chain  count_objects\n",
       "0    да           2968\n",
       "1   нет          12398"
      ]
     },
     "metadata": {},
     "output_type": "display_data"
    }
   ],
   "source": [
    "network_rest = rest_data.groupby('chain').agg({'id': 'nunique'}).rename(columns={'id': 'count_objects'}).reset_index()\n",
    "display(network_rest) "
   ]
  },
  {
   "cell_type": "code",
   "execution_count": 10,
   "id": "e58bee1d",
   "metadata": {
    "scrolled": true
   },
   "outputs": [
    {
     "data": {
      "image/png": "[encoded data removed]",
      "text/plain": [
       "<Figure size 432x288 with 1 Axes>"
      ]
     },
     "metadata": {},
     "output_type": "display_data"
    }
   ],
   "source": [
    "data = network_rest['count_objects']\n",
    "keys = network_rest['chain']\n",
    "palette_color = sns.color_palette('bright')\n",
    "plt.pie(data, labels=keys, colors=palette_color, autopct='%.0f%%')\n",
    "plt.title('Соотношение сетевых и несетевых заведений')\n",
    "plt.show()"
   ]
  },
  {
   "cell_type": "markdown",
   "id": "ee02b6dc",
   "metadata": {},
   "source": [
    "<div class=\"alert alert-warning\"; style=\"border-left: 7px solid Gold\">\n",
    "<h5> ⚠️ <font color=\"DarkGoldenRod\">Комментарий ревьюера (желтый)</font></h5>\n",
    "\n",
    "Красивая визуализация, молодец!\n",
    "    \n",
    "Тут лучше подойдет круговая диаграмма, чтобы можно было сравнить доли.\n",
    "\n",
    "</div>"
   ]
  },
  {
   "cell_type": "markdown",
   "id": "66dde111",
   "metadata": {},
   "source": [
    "- сетевых заведений в 4 раза меньше, чем несетевых. Жители Москвы предпочитают оригинальность и разнообразие в ресторанах, хоть и сетевых достаточно много. \n",
    "- также в разы меньшее количество сетевых заведений говорит о том, что сеть ресторанов развить очень сложно и дорого, по крайней мере в Москве. Очень большая конкуренция, дорогая аренда и оплата труда, а также прочие издержки. Если у компании малый запас прочности и рентабельности, она сильно рискует при отрытии 2, 3 и более ресторанов."
   ]
  },
  {
   "cell_type": "markdown",
   "id": "303973ce",
   "metadata": {},
   "source": [
    "### Изучим данные по сетевым ресторанам"
   ]
  },
  {
   "cell_type": "code",
   "execution_count": 11,
   "id": "a11f40f8",
   "metadata": {
    "scrolled": true
   },
   "outputs": [
    {
     "data": {
      "text/html": [
       "<div>\n",
       "<style scoped>\n",
       "    .dataframe tbody tr th:only-of-type {\n",
       "        vertical-align: middle;\n",
       "    }\n",
       "\n",
       "    .dataframe tbody tr th {\n",
       "        vertical-align: top;\n",
       "    }\n",
       "\n",
       "    .dataframe thead th {\n",
       "        text-align: right;\n",
       "    }\n",
       "</style>\n",
       "<table border=\"1\" class=\"dataframe\">\n",
       "  <thead>\n",
       "    <tr style=\"text-align: right;\">\n",
       "      <th></th>\n",
       "      <th>object_type</th>\n",
       "      <th>count_objects</th>\n",
       "      <th>rate</th>\n",
       "    </tr>\n",
       "  </thead>\n",
       "  <tbody>\n",
       "    <tr>\n",
       "      <th>1</th>\n",
       "      <td>предприятие быстрого обслуживания</td>\n",
       "      <td>791</td>\n",
       "      <td>0.31</td>\n",
       "    </tr>\n",
       "    <tr>\n",
       "      <th>2</th>\n",
       "      <td>ресторан</td>\n",
       "      <td>544</td>\n",
       "      <td>0.24</td>\n",
       "    </tr>\n",
       "    <tr>\n",
       "      <th>0</th>\n",
       "      <td>кафе</td>\n",
       "      <td>1396</td>\n",
       "      <td>0.23</td>\n",
       "    </tr>\n",
       "    <tr>\n",
       "      <th>5</th>\n",
       "      <td>кафетерий</td>\n",
       "      <td>52</td>\n",
       "      <td>0.09</td>\n",
       "    </tr>\n",
       "    <tr>\n",
       "      <th>6</th>\n",
       "      <td>бар</td>\n",
       "      <td>37</td>\n",
       "      <td>0.09</td>\n",
       "    </tr>\n",
       "    <tr>\n",
       "      <th>4</th>\n",
       "      <td>закусочная</td>\n",
       "      <td>56</td>\n",
       "      <td>0.07</td>\n",
       "    </tr>\n",
       "    <tr>\n",
       "      <th>3</th>\n",
       "      <td>магазин (отдел кулинарии)</td>\n",
       "      <td>78</td>\n",
       "      <td>0.04</td>\n",
       "    </tr>\n",
       "    <tr>\n",
       "      <th>7</th>\n",
       "      <td>буфет</td>\n",
       "      <td>11</td>\n",
       "      <td>0.03</td>\n",
       "    </tr>\n",
       "    <tr>\n",
       "      <th>8</th>\n",
       "      <td>столовая</td>\n",
       "      <td>3</td>\n",
       "      <td>0.01</td>\n",
       "    </tr>\n",
       "  </tbody>\n",
       "</table>\n",
       "</div>"
      ],
      "text/plain": [
       "                         object_type  count_objects  rate\n",
       "1  предприятие быстрого обслуживания            791  0.31\n",
       "2                           ресторан            544  0.24\n",
       "0                               кафе           1396  0.23\n",
       "5                          кафетерий             52  0.09\n",
       "6                                бар             37  0.09\n",
       "4                         закусочная             56  0.07\n",
       "3          магазин (отдел кулинарии)             78  0.04\n",
       "7                              буфет             11  0.03\n",
       "8                           столовая              3  0.01"
      ]
     },
     "metadata": {},
     "output_type": "display_data"
    },
    {
     "name": "stdout",
     "output_type": "stream",
     "text": [
      "Общее количество сетевых ресторанов: 2968\n"
     ]
    }
   ],
   "source": [
    "networks = rest_data.query('chain == \"да\"') # делаем срез с сетевыми заведениями\n",
    "networks_rate = networks.groupby('object_type').agg({'id': 'nunique'}).rename(columns={'id': 'count_objects', 'number': 'net_number_mean'}).sort_values(by='count_objects', ascending=False).reset_index()\n",
    "networks_rate['rate'] = (networks_rate['count_objects'] / rest_type['count_objects']).round(2)\n",
    "networks_rate = networks_rate.sort_values(by='rate', ascending=False)\n",
    "display(networks_rate)\n",
    "print('Общее количество сетевых ресторанов:', len(networks))"
   ]
  },
  {
   "cell_type": "code",
   "execution_count": 12,
   "id": "23260452",
   "metadata": {},
   "outputs": [
    {
     "data": {
      "image/png": "[encoded data removed]",
      "text/plain": [
       "<Figure size 432x288 with 1 Axes>"
      ]
     },
     "metadata": {},
     "output_type": "display_data"
    }
   ],
   "source": [
    "ax = sns.barplot(x='rate', y='object_type', data=networks_rate, color='red')\n",
    "ax.set_title('Распределение доли сетевых заведений по типу')\n",
    "ax.set_xlabel('Доля сетевых объектов')\n",
    "ax.set_ylabel('Тип объекта')\n",
    "plt.show()"
   ]
  },
  {
   "cell_type": "markdown",
   "id": "dec7bc61",
   "metadata": {},
   "source": [
    "<div class=\"alert alert-danger\"; style=\"border-left: 7px solid FireBrick\">\n",
    "<h5> ❌ <font color=\"FireBrick\">Комментарий ревьюера (красный)</font></h5>\n",
    "\n",
    "Для ответа на поставленный вопрос требуется рассчитать именно долю заведений, относящихся к сетевым. Для примера, в городе 50 баров, 40 из которых сетевые, и 200 кафе, 100 из которых - сетевые. Тогда, именно для баров будет характерно сетевое распределение, а не для кафе. Хотя формально сетевых кафе у нас больше, чем сетевых баров.\n",
    "    \n",
    "\n",
    "</div>"
   ]
  },
  {
   "cell_type": "markdown",
   "id": "9dd5ad2e",
   "metadata": {},
   "source": [
    "- самая большая доля сетевых завдений у предприятий быстрого питания, около 30%, их основу составляют вышеперечисленные бренды, а также ряд других узнаваемых сетей в ресторанных двориках торговых центров столицы.\n",
    "- доля сетевых заведений у ресторанов составляет 23%, среди них наиболее успешные и оригинальные бренды, строившие свою репутацию годами. У ресторанов самая искушенная и притязательная аудитория, лояльность которой завоевать довольно трудно\n",
    "- с большой долей сетевых заведений также самым популярным является \"кафе\", чуть более 20%. Большую их часть составляют кофейни, т.к. в Москве кофе очень популярный напиток, плюс формат кофейни требует относительно небольшой площади и меню, что соответственно дает поток клиентов и небольшие операционные расходы даже для неизвестных заведений.\n",
    "- более 5, но менее 10% составляют доли у типов: кафетерий, бар и закусочная\n",
    "- для остальных типов не характерно сетевое распространение"
   ]
  },
  {
   "cell_type": "markdown",
   "id": "68ae6e21",
   "metadata": {},
   "source": [
    "### Проверим корреляцию между количеством заведений в сети и количеством посадочных мест на ресторан"
   ]
  },
  {
   "cell_type": "code",
   "execution_count": 13,
   "id": "a1150057",
   "metadata": {
    "scrolled": false
   },
   "outputs": [
    {
     "data": {
      "image/png": "[encoded data removed]",
      "text/plain": [
       "<Figure size 864x864 with 3 Axes>"
      ]
     },
     "metadata": {},
     "output_type": "display_data"
    }
   ],
   "source": [
    "networks_number_mean = networks.groupby('object_name').agg({'id': 'nunique', 'number': 'mean'}).round().rename(columns={'id': 'count_objects', 'number': 'mean_numbers'}).reset_index()\n",
    "sns.set_palette('dark')\n",
    "h = sns.jointplot(x='count_objects', y='mean_numbers', data=networks_number_mean, height=12)\n",
    "h.set_axis_labels('Количество заведений', 'Среднее кол-во посадочных мест', fontsize=16)\n",
    "h.fig.suptitle('Соотношение среднего количества посадочных мест к количеству заведений в сети')\n",
    "plt.show() "
   ]
  },
  {
   "cell_type": "markdown",
   "id": "b2c0ad40",
   "metadata": {},
   "source": [
    "<div class=\"alert alert-success\"; style=\"border-left: 7px solid green\">\n",
    "<h5> ✔️ <font color=\"green\">Комментарий ревьюера (зеленый)</font></h5>\n",
    "\n",
    "График построен верно, спасибо 🤗\n",
    "\n",
    "</div>"
   ]
  },
  {
   "cell_type": "markdown",
   "id": "90722c7b",
   "metadata": {},
   "source": [
    "По графику наблюдаем, что большие сети имеют объекты с относительно небольшим числом посадочных мест (до 100-150), многие из них расположены на 2 этажах, в среднем по 50-70 на этаж, что позволяет принимать около 100 гостей в час, также плюс 50 и более покупают на вынос (характерно в основном для популярных сетей)\n",
    "\n",
    "Для ресторанов с большим числом посадочных мест (от 150) характерно малое количество объектов. \n",
    "- такие места отличаются особой архитектурой, интерьером и изысканностью, в основном не предполагают заказы на вынос. Для них важна неповторимость, ограниченная доступность бронирования(может быть расписана на месяцы вперед). Место куда все хотят, но попадут лишь \"избранные\".\n",
    "- либо это обычная столовая, для которых характерно большое количество посадочных мест и несетевое распространение.\n",
    "\n",
    "Основу распределения составляет до 40 ресторанов в сети и количество посадочных мест до 150."
   ]
  },
  {
   "cell_type": "markdown",
   "id": "3e9c9eb8",
   "metadata": {},
   "source": [
    "### Рассмотрим соотношение среднегоколичества посадочных мест в сетевых и несетевых заведениях"
   ]
  },
  {
   "cell_type": "code",
   "execution_count": 14,
   "id": "332b654c",
   "metadata": {
    "scrolled": false
   },
   "outputs": [
    {
     "data": {
      "text/html": [
       "<div>\n",
       "<style scoped>\n",
       "    .dataframe tbody tr th:only-of-type {\n",
       "        vertical-align: middle;\n",
       "    }\n",
       "\n",
       "    .dataframe tbody tr th {\n",
       "        vertical-align: top;\n",
       "    }\n",
       "\n",
       "    .dataframe thead th {\n",
       "        text-align: right;\n",
       "    }\n",
       "</style>\n",
       "<table border=\"1\" class=\"dataframe\">\n",
       "  <thead>\n",
       "    <tr style=\"text-align: right;\">\n",
       "      <th></th>\n",
       "      <th>object_type</th>\n",
       "      <th>all_mean_numbers</th>\n",
       "      <th>net_number_mean</th>\n",
       "      <th>number_rate</th>\n",
       "    </tr>\n",
       "  </thead>\n",
       "  <tbody>\n",
       "    <tr>\n",
       "      <th>2</th>\n",
       "      <td>предприятие быстрого обслуживания</td>\n",
       "      <td>21.0</td>\n",
       "      <td>40.0</td>\n",
       "      <td>1.90</td>\n",
       "    </tr>\n",
       "    <tr>\n",
       "      <th>6</th>\n",
       "      <td>закусочная</td>\n",
       "      <td>8.0</td>\n",
       "      <td>14.0</td>\n",
       "      <td>1.75</td>\n",
       "    </tr>\n",
       "    <tr>\n",
       "      <th>3</th>\n",
       "      <td>магазин (отдел кулинарии)</td>\n",
       "      <td>6.0</td>\n",
       "      <td>9.0</td>\n",
       "      <td>1.50</td>\n",
       "    </tr>\n",
       "    <tr>\n",
       "      <th>4</th>\n",
       "      <td>кафетерий</td>\n",
       "      <td>9.0</td>\n",
       "      <td>12.0</td>\n",
       "      <td>1.33</td>\n",
       "    </tr>\n",
       "    <tr>\n",
       "      <th>8</th>\n",
       "      <td>бар</td>\n",
       "      <td>43.0</td>\n",
       "      <td>53.0</td>\n",
       "      <td>1.23</td>\n",
       "    </tr>\n",
       "    <tr>\n",
       "      <th>5</th>\n",
       "      <td>кафе</td>\n",
       "      <td>40.0</td>\n",
       "      <td>47.0</td>\n",
       "      <td>1.18</td>\n",
       "    </tr>\n",
       "    <tr>\n",
       "      <th>1</th>\n",
       "      <td>ресторан</td>\n",
       "      <td>97.0</td>\n",
       "      <td>100.0</td>\n",
       "      <td>1.03</td>\n",
       "    </tr>\n",
       "    <tr>\n",
       "      <th>0</th>\n",
       "      <td>столовая</td>\n",
       "      <td>130.0</td>\n",
       "      <td>112.0</td>\n",
       "      <td>0.86</td>\n",
       "    </tr>\n",
       "    <tr>\n",
       "      <th>7</th>\n",
       "      <td>буфет</td>\n",
       "      <td>51.0</td>\n",
       "      <td>13.0</td>\n",
       "      <td>0.25</td>\n",
       "    </tr>\n",
       "  </tbody>\n",
       "</table>\n",
       "</div>"
      ],
      "text/plain": [
       "                         object_type  all_mean_numbers  net_number_mean  \\\n",
       "2  предприятие быстрого обслуживания              21.0             40.0   \n",
       "6                         закусочная               8.0             14.0   \n",
       "3          магазин (отдел кулинарии)               6.0              9.0   \n",
       "4                          кафетерий               9.0             12.0   \n",
       "8                                бар              43.0             53.0   \n",
       "5                               кафе              40.0             47.0   \n",
       "1                           ресторан              97.0            100.0   \n",
       "0                           столовая             130.0            112.0   \n",
       "7                              буфет              51.0             13.0   \n",
       "\n",
       "   number_rate  \n",
       "2         1.90  \n",
       "6         1.75  \n",
       "3         1.50  \n",
       "4         1.33  \n",
       "8         1.23  \n",
       "5         1.18  \n",
       "1         1.03  \n",
       "0         0.86  \n",
       "7         0.25  "
      ]
     },
     "metadata": {},
     "output_type": "display_data"
    }
   ],
   "source": [
    "rest_type_number_rate = rest_data.groupby('object_type').agg({'number': 'mean'}).round().rename(columns={'number': 'all_mean_numbers'}).sort_values(by='object_type', ascending=False).reset_index()\n",
    "rest_type_number_net = networks.groupby('object_type').agg({'number': 'mean'}).round().rename(columns={'number': 'net_mean_numbers'}).sort_values(by='object_type', ascending=False).reset_index()\n",
    "rest_type_number_rate['net_number_mean'] = rest_type_number_net['net_mean_numbers'] # добавим среднее количество мест по типу в сетевых заведениях в общий срез\n",
    "rest_type_number_rate['number_rate'] = (rest_type_number_rate['net_number_mean'] / rest_type_number_rate['all_mean_numbers']).round(2)\n",
    "# добавим столбец с соотношением среднего в сетевых к несетевым заведениям\n",
    "rest_type_number_rate = rest_type_number_rate.sort_values(by='number_rate', ascending=False)\n",
    "\n",
    "display(rest_type_number_rate)"
   ]
  },
  {
   "cell_type": "code",
   "execution_count": 15,
   "id": "d2a481d0",
   "metadata": {},
   "outputs": [
    {
     "data": {
      "image/png": "[encoded data removed]",
      "text/plain": [
       "<Figure size 432x288 with 1 Axes>"
      ]
     },
     "metadata": {},
     "output_type": "display_data"
    }
   ],
   "source": [
    "ax = sns.barplot(x='number_rate', y='object_type', data=rest_type_number_rate, color='blue')\n",
    "ax.set_title('Распределение доли среднего количества посадочных мест в сетевых и несетевых заведениях')\n",
    "ax.set_xlabel('Доля среднего количества мест')\n",
    "ax.set_ylabel('Тип заведения')\n",
    "plt.show()"
   ]
  },
  {
   "cell_type": "markdown",
   "id": "0aa6a1f0",
   "metadata": {},
   "source": [
    "<div class=\"alert alert-danger\"; style=\"border-left: 7px solid FireBrick\">\n",
    "<h5> ❌ <font color=\"FireBrick\">Комментарий ревьюера (красный)</font></h5>\n",
    "\n",
    "На данном графике нет сравнения по виду объекта общественного питания(сетевое/ не сетевое). Лучше построить столбчатую диаграмму.\n",
    "    \n",
    "\n",
    "</div>"
   ]
  },
  {
   "cell_type": "markdown",
   "id": "260b172d",
   "metadata": {},
   "source": [
    "- наибольшую долю среднего количества посадочных мест предоставляют предприятия быстрого обслуживания, почти вдвое больше чем несетевые того же типа\n",
    "- сетевые закусочные в среднем имеют на 3/4 больше посадочных мест, чем несетевые закусочные\n",
    "- отделы кулинарии и кафетерии в сети предоставляют в среднем на 50% больше мест\n",
    "- сетевые бары и кафе почти на четверть больше несетевых\n",
    "- рестораны как в сети, так и не в сети, в среднем имеют одинаковое количество посадочных мест\n",
    "- остальные типы в составе сети предлагают меньшее количество мест"
   ]
  },
  {
   "cell_type": "markdown",
   "id": "f01abc7f",
   "metadata": {},
   "source": [
    "### Проведем исследование в каких районах и улицах находятся больше  объектов, и в каких меньше"
   ]
  },
  {
   "cell_type": "code",
   "execution_count": 16,
   "id": "b809f781",
   "metadata": {
    "scrolled": true
   },
   "outputs": [
    {
     "data": {
      "text/html": [
       "<div>\n",
       "<style scoped>\n",
       "    .dataframe tbody tr th:only-of-type {\n",
       "        vertical-align: middle;\n",
       "    }\n",
       "\n",
       "    .dataframe tbody tr th {\n",
       "        vertical-align: top;\n",
       "    }\n",
       "\n",
       "    .dataframe thead th {\n",
       "        text-align: right;\n",
       "    }\n",
       "</style>\n",
       "<table border=\"1\" class=\"dataframe\">\n",
       "  <thead>\n",
       "    <tr style=\"text-align: right;\">\n",
       "      <th></th>\n",
       "      <th>id</th>\n",
       "      <th>object_name</th>\n",
       "      <th>chain</th>\n",
       "      <th>object_type</th>\n",
       "      <th>address</th>\n",
       "      <th>number</th>\n",
       "      <th>street</th>\n",
       "    </tr>\n",
       "  </thead>\n",
       "  <tbody>\n",
       "    <tr>\n",
       "      <th>0</th>\n",
       "      <td>151635</td>\n",
       "      <td>сметана</td>\n",
       "      <td>нет</td>\n",
       "      <td>кафе</td>\n",
       "      <td>город Москва, улица Егора Абакумова, дом 9</td>\n",
       "      <td>48</td>\n",
       "      <td>улица Егора Абакумова</td>\n",
       "    </tr>\n",
       "    <tr>\n",
       "      <th>1</th>\n",
       "      <td>77874</td>\n",
       "      <td>родник</td>\n",
       "      <td>нет</td>\n",
       "      <td>кафе</td>\n",
       "      <td>город Москва, улица Талалихина, дом 2/1, корпус 1</td>\n",
       "      <td>35</td>\n",
       "      <td>улица Талалихина</td>\n",
       "    </tr>\n",
       "    <tr>\n",
       "      <th>2</th>\n",
       "      <td>24309</td>\n",
       "      <td>кафе «академия»</td>\n",
       "      <td>нет</td>\n",
       "      <td>кафе</td>\n",
       "      <td>город Москва, Абельмановская улица, дом 6</td>\n",
       "      <td>95</td>\n",
       "      <td>Абельмановская улица</td>\n",
       "    </tr>\n",
       "    <tr>\n",
       "      <th>3</th>\n",
       "      <td>21894</td>\n",
       "      <td>пиццетория</td>\n",
       "      <td>да</td>\n",
       "      <td>кафе</td>\n",
       "      <td>город Москва, Абрамцевская улица, дом 1</td>\n",
       "      <td>40</td>\n",
       "      <td>Абрамцевская улица</td>\n",
       "    </tr>\n",
       "    <tr>\n",
       "      <th>4</th>\n",
       "      <td>119365</td>\n",
       "      <td>кафе «вишневая метель»</td>\n",
       "      <td>нет</td>\n",
       "      <td>кафе</td>\n",
       "      <td>город Москва, Абрамцевская улица, дом 9, корпус 1</td>\n",
       "      <td>50</td>\n",
       "      <td>Абрамцевская улица</td>\n",
       "    </tr>\n",
       "  </tbody>\n",
       "</table>\n",
       "</div>"
      ],
      "text/plain": [
       "       id             object_name chain object_type  \\\n",
       "0  151635                 сметана   нет        кафе   \n",
       "1   77874                  родник   нет        кафе   \n",
       "2   24309         кафе «академия»   нет        кафе   \n",
       "3   21894              пиццетория    да        кафе   \n",
       "4  119365  кафе «вишневая метель»   нет        кафе   \n",
       "\n",
       "                                             address  number  \\\n",
       "0         город Москва, улица Егора Абакумова, дом 9      48   \n",
       "1  город Москва, улица Талалихина, дом 2/1, корпус 1      35   \n",
       "2          город Москва, Абельмановская улица, дом 6      95   \n",
       "3            город Москва, Абрамцевская улица, дом 1      40   \n",
       "4  город Москва, Абрамцевская улица, дом 9, корпус 1      50   \n",
       "\n",
       "                   street  \n",
       "0   улица Егора Абакумова  \n",
       "1        улица Талалихина  \n",
       "2    Абельмановская улица  \n",
       "3      Абрамцевская улица  \n",
       "4      Абрамцевская улица  "
      ]
     },
     "metadata": {},
     "output_type": "display_data"
    }
   ],
   "source": [
    "rest_data['street'] = rest_data['address'].str.split(',', expand=True)[1] # разобьем столбец с адресом по улице\n",
    "# чтобы сгруппировать и выделить благоприятные районы для открытия ресторана\n",
    "display(rest_data.head())"
   ]
  },
  {
   "cell_type": "markdown",
   "id": "44c41fd4",
   "metadata": {},
   "source": [
    "<div class=\"alert alert-success\"; style=\"border-left: 7px solid green\">\n",
    "<h5> ✔️ <font color=\"green\">Комментарий ревьюера (зеленый)</font></h5>\n",
    "\n",
    "Правильно получена информация об улице.\n",
    "\n",
    "</div>"
   ]
  },
  {
   "cell_type": "code",
   "execution_count": 17,
   "id": "5c8a7c47",
   "metadata": {
    "scrolled": false
   },
   "outputs": [
    {
     "data": {
      "image/png": "[encoded data removed]",
      "text/plain": [
       "<Figure size 432x288 with 1 Axes>"
      ]
     },
     "metadata": {},
     "output_type": "display_data"
    }
   ],
   "source": [
    "rest_data = rest_data[rest_data['street'].str.contains(\"поселок|поселение|город|деревня|станция\") == False] # уберем часть не соответсвующих запросу адресов\n",
    "\n",
    "top10_street = rest_data.groupby('street').agg({'id': 'nunique'}).rename(columns={'id': 'count_rests'}).sort_values(by='count_rests', ascending=False).reset_index()\n",
    "ax = sns.barplot(x='count_rests', y='street', data=top10_street.head(10), color='blue')\n",
    "ax.set_title('Топ-10 улиц с наибольшим количеством заведений')\n",
    "ax.set_xlabel('Количество ресторанов')\n",
    "ax.set_ylabel('Название улицы')\n",
    "plt.show() # посмотрим топ-10 улиц с наибольшим количеством ресторанов"
   ]
  },
  {
   "cell_type": "markdown",
   "id": "74cc5d64",
   "metadata": {},
   "source": [
    "<div class=\"alert alert-danger\"; style=\"border-left: 7px solid FireBrick\">\n",
    "<h5> ❌ <font color=\"FireBrick\">Комментарий ревьюера (красный)</font></h5>\n",
    "\n",
    "Построй, пожалуйста, график по топ 10 улиц.\n",
    "    \n",
    "\n",
    "</div>"
   ]
  },
  {
   "cell_type": "markdown",
   "id": "96b9c9f8",
   "metadata": {},
   "source": [
    "Вполне логично это самые протяженные улицы\\проспекты, берущие начало от Садового кольца (центра Москвы) и переходящие в федеральные трассы. \n",
    "- они обладают самой большой проходимостью, как и для авто, так и для пешеходов(станции метро). \n",
    "- на них расположено наибольшее количество бизнес-центров, вокзалов, ВУЗов и других инфраструктурных объектов.\n",
    "- Пресненская набережная является деловым центром Москвы с несколькими небоскребами, в т.ч. World Trade Center и одним из крупнейших ТЦ \"Афимолл\"\n",
    "- Кировоградская улица расположена в густонаселенном районе Чертаново, является дублером Варшавского шоссе, плюс на ней находится станция метро Южная и ряд торговых и деловых центров"
   ]
  },
  {
   "cell_type": "markdown",
   "id": "79acf22c",
   "metadata": {},
   "source": [
    "<div class=\"alert alert-danger\"; style=\"border-left: 7px solid FireBrick\">\n",
    "<h5> ❌ <font color=\"FireBrick\">Комментарий ревьюера (красный)</font></h5>\n",
    "\n",
    "Если в будущем придется заново делать подобное исследование с другими данными, то опять придется глазами просматривать все данные. Подключи, пожалуйста, данные из внешнего источника. В Яндекс.Практикуме недавно добавили инструкцию о том, как это сделать. Изучи, пожалуйста, спринт «Полезные инструкции для учёбы», тему «Работа с проектом», урок «Как встроить сторонний файл с данными в проект».\n",
    "    \n",
    "\n",
    "</div>"
   ]
  },
  {
   "cell_type": "markdown",
   "id": "c1e70789",
   "metadata": {},
   "source": [
    "### Подключим внешний источник данных для определения популярных/непопулярных районов"
   ]
  },
  {
   "cell_type": "code",
   "execution_count": 18,
   "id": "d10d1480",
   "metadata": {},
   "outputs": [],
   "source": [
    "from io import BytesIO\n",
    "import requests"
   ]
  },
  {
   "cell_type": "code",
   "execution_count": 19,
   "id": "dfce5ea9",
   "metadata": {},
   "outputs": [
    {
     "data": {
      "text/html": [
       "<div>\n",
       "<style scoped>\n",
       "    .dataframe tbody tr th:only-of-type {\n",
       "        vertical-align: middle;\n",
       "    }\n",
       "\n",
       "    .dataframe tbody tr th {\n",
       "        vertical-align: top;\n",
       "    }\n",
       "\n",
       "    .dataframe thead th {\n",
       "        text-align: right;\n",
       "    }\n",
       "</style>\n",
       "<table border=\"1\" class=\"dataframe\">\n",
       "  <thead>\n",
       "    <tr style=\"text-align: right;\">\n",
       "      <th></th>\n",
       "      <th>ID</th>\n",
       "      <th>Name</th>\n",
       "      <th>global_id</th>\n",
       "      <th>IsNetObject</th>\n",
       "      <th>OperatingCompany</th>\n",
       "      <th>TypeObject</th>\n",
       "      <th>AdmArea</th>\n",
       "      <th>District</th>\n",
       "      <th>Address</th>\n",
       "      <th>PublicPhone</th>\n",
       "      <th>SeatsCount</th>\n",
       "      <th>SocialPrivileges</th>\n",
       "      <th>Longitude_WGS84</th>\n",
       "      <th>Latitude_WGS84</th>\n",
       "      <th>geodata_center</th>\n",
       "      <th>geoarea</th>\n",
       "    </tr>\n",
       "  </thead>\n",
       "  <tbody>\n",
       "    <tr>\n",
       "      <th>0</th>\n",
       "      <td>Код</td>\n",
       "      <td>Наименование</td>\n",
       "      <td>global_id</td>\n",
       "      <td>Является сетевым</td>\n",
       "      <td>Название управляющей компании</td>\n",
       "      <td>Вид объекта</td>\n",
       "      <td>Административный округ по адресу</td>\n",
       "      <td>Район</td>\n",
       "      <td>Адрес</td>\n",
       "      <td>Контактный телефон</td>\n",
       "      <td>Число посадочных мест</td>\n",
       "      <td>Показатель социальных льгот</td>\n",
       "      <td>Долгота в WGS-84</td>\n",
       "      <td>Широта в WGS-84</td>\n",
       "      <td>geodata_center</td>\n",
       "      <td>geoarea</td>\n",
       "    </tr>\n",
       "    <tr>\n",
       "      <th>1</th>\n",
       "      <td>00151635</td>\n",
       "      <td>СМЕТАНА</td>\n",
       "      <td>637376221</td>\n",
       "      <td>нет</td>\n",
       "      <td>NaN</td>\n",
       "      <td>кафе</td>\n",
       "      <td>Северо-Восточный административный округ</td>\n",
       "      <td>Ярославский район</td>\n",
       "      <td>город Москва, улица Егора Абакумова, дом 9</td>\n",
       "      <td>PublicPhone:(499) 183-14-10\\n\\n</td>\n",
       "      <td>48</td>\n",
       "      <td>нет</td>\n",
       "      <td>37.7145650004360390</td>\n",
       "      <td>55.8790015313033730</td>\n",
       "      <td>NaN</td>\n",
       "      <td>NaN</td>\n",
       "    </tr>\n",
       "    <tr>\n",
       "      <th>2</th>\n",
       "      <td>000077874</td>\n",
       "      <td>Родник</td>\n",
       "      <td>637376331</td>\n",
       "      <td>нет</td>\n",
       "      <td>NaN</td>\n",
       "      <td>кафе</td>\n",
       "      <td>Центральный административный округ</td>\n",
       "      <td>Таганский район</td>\n",
       "      <td>город Москва, улица Талалихина, дом 2/1, корпус 1</td>\n",
       "      <td>PublicPhone:(495) 676-55-35\\n\\n</td>\n",
       "      <td>35</td>\n",
       "      <td>нет</td>\n",
       "      <td>37.6733061300344000</td>\n",
       "      <td>55.7382386551547000</td>\n",
       "      <td>NaN</td>\n",
       "      <td>NaN</td>\n",
       "    </tr>\n",
       "    <tr>\n",
       "      <th>3</th>\n",
       "      <td>000024309</td>\n",
       "      <td>Кафе «Академия»</td>\n",
       "      <td>637376349</td>\n",
       "      <td>нет</td>\n",
       "      <td>NaN</td>\n",
       "      <td>ресторан</td>\n",
       "      <td>Центральный административный округ</td>\n",
       "      <td>Таганский район</td>\n",
       "      <td>Российская Федерация, город Москва, внутригоро...</td>\n",
       "      <td>PublicPhone:(495) 662-30-10\\n\\n</td>\n",
       "      <td>95</td>\n",
       "      <td>нет</td>\n",
       "      <td>37.6696475969381000</td>\n",
       "      <td>55.7355114718314000</td>\n",
       "      <td>NaN</td>\n",
       "      <td>NaN</td>\n",
       "    </tr>\n",
       "    <tr>\n",
       "      <th>4</th>\n",
       "      <td>000027429</td>\n",
       "      <td>ГБОУ «Школа № 1430 имени Героя Социалистическо...</td>\n",
       "      <td>637376480</td>\n",
       "      <td>нет</td>\n",
       "      <td>NaN</td>\n",
       "      <td>столовая</td>\n",
       "      <td>Северо-Восточный административный округ</td>\n",
       "      <td>район Лианозово</td>\n",
       "      <td>город Москва, Угличская улица, дом 17</td>\n",
       "      <td>PublicPhone:(499) 908-06-15\\n\\n</td>\n",
       "      <td>240</td>\n",
       "      <td>нет</td>\n",
       "      <td>37.5669400000000020</td>\n",
       "      <td>55.9040188006692200</td>\n",
       "      <td>NaN</td>\n",
       "      <td>NaN</td>\n",
       "    </tr>\n",
       "  </tbody>\n",
       "</table>\n",
       "</div>"
      ],
      "text/plain": [
       "          ID                                               Name  global_id  \\\n",
       "0        Код                                       Наименование  global_id   \n",
       "1   00151635                                            СМЕТАНА  637376221   \n",
       "2  000077874                                             Родник  637376331   \n",
       "3  000024309                                    Кафе «Академия»  637376349   \n",
       "4  000027429  ГБОУ «Школа № 1430 имени Героя Социалистическо...  637376480   \n",
       "\n",
       "        IsNetObject               OperatingCompany   TypeObject  \\\n",
       "0  Является сетевым  Название управляющей компании  Вид объекта   \n",
       "1               нет                            NaN         кафе   \n",
       "2               нет                            NaN         кафе   \n",
       "3               нет                            NaN     ресторан   \n",
       "4               нет                            NaN     столовая   \n",
       "\n",
       "                                   AdmArea           District  \\\n",
       "0         Административный округ по адресу              Район   \n",
       "1  Северо-Восточный административный округ  Ярославский район   \n",
       "2       Центральный административный округ    Таганский район   \n",
       "3       Центральный административный округ    Таганский район   \n",
       "4  Северо-Восточный административный округ    район Лианозово   \n",
       "\n",
       "                                             Address  \\\n",
       "0                                              Адрес   \n",
       "1         город Москва, улица Егора Абакумова, дом 9   \n",
       "2  город Москва, улица Талалихина, дом 2/1, корпус 1   \n",
       "3  Российская Федерация, город Москва, внутригоро...   \n",
       "4              город Москва, Угличская улица, дом 17   \n",
       "\n",
       "                       PublicPhone             SeatsCount  \\\n",
       "0               Контактный телефон  Число посадочных мест   \n",
       "1  PublicPhone:(499) 183-14-10\\n\\n                     48   \n",
       "2  PublicPhone:(495) 676-55-35\\n\\n                     35   \n",
       "3  PublicPhone:(495) 662-30-10\\n\\n                     95   \n",
       "4  PublicPhone:(499) 908-06-15\\n\\n                    240   \n",
       "\n",
       "              SocialPrivileges      Longitude_WGS84       Latitude_WGS84  \\\n",
       "0  Показатель социальных льгот     Долгота в WGS-84      Широта в WGS-84   \n",
       "1                          нет  37.7145650004360390  55.8790015313033730   \n",
       "2                          нет  37.6733061300344000  55.7382386551547000   \n",
       "3                          нет  37.6696475969381000  55.7355114718314000   \n",
       "4                          нет  37.5669400000000020  55.9040188006692200   \n",
       "\n",
       "   geodata_center  geoarea  \n",
       "0  geodata_center  geoarea  \n",
       "1             NaN      NaN  \n",
       "2             NaN      NaN  \n",
       "3             NaN      NaN  \n",
       "4             NaN      NaN  "
      ]
     },
     "execution_count": 19,
     "metadata": {},
     "output_type": "execute_result"
    }
   ],
   "source": [
    "spreadsheet_id = '1Iif5v_mFWxhH8cSr06XMpWK2gGJQ7XHvaQeYajMJrGI' # импортируем данные из портала открытых данных г. Москвы\n",
    "file_name = 'https://docs.google.com/spreadsheets/d/{}/export?format=csv'.format(spreadsheet_id)\n",
    "r = requests.get(file_name)\n",
    "df_rest = pd.read_csv(BytesIO(r.content))\n",
    "df_rest.head()"
   ]
  },
  {
   "cell_type": "code",
   "execution_count": 20,
   "id": "57724da9",
   "metadata": {
    "scrolled": true
   },
   "outputs": [
    {
     "name": "stdout",
     "output_type": "stream",
     "text": [
      "Количество улиц с одним заведением: 587\n"
     ]
    },
    {
     "data": {
      "text/html": [
       "<div>\n",
       "<style scoped>\n",
       "    .dataframe tbody tr th:only-of-type {\n",
       "        vertical-align: middle;\n",
       "    }\n",
       "\n",
       "    .dataframe tbody tr th {\n",
       "        vertical-align: top;\n",
       "    }\n",
       "\n",
       "    .dataframe thead th {\n",
       "        text-align: right;\n",
       "    }\n",
       "</style>\n",
       "<table border=\"1\" class=\"dataframe\">\n",
       "  <thead>\n",
       "    <tr style=\"text-align: right;\">\n",
       "      <th></th>\n",
       "      <th>street</th>\n",
       "      <th>count_rests</th>\n",
       "      <th>admarea</th>\n",
       "      <th>district</th>\n",
       "    </tr>\n",
       "  </thead>\n",
       "  <tbody>\n",
       "    <tr>\n",
       "      <th>0</th>\n",
       "      <td>улица Клочкова</td>\n",
       "      <td>1</td>\n",
       "      <td>Западный административный округ</td>\n",
       "      <td>район Фили-Давыдково</td>\n",
       "    </tr>\n",
       "    <tr>\n",
       "      <th>1</th>\n",
       "      <td>улица Дубки</td>\n",
       "      <td>1</td>\n",
       "      <td>Северный административный округ</td>\n",
       "      <td>Тимирязевский район</td>\n",
       "    </tr>\n",
       "    <tr>\n",
       "      <th>3</th>\n",
       "      <td>улица Высоцкого</td>\n",
       "      <td>1</td>\n",
       "      <td>Центральный административный округ</td>\n",
       "      <td>Таганский район</td>\n",
       "    </tr>\n",
       "    <tr>\n",
       "      <th>4</th>\n",
       "      <td>8-й проезд Марьиной Рощи</td>\n",
       "      <td>1</td>\n",
       "      <td>NaN</td>\n",
       "      <td>NaN</td>\n",
       "    </tr>\n",
       "    <tr>\n",
       "      <th>5</th>\n",
       "      <td>Библиотечная улица</td>\n",
       "      <td>1</td>\n",
       "      <td>Центральный административный округ</td>\n",
       "      <td>Таганский район</td>\n",
       "    </tr>\n",
       "  </tbody>\n",
       "</table>\n",
       "</div>"
      ],
      "text/plain": [
       "                      street  count_rests                             admarea  \\\n",
       "0             улица Клочкова            1     Западный административный округ   \n",
       "1                улица Дубки            1     Северный административный округ   \n",
       "3            улица Высоцкого            1  Центральный административный округ   \n",
       "4   8-й проезд Марьиной Рощи            1                                 NaN   \n",
       "5         Библиотечная улица            1  Центральный административный округ   \n",
       "\n",
       "               district  \n",
       "0  район Фили-Давыдково  \n",
       "1   Тимирязевский район  \n",
       "3       Таганский район  \n",
       "4                   NaN  \n",
       "5       Таганский район  "
      ]
     },
     "execution_count": 20,
     "metadata": {},
     "output_type": "execute_result"
    }
   ],
   "source": [
    "# также выделим улицу в отдельный столбец\n",
    "df_rest.columns = map(str.lower, df_rest.columns)\n",
    "df_rest['street'] = df_rest['address'].str.split(',', expand=True)[1]\n",
    "df_rest = df_rest[df_rest['street'].str.contains(\"поселок|поселение|город|деревня|станция\") == False]\n",
    "\n",
    "# объединим со срезом улиц с одним рестораном\n",
    "one_rest_street = top10_street.query('count_rests == 1')\n",
    "one_rest_street = one_rest_street.merge(df_rest[['admarea', 'district', 'street']], left_on = 'street', right_on = 'street', how = 'left')\n",
    "one_rest_street = one_rest_street.drop_duplicates()\n",
    "print('Количество улиц с одним заведением:', one_rest_street['street'].count())\n",
    "one_rest_street.head()"
   ]
  },
  {
   "cell_type": "code",
   "execution_count": 21,
   "id": "757a478f",
   "metadata": {},
   "outputs": [
    {
     "data": {
      "image/png": "[encoded data removed]",
      "text/plain": [
       "<Figure size 432x288 with 1 Axes>"
      ]
     },
     "metadata": {},
     "output_type": "display_data"
    }
   ],
   "source": [
    "# сделаем срезы по районам и административным округам\n",
    "\n",
    "top10_area = one_rest_street.groupby('admarea').agg({'street': 'nunique'}).rename(columns={'street': 'count_streets'}).sort_values(by='count_streets', ascending=False).reset_index()\n",
    "ax = sns.barplot(x='count_streets', y='admarea', data=top10_area.head(10), color='red')\n",
    "ax.set_title('Топ-10 округов с наибольшим количеством улиц с одним рестораном')\n",
    "ax.set_xlabel('Количество улиц')\n",
    "ax.set_ylabel('Название округа')\n",
    "plt.show()"
   ]
  },
  {
   "cell_type": "code",
   "execution_count": 22,
   "id": "6a22bc33",
   "metadata": {},
   "outputs": [
    {
     "data": {
      "image/png": "[encoded data removed]",
      "text/plain": [
       "<Figure size 432x288 with 1 Axes>"
      ]
     },
     "metadata": {},
     "output_type": "display_data"
    }
   ],
   "source": [
    "top10_district = one_rest_street.groupby('district').agg({'street': 'nunique'}).rename(columns={'street': 'count_streets'}).sort_values(by='count_streets', ascending=False).reset_index()\n",
    "ax = sns.barplot(x='count_streets', y='district', data=top10_district.head(10), color='green')\n",
    "ax.set_title('Топ-10 районов с наибольшим количеством улиц с одним рестораном')\n",
    "ax.set_xlabel('Количество улиц')\n",
    "ax.set_ylabel('Название района')\n",
    "plt.show()"
   ]
  },
  {
   "cell_type": "markdown",
   "id": "01f76c54",
   "metadata": {},
   "source": [
    "<div class=\"alert alert-danger\"; style=\"border-left: 7px solid FireBrick\">\n",
    "<h5> ❌ <font color=\"FireBrick\">Комментарий ревьюера (красный)</font></h5>\n",
    "\n",
    "Построй, пожалуйста, график по топ 10 районам с наибольшим количеством улиц с одним заведением общественного питания.\n",
    "    \n",
    "\n",
    "</div>"
   ]
  },
  {
   "cell_type": "markdown",
   "id": "94121479",
   "metadata": {},
   "source": [
    "587 улиц имеют один ресторан.\n",
    "\n",
    "##### По округам:\n",
    "- Центральный округ в основе имеет переулки, улицы малой протяженности, тупики поэтому имеет в 2 раза больше улиц с одним заведением, чем у остальных округов. Также он является одним из самых дорогих, плюс на нем масса проблем с парковкой\n",
    "- наибольшее количество таких улиц (от 40 до 50) имеет Север и Восток Москвы. Инфраструктурно эта часть города более старая, больше заполнена промзонами, недвижимость здесь в среднем дешевле.\n",
    "- наиболее популярными для ресторанов являются Запад, Юг и Северо-Запад Москвы. Здесь количество улиц менее 30 \n",
    "- меньше всего у Южного округа (чуть более 10)\n",
    "\n",
    "##### По районам: \n",
    "- 8 районов из топ-10 находятся в Центральном округе\n",
    "- 2 района (Сокольники и Соколиная гора) находятся на Северо-Востоке, в старейшей части города"
   ]
  },
  {
   "cell_type": "markdown",
   "id": "89ceebc1",
   "metadata": {},
   "source": [
    "### Общие выводы и рекомендации к формату и месторасположению нового ресторана:\n",
    "\n",
    "##### Выводы по типам объекта:\n",
    "- самым популярным типом заведения в Москве является \"кафе\", более 30% от общего количества объектов, также к популярным можно отнести форматы \"столовая\", \"ресторан\" и \"предприятия быстрого обслуживания\" с долей около 15%\n",
    "- несетевых заведений в 4 раза больше, чем сетевых\n",
    "- сетевое распространение наиболее характерно для предприятий быстрого обслуживания, с долей 28%, чуть менее характерно для ресторанов и кафе, 23 и 22% соответственно. У остальных типов доля менее 10%\n",
    "\n",
    "##### Выводы по среднему количеству посадочных мест:\n",
    "- для сетевых заведений с большим количеством ресторанов характерно относительно небольшое количество посадочных мест(до 150 мест), а для сетей с небольшим количеством - большое количество посадочных мест(до 300). Основу распределения составляет до 40 ресторанов в сети и количество посадочных мест до 150.\n",
    "- сетевые предприятия быстрого обслуживания в среднем предлагают на 90% больше посадочных мест, чем несетевые. Закусочные - на 75%, отделы кулинарии - на 50%\n",
    "- сетевые бары, кафе, рестораны и столовые в среднем предлагают примерно одинаковое количество мест\n",
    "\n",
    "##### Выводы по улицам с наибольшим числом заведений, а также по улицам с одним заведением:\n",
    "- наиболее популярные места расположены на самых протяженных улицах\\проспектах, берущих начало от Садового кольца (центра Москвы) и переходящих в федеральные трассы.\n",
    "- на проспекте Мира более 200 ресторанов, проходит через северо-восточную часть Москвы\n",
    "- остальные улицы из топ-10 находятся на Западе и Юге Москвы, на каждой расположены более 100 ресторанов\n",
    "- Центральный округ в основе имеет переулки, улицы малой протяженности, тупики поэтому имеет в 2 раза больше улиц с одним заведением, чем у остальных округов, около 20% от общего числа улиц. Также он является одним из самых дорогих, плюс на нем масса проблем с парковкой. \n",
    "- наиболее популярными для ресторанов являются Запад, Юг и Северо-Запад Москвы. Здесь количество улиц менее 3% от общего количества улиц с одним заведением\n",
    "- исходя из статистики по ключевому запросу \"роботы-официанты\", количество запросов имеет тренд на рост. Значит тематика еще набирает популярность.\n",
    "\n",
    "#### Рекомендации:\n",
    "\n",
    "- наиболее благоприятные места для нового кафе самые протяженные улицы\\проспекты, берущие начало от Садового кольца (центра Москвы) и переходящие в федеральные трассы, преимущественно на Юге или Западе города.\n",
    "- улицы районов с высокой плотностью населения, парковок, инфраструктурных и туристических объектов. Также благоприятно наличие вблизи конкурентов с отличным форматом и тематикой\n",
    "- оптимальным будет формат несетевого кафе или ресторана с небольшим количеством посадочных мест (от 50 до 100), это оптимизирует операционные расходы и создаст ограниченность доступа во время ажиотажа, что поднимет популярность\n",
    "- будет большим преимуществом расположение вблизи инновационных центров, типа \"Иннополис\", которые будут привлекать целевую аудитории кафе"
   ]
  },
  {
   "cell_type": "markdown",
   "id": "b2800e35",
   "metadata": {},
   "source": [
    "<div class=\"alert alert-danger\"; style=\"border-left: 7px solid FireBrick\">\n",
    "<h5> ❌ <font color=\"FireBrick\">Комментарий ревьюера (красный)</font></h5>\n",
    "\n",
    "В общем выводе хочется тезисно видеть все промежуточные выводы с цифрами. Это очень важно, поскольку топ-менеджеры, в большинстве своем, смотрят сразу сюда и только сюда...\n",
    "\n",
    "Тут важно обратиться к целям, которые были озвучены в самом начале и ответить на все вопросы. Важно оформить все тезисно и с цифрами. Еще важно описать все промежуточные выводы, которых не прописано в целях.\n",
    "Вкратце структура такая:\n",
    "- как были предобработаны данные(тут важно написать про изменения, если заполнялись пропуски или преобразовывались строки)\n",
    "- пройдись по целям и ответь на вопросы\n",
    "- добавь промежуточные выводы, которые считаешь нужным отметить\n",
    "\n",
    "Еще очень важно помнить, для кого ты делаешь проект, в зависимости от этого нужно сделать определенные акценты. В данном случае проект учебный, поэтому нужно ориентироваться по описанию.\n",
    "\n",
    "Оформи, пожалуйста, красиво с помощью [Краткого руководства по Маркдауну](https://paulradzkov.com/2014/markdown_cheatsheet/).\n",
    "    \n",
    "\n",
    "</div>"
   ]
  },
  {
   "cell_type": "markdown",
   "id": "f5ead8f5",
   "metadata": {},
   "source": [
    "Презентация: https://disk.yandex.ru/i/9n_Q68p7SJLNcg"
   ]
  },
  {
   "cell_type": "markdown",
   "id": "8528c8fc",
   "metadata": {},
   "source": [
    "<div class=\"alert alert-danger\"; style=\"border-left: 7px solid FireBrick\">\n",
    "<h5> ❌ <font color=\"FireBrick\">Комментарий ревьюера (красный)</font></h5>\n",
    "\n",
    "Спасибо, презентация подготовлена очень качественно:\n",
    "- соблюден общий стиль презентации\n",
    "- выделены только главные тезисы\n",
    "- тезисы оформлены понятно\n",
    "- подведены общие итоги исследования\n",
    "- даны рекомендации по результатам исследования\n",
    "- оформлены все необходимые графики\n",
    "\n",
    "Нужно исправить:\n",
    "- презентацию выложить в формате pdf, чтобы у пользователей ничего не съехало, формат pptx не везде одинаково отображается\n",
    "- актуализируй презентацию после исправления графиков\n",
    "- добавить нумерацию слайдов\n",
    "- добавить автора исследования\n",
    "- в начале не описаны цели исследования\n",
    "- добавить финальный слайд(«Спасибо за внимание»)\n",
    "    \n",
    "\n",
    "</div>"
   ]
  },
  {
   "cell_type": "code",
   "execution_count": null,
   "id": "c5f8d846",
   "metadata": {},
   "outputs": [],
   "source": []
  }
 ],
 "metadata": {
  "kernelspec": {
   "display_name": "Python 3 (ipykernel)",
   "language": "python",
   "name": "python3"
  },
  "language_info": {
   "codemirror_mode": {
    "name": "ipython",
    "version": 3
   },
   "file_extension": ".py",
   "mimetype": "text/x-python",
   "name": "python",
   "nbconvert_exporter": "python",
   "pygments_lexer": "ipython3",
   "version": "3.9.12"
  }
 },
 "nbformat": 4,
 "nbformat_minor": 5
}
