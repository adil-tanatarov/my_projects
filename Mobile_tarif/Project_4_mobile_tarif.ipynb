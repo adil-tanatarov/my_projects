{
 "cells": [
  {
   "cell_type": "markdown",
   "id": "faa27785",
   "metadata": {},
   "source": [
    "## Проект исследования прибыльности тарифов мобильного оператора"
   ]
  },
  {
   "cell_type": "markdown",
   "id": "0894baf1",
   "metadata": {},
   "source": [
    "### 1. Описание проекта\n",
    "\n",
    "Компания «Мегалайн» — федеральный оператор сотовой связи. Клиентам предлагают два тарифных плана: «Смарт» и «Ультра». Чтобы скорректировать рекламный бюджет, коммерческий департамент хочет понять, какой тариф приносит больше денег.\n",
    "\n",
    "Необходимо сделать предварительный анализ тарифов на небольшой выборке клиентов. В нашем распоряжении данные 500 пользователей «Мегалайна»: кто они, откуда, каким тарифом пользуются, сколько звонков и сообщений каждый отправил за 2018 год. \n",
    "\n",
    "Нужно проанализировать поведение клиентов и сделать вывод — какой тариф лучше."
   ]
  },
  {
   "cell_type": "markdown",
   "id": "25b10983",
   "metadata": {},
   "source": [
    "### 2. Описание тарифов\n",
    "\n",
    "#### Тариф «Смарт»\n",
    "\n",
    "- Ежемесячная плата: 550 рублей\n",
    "- Включено 500 минут разговора, 50 сообщений и 15 Гб интернет-трафика\n",
    "Стоимость услуг сверх тарифного пакета:\n",
    "    - минута разговора: 3 рубля\n",
    "    - сообщение: 3 рубля\n",
    "    - 1 Гб интернет-трафика: 200 рублей\n",
    "    \n",
    "#### Тариф «Ультра»\n",
    "\n",
    "- Ежемесячная плата: 1950 рублей\n",
    "- Включено 3000 минут разговора, 1000 сообщений и 30 Гб интернет-трафика\n",
    "Стоимость услуг сверх тарифного пакета:\n",
    "    - минута разговора: 1 рубль\n",
    "    - сообщение: 1 рубль\n",
    "    - 1 Гб интернет-трафика: 150 рублей\n",
    "    \n",
    "*Примечание:\n",
    "\n",
    "*«Мегалайн» всегда округляет секунды до минут, а мегабайты — до гигабайт. Каждый звонок округляется отдельно: даже если он длился всего 1 секунду, будет засчитан как 1 минута.\n",
    "\n",
    "*Для веб-трафика отдельные сессии не считаются. Вместо этого общая сумма за месяц округляется в бо́льшую сторону. Если абонент использует 1025 мегабайт в этом месяце, с него возьмут плату за 2 гигабайта."
   ]
  },
  {
   "cell_type": "markdown",
   "id": "3471f521",
   "metadata": {},
   "source": [
    "### 3. Описание данных\n",
    "\n",
    "#### Таблица users (информация о пользователях):\n",
    "    user_id — уникальный идентификатор пользователя\n",
    "    first_name — имя пользователя\n",
    "    last_name — фамилия пользователя\n",
    "    age — возраст пользователя (годы)\n",
    "    reg_date — дата подключения тарифа (день, месяц, год)\n",
    "    churn_date — дата прекращения пользования тарифом (если значение пропущено, то тариф ещё действовал на момент выгрузки данных)\n",
    "    city — город проживания пользователя\n",
    "    tariff — название тарифного плана\n",
    "\n",
    "#### Таблица messages (информация о сообщениях):\n",
    "    id — уникальный номер сообщения\n",
    "    message_date — дата сообщения\n",
    "    user_id — идентификатор пользователя, отправившего сообщение\n",
    "    \n",
    "#### Таблица internet (информация об интернет-сессиях):\n",
    "    id — уникальный номер сессии\n",
    "    mb_used — объём потраченного за сессию интернет-трафика (в мегабайтах)\n",
    "    session_date — дата интернет-сессии\n",
    "    user_id — идентификатор пользователя\n",
    "\n",
    "#### Таблица tariffs (информация о тарифах):\n",
    "    tariff_name — название тарифа\n",
    "    rub_monthly_fee — ежемесячная абонентская плата в рублях\n",
    "    minutes_included — количество минут разговора в месяц, включённых в абонентскую плату\n",
    "    messages_included — количество сообщений в месяц, включённых в абонентскую плату\n",
    "    mb_per_month_included — объём интернет-трафика, включённого в абонентскую плату (в мегабайтах)\n",
    "    rub_per_minute — стоимость минуты разговора сверх тарифного пакета (например, если в тарифе 100 минут разговора в месяц, то со 101 минуты будет взиматься плата)\n",
    "    rub_per_message — стоимость отправки сообщения сверх тарифного пакета\n",
    "    rub_per_gb — стоимость дополнительного гигабайта интернет-трафика сверх тарифного пакета (1 гигабайт = 1024 мегабайта)"
   ]
  },
  {
   "cell_type": "markdown",
   "id": "12661180",
   "metadata": {},
   "source": [
    "### 4. Импорт библиотек и данных"
   ]
  },
  {
   "cell_type": "code",
   "execution_count": 1,
   "id": "ed49c50e",
   "metadata": {},
   "outputs": [],
   "source": [
    "import pandas as pd\n",
    "import seaborn as sns\n",
    "import matplotlib.pyplot as plt\n",
    "import numpy as np\n",
    "from scipy import stats as st"
   ]
  },
  {
   "cell_type": "code",
   "execution_count": 2,
   "id": "d4897d2a",
   "metadata": {},
   "outputs": [],
   "source": [
    "pd.set_option('display.max_columns', None)\n",
    "\n",
    "df_calls = pd.read_csv('/datasets/calls.csv', sep=',')\n",
    "df_internet = pd.read_csv('/datasets/internet.csv', sep=',')\n",
    "df_messages = pd.read_csv('/datasets/messages.csv', sep=',')\n",
    "df_users = pd.read_csv(r'/datasets/users.csv', sep=',')\n",
    "df_tariffs = pd.read_csv(r'/datasets/tariffs.csv', sep=',')"
   ]
  },
  {
   "cell_type": "markdown",
   "id": "5f6ee571",
   "metadata": {},
   "source": [
    "### 5. Предобработка данных"
   ]
  },
  {
   "cell_type": "markdown",
   "id": "a3dece64",
   "metadata": {},
   "source": [
    "#### Проверим наличие пропусков"
   ]
  },
  {
   "cell_type": "code",
   "execution_count": 3,
   "id": "1c06044f",
   "metadata": {},
   "outputs": [
    {
     "name": "stdout",
     "output_type": "stream",
     "text": [
      "Звонки:  id           0\n",
      "call_date    0\n",
      "duration     0\n",
      "user_id      0\n",
      "dtype: int64\n",
      "Интернет:  Unnamed: 0      0\n",
      "id              0\n",
      "mb_used         0\n",
      "session_date    0\n",
      "user_id         0\n",
      "dtype: int64\n",
      "Сообщения:  id              0\n",
      "message_date    0\n",
      "user_id         0\n",
      "dtype: int64\n",
      "Пользователи:  user_id         0\n",
      "age             0\n",
      "churn_date    462\n",
      "city            0\n",
      "first_name      0\n",
      "last_name       0\n",
      "reg_date        0\n",
      "tariff          0\n",
      "dtype: int64\n",
      "Тарифы:  messages_included        0\n",
      "mb_per_month_included    0\n",
      "minutes_included         0\n",
      "rub_monthly_fee          0\n",
      "rub_per_gb               0\n",
      "rub_per_message          0\n",
      "rub_per_minute           0\n",
      "tariff_name              0\n",
      "dtype: int64\n"
     ]
    }
   ],
   "source": [
    "print('Звонки: ', df_calls.isna().sum())\n",
    "print('Интернет: ', df_internet.isna().sum())\n",
    "print('Сообщения: ', df_messages.isna().sum())\n",
    "print('Пользователи: ', df_users.isna().sum())\n",
    "print('Тарифы: ', df_tariffs.isna().sum())"
   ]
  },
  {
   "cell_type": "markdown",
   "id": "1f6c227a",
   "metadata": {},
   "source": [
    "<div class=\"alert alert-info\">\n",
    "    Пропуски присутствуют только в таблице Users в столбце Churn_date(дата прекращения пользования тарифом), игнорируем т.к. это действующие пользователи тарифа на момент выгрузки.\n",
    "    </div>"
   ]
  },
  {
   "cell_type": "markdown",
   "id": "340c010e",
   "metadata": {},
   "source": [
    "#### Преобразуем типы данных"
   ]
  },
  {
   "cell_type": "code",
   "execution_count": 4,
   "id": "1bf1ffae",
   "metadata": {
    "scrolled": true
   },
   "outputs": [
    {
     "data": {
      "text/html": [
       "<div>\n",
       "<style scoped>\n",
       "    .dataframe tbody tr th:only-of-type {\n",
       "        vertical-align: middle;\n",
       "    }\n",
       "\n",
       "    .dataframe tbody tr th {\n",
       "        vertical-align: top;\n",
       "    }\n",
       "\n",
       "    .dataframe thead th {\n",
       "        text-align: right;\n",
       "    }\n",
       "</style>\n",
       "<table border=\"1\" class=\"dataframe\">\n",
       "  <thead>\n",
       "    <tr style=\"text-align: right;\">\n",
       "      <th></th>\n",
       "      <th></th>\n",
       "      <th>count_calls</th>\n",
       "      <th>sum_calls</th>\n",
       "    </tr>\n",
       "    <tr>\n",
       "      <th>user_id</th>\n",
       "      <th>month</th>\n",
       "      <th></th>\n",
       "      <th></th>\n",
       "    </tr>\n",
       "  </thead>\n",
       "  <tbody>\n",
       "    <tr>\n",
       "      <th rowspan=\"5\" valign=\"top\">1000</th>\n",
       "      <th>5</th>\n",
       "      <td>22</td>\n",
       "      <td>159.0</td>\n",
       "    </tr>\n",
       "    <tr>\n",
       "      <th>6</th>\n",
       "      <td>43</td>\n",
       "      <td>172.0</td>\n",
       "    </tr>\n",
       "    <tr>\n",
       "      <th>7</th>\n",
       "      <td>47</td>\n",
       "      <td>340.0</td>\n",
       "    </tr>\n",
       "    <tr>\n",
       "      <th>8</th>\n",
       "      <td>52</td>\n",
       "      <td>408.0</td>\n",
       "    </tr>\n",
       "    <tr>\n",
       "      <th>9</th>\n",
       "      <td>58</td>\n",
       "      <td>466.0</td>\n",
       "    </tr>\n",
       "    <tr>\n",
       "      <th>...</th>\n",
       "      <th>...</th>\n",
       "      <td>...</td>\n",
       "      <td>...</td>\n",
       "    </tr>\n",
       "    <tr>\n",
       "      <th>1498</th>\n",
       "      <th>10</th>\n",
       "      <td>41</td>\n",
       "      <td>247.0</td>\n",
       "    </tr>\n",
       "    <tr>\n",
       "      <th rowspan=\"4\" valign=\"top\">1499</th>\n",
       "      <th>9</th>\n",
       "      <td>9</td>\n",
       "      <td>70.0</td>\n",
       "    </tr>\n",
       "    <tr>\n",
       "      <th>10</th>\n",
       "      <td>68</td>\n",
       "      <td>449.0</td>\n",
       "    </tr>\n",
       "    <tr>\n",
       "      <th>11</th>\n",
       "      <td>74</td>\n",
       "      <td>612.0</td>\n",
       "    </tr>\n",
       "    <tr>\n",
       "      <th>12</th>\n",
       "      <td>69</td>\n",
       "      <td>492.0</td>\n",
       "    </tr>\n",
       "  </tbody>\n",
       "</table>\n",
       "<p>3174 rows × 2 columns</p>\n",
       "</div>"
      ],
      "text/plain": [
       "               count_calls  sum_calls\n",
       "user_id month                        \n",
       "1000    5               22      159.0\n",
       "        6               43      172.0\n",
       "        7               47      340.0\n",
       "        8               52      408.0\n",
       "        9               58      466.0\n",
       "...                    ...        ...\n",
       "1498    10              41      247.0\n",
       "1499    9                9       70.0\n",
       "        10              68      449.0\n",
       "        11              74      612.0\n",
       "        12              69      492.0\n",
       "\n",
       "[3174 rows x 2 columns]"
      ]
     },
     "metadata": {},
     "output_type": "display_data"
    }
   ],
   "source": [
    "df_calls['call_date'] = pd.to_datetime(df_calls['call_date'], format='%Y-%m-%d')\n",
    "df_calls['duration'] = np.ceil(df_calls['duration'])\n",
    "df_calls['month'] = df_calls['call_date'].dt.month\n",
    "\n",
    "df_calls_pivot = df_calls.pivot_table(index=['user_id', 'month'], values='duration', aggfunc=['count', 'sum'])\n",
    "df_calls_pivot.reset_index()\n",
    "df_calls_pivot.columns = ['count_calls', 'sum_calls']\n",
    "display(df_calls_pivot)"
   ]
  },
  {
   "cell_type": "markdown",
   "id": "7cb1d6c7",
   "metadata": {},
   "source": [
    "<div class=\"alert alert-info\">\n",
    "    Преобразовали столбец с датой и выделили отдельной колонкой месяц для подсчета. Длительность звонков округлили в большую сторону соответственно Условиям тарифов\n",
    "    </div>"
   ]
  },
  {
   "cell_type": "code",
   "execution_count": 5,
   "id": "c7f01cfa",
   "metadata": {
    "scrolled": true
   },
   "outputs": [
    {
     "data": {
      "text/html": [
       "<div>\n",
       "<style scoped>\n",
       "    .dataframe tbody tr th:only-of-type {\n",
       "        vertical-align: middle;\n",
       "    }\n",
       "\n",
       "    .dataframe tbody tr th {\n",
       "        vertical-align: top;\n",
       "    }\n",
       "\n",
       "    .dataframe thead th {\n",
       "        text-align: right;\n",
       "    }\n",
       "</style>\n",
       "<table border=\"1\" class=\"dataframe\">\n",
       "  <thead>\n",
       "    <tr style=\"text-align: right;\">\n",
       "      <th></th>\n",
       "      <th></th>\n",
       "      <th>gb_sum</th>\n",
       "    </tr>\n",
       "    <tr>\n",
       "      <th>user_id</th>\n",
       "      <th>month</th>\n",
       "      <th></th>\n",
       "    </tr>\n",
       "  </thead>\n",
       "  <tbody>\n",
       "    <tr>\n",
       "      <th rowspan=\"5\" valign=\"top\">1000</th>\n",
       "      <th>5</th>\n",
       "      <td>3.0</td>\n",
       "    </tr>\n",
       "    <tr>\n",
       "      <th>6</th>\n",
       "      <td>23.0</td>\n",
       "    </tr>\n",
       "    <tr>\n",
       "      <th>7</th>\n",
       "      <td>14.0</td>\n",
       "    </tr>\n",
       "    <tr>\n",
       "      <th>8</th>\n",
       "      <td>14.0</td>\n",
       "    </tr>\n",
       "    <tr>\n",
       "      <th>9</th>\n",
       "      <td>15.0</td>\n",
       "    </tr>\n",
       "    <tr>\n",
       "      <th>...</th>\n",
       "      <th>...</th>\n",
       "      <td>...</td>\n",
       "    </tr>\n",
       "    <tr>\n",
       "      <th>1498</th>\n",
       "      <th>10</th>\n",
       "      <td>21.0</td>\n",
       "    </tr>\n",
       "    <tr>\n",
       "      <th rowspan=\"4\" valign=\"top\">1499</th>\n",
       "      <th>9</th>\n",
       "      <td>2.0</td>\n",
       "    </tr>\n",
       "    <tr>\n",
       "      <th>10</th>\n",
       "      <td>18.0</td>\n",
       "    </tr>\n",
       "    <tr>\n",
       "      <th>11</th>\n",
       "      <td>18.0</td>\n",
       "    </tr>\n",
       "    <tr>\n",
       "      <th>12</th>\n",
       "      <td>13.0</td>\n",
       "    </tr>\n",
       "  </tbody>\n",
       "</table>\n",
       "<p>3203 rows × 1 columns</p>\n",
       "</div>"
      ],
      "text/plain": [
       "               gb_sum\n",
       "user_id month        \n",
       "1000    5         3.0\n",
       "        6        23.0\n",
       "        7        14.0\n",
       "        8        14.0\n",
       "        9        15.0\n",
       "...               ...\n",
       "1498    10       21.0\n",
       "1499    9         2.0\n",
       "        10       18.0\n",
       "        11       18.0\n",
       "        12       13.0\n",
       "\n",
       "[3203 rows x 1 columns]"
      ]
     },
     "metadata": {},
     "output_type": "display_data"
    }
   ],
   "source": [
    "df_internet['session_date'] = pd.to_datetime(df_internet['session_date'], format='%Y-%m-%d')\n",
    "df_internet['month'] = df_internet['session_date'].dt.month\n",
    "\n",
    "df_internet_pivot = df_internet.pivot_table(index=['user_id', 'month'], values='mb_used', aggfunc='sum')\n",
    "df_internet_pivot['mb_used'] = np.ceil(df_internet_pivot['mb_used'] / 1024)\n",
    "df_internet_pivot = df_internet_pivot.rename(columns={\n",
    "    'mb_used': 'gb_sum'\n",
    "})\n",
    "df_internet_pivot.reset_index()\n",
    "display(df_internet_pivot)"
   ]
  },
  {
   "cell_type": "markdown",
   "id": "46e0de16",
   "metadata": {},
   "source": [
    "<div class=\"alert alert-info\">\n",
    "    Также выделили месяц от даты сессии для подсчетов и округлили количество Мб до Гб в большую сторону соответственно Условиям тарифов\n",
    "    </div>"
   ]
  },
  {
   "cell_type": "code",
   "execution_count": 6,
   "id": "55a94720",
   "metadata": {},
   "outputs": [
    {
     "data": {
      "text/html": [
       "<div>\n",
       "<style scoped>\n",
       "    .dataframe tbody tr th:only-of-type {\n",
       "        vertical-align: middle;\n",
       "    }\n",
       "\n",
       "    .dataframe tbody tr th {\n",
       "        vertical-align: top;\n",
       "    }\n",
       "\n",
       "    .dataframe thead th {\n",
       "        text-align: right;\n",
       "    }\n",
       "</style>\n",
       "<table border=\"1\" class=\"dataframe\">\n",
       "  <thead>\n",
       "    <tr style=\"text-align: right;\">\n",
       "      <th></th>\n",
       "      <th></th>\n",
       "      <th>message_count</th>\n",
       "    </tr>\n",
       "    <tr>\n",
       "      <th>user_id</th>\n",
       "      <th>month</th>\n",
       "      <th></th>\n",
       "    </tr>\n",
       "  </thead>\n",
       "  <tbody>\n",
       "    <tr>\n",
       "      <th rowspan=\"5\" valign=\"top\">1000</th>\n",
       "      <th>5</th>\n",
       "      <td>22</td>\n",
       "    </tr>\n",
       "    <tr>\n",
       "      <th>6</th>\n",
       "      <td>60</td>\n",
       "    </tr>\n",
       "    <tr>\n",
       "      <th>7</th>\n",
       "      <td>75</td>\n",
       "    </tr>\n",
       "    <tr>\n",
       "      <th>8</th>\n",
       "      <td>81</td>\n",
       "    </tr>\n",
       "    <tr>\n",
       "      <th>9</th>\n",
       "      <td>57</td>\n",
       "    </tr>\n",
       "    <tr>\n",
       "      <th>...</th>\n",
       "      <th>...</th>\n",
       "      <td>...</td>\n",
       "    </tr>\n",
       "    <tr>\n",
       "      <th>1498</th>\n",
       "      <th>10</th>\n",
       "      <td>42</td>\n",
       "    </tr>\n",
       "    <tr>\n",
       "      <th rowspan=\"4\" valign=\"top\">1499</th>\n",
       "      <th>9</th>\n",
       "      <td>11</td>\n",
       "    </tr>\n",
       "    <tr>\n",
       "      <th>10</th>\n",
       "      <td>48</td>\n",
       "    </tr>\n",
       "    <tr>\n",
       "      <th>11</th>\n",
       "      <td>59</td>\n",
       "    </tr>\n",
       "    <tr>\n",
       "      <th>12</th>\n",
       "      <td>66</td>\n",
       "    </tr>\n",
       "  </tbody>\n",
       "</table>\n",
       "<p>2717 rows × 1 columns</p>\n",
       "</div>"
      ],
      "text/plain": [
       "               message_count\n",
       "user_id month               \n",
       "1000    5                 22\n",
       "        6                 60\n",
       "        7                 75\n",
       "        8                 81\n",
       "        9                 57\n",
       "...                      ...\n",
       "1498    10                42\n",
       "1499    9                 11\n",
       "        10                48\n",
       "        11                59\n",
       "        12                66\n",
       "\n",
       "[2717 rows x 1 columns]"
      ]
     },
     "metadata": {},
     "output_type": "display_data"
    }
   ],
   "source": [
    "df_messages['message_date'] = pd.to_datetime(df_messages['message_date'], format='%Y-%m-%d')\n",
    "df_messages['month'] = df_messages['message_date'].dt.month\n",
    "\n",
    "df_messages_pivot = df_messages.pivot_table(index=['user_id', 'month'], values='id', aggfunc='count')\n",
    "df_messages_pivot = df_messages_pivot.rename(columns={\n",
    "    'id': 'message_count'\n",
    "})\n",
    "df_messages_pivot.reset_index()\n",
    "display(df_messages_pivot)"
   ]
  },
  {
   "cell_type": "code",
   "execution_count": 7,
   "id": "555849db",
   "metadata": {},
   "outputs": [
    {
     "data": {
      "text/html": [
       "<div>\n",
       "<style scoped>\n",
       "    .dataframe tbody tr th:only-of-type {\n",
       "        vertical-align: middle;\n",
       "    }\n",
       "\n",
       "    .dataframe tbody tr th {\n",
       "        vertical-align: top;\n",
       "    }\n",
       "\n",
       "    .dataframe thead th {\n",
       "        text-align: right;\n",
       "    }\n",
       "</style>\n",
       "<table border=\"1\" class=\"dataframe\">\n",
       "  <thead>\n",
       "    <tr style=\"text-align: right;\">\n",
       "      <th></th>\n",
       "      <th>user_id</th>\n",
       "      <th>age</th>\n",
       "      <th>churn_date</th>\n",
       "      <th>city</th>\n",
       "      <th>first_name</th>\n",
       "      <th>last_name</th>\n",
       "      <th>reg_date</th>\n",
       "      <th>tariff</th>\n",
       "    </tr>\n",
       "  </thead>\n",
       "  <tbody>\n",
       "    <tr>\n",
       "      <th>0</th>\n",
       "      <td>1000</td>\n",
       "      <td>52</td>\n",
       "      <td>NaT</td>\n",
       "      <td>Краснодар</td>\n",
       "      <td>Рафаил</td>\n",
       "      <td>Верещагин</td>\n",
       "      <td>2018-05-25</td>\n",
       "      <td>ultra</td>\n",
       "    </tr>\n",
       "    <tr>\n",
       "      <th>1</th>\n",
       "      <td>1001</td>\n",
       "      <td>41</td>\n",
       "      <td>NaT</td>\n",
       "      <td>Москва</td>\n",
       "      <td>Иван</td>\n",
       "      <td>Ежов</td>\n",
       "      <td>2018-11-01</td>\n",
       "      <td>smart</td>\n",
       "    </tr>\n",
       "    <tr>\n",
       "      <th>2</th>\n",
       "      <td>1002</td>\n",
       "      <td>59</td>\n",
       "      <td>NaT</td>\n",
       "      <td>Стерлитамак</td>\n",
       "      <td>Евгений</td>\n",
       "      <td>Абрамович</td>\n",
       "      <td>2018-06-17</td>\n",
       "      <td>smart</td>\n",
       "    </tr>\n",
       "    <tr>\n",
       "      <th>3</th>\n",
       "      <td>1003</td>\n",
       "      <td>23</td>\n",
       "      <td>NaT</td>\n",
       "      <td>Москва</td>\n",
       "      <td>Белла</td>\n",
       "      <td>Белякова</td>\n",
       "      <td>2018-08-17</td>\n",
       "      <td>ultra</td>\n",
       "    </tr>\n",
       "    <tr>\n",
       "      <th>4</th>\n",
       "      <td>1004</td>\n",
       "      <td>68</td>\n",
       "      <td>NaT</td>\n",
       "      <td>Новокузнецк</td>\n",
       "      <td>Татьяна</td>\n",
       "      <td>Авдеенко</td>\n",
       "      <td>2018-05-14</td>\n",
       "      <td>ultra</td>\n",
       "    </tr>\n",
       "    <tr>\n",
       "      <th>...</th>\n",
       "      <td>...</td>\n",
       "      <td>...</td>\n",
       "      <td>...</td>\n",
       "      <td>...</td>\n",
       "      <td>...</td>\n",
       "      <td>...</td>\n",
       "      <td>...</td>\n",
       "      <td>...</td>\n",
       "    </tr>\n",
       "    <tr>\n",
       "      <th>495</th>\n",
       "      <td>1495</td>\n",
       "      <td>65</td>\n",
       "      <td>NaT</td>\n",
       "      <td>Иркутск</td>\n",
       "      <td>Авксентий</td>\n",
       "      <td>Фокин</td>\n",
       "      <td>2018-08-28</td>\n",
       "      <td>ultra</td>\n",
       "    </tr>\n",
       "    <tr>\n",
       "      <th>496</th>\n",
       "      <td>1496</td>\n",
       "      <td>36</td>\n",
       "      <td>NaT</td>\n",
       "      <td>Вологда</td>\n",
       "      <td>Трифон</td>\n",
       "      <td>Блохин</td>\n",
       "      <td>2018-01-27</td>\n",
       "      <td>smart</td>\n",
       "    </tr>\n",
       "    <tr>\n",
       "      <th>497</th>\n",
       "      <td>1497</td>\n",
       "      <td>32</td>\n",
       "      <td>NaT</td>\n",
       "      <td>Челябинск</td>\n",
       "      <td>Каролина</td>\n",
       "      <td>Агеева</td>\n",
       "      <td>2018-10-09</td>\n",
       "      <td>smart</td>\n",
       "    </tr>\n",
       "    <tr>\n",
       "      <th>498</th>\n",
       "      <td>1498</td>\n",
       "      <td>68</td>\n",
       "      <td>2018-10-25</td>\n",
       "      <td>Владикавказ</td>\n",
       "      <td>Всеволод</td>\n",
       "      <td>Акимчин</td>\n",
       "      <td>2018-07-19</td>\n",
       "      <td>smart</td>\n",
       "    </tr>\n",
       "    <tr>\n",
       "      <th>499</th>\n",
       "      <td>1499</td>\n",
       "      <td>35</td>\n",
       "      <td>NaT</td>\n",
       "      <td>Пермь</td>\n",
       "      <td>Гектор</td>\n",
       "      <td>Корнилов</td>\n",
       "      <td>2018-09-27</td>\n",
       "      <td>smart</td>\n",
       "    </tr>\n",
       "  </tbody>\n",
       "</table>\n",
       "<p>500 rows × 8 columns</p>\n",
       "</div>"
      ],
      "text/plain": [
       "     user_id  age churn_date         city first_name  last_name   reg_date  \\\n",
       "0       1000   52        NaT    Краснодар     Рафаил  Верещагин 2018-05-25   \n",
       "1       1001   41        NaT       Москва       Иван       Ежов 2018-11-01   \n",
       "2       1002   59        NaT  Стерлитамак    Евгений  Абрамович 2018-06-17   \n",
       "3       1003   23        NaT       Москва      Белла   Белякова 2018-08-17   \n",
       "4       1004   68        NaT  Новокузнецк    Татьяна   Авдеенко 2018-05-14   \n",
       "..       ...  ...        ...          ...        ...        ...        ...   \n",
       "495     1495   65        NaT      Иркутск  Авксентий      Фокин 2018-08-28   \n",
       "496     1496   36        NaT      Вологда     Трифон     Блохин 2018-01-27   \n",
       "497     1497   32        NaT    Челябинск   Каролина     Агеева 2018-10-09   \n",
       "498     1498   68 2018-10-25  Владикавказ   Всеволод    Акимчин 2018-07-19   \n",
       "499     1499   35        NaT        Пермь     Гектор   Корнилов 2018-09-27   \n",
       "\n",
       "    tariff  \n",
       "0    ultra  \n",
       "1    smart  \n",
       "2    smart  \n",
       "3    ultra  \n",
       "4    ultra  \n",
       "..     ...  \n",
       "495  ultra  \n",
       "496  smart  \n",
       "497  smart  \n",
       "498  smart  \n",
       "499  smart  \n",
       "\n",
       "[500 rows x 8 columns]"
      ]
     },
     "metadata": {},
     "output_type": "display_data"
    },
    {
     "name": "stdout",
     "output_type": "stream",
     "text": [
      "<class 'pandas.core.frame.DataFrame'>\n",
      "RangeIndex: 500 entries, 0 to 499\n",
      "Data columns (total 8 columns):\n",
      " #   Column      Non-Null Count  Dtype         \n",
      "---  ------      --------------  -----         \n",
      " 0   user_id     500 non-null    int64         \n",
      " 1   age         500 non-null    int64         \n",
      " 2   churn_date  38 non-null     datetime64[ns]\n",
      " 3   city        500 non-null    object        \n",
      " 4   first_name  500 non-null    object        \n",
      " 5   last_name   500 non-null    object        \n",
      " 6   reg_date    500 non-null    datetime64[ns]\n",
      " 7   tariff      500 non-null    object        \n",
      "dtypes: datetime64[ns](2), int64(2), object(4)\n",
      "memory usage: 31.4+ KB\n"
     ]
    }
   ],
   "source": [
    "df_users['reg_date'] = pd.to_datetime(df_users['reg_date'], format='%Y-%m-%d')\n",
    "df_users['churn_date'] = pd.to_datetime(df_users['churn_date'], format='%Y-%m-%d')\n",
    "df_users.reset_index()\n",
    "display(df_users)\n",
    "df_users.info()"
   ]
  },
  {
   "cell_type": "code",
   "execution_count": 8,
   "id": "3f8e55b9",
   "metadata": {
    "scrolled": true
   },
   "outputs": [
    {
     "data": {
      "text/html": [
       "<div>\n",
       "<style scoped>\n",
       "    .dataframe tbody tr th:only-of-type {\n",
       "        vertical-align: middle;\n",
       "    }\n",
       "\n",
       "    .dataframe tbody tr th {\n",
       "        vertical-align: top;\n",
       "    }\n",
       "\n",
       "    .dataframe thead th {\n",
       "        text-align: right;\n",
       "    }\n",
       "</style>\n",
       "<table border=\"1\" class=\"dataframe\">\n",
       "  <thead>\n",
       "    <tr style=\"text-align: right;\">\n",
       "      <th></th>\n",
       "      <th>messages_included</th>\n",
       "      <th>gb_per_month_included</th>\n",
       "      <th>minutes_included</th>\n",
       "      <th>rub_monthly_fee</th>\n",
       "      <th>rub_per_gb</th>\n",
       "      <th>rub_per_message</th>\n",
       "      <th>rub_per_minute</th>\n",
       "      <th>tariff</th>\n",
       "    </tr>\n",
       "  </thead>\n",
       "  <tbody>\n",
       "    <tr>\n",
       "      <th>0</th>\n",
       "      <td>50</td>\n",
       "      <td>15.0</td>\n",
       "      <td>500</td>\n",
       "      <td>550</td>\n",
       "      <td>200</td>\n",
       "      <td>3</td>\n",
       "      <td>3</td>\n",
       "      <td>smart</td>\n",
       "    </tr>\n",
       "    <tr>\n",
       "      <th>1</th>\n",
       "      <td>1000</td>\n",
       "      <td>30.0</td>\n",
       "      <td>3000</td>\n",
       "      <td>1950</td>\n",
       "      <td>150</td>\n",
       "      <td>1</td>\n",
       "      <td>1</td>\n",
       "      <td>ultra</td>\n",
       "    </tr>\n",
       "  </tbody>\n",
       "</table>\n",
       "</div>"
      ],
      "text/plain": [
       "   messages_included  gb_per_month_included  minutes_included  \\\n",
       "0                 50                   15.0               500   \n",
       "1               1000                   30.0              3000   \n",
       "\n",
       "   rub_monthly_fee  rub_per_gb  rub_per_message  rub_per_minute tariff  \n",
       "0              550         200                3               3  smart  \n",
       "1             1950         150                1               1  ultra  "
      ]
     },
     "metadata": {},
     "output_type": "display_data"
    },
    {
     "name": "stdout",
     "output_type": "stream",
     "text": [
      "<class 'pandas.core.frame.DataFrame'>\n",
      "RangeIndex: 2 entries, 0 to 1\n",
      "Data columns (total 8 columns):\n",
      " #   Column                 Non-Null Count  Dtype  \n",
      "---  ------                 --------------  -----  \n",
      " 0   messages_included      2 non-null      int64  \n",
      " 1   gb_per_month_included  2 non-null      float64\n",
      " 2   minutes_included       2 non-null      int64  \n",
      " 3   rub_monthly_fee        2 non-null      int64  \n",
      " 4   rub_per_gb             2 non-null      int64  \n",
      " 5   rub_per_message        2 non-null      int64  \n",
      " 6   rub_per_minute         2 non-null      int64  \n",
      " 7   tariff                 2 non-null      object \n",
      "dtypes: float64(1), int64(6), object(1)\n",
      "memory usage: 256.0+ bytes\n"
     ]
    }
   ],
   "source": [
    "df_tariffs.reset_index()\n",
    "df_tariffs['mb_per_month_included'] = df_tariffs['mb_per_month_included'] / 1024\n",
    "df_tariffs = df_tariffs.rename(columns={\n",
    "    'tariff_name': 'tariff',\n",
    "    'mb_per_month_included': 'gb_per_month_included'\n",
    "})\n",
    "\n",
    "display(df_tariffs)\n",
    "df_tariffs.info()"
   ]
  },
  {
   "cell_type": "markdown",
   "id": "fdb7baa6",
   "metadata": {},
   "source": [
    "<div class=\"alert alert-info\">\n",
    "   Преобразовали столбцы с датами. Переименовали столбцы и пересчитали Мб в Гб в Условиях тарифов для удобства дальнейших объединения датасетов и подсчетов.\n",
    "    </div>"
   ]
  },
  {
   "cell_type": "markdown",
   "id": "2b9312b6",
   "metadata": {},
   "source": [
    "#### Объединим все датасеты в один и добавим расчеты ежемесячных расходов пользователей"
   ]
  },
  {
   "cell_type": "code",
   "execution_count": 9,
   "id": "7b589637",
   "metadata": {
    "scrolled": true
   },
   "outputs": [
    {
     "data": {
      "text/html": [
       "<div>\n",
       "<style scoped>\n",
       "    .dataframe tbody tr th:only-of-type {\n",
       "        vertical-align: middle;\n",
       "    }\n",
       "\n",
       "    .dataframe tbody tr th {\n",
       "        vertical-align: top;\n",
       "    }\n",
       "\n",
       "    .dataframe thead th {\n",
       "        text-align: right;\n",
       "    }\n",
       "</style>\n",
       "<table border=\"1\" class=\"dataframe\">\n",
       "  <thead>\n",
       "    <tr style=\"text-align: right;\">\n",
       "      <th></th>\n",
       "      <th>user_id</th>\n",
       "      <th>month</th>\n",
       "      <th>gb_sum</th>\n",
       "      <th>count_calls</th>\n",
       "      <th>sum_calls</th>\n",
       "      <th>message_count</th>\n",
       "      <th>age</th>\n",
       "      <th>churn_date</th>\n",
       "      <th>city</th>\n",
       "      <th>first_name</th>\n",
       "      <th>last_name</th>\n",
       "      <th>reg_date</th>\n",
       "      <th>tariff</th>\n",
       "      <th>messages_included</th>\n",
       "      <th>gb_per_month_included</th>\n",
       "      <th>minutes_included</th>\n",
       "      <th>rub_monthly_fee</th>\n",
       "      <th>rub_per_gb</th>\n",
       "      <th>rub_per_message</th>\n",
       "      <th>rub_per_minute</th>\n",
       "    </tr>\n",
       "  </thead>\n",
       "  <tbody>\n",
       "    <tr>\n",
       "      <th>0</th>\n",
       "      <td>1000</td>\n",
       "      <td>5.0</td>\n",
       "      <td>3.0</td>\n",
       "      <td>22.0</td>\n",
       "      <td>159.0</td>\n",
       "      <td>22.0</td>\n",
       "      <td>52</td>\n",
       "      <td>NaT</td>\n",
       "      <td>Краснодар</td>\n",
       "      <td>Рафаил</td>\n",
       "      <td>Верещагин</td>\n",
       "      <td>2018-05-25</td>\n",
       "      <td>ultra</td>\n",
       "      <td>1000</td>\n",
       "      <td>30.0</td>\n",
       "      <td>3000</td>\n",
       "      <td>1950</td>\n",
       "      <td>150</td>\n",
       "      <td>1</td>\n",
       "      <td>1</td>\n",
       "    </tr>\n",
       "    <tr>\n",
       "      <th>1</th>\n",
       "      <td>1000</td>\n",
       "      <td>6.0</td>\n",
       "      <td>23.0</td>\n",
       "      <td>43.0</td>\n",
       "      <td>172.0</td>\n",
       "      <td>60.0</td>\n",
       "      <td>52</td>\n",
       "      <td>NaT</td>\n",
       "      <td>Краснодар</td>\n",
       "      <td>Рафаил</td>\n",
       "      <td>Верещагин</td>\n",
       "      <td>2018-05-25</td>\n",
       "      <td>ultra</td>\n",
       "      <td>1000</td>\n",
       "      <td>30.0</td>\n",
       "      <td>3000</td>\n",
       "      <td>1950</td>\n",
       "      <td>150</td>\n",
       "      <td>1</td>\n",
       "      <td>1</td>\n",
       "    </tr>\n",
       "    <tr>\n",
       "      <th>2</th>\n",
       "      <td>1000</td>\n",
       "      <td>7.0</td>\n",
       "      <td>14.0</td>\n",
       "      <td>47.0</td>\n",
       "      <td>340.0</td>\n",
       "      <td>75.0</td>\n",
       "      <td>52</td>\n",
       "      <td>NaT</td>\n",
       "      <td>Краснодар</td>\n",
       "      <td>Рафаил</td>\n",
       "      <td>Верещагин</td>\n",
       "      <td>2018-05-25</td>\n",
       "      <td>ultra</td>\n",
       "      <td>1000</td>\n",
       "      <td>30.0</td>\n",
       "      <td>3000</td>\n",
       "      <td>1950</td>\n",
       "      <td>150</td>\n",
       "      <td>1</td>\n",
       "      <td>1</td>\n",
       "    </tr>\n",
       "    <tr>\n",
       "      <th>3</th>\n",
       "      <td>1000</td>\n",
       "      <td>8.0</td>\n",
       "      <td>14.0</td>\n",
       "      <td>52.0</td>\n",
       "      <td>408.0</td>\n",
       "      <td>81.0</td>\n",
       "      <td>52</td>\n",
       "      <td>NaT</td>\n",
       "      <td>Краснодар</td>\n",
       "      <td>Рафаил</td>\n",
       "      <td>Верещагин</td>\n",
       "      <td>2018-05-25</td>\n",
       "      <td>ultra</td>\n",
       "      <td>1000</td>\n",
       "      <td>30.0</td>\n",
       "      <td>3000</td>\n",
       "      <td>1950</td>\n",
       "      <td>150</td>\n",
       "      <td>1</td>\n",
       "      <td>1</td>\n",
       "    </tr>\n",
       "    <tr>\n",
       "      <th>4</th>\n",
       "      <td>1000</td>\n",
       "      <td>9.0</td>\n",
       "      <td>15.0</td>\n",
       "      <td>58.0</td>\n",
       "      <td>466.0</td>\n",
       "      <td>57.0</td>\n",
       "      <td>52</td>\n",
       "      <td>NaT</td>\n",
       "      <td>Краснодар</td>\n",
       "      <td>Рафаил</td>\n",
       "      <td>Верещагин</td>\n",
       "      <td>2018-05-25</td>\n",
       "      <td>ultra</td>\n",
       "      <td>1000</td>\n",
       "      <td>30.0</td>\n",
       "      <td>3000</td>\n",
       "      <td>1950</td>\n",
       "      <td>150</td>\n",
       "      <td>1</td>\n",
       "      <td>1</td>\n",
       "    </tr>\n",
       "    <tr>\n",
       "      <th>...</th>\n",
       "      <td>...</td>\n",
       "      <td>...</td>\n",
       "      <td>...</td>\n",
       "      <td>...</td>\n",
       "      <td>...</td>\n",
       "      <td>...</td>\n",
       "      <td>...</td>\n",
       "      <td>...</td>\n",
       "      <td>...</td>\n",
       "      <td>...</td>\n",
       "      <td>...</td>\n",
       "      <td>...</td>\n",
       "      <td>...</td>\n",
       "      <td>...</td>\n",
       "      <td>...</td>\n",
       "      <td>...</td>\n",
       "      <td>...</td>\n",
       "      <td>...</td>\n",
       "      <td>...</td>\n",
       "      <td>...</td>\n",
       "    </tr>\n",
       "    <tr>\n",
       "      <th>3211</th>\n",
       "      <td>1499</td>\n",
       "      <td>9.0</td>\n",
       "      <td>2.0</td>\n",
       "      <td>9.0</td>\n",
       "      <td>70.0</td>\n",
       "      <td>11.0</td>\n",
       "      <td>35</td>\n",
       "      <td>NaT</td>\n",
       "      <td>Пермь</td>\n",
       "      <td>Гектор</td>\n",
       "      <td>Корнилов</td>\n",
       "      <td>2018-09-27</td>\n",
       "      <td>smart</td>\n",
       "      <td>50</td>\n",
       "      <td>15.0</td>\n",
       "      <td>500</td>\n",
       "      <td>550</td>\n",
       "      <td>200</td>\n",
       "      <td>3</td>\n",
       "      <td>3</td>\n",
       "    </tr>\n",
       "    <tr>\n",
       "      <th>3212</th>\n",
       "      <td>1499</td>\n",
       "      <td>10.0</td>\n",
       "      <td>18.0</td>\n",
       "      <td>68.0</td>\n",
       "      <td>449.0</td>\n",
       "      <td>48.0</td>\n",
       "      <td>35</td>\n",
       "      <td>NaT</td>\n",
       "      <td>Пермь</td>\n",
       "      <td>Гектор</td>\n",
       "      <td>Корнилов</td>\n",
       "      <td>2018-09-27</td>\n",
       "      <td>smart</td>\n",
       "      <td>50</td>\n",
       "      <td>15.0</td>\n",
       "      <td>500</td>\n",
       "      <td>550</td>\n",
       "      <td>200</td>\n",
       "      <td>3</td>\n",
       "      <td>3</td>\n",
       "    </tr>\n",
       "    <tr>\n",
       "      <th>3213</th>\n",
       "      <td>1499</td>\n",
       "      <td>11.0</td>\n",
       "      <td>18.0</td>\n",
       "      <td>74.0</td>\n",
       "      <td>612.0</td>\n",
       "      <td>59.0</td>\n",
       "      <td>35</td>\n",
       "      <td>NaT</td>\n",
       "      <td>Пермь</td>\n",
       "      <td>Гектор</td>\n",
       "      <td>Корнилов</td>\n",
       "      <td>2018-09-27</td>\n",
       "      <td>smart</td>\n",
       "      <td>50</td>\n",
       "      <td>15.0</td>\n",
       "      <td>500</td>\n",
       "      <td>550</td>\n",
       "      <td>200</td>\n",
       "      <td>3</td>\n",
       "      <td>3</td>\n",
       "    </tr>\n",
       "    <tr>\n",
       "      <th>3214</th>\n",
       "      <td>1499</td>\n",
       "      <td>12.0</td>\n",
       "      <td>13.0</td>\n",
       "      <td>69.0</td>\n",
       "      <td>492.0</td>\n",
       "      <td>66.0</td>\n",
       "      <td>35</td>\n",
       "      <td>NaT</td>\n",
       "      <td>Пермь</td>\n",
       "      <td>Гектор</td>\n",
       "      <td>Корнилов</td>\n",
       "      <td>2018-09-27</td>\n",
       "      <td>smart</td>\n",
       "      <td>50</td>\n",
       "      <td>15.0</td>\n",
       "      <td>500</td>\n",
       "      <td>550</td>\n",
       "      <td>200</td>\n",
       "      <td>3</td>\n",
       "      <td>3</td>\n",
       "    </tr>\n",
       "    <tr>\n",
       "      <th>3215</th>\n",
       "      <td>1371</td>\n",
       "      <td>NaN</td>\n",
       "      <td>NaN</td>\n",
       "      <td>NaN</td>\n",
       "      <td>NaN</td>\n",
       "      <td>NaN</td>\n",
       "      <td>50</td>\n",
       "      <td>2018-12-30</td>\n",
       "      <td>Омск</td>\n",
       "      <td>Ириней</td>\n",
       "      <td>Трофимов</td>\n",
       "      <td>2018-12-25</td>\n",
       "      <td>smart</td>\n",
       "      <td>50</td>\n",
       "      <td>15.0</td>\n",
       "      <td>500</td>\n",
       "      <td>550</td>\n",
       "      <td>200</td>\n",
       "      <td>3</td>\n",
       "      <td>3</td>\n",
       "    </tr>\n",
       "  </tbody>\n",
       "</table>\n",
       "<p>3216 rows × 20 columns</p>\n",
       "</div>"
      ],
      "text/plain": [
       "      user_id  month  gb_sum  count_calls  sum_calls  message_count  age  \\\n",
       "0        1000    5.0     3.0         22.0      159.0           22.0   52   \n",
       "1        1000    6.0    23.0         43.0      172.0           60.0   52   \n",
       "2        1000    7.0    14.0         47.0      340.0           75.0   52   \n",
       "3        1000    8.0    14.0         52.0      408.0           81.0   52   \n",
       "4        1000    9.0    15.0         58.0      466.0           57.0   52   \n",
       "...       ...    ...     ...          ...        ...            ...  ...   \n",
       "3211     1499    9.0     2.0          9.0       70.0           11.0   35   \n",
       "3212     1499   10.0    18.0         68.0      449.0           48.0   35   \n",
       "3213     1499   11.0    18.0         74.0      612.0           59.0   35   \n",
       "3214     1499   12.0    13.0         69.0      492.0           66.0   35   \n",
       "3215     1371    NaN     NaN          NaN        NaN            NaN   50   \n",
       "\n",
       "     churn_date       city first_name  last_name   reg_date tariff  \\\n",
       "0           NaT  Краснодар     Рафаил  Верещагин 2018-05-25  ultra   \n",
       "1           NaT  Краснодар     Рафаил  Верещагин 2018-05-25  ultra   \n",
       "2           NaT  Краснодар     Рафаил  Верещагин 2018-05-25  ultra   \n",
       "3           NaT  Краснодар     Рафаил  Верещагин 2018-05-25  ultra   \n",
       "4           NaT  Краснодар     Рафаил  Верещагин 2018-05-25  ultra   \n",
       "...         ...        ...        ...        ...        ...    ...   \n",
       "3211        NaT      Пермь     Гектор   Корнилов 2018-09-27  smart   \n",
       "3212        NaT      Пермь     Гектор   Корнилов 2018-09-27  smart   \n",
       "3213        NaT      Пермь     Гектор   Корнилов 2018-09-27  smart   \n",
       "3214        NaT      Пермь     Гектор   Корнилов 2018-09-27  smart   \n",
       "3215 2018-12-30       Омск     Ириней   Трофимов 2018-12-25  smart   \n",
       "\n",
       "      messages_included  gb_per_month_included  minutes_included  \\\n",
       "0                  1000                   30.0              3000   \n",
       "1                  1000                   30.0              3000   \n",
       "2                  1000                   30.0              3000   \n",
       "3                  1000                   30.0              3000   \n",
       "4                  1000                   30.0              3000   \n",
       "...                 ...                    ...               ...   \n",
       "3211                 50                   15.0               500   \n",
       "3212                 50                   15.0               500   \n",
       "3213                 50                   15.0               500   \n",
       "3214                 50                   15.0               500   \n",
       "3215                 50                   15.0               500   \n",
       "\n",
       "      rub_monthly_fee  rub_per_gb  rub_per_message  rub_per_minute  \n",
       "0                1950         150                1               1  \n",
       "1                1950         150                1               1  \n",
       "2                1950         150                1               1  \n",
       "3                1950         150                1               1  \n",
       "4                1950         150                1               1  \n",
       "...               ...         ...              ...             ...  \n",
       "3211              550         200                3               3  \n",
       "3212              550         200                3               3  \n",
       "3213              550         200                3               3  \n",
       "3214              550         200                3               3  \n",
       "3215              550         200                3               3  \n",
       "\n",
       "[3216 rows x 20 columns]"
      ]
     },
     "metadata": {},
     "output_type": "display_data"
    }
   ],
   "source": [
    "\n",
    "df_general = df_internet_pivot.merge(df_calls_pivot, on=('user_id', 'month'), how='outer')\n",
    "df_general = df_general.merge(df_messages_pivot, on=('user_id', 'month'), how='outer')\n",
    "df_general.reset_index(inplace=True)\n",
    "\n",
    "df_general = df_general.merge(df_users, on='user_id', how='outer')\n",
    "df_general = df_general.merge(df_tariffs, on='tariff', how='outer')\n",
    "\n",
    "display(df_general)"
   ]
  },
  {
   "cell_type": "code",
   "execution_count": 10,
   "id": "19a6d1f8",
   "metadata": {
    "scrolled": true
   },
   "outputs": [
    {
     "name": "stdout",
     "output_type": "stream",
     "text": [
      "user_id                     0\n",
      "month                       2\n",
      "gb_sum                     13\n",
      "count_calls                42\n",
      "sum_calls                  42\n",
      "message_count             499\n",
      "age                         0\n",
      "churn_date               3027\n",
      "city                        0\n",
      "first_name                  0\n",
      "last_name                   0\n",
      "reg_date                    0\n",
      "tariff                      0\n",
      "messages_included           0\n",
      "gb_per_month_included       0\n",
      "minutes_included            0\n",
      "rub_monthly_fee             0\n",
      "rub_per_gb                  0\n",
      "rub_per_message             0\n",
      "rub_per_minute              0\n",
      "dtype: int64\n"
     ]
    }
   ],
   "source": [
    "print(df_general.isna().sum()) "
   ]
  },
  {
   "cell_type": "markdown",
   "id": "ac021e18",
   "metadata": {},
   "source": [
    "<div class=\"alert alert-info\">\n",
    "    \n",
    "После объединения возникли пропуски в столбцах с количеством сообщений, звонками, интернет-трафиком. Вероятней всего часть абонентов не использовали интернет-трафик. \n",
    "- смс-сообщениями многие не пользуются, ведь сейчас полно мессенджеров, работающих через интернет. \n",
    "- по звонкам похожая ситуация, плюс это могут быть пропущенные звонки. \n",
    "- по гигабайтам некоторые просто используют телефон без доступа к интернету, ходят с т.н. \"тапиками\"\n",
    "    \n",
    "Лучшим решением будет заполнить их нулевыми значениями.\n",
    "    \n",
    "</div>"
   ]
  },
  {
   "cell_type": "code",
   "execution_count": 11,
   "id": "22956c4b",
   "metadata": {},
   "outputs": [
    {
     "name": "stdout",
     "output_type": "stream",
     "text": [
      "user_id                  0\n",
      "month                    0\n",
      "gb_sum                   0\n",
      "count_calls              0\n",
      "sum_calls                0\n",
      "message_count            0\n",
      "age                      0\n",
      "churn_date               0\n",
      "city                     0\n",
      "first_name               0\n",
      "last_name                0\n",
      "reg_date                 0\n",
      "tariff                   0\n",
      "messages_included        0\n",
      "gb_per_month_included    0\n",
      "minutes_included         0\n",
      "rub_monthly_fee          0\n",
      "rub_per_gb               0\n",
      "rub_per_message          0\n",
      "rub_per_minute           0\n",
      "dtype: int64\n"
     ]
    }
   ],
   "source": [
    "df_general = df_general.fillna(value=0)\n",
    "print(df_general.isna().sum()) "
   ]
  },
  {
   "cell_type": "code",
   "execution_count": 12,
   "id": "931fee40",
   "metadata": {},
   "outputs": [
    {
     "data": {
      "text/html": [
       "<div>\n",
       "<style scoped>\n",
       "    .dataframe tbody tr th:only-of-type {\n",
       "        vertical-align: middle;\n",
       "    }\n",
       "\n",
       "    .dataframe tbody tr th {\n",
       "        vertical-align: top;\n",
       "    }\n",
       "\n",
       "    .dataframe thead th {\n",
       "        text-align: right;\n",
       "    }\n",
       "</style>\n",
       "<table border=\"1\" class=\"dataframe\">\n",
       "  <thead>\n",
       "    <tr style=\"text-align: right;\">\n",
       "      <th></th>\n",
       "      <th>user_id</th>\n",
       "      <th>month</th>\n",
       "      <th>gb_sum</th>\n",
       "      <th>count_calls</th>\n",
       "      <th>sum_calls</th>\n",
       "      <th>message_count</th>\n",
       "      <th>age</th>\n",
       "      <th>churn_date</th>\n",
       "      <th>city</th>\n",
       "      <th>first_name</th>\n",
       "      <th>last_name</th>\n",
       "      <th>reg_date</th>\n",
       "      <th>tariff</th>\n",
       "      <th>messages_included</th>\n",
       "      <th>gb_per_month_included</th>\n",
       "      <th>minutes_included</th>\n",
       "      <th>rub_monthly_fee</th>\n",
       "      <th>rub_per_gb</th>\n",
       "      <th>rub_per_message</th>\n",
       "      <th>rub_per_minute</th>\n",
       "      <th>income_per_user</th>\n",
       "    </tr>\n",
       "  </thead>\n",
       "  <tbody>\n",
       "    <tr>\n",
       "      <th>0</th>\n",
       "      <td>1000</td>\n",
       "      <td>5.0</td>\n",
       "      <td>3.0</td>\n",
       "      <td>22.0</td>\n",
       "      <td>159.0</td>\n",
       "      <td>22.0</td>\n",
       "      <td>52</td>\n",
       "      <td>0</td>\n",
       "      <td>Краснодар</td>\n",
       "      <td>Рафаил</td>\n",
       "      <td>Верещагин</td>\n",
       "      <td>2018-05-25</td>\n",
       "      <td>ultra</td>\n",
       "      <td>1000</td>\n",
       "      <td>30.0</td>\n",
       "      <td>3000</td>\n",
       "      <td>1950</td>\n",
       "      <td>150</td>\n",
       "      <td>1</td>\n",
       "      <td>1</td>\n",
       "      <td>1950.0</td>\n",
       "    </tr>\n",
       "    <tr>\n",
       "      <th>1</th>\n",
       "      <td>1000</td>\n",
       "      <td>6.0</td>\n",
       "      <td>23.0</td>\n",
       "      <td>43.0</td>\n",
       "      <td>172.0</td>\n",
       "      <td>60.0</td>\n",
       "      <td>52</td>\n",
       "      <td>0</td>\n",
       "      <td>Краснодар</td>\n",
       "      <td>Рафаил</td>\n",
       "      <td>Верещагин</td>\n",
       "      <td>2018-05-25</td>\n",
       "      <td>ultra</td>\n",
       "      <td>1000</td>\n",
       "      <td>30.0</td>\n",
       "      <td>3000</td>\n",
       "      <td>1950</td>\n",
       "      <td>150</td>\n",
       "      <td>1</td>\n",
       "      <td>1</td>\n",
       "      <td>1950.0</td>\n",
       "    </tr>\n",
       "    <tr>\n",
       "      <th>2</th>\n",
       "      <td>1000</td>\n",
       "      <td>7.0</td>\n",
       "      <td>14.0</td>\n",
       "      <td>47.0</td>\n",
       "      <td>340.0</td>\n",
       "      <td>75.0</td>\n",
       "      <td>52</td>\n",
       "      <td>0</td>\n",
       "      <td>Краснодар</td>\n",
       "      <td>Рафаил</td>\n",
       "      <td>Верещагин</td>\n",
       "      <td>2018-05-25</td>\n",
       "      <td>ultra</td>\n",
       "      <td>1000</td>\n",
       "      <td>30.0</td>\n",
       "      <td>3000</td>\n",
       "      <td>1950</td>\n",
       "      <td>150</td>\n",
       "      <td>1</td>\n",
       "      <td>1</td>\n",
       "      <td>1950.0</td>\n",
       "    </tr>\n",
       "    <tr>\n",
       "      <th>3</th>\n",
       "      <td>1000</td>\n",
       "      <td>8.0</td>\n",
       "      <td>14.0</td>\n",
       "      <td>52.0</td>\n",
       "      <td>408.0</td>\n",
       "      <td>81.0</td>\n",
       "      <td>52</td>\n",
       "      <td>0</td>\n",
       "      <td>Краснодар</td>\n",
       "      <td>Рафаил</td>\n",
       "      <td>Верещагин</td>\n",
       "      <td>2018-05-25</td>\n",
       "      <td>ultra</td>\n",
       "      <td>1000</td>\n",
       "      <td>30.0</td>\n",
       "      <td>3000</td>\n",
       "      <td>1950</td>\n",
       "      <td>150</td>\n",
       "      <td>1</td>\n",
       "      <td>1</td>\n",
       "      <td>1950.0</td>\n",
       "    </tr>\n",
       "    <tr>\n",
       "      <th>4</th>\n",
       "      <td>1000</td>\n",
       "      <td>9.0</td>\n",
       "      <td>15.0</td>\n",
       "      <td>58.0</td>\n",
       "      <td>466.0</td>\n",
       "      <td>57.0</td>\n",
       "      <td>52</td>\n",
       "      <td>0</td>\n",
       "      <td>Краснодар</td>\n",
       "      <td>Рафаил</td>\n",
       "      <td>Верещагин</td>\n",
       "      <td>2018-05-25</td>\n",
       "      <td>ultra</td>\n",
       "      <td>1000</td>\n",
       "      <td>30.0</td>\n",
       "      <td>3000</td>\n",
       "      <td>1950</td>\n",
       "      <td>150</td>\n",
       "      <td>1</td>\n",
       "      <td>1</td>\n",
       "      <td>1950.0</td>\n",
       "    </tr>\n",
       "    <tr>\n",
       "      <th>...</th>\n",
       "      <td>...</td>\n",
       "      <td>...</td>\n",
       "      <td>...</td>\n",
       "      <td>...</td>\n",
       "      <td>...</td>\n",
       "      <td>...</td>\n",
       "      <td>...</td>\n",
       "      <td>...</td>\n",
       "      <td>...</td>\n",
       "      <td>...</td>\n",
       "      <td>...</td>\n",
       "      <td>...</td>\n",
       "      <td>...</td>\n",
       "      <td>...</td>\n",
       "      <td>...</td>\n",
       "      <td>...</td>\n",
       "      <td>...</td>\n",
       "      <td>...</td>\n",
       "      <td>...</td>\n",
       "      <td>...</td>\n",
       "      <td>...</td>\n",
       "    </tr>\n",
       "    <tr>\n",
       "      <th>3211</th>\n",
       "      <td>1499</td>\n",
       "      <td>9.0</td>\n",
       "      <td>2.0</td>\n",
       "      <td>9.0</td>\n",
       "      <td>70.0</td>\n",
       "      <td>11.0</td>\n",
       "      <td>35</td>\n",
       "      <td>0</td>\n",
       "      <td>Пермь</td>\n",
       "      <td>Гектор</td>\n",
       "      <td>Корнилов</td>\n",
       "      <td>2018-09-27</td>\n",
       "      <td>smart</td>\n",
       "      <td>50</td>\n",
       "      <td>15.0</td>\n",
       "      <td>500</td>\n",
       "      <td>550</td>\n",
       "      <td>200</td>\n",
       "      <td>3</td>\n",
       "      <td>3</td>\n",
       "      <td>550.0</td>\n",
       "    </tr>\n",
       "    <tr>\n",
       "      <th>3212</th>\n",
       "      <td>1499</td>\n",
       "      <td>10.0</td>\n",
       "      <td>18.0</td>\n",
       "      <td>68.0</td>\n",
       "      <td>449.0</td>\n",
       "      <td>48.0</td>\n",
       "      <td>35</td>\n",
       "      <td>0</td>\n",
       "      <td>Пермь</td>\n",
       "      <td>Гектор</td>\n",
       "      <td>Корнилов</td>\n",
       "      <td>2018-09-27</td>\n",
       "      <td>smart</td>\n",
       "      <td>50</td>\n",
       "      <td>15.0</td>\n",
       "      <td>500</td>\n",
       "      <td>550</td>\n",
       "      <td>200</td>\n",
       "      <td>3</td>\n",
       "      <td>3</td>\n",
       "      <td>1150.0</td>\n",
       "    </tr>\n",
       "    <tr>\n",
       "      <th>3213</th>\n",
       "      <td>1499</td>\n",
       "      <td>11.0</td>\n",
       "      <td>18.0</td>\n",
       "      <td>74.0</td>\n",
       "      <td>612.0</td>\n",
       "      <td>59.0</td>\n",
       "      <td>35</td>\n",
       "      <td>0</td>\n",
       "      <td>Пермь</td>\n",
       "      <td>Гектор</td>\n",
       "      <td>Корнилов</td>\n",
       "      <td>2018-09-27</td>\n",
       "      <td>smart</td>\n",
       "      <td>50</td>\n",
       "      <td>15.0</td>\n",
       "      <td>500</td>\n",
       "      <td>550</td>\n",
       "      <td>200</td>\n",
       "      <td>3</td>\n",
       "      <td>3</td>\n",
       "      <td>1513.0</td>\n",
       "    </tr>\n",
       "    <tr>\n",
       "      <th>3214</th>\n",
       "      <td>1499</td>\n",
       "      <td>12.0</td>\n",
       "      <td>13.0</td>\n",
       "      <td>69.0</td>\n",
       "      <td>492.0</td>\n",
       "      <td>66.0</td>\n",
       "      <td>35</td>\n",
       "      <td>0</td>\n",
       "      <td>Пермь</td>\n",
       "      <td>Гектор</td>\n",
       "      <td>Корнилов</td>\n",
       "      <td>2018-09-27</td>\n",
       "      <td>smart</td>\n",
       "      <td>50</td>\n",
       "      <td>15.0</td>\n",
       "      <td>500</td>\n",
       "      <td>550</td>\n",
       "      <td>200</td>\n",
       "      <td>3</td>\n",
       "      <td>3</td>\n",
       "      <td>598.0</td>\n",
       "    </tr>\n",
       "    <tr>\n",
       "      <th>3215</th>\n",
       "      <td>1371</td>\n",
       "      <td>0.0</td>\n",
       "      <td>0.0</td>\n",
       "      <td>0.0</td>\n",
       "      <td>0.0</td>\n",
       "      <td>0.0</td>\n",
       "      <td>50</td>\n",
       "      <td>2018-12-30 00:00:00</td>\n",
       "      <td>Омск</td>\n",
       "      <td>Ириней</td>\n",
       "      <td>Трофимов</td>\n",
       "      <td>2018-12-25</td>\n",
       "      <td>smart</td>\n",
       "      <td>50</td>\n",
       "      <td>15.0</td>\n",
       "      <td>500</td>\n",
       "      <td>550</td>\n",
       "      <td>200</td>\n",
       "      <td>3</td>\n",
       "      <td>3</td>\n",
       "      <td>550.0</td>\n",
       "    </tr>\n",
       "  </tbody>\n",
       "</table>\n",
       "<p>3216 rows × 21 columns</p>\n",
       "</div>"
      ],
      "text/plain": [
       "      user_id  month  gb_sum  count_calls  sum_calls  message_count  age  \\\n",
       "0        1000    5.0     3.0         22.0      159.0           22.0   52   \n",
       "1        1000    6.0    23.0         43.0      172.0           60.0   52   \n",
       "2        1000    7.0    14.0         47.0      340.0           75.0   52   \n",
       "3        1000    8.0    14.0         52.0      408.0           81.0   52   \n",
       "4        1000    9.0    15.0         58.0      466.0           57.0   52   \n",
       "...       ...    ...     ...          ...        ...            ...  ...   \n",
       "3211     1499    9.0     2.0          9.0       70.0           11.0   35   \n",
       "3212     1499   10.0    18.0         68.0      449.0           48.0   35   \n",
       "3213     1499   11.0    18.0         74.0      612.0           59.0   35   \n",
       "3214     1499   12.0    13.0         69.0      492.0           66.0   35   \n",
       "3215     1371    0.0     0.0          0.0        0.0            0.0   50   \n",
       "\n",
       "               churn_date       city first_name  last_name   reg_date tariff  \\\n",
       "0                       0  Краснодар     Рафаил  Верещагин 2018-05-25  ultra   \n",
       "1                       0  Краснодар     Рафаил  Верещагин 2018-05-25  ultra   \n",
       "2                       0  Краснодар     Рафаил  Верещагин 2018-05-25  ultra   \n",
       "3                       0  Краснодар     Рафаил  Верещагин 2018-05-25  ultra   \n",
       "4                       0  Краснодар     Рафаил  Верещагин 2018-05-25  ultra   \n",
       "...                   ...        ...        ...        ...        ...    ...   \n",
       "3211                    0      Пермь     Гектор   Корнилов 2018-09-27  smart   \n",
       "3212                    0      Пермь     Гектор   Корнилов 2018-09-27  smart   \n",
       "3213                    0      Пермь     Гектор   Корнилов 2018-09-27  smart   \n",
       "3214                    0      Пермь     Гектор   Корнилов 2018-09-27  smart   \n",
       "3215  2018-12-30 00:00:00       Омск     Ириней   Трофимов 2018-12-25  smart   \n",
       "\n",
       "      messages_included  gb_per_month_included  minutes_included  \\\n",
       "0                  1000                   30.0              3000   \n",
       "1                  1000                   30.0              3000   \n",
       "2                  1000                   30.0              3000   \n",
       "3                  1000                   30.0              3000   \n",
       "4                  1000                   30.0              3000   \n",
       "...                 ...                    ...               ...   \n",
       "3211                 50                   15.0               500   \n",
       "3212                 50                   15.0               500   \n",
       "3213                 50                   15.0               500   \n",
       "3214                 50                   15.0               500   \n",
       "3215                 50                   15.0               500   \n",
       "\n",
       "      rub_monthly_fee  rub_per_gb  rub_per_message  rub_per_minute  \\\n",
       "0                1950         150                1               1   \n",
       "1                1950         150                1               1   \n",
       "2                1950         150                1               1   \n",
       "3                1950         150                1               1   \n",
       "4                1950         150                1               1   \n",
       "...               ...         ...              ...             ...   \n",
       "3211              550         200                3               3   \n",
       "3212              550         200                3               3   \n",
       "3213              550         200                3               3   \n",
       "3214              550         200                3               3   \n",
       "3215              550         200                3               3   \n",
       "\n",
       "      income_per_user  \n",
       "0              1950.0  \n",
       "1              1950.0  \n",
       "2              1950.0  \n",
       "3              1950.0  \n",
       "4              1950.0  \n",
       "...               ...  \n",
       "3211            550.0  \n",
       "3212           1150.0  \n",
       "3213           1513.0  \n",
       "3214            598.0  \n",
       "3215            550.0  \n",
       "\n",
       "[3216 rows x 21 columns]"
      ]
     },
     "metadata": {},
     "output_type": "display_data"
    }
   ],
   "source": [
    "def income_per_user(row):\n",
    "    pay = 0\n",
    "    if row['sum_calls'] >= row['minutes_included']:\n",
    "        pay += (row['sum_calls'] - row['minutes_included']) * row['rub_per_minute']        \n",
    "    if row['message_count'] >= row['messages_included']:\n",
    "        pay += (row['message_count'] - row['messages_included']) * row['rub_per_message']        \n",
    "    if row['gb_sum'] >= row['gb_per_month_included']:\n",
    "        pay += (row['gb_sum'] - row['gb_per_month_included']) * row['rub_per_gb']        \n",
    "    return pay\n",
    "\n",
    "df_general['income_per_user'] = df_general.apply(income_per_user, axis=1) + df_general['rub_monthly_fee']\n",
    "display(df_general)\n",
    "\n",
    "# с помощью функции посчитаем доход от каждого пользователя по месяцам"
   ]
  },
  {
   "cell_type": "markdown",
   "id": "0574ad62",
   "metadata": {},
   "source": [
    "### Разобьем пользователей на 2 группы и проанализируем показатели по тарифам"
   ]
  },
  {
   "cell_type": "code",
   "execution_count": 13,
   "id": "95a0119b",
   "metadata": {},
   "outputs": [],
   "source": [
    "df_smart = df_general[df_general['tariff'] == 'smart']\n",
    "df_ultra = df_general[df_general['tariff'] == 'ultra']"
   ]
  },
  {
   "cell_type": "markdown",
   "id": "0a8313d9",
   "metadata": {},
   "source": [
    "#### Показатели по использованию интернет-трафика"
   ]
  },
  {
   "cell_type": "code",
   "execution_count": 14,
   "id": "54d1c831",
   "metadata": {
    "scrolled": true
   },
   "outputs": [
    {
     "data": {
      "text/html": [
       "<div>\n",
       "<style scoped>\n",
       "    .dataframe tbody tr th:only-of-type {\n",
       "        vertical-align: middle;\n",
       "    }\n",
       "\n",
       "    .dataframe tbody tr th {\n",
       "        vertical-align: top;\n",
       "    }\n",
       "\n",
       "    .dataframe thead tr th {\n",
       "        text-align: left;\n",
       "    }\n",
       "\n",
       "    .dataframe thead tr:last-of-type th {\n",
       "        text-align: right;\n",
       "    }\n",
       "</style>\n",
       "<table border=\"1\" class=\"dataframe\">\n",
       "  <thead>\n",
       "    <tr>\n",
       "      <th></th>\n",
       "      <th>mean</th>\n",
       "      <th>std</th>\n",
       "      <th>var</th>\n",
       "    </tr>\n",
       "    <tr>\n",
       "      <th></th>\n",
       "      <th>gb_sum</th>\n",
       "      <th>gb_sum</th>\n",
       "      <th>gb_sum</th>\n",
       "    </tr>\n",
       "    <tr>\n",
       "      <th>tariff</th>\n",
       "      <th></th>\n",
       "      <th></th>\n",
       "      <th></th>\n",
       "    </tr>\n",
       "  </thead>\n",
       "  <tbody>\n",
       "    <tr>\n",
       "      <th>smart</th>\n",
       "      <td>16.322</td>\n",
       "      <td>5.756</td>\n",
       "      <td>33.133</td>\n",
       "    </tr>\n",
       "    <tr>\n",
       "      <th>ultra</th>\n",
       "      <td>19.475</td>\n",
       "      <td>9.868</td>\n",
       "      <td>97.379</td>\n",
       "    </tr>\n",
       "  </tbody>\n",
       "</table>\n",
       "</div>"
      ],
      "text/plain": [
       "          mean    std     var\n",
       "        gb_sum gb_sum  gb_sum\n",
       "tariff                       \n",
       "smart   16.322  5.756  33.133\n",
       "ultra   19.475  9.868  97.379"
      ]
     },
     "metadata": {},
     "output_type": "display_data"
    },
    {
     "data": {
      "text/plain": [
       "<matplotlib.legend.Legend at 0x7f1a51c7a400>"
      ]
     },
     "execution_count": 14,
     "metadata": {},
     "output_type": "execute_result"
    },
    {
     "data": {
      "image/png": "[encoded data removed]",
      "text/plain": [
       "<Figure size 432x288 with 1 Axes>"
      ]
     },
     "metadata": {
      "needs_background": "light"
     },
     "output_type": "display_data"
    }
   ],
   "source": [
    "display(df_general.pivot_table(index='tariff', values='gb_sum', aggfunc=['mean', 'std', 'var']).round(3))\n",
    "\n",
    "df_smart['gb_sum'].hist(bins=30, alpha=0.5)\n",
    "df_ultra['gb_sum'].hist(bins=30, alpha=0.5)\n",
    "plt.xlabel('gb_per_month')\n",
    "plt.legend(['smart', 'ultra'])"
   ]
  },
  {
   "cell_type": "markdown",
   "id": "b6fefbaa",
   "metadata": {},
   "source": [
    "<div class=\"alert alert-info\">\n",
    "    \n",
    "Пользователи тарифа Smart: \n",
    "- по среднему значению потребления трафика превышают на ~2 Гб от базового пакета в 15Гб, включенного в абонентскую плату, с отклонением в +-6Гб. На гистограмме это видно, основная масса абонентов расходует от 9 до 24Гб трафика. Значительная часть пользователей тарифа превышает пакет в 15Гб и расходуют от 2 до 10Гб платного трафика.\n",
    "\n",
    "Пользователи тарифа Ultra:\n",
    "- потребляют в среднем 2/3 трафика, включенного в абонентскую плату. Однако, судя по распределению на гистограмме нет четкого диапазона по расходованию. Если взять за порог 50 пользователей, то можно выделить диапазон от 10 до 29 Гб. Из этого следует, что почти все пользователи тарифа не превышают пакета в 30Гб, включенного в абонентскую плату.\n",
    "\n",
    "</div>"
   ]
  },
  {
   "cell_type": "markdown",
   "id": "537a3874",
   "metadata": {},
   "source": [
    "#### Показатели по длительности разговоров"
   ]
  },
  {
   "cell_type": "code",
   "execution_count": 15,
   "id": "da87d77e",
   "metadata": {},
   "outputs": [
    {
     "data": {
      "text/html": [
       "<div>\n",
       "<style scoped>\n",
       "    .dataframe tbody tr th:only-of-type {\n",
       "        vertical-align: middle;\n",
       "    }\n",
       "\n",
       "    .dataframe tbody tr th {\n",
       "        vertical-align: top;\n",
       "    }\n",
       "\n",
       "    .dataframe thead tr th {\n",
       "        text-align: left;\n",
       "    }\n",
       "\n",
       "    .dataframe thead tr:last-of-type th {\n",
       "        text-align: right;\n",
       "    }\n",
       "</style>\n",
       "<table border=\"1\" class=\"dataframe\">\n",
       "  <thead>\n",
       "    <tr>\n",
       "      <th></th>\n",
       "      <th>mean</th>\n",
       "      <th>std</th>\n",
       "      <th>var</th>\n",
       "    </tr>\n",
       "    <tr>\n",
       "      <th></th>\n",
       "      <th>sum_calls</th>\n",
       "      <th>sum_calls</th>\n",
       "      <th>sum_calls</th>\n",
       "    </tr>\n",
       "    <tr>\n",
       "      <th>tariff</th>\n",
       "      <th></th>\n",
       "      <th></th>\n",
       "      <th></th>\n",
       "    </tr>\n",
       "  </thead>\n",
       "  <tbody>\n",
       "    <tr>\n",
       "      <th>smart</th>\n",
       "      <td>417.75</td>\n",
       "      <td>190.48</td>\n",
       "      <td>36281.39</td>\n",
       "    </tr>\n",
       "    <tr>\n",
       "      <th>ultra</th>\n",
       "      <td>526.09</td>\n",
       "      <td>317.89</td>\n",
       "      <td>101052.49</td>\n",
       "    </tr>\n",
       "  </tbody>\n",
       "</table>\n",
       "</div>"
      ],
      "text/plain": [
       "            mean       std        var\n",
       "       sum_calls sum_calls  sum_calls\n",
       "tariff                               \n",
       "smart     417.75    190.48   36281.39\n",
       "ultra     526.09    317.89  101052.49"
      ]
     },
     "metadata": {},
     "output_type": "display_data"
    },
    {
     "data": {
      "text/plain": [
       "<matplotlib.legend.Legend at 0x7f1ad41c06a0>"
      ]
     },
     "execution_count": 15,
     "metadata": {},
     "output_type": "execute_result"
    },
    {
     "data": {
      "image/png": "[encoded data removed]",
      "text/plain": [
       "<Figure size 432x288 with 1 Axes>"
      ]
     },
     "metadata": {
      "needs_background": "light"
     },
     "output_type": "display_data"
    }
   ],
   "source": [
    "display(df_general.pivot_table(index='tariff', values='sum_calls', aggfunc=['mean', 'std', 'var']).round(2))\n",
    "\n",
    "df_smart['sum_calls'].hist(bins=30, alpha=0.5)\n",
    "df_ultra['sum_calls'].hist(bins=30, alpha=0.5)\n",
    "plt.xlabel('calls_per_month')\n",
    "plt.legend(['smart', 'ultra'])"
   ]
  },
  {
   "cell_type": "markdown",
   "id": "3b563594",
   "metadata": {},
   "source": [
    "<div class=\"alert alert-info\">\n",
    "    \n",
    "Пользователи тарифа Smart: \n",
    "- средний показатель продолжительности звонков не превышает пакет 500 минут, включенный в абонентскую плату. Стандартное отклонение и гистограмма говорят о значительной части пользователей, превышающих базовый пакет до +250 минут. При этом распределение показывает, что основная часть пользователей (если взять порог - от 50 абонентов), расходует от 50 до 750 минут.\n",
    "Корзина с 0 значениями, строки с пропусками.\n",
    "\n",
    "Пользователи тарифа Ultra:\n",
    "- в среднем пользователи расходуют чуть более половины пакета 1000 мин., включенный в абонентскую плату, значение схоже со средним у абонентов Smart. Стандартное отклонение и гистограмма говорят о том, что почти все абоненты не превышают базовый пакет минут. Основной диапазон (если взять порог - от 50 абонентов), расходуют от 200 до 850 минут.\n",
    "Корзина с 0 значениями, строки с пропусками.\n",
    "    \n",
    "</div>"
   ]
  },
  {
   "cell_type": "markdown",
   "id": "06c9e052",
   "metadata": {},
   "source": [
    "#### Показатели по количеству сообщений"
   ]
  },
  {
   "cell_type": "code",
   "execution_count": 16,
   "id": "1df33623",
   "metadata": {
    "scrolled": true
   },
   "outputs": [
    {
     "data": {
      "text/html": [
       "<div>\n",
       "<style scoped>\n",
       "    .dataframe tbody tr th:only-of-type {\n",
       "        vertical-align: middle;\n",
       "    }\n",
       "\n",
       "    .dataframe tbody tr th {\n",
       "        vertical-align: top;\n",
       "    }\n",
       "\n",
       "    .dataframe thead tr th {\n",
       "        text-align: left;\n",
       "    }\n",
       "\n",
       "    .dataframe thead tr:last-of-type th {\n",
       "        text-align: right;\n",
       "    }\n",
       "</style>\n",
       "<table border=\"1\" class=\"dataframe\">\n",
       "  <thead>\n",
       "    <tr>\n",
       "      <th></th>\n",
       "      <th>mean</th>\n",
       "      <th>std</th>\n",
       "      <th>var</th>\n",
       "    </tr>\n",
       "    <tr>\n",
       "      <th></th>\n",
       "      <th>message_count</th>\n",
       "      <th>message_count</th>\n",
       "      <th>message_count</th>\n",
       "    </tr>\n",
       "    <tr>\n",
       "      <th>tariff</th>\n",
       "      <th></th>\n",
       "      <th></th>\n",
       "      <th></th>\n",
       "    </tr>\n",
       "  </thead>\n",
       "  <tbody>\n",
       "    <tr>\n",
       "      <th>smart</th>\n",
       "      <td>33.37</td>\n",
       "      <td>28.23</td>\n",
       "      <td>796.96</td>\n",
       "    </tr>\n",
       "    <tr>\n",
       "      <th>ultra</th>\n",
       "      <td>49.31</td>\n",
       "      <td>47.81</td>\n",
       "      <td>2285.42</td>\n",
       "    </tr>\n",
       "  </tbody>\n",
       "</table>\n",
       "</div>"
      ],
      "text/plain": [
       "                mean           std           var\n",
       "       message_count message_count message_count\n",
       "tariff                                          \n",
       "smart          33.37         28.23        796.96\n",
       "ultra          49.31         47.81       2285.42"
      ]
     },
     "metadata": {},
     "output_type": "display_data"
    },
    {
     "data": {
      "text/plain": [
       "<matplotlib.legend.Legend at 0x7f1a51daffa0>"
      ]
     },
     "execution_count": 16,
     "metadata": {},
     "output_type": "execute_result"
    },
    {
     "data": {
      "image/png": "[encoded data removed]",
      "text/plain": [
       "<Figure size 432x288 with 1 Axes>"
      ]
     },
     "metadata": {
      "needs_background": "light"
     },
     "output_type": "display_data"
    }
   ],
   "source": [
    "display(df_general.pivot_table(index='tariff', values='message_count', aggfunc=['mean', 'std', 'var']).round(2))\n",
    "\n",
    "df_smart['message_count'].hist(bins=30, alpha=0.5)\n",
    "df_ultra['message_count'].hist(bins=30, alpha=0.5)\n",
    "plt.xlabel('messages_per_month')\n",
    "plt.legend(['smart', 'ultra'])"
   ]
  },
  {
   "cell_type": "markdown",
   "id": "924b341e",
   "metadata": {},
   "source": [
    "<div class=\"alert alert-info\">\n",
    "    \n",
    "Пользователи тарифа Smart: \n",
    "- по показателям мы видим, что пользователи относительно редко пользуются смс-сообщениями. \n",
    "- при среднем значении около 34, разница с отклонением составляет 28 сообщений, значит есть резкое разделение среди пользователей на тех кто пользуется смс, и тех пользуется ими редко. \n",
    "- распределение здесь скошено вправо, из-за большого количества малых значений в выборке и незначительного количества больших значений. \n",
    "- однако у довольно большая часть абонентов превышает базовый пакет в 50 сообщений, дополнительные +50-100 смс\n",
    "\n",
    "Пользователи тарифа Ultra:\n",
    "- по показателям мы видим, что пользователи тарифа Ultra отправляют сообщения чаще, чем абоненты Smart. \n",
    "- при среднем значении около 60, также наблюдается небольшая разница с отклонением составляет всего 14 сообщений. \n",
    "- и распределение также скошено вправо, из-за большого количества малых значений в выборке и незначительного количества больших значений.\n",
    "- все абоненты не превышают базовый пакет в 1000 сообщений, и используют максимум чуть более 200 смс\n",
    "    \n",
    "</div>"
   ]
  },
  {
   "cell_type": "code",
   "execution_count": 17,
   "id": "65a23265",
   "metadata": {
    "scrolled": true
   },
   "outputs": [
    {
     "data": {
      "text/html": [
       "<div>\n",
       "<style scoped>\n",
       "    .dataframe tbody tr th:only-of-type {\n",
       "        vertical-align: middle;\n",
       "    }\n",
       "\n",
       "    .dataframe tbody tr th {\n",
       "        vertical-align: top;\n",
       "    }\n",
       "\n",
       "    .dataframe thead tr th {\n",
       "        text-align: left;\n",
       "    }\n",
       "\n",
       "    .dataframe thead tr:last-of-type th {\n",
       "        text-align: right;\n",
       "    }\n",
       "</style>\n",
       "<table border=\"1\" class=\"dataframe\">\n",
       "  <thead>\n",
       "    <tr>\n",
       "      <th></th>\n",
       "      <th>mean</th>\n",
       "      <th>std</th>\n",
       "      <th>var</th>\n",
       "    </tr>\n",
       "    <tr>\n",
       "      <th></th>\n",
       "      <th>income_per_user</th>\n",
       "      <th>income_per_user</th>\n",
       "      <th>income_per_user</th>\n",
       "    </tr>\n",
       "    <tr>\n",
       "      <th>tariff</th>\n",
       "      <th></th>\n",
       "      <th></th>\n",
       "      <th></th>\n",
       "    </tr>\n",
       "  </thead>\n",
       "  <tbody>\n",
       "    <tr>\n",
       "      <th>smart</th>\n",
       "      <td>1289.64</td>\n",
       "      <td>818.37</td>\n",
       "      <td>669730.76</td>\n",
       "    </tr>\n",
       "    <tr>\n",
       "      <th>ultra</th>\n",
       "      <td>2070.03</td>\n",
       "      <td>376.02</td>\n",
       "      <td>141387.71</td>\n",
       "    </tr>\n",
       "  </tbody>\n",
       "</table>\n",
       "</div>"
      ],
      "text/plain": [
       "                  mean             std             var\n",
       "       income_per_user income_per_user income_per_user\n",
       "tariff                                                \n",
       "smart          1289.64          818.37       669730.76\n",
       "ultra          2070.03          376.02       141387.71"
      ]
     },
     "metadata": {},
     "output_type": "display_data"
    },
    {
     "data": {
      "text/plain": [
       "<matplotlib.legend.Legend at 0x7f1a5179b370>"
      ]
     },
     "execution_count": 17,
     "metadata": {},
     "output_type": "execute_result"
    },
    {
     "data": {
      "image/png": "[encoded data removed]",
      "text/plain": [
       "<Figure size 432x288 with 1 Axes>"
      ]
     },
     "metadata": {
      "needs_background": "light"
     },
     "output_type": "display_data"
    }
   ],
   "source": [
    "display(df_general.pivot_table(index='tariff', values='income_per_user', aggfunc=['mean', 'std', 'var']).round(2))\n",
    "\n",
    "df_smart['income_per_user'].hist(bins=30, alpha=0.5)\n",
    "df_ultra['income_per_user'].hist(bins=30, alpha=0.5)\n",
    "plt.xlabel('income_per_month')\n",
    "plt.legend(['smart', 'ultra'])"
   ]
  },
  {
   "cell_type": "markdown",
   "id": "f31a1e5b",
   "metadata": {},
   "source": [
    "<div class=\"alert alert-info\">\n",
    "    \n",
    "Пользователи тарифа Smart: \n",
    "- по показателям мы видим, что как минимум половина пользователей расходуют не больше абонентской платы. \n",
    "- график скошен вправо, при среднем значении расходов около 1300, с отклонением около 800 говорит о значительном количестве выбросов в большую сторону.  \n",
    "- при этом относительно пользователей тарифа Ultra, пользователи Smart намного чаще превышают расходы, в разы больше абонентской платы\n",
    "\n",
    "Пользователи тарифа Ultra:\n",
    "- пользователи тарифа Ultra практически всегда укладываются в расходы, не более абонентской платы. \n",
    "- среднее значение 2070 близко к сумме абоненсткой в 1950, с незначительным отклонением менее 400 руб. \n",
    "- и распределение также скошено вправо, из-за малого количества значений в выборке и незначительного количества выбросов в большую сторону.\n",
    "    \n",
    "</div>"
   ]
  },
  {
   "cell_type": "code",
   "execution_count": 18,
   "id": "5e6111c3",
   "metadata": {
    "scrolled": true
   },
   "outputs": [
    {
     "data": {
      "text/html": [
       "<div>\n",
       "<style scoped>\n",
       "    .dataframe tbody tr th:only-of-type {\n",
       "        vertical-align: middle;\n",
       "    }\n",
       "\n",
       "    .dataframe tbody tr th {\n",
       "        vertical-align: top;\n",
       "    }\n",
       "\n",
       "    .dataframe thead th {\n",
       "        text-align: right;\n",
       "    }\n",
       "</style>\n",
       "<table border=\"1\" class=\"dataframe\">\n",
       "  <thead>\n",
       "    <tr style=\"text-align: right;\">\n",
       "      <th></th>\n",
       "      <th></th>\n",
       "      <th>gb_sum</th>\n",
       "      <th>income_per_user</th>\n",
       "      <th>message_count</th>\n",
       "      <th>sum_calls</th>\n",
       "    </tr>\n",
       "    <tr>\n",
       "      <th>tariff</th>\n",
       "      <th>month</th>\n",
       "      <th></th>\n",
       "      <th></th>\n",
       "      <th></th>\n",
       "      <th></th>\n",
       "    </tr>\n",
       "  </thead>\n",
       "  <tbody>\n",
       "    <tr>\n",
       "      <th rowspan=\"13\" valign=\"top\">smart</th>\n",
       "      <th>0.0</th>\n",
       "      <td>0.00</td>\n",
       "      <td>550.00</td>\n",
       "      <td>0.00</td>\n",
       "      <td>0.00</td>\n",
       "    </tr>\n",
       "    <tr>\n",
       "      <th>1.0</th>\n",
       "      <td>8.74</td>\n",
       "      <td>721.32</td>\n",
       "      <td>18.24</td>\n",
       "      <td>203.85</td>\n",
       "    </tr>\n",
       "    <tr>\n",
       "      <th>2.0</th>\n",
       "      <td>11.84</td>\n",
       "      <td>827.60</td>\n",
       "      <td>24.09</td>\n",
       "      <td>298.69</td>\n",
       "    </tr>\n",
       "    <tr>\n",
       "      <th>3.0</th>\n",
       "      <td>15.23</td>\n",
       "      <td>1164.62</td>\n",
       "      <td>31.86</td>\n",
       "      <td>390.05</td>\n",
       "    </tr>\n",
       "    <tr>\n",
       "      <th>4.0</th>\n",
       "      <td>13.62</td>\n",
       "      <td>963.09</td>\n",
       "      <td>30.74</td>\n",
       "      <td>367.13</td>\n",
       "    </tr>\n",
       "    <tr>\n",
       "      <th>5.0</th>\n",
       "      <td>15.91</td>\n",
       "      <td>1197.51</td>\n",
       "      <td>33.77</td>\n",
       "      <td>387.36</td>\n",
       "    </tr>\n",
       "    <tr>\n",
       "      <th>6.0</th>\n",
       "      <td>15.95</td>\n",
       "      <td>1204.02</td>\n",
       "      <td>33.40</td>\n",
       "      <td>395.64</td>\n",
       "    </tr>\n",
       "    <tr>\n",
       "      <th>7.0</th>\n",
       "      <td>15.88</td>\n",
       "      <td>1223.95</td>\n",
       "      <td>33.75</td>\n",
       "      <td>408.35</td>\n",
       "    </tr>\n",
       "    <tr>\n",
       "      <th>8.0</th>\n",
       "      <td>16.74</td>\n",
       "      <td>1320.60</td>\n",
       "      <td>33.64</td>\n",
       "      <td>421.47</td>\n",
       "    </tr>\n",
       "    <tr>\n",
       "      <th>9.0</th>\n",
       "      <td>16.39</td>\n",
       "      <td>1249.95</td>\n",
       "      <td>33.64</td>\n",
       "      <td>428.61</td>\n",
       "    </tr>\n",
       "    <tr>\n",
       "      <th>10.0</th>\n",
       "      <td>16.88</td>\n",
       "      <td>1364.85</td>\n",
       "      <td>33.77</td>\n",
       "      <td>426.14</td>\n",
       "    </tr>\n",
       "    <tr>\n",
       "      <th>11.0</th>\n",
       "      <td>17.00</td>\n",
       "      <td>1343.05</td>\n",
       "      <td>34.08</td>\n",
       "      <td>435.27</td>\n",
       "    </tr>\n",
       "    <tr>\n",
       "      <th>12.0</th>\n",
       "      <td>18.20</td>\n",
       "      <td>1578.53</td>\n",
       "      <td>35.99</td>\n",
       "      <td>478.56</td>\n",
       "    </tr>\n",
       "    <tr>\n",
       "      <th rowspan=\"13\" valign=\"top\">ultra</th>\n",
       "      <th>0.0</th>\n",
       "      <td>0.00</td>\n",
       "      <td>1950.00</td>\n",
       "      <td>0.00</td>\n",
       "      <td>0.00</td>\n",
       "    </tr>\n",
       "    <tr>\n",
       "      <th>1.0</th>\n",
       "      <td>13.22</td>\n",
       "      <td>1950.00</td>\n",
       "      <td>33.78</td>\n",
       "      <td>428.11</td>\n",
       "    </tr>\n",
       "    <tr>\n",
       "      <th>2.0</th>\n",
       "      <td>12.00</td>\n",
       "      <td>1975.00</td>\n",
       "      <td>21.96</td>\n",
       "      <td>297.12</td>\n",
       "    </tr>\n",
       "    <tr>\n",
       "      <th>3.0</th>\n",
       "      <td>17.65</td>\n",
       "      <td>2014.86</td>\n",
       "      <td>32.30</td>\n",
       "      <td>489.65</td>\n",
       "    </tr>\n",
       "    <tr>\n",
       "      <th>4.0</th>\n",
       "      <td>16.96</td>\n",
       "      <td>2001.82</td>\n",
       "      <td>31.56</td>\n",
       "      <td>458.02</td>\n",
       "    </tr>\n",
       "    <tr>\n",
       "      <th>5.0</th>\n",
       "      <td>19.37</td>\n",
       "      <td>2059.70</td>\n",
       "      <td>37.85</td>\n",
       "      <td>510.33</td>\n",
       "    </tr>\n",
       "    <tr>\n",
       "      <th>6.0</th>\n",
       "      <td>18.94</td>\n",
       "      <td>2039.29</td>\n",
       "      <td>41.73</td>\n",
       "      <td>479.70</td>\n",
       "    </tr>\n",
       "    <tr>\n",
       "      <th>7.0</th>\n",
       "      <td>20.51</td>\n",
       "      <td>2118.13</td>\n",
       "      <td>49.85</td>\n",
       "      <td>545.79</td>\n",
       "    </tr>\n",
       "    <tr>\n",
       "      <th>8.0</th>\n",
       "      <td>19.60</td>\n",
       "      <td>2083.18</td>\n",
       "      <td>48.44</td>\n",
       "      <td>510.78</td>\n",
       "    </tr>\n",
       "    <tr>\n",
       "      <th>9.0</th>\n",
       "      <td>19.24</td>\n",
       "      <td>2024.35</td>\n",
       "      <td>52.29</td>\n",
       "      <td>539.44</td>\n",
       "    </tr>\n",
       "    <tr>\n",
       "      <th>10.0</th>\n",
       "      <td>20.07</td>\n",
       "      <td>2065.85</td>\n",
       "      <td>58.43</td>\n",
       "      <td>558.08</td>\n",
       "    </tr>\n",
       "    <tr>\n",
       "      <th>11.0</th>\n",
       "      <td>19.81</td>\n",
       "      <td>2092.16</td>\n",
       "      <td>55.79</td>\n",
       "      <td>541.38</td>\n",
       "    </tr>\n",
       "    <tr>\n",
       "      <th>12.0</th>\n",
       "      <td>21.74</td>\n",
       "      <td>2138.85</td>\n",
       "      <td>60.61</td>\n",
       "      <td>592.81</td>\n",
       "    </tr>\n",
       "  </tbody>\n",
       "</table>\n",
       "</div>"
      ],
      "text/plain": [
       "              gb_sum  income_per_user  message_count  sum_calls\n",
       "tariff month                                                   \n",
       "smart  0.0      0.00           550.00           0.00       0.00\n",
       "       1.0      8.74           721.32          18.24     203.85\n",
       "       2.0     11.84           827.60          24.09     298.69\n",
       "       3.0     15.23          1164.62          31.86     390.05\n",
       "       4.0     13.62           963.09          30.74     367.13\n",
       "       5.0     15.91          1197.51          33.77     387.36\n",
       "       6.0     15.95          1204.02          33.40     395.64\n",
       "       7.0     15.88          1223.95          33.75     408.35\n",
       "       8.0     16.74          1320.60          33.64     421.47\n",
       "       9.0     16.39          1249.95          33.64     428.61\n",
       "       10.0    16.88          1364.85          33.77     426.14\n",
       "       11.0    17.00          1343.05          34.08     435.27\n",
       "       12.0    18.20          1578.53          35.99     478.56\n",
       "ultra  0.0      0.00          1950.00           0.00       0.00\n",
       "       1.0     13.22          1950.00          33.78     428.11\n",
       "       2.0     12.00          1975.00          21.96     297.12\n",
       "       3.0     17.65          2014.86          32.30     489.65\n",
       "       4.0     16.96          2001.82          31.56     458.02\n",
       "       5.0     19.37          2059.70          37.85     510.33\n",
       "       6.0     18.94          2039.29          41.73     479.70\n",
       "       7.0     20.51          2118.13          49.85     545.79\n",
       "       8.0     19.60          2083.18          48.44     510.78\n",
       "       9.0     19.24          2024.35          52.29     539.44\n",
       "       10.0    20.07          2065.85          58.43     558.08\n",
       "       11.0    19.81          2092.16          55.79     541.38\n",
       "       12.0    21.74          2138.85          60.61     592.81"
      ]
     },
     "metadata": {},
     "output_type": "display_data"
    }
   ],
   "source": [
    "display(df_general.pivot_table(index=['tariff', 'month'], values=['gb_sum', 'sum_calls', 'message_count', 'income_per_user']).round(2))"
   ]
  },
  {
   "cell_type": "markdown",
   "id": "52dc1257",
   "metadata": {},
   "source": [
    "<div class=\"alert alert-info\">\n",
    "    \n",
    "Показатели по месяцам:\n",
    "    \n",
    "У пользователей обоих тарифов наблюдается рост среднего потребления трафика от начала до конца года примерно в 1.5 - 2 раза. Здесь явно влияют общая тенденция активности людей и экономики в целом\n",
    "- новогодние каникулы\n",
    "- снижение активности населения и доходов\n",
    "- к весне рост активности населения и рынка \n",
    "- в летний период небольшая коррекция на снижение \n",
    "- далее начало учебного года \n",
    "- ближе к концу года: завершение дел, проектов и отчетов, подготовка к праздникам\n",
    "\n",
    "</div>"
   ]
  },
  {
   "cell_type": "markdown",
   "id": "5c7ed513",
   "metadata": {},
   "source": [
    "### Проверим гипотезы\n",
    "- средняя выручка пользователей тарифов «Ультра» и «Смарт» различаются;\n",
    "- средняя выручка пользователей из Москвы отличается от выручки пользователей из других регионов."
   ]
  },
  {
   "cell_type": "markdown",
   "id": "34a892ac",
   "metadata": {},
   "source": [
    "#### Применим двусторнний статистический тест на равенство двух генеральных совокупностей, т.к. имеем 2 массива данных и хотим проверить насколько схожи средние показатели доходов от двух тарифов \n",
    "\n",
    "- нулевая гипотеза: средняя выручка пользователей тарифов «Ультра» и «Смарт» равны\n",
    "- альтернативная гипотеза: средняя выручка пользователей тарифов «Ультра» и «Смарт» различаются"
   ]
  },
  {
   "cell_type": "code",
   "execution_count": 19,
   "id": "a2c4c697",
   "metadata": {
    "scrolled": true
   },
   "outputs": [
    {
     "name": "stdout",
     "output_type": "stream",
     "text": [
      "p-значение: 8.081909555489933e-161\n",
      "Отвергаем нулевую гипотезу\n"
     ]
    }
   ],
   "source": [
    "smart_income = df_smart['income_per_user']\n",
    "ultra_income = df_ultra['income_per_user']\n",
    "alpha = .05 # критический уровень статистической значимости\n",
    "            \n",
    "\n",
    "results = st.ttest_ind(\n",
    "    smart_income, \n",
    "    ultra_income)\n",
    "\n",
    "print('p-значение:', results.pvalue)\n",
    "\n",
    "if results.pvalue < alpha:\n",
    "    print(\"Отвергаем нулевую гипотезу\")\n",
    "else:\n",
    "    print(\"Не получилось отвергнуть нулевую гипотезу\") "
   ]
  },
  {
   "cell_type": "markdown",
   "id": "df689c9d",
   "metadata": {},
   "source": [
    "<div class=\"alert alert-info\">\n",
    "    \n",
    "#### В результате полученного значения р_value мы отвергаем нулевую гипотезу о равенстве средних доходов от пользователей тарифов Smart и Ultra\n",
    "    \n",
    "</div>"
   ]
  },
  {
   "cell_type": "markdown",
   "id": "b87258d6",
   "metadata": {},
   "source": [
    "#### Применим двусторнний статистический тест на равенство двух генеральных совокупностей, т.к. имеем 2 массива данных и хотим проверить насколько схожи средние показатели доходов от пользователей из Москвы и из остальных регионов.\n",
    "\n",
    "- нулевая гипотеза: средняя выручка пользователей из Москвы равна средней выручке пользователей из других регионов.\n",
    "- альтернативная гипотеза: средняя выручка пользователей из Москвы отличается от выручки пользователей из других регионов."
   ]
  },
  {
   "cell_type": "code",
   "execution_count": 20,
   "id": "834a61a3",
   "metadata": {},
   "outputs": [
    {
     "name": "stdout",
     "output_type": "stream",
     "text": [
      "p-значение: 0.5400751614511182\n",
      "Не получилось отвергнуть нулевую гипотезу\n"
     ]
    }
   ],
   "source": [
    "moscow_income = df_general[df_general['city'] == 'Москва']['income_per_user']\n",
    "reg_income = df_general[df_general['city'] != 'Москва']['income_per_user']\n",
    "alpha = .05 # критический уровень статистической значимости\n",
    "            \n",
    "\n",
    "results = st.ttest_ind(\n",
    "    moscow_income, \n",
    "    reg_income)\n",
    "\n",
    "print('p-значение:', results.pvalue)\n",
    "\n",
    "if results.pvalue < alpha:\n",
    "    print(\"Отвергаем нулевую гипотезу\")\n",
    "else:\n",
    "    print(\"Не получилось отвергнуть нулевую гипотезу\") "
   ]
  },
  {
   "cell_type": "markdown",
   "id": "b198ad19",
   "metadata": {},
   "source": [
    "<div class=\"alert alert-info\">\n",
    "    \n",
    "#### В результате полученного значения р_value мы не отвергаем нулевую гипотезу о равенстве средних доходов от абонентов из Москвы и средних доходах от абонентов из остальных регионов\n",
    "    \n",
    "</div>"
   ]
  },
  {
   "cell_type": "markdown",
   "id": "7de1a0fe",
   "metadata": {},
   "source": [
    "## Общие выводы:\n",
    "\n",
    "#### Smart\n",
    "    - значительная часть пользователей тарифа Смарт часто превышают базовые пакеты, и расходуют (мин. +250 \\смс +50-100 \\Гб +4-9) за дополнительную плату, что приносит столько же либо больше прибыли чем от пользователей Ультра.\n",
    "    - при этом если пользователь Смарт следит за своими расходами, и они регулярно превышают либо равны стоимости тарифа Ультра, то с большой вероятностью он поменяет тариф.\n",
    "    - хоть и для оператора Смарт в таких случаях будет прибыльнее, чем Ультра, необходимо учитывать психологический фактор и выявить отношение этих пользователей к перерасходам. Возможно они будут иметь негативный характер и снижать лояльность к бренду.\n",
    "    - Смарт более популярен среди пользователей оператора. Основные факторы: \n",
    "        - бюджетная абонентская плата, \n",
    "        - приемлемый размер базовых пакетов для не особо активных пользовалей услуг, \n",
    "        - возможность не переплачивать в периоды неактивного пользования услуг\n",
    "        \n",
    "\n",
    "#### Ultra\n",
    "    - пользователи тарифа Ультра почти всегда укладываются в базовые пакеты (минут, смс и Гб), включенные в абонентскую плату, значит расходы для пользователей этого тарифа имеют стабильный характер и скорее всего повышают лояльность к бренду, приводя привычный характер использования тарифа у абонента. \n",
    "    - Также несмотря на то, что количество пользователей Ультра в несколько раз уступает количеству абонентов Смарт, доходность от пользователей Ультра в разы не отличается.\n",
    "    - По своей структуре пользователи тарифа формируют более стабильный и состоятельный сегмент абонентов, готовых также тратить больше на дополнительные и смежные услуги оператора, например домашний интернет и кабельное ТВ.\n",
    "\n",
    "\n",
    "\n",
    "#### Исходя из вышеперечисленного тариф Ультра более выгоден для оператора ввиду своей стабильной прибыльности и качестве абонентов, однако тариф Смарт необходим для более массового привлечения новых абонентов, часть из которых перейдут со временем на Ультра и станут более лояльными клиентами, а также формирования двух сегментов пользователей:\n",
    "    - те которым нужны небольшие объемы услуг и бюджетная обонентская плата\n",
    "    - и те которым важна стабильность расходов и достаточно большой объем услуг"
   ]
  }
 ],
 "metadata": {
  "ExecuteTimeLog": [
   {
    "duration": 45,
    "start_time": "2022-04-29T04:32:06.326Z"
   },
   {
    "duration": 1244,
    "start_time": "2022-04-29T04:32:34.314Z"
   },
   {
    "duration": 147,
    "start_time": "2022-04-29T04:32:35.560Z"
   },
   {
    "duration": 0,
    "start_time": "2022-04-29T04:32:35.710Z"
   },
   {
    "duration": 0,
    "start_time": "2022-04-29T04:32:35.711Z"
   },
   {
    "duration": 0,
    "start_time": "2022-04-29T04:32:35.712Z"
   },
   {
    "duration": 0,
    "start_time": "2022-04-29T04:32:35.713Z"
   },
   {
    "duration": 0,
    "start_time": "2022-04-29T04:32:35.714Z"
   },
   {
    "duration": 0,
    "start_time": "2022-04-29T04:32:35.714Z"
   },
   {
    "duration": 0,
    "start_time": "2022-04-29T04:32:35.715Z"
   },
   {
    "duration": 0,
    "start_time": "2022-04-29T04:32:35.716Z"
   },
   {
    "duration": 0,
    "start_time": "2022-04-29T04:32:35.717Z"
   },
   {
    "duration": 0,
    "start_time": "2022-04-29T04:32:35.719Z"
   },
   {
    "duration": 0,
    "start_time": "2022-04-29T04:32:35.720Z"
   },
   {
    "duration": 0,
    "start_time": "2022-04-29T04:32:35.721Z"
   },
   {
    "duration": 0,
    "start_time": "2022-04-29T04:32:35.722Z"
   },
   {
    "duration": 0,
    "start_time": "2022-04-29T04:32:35.723Z"
   },
   {
    "duration": 0,
    "start_time": "2022-04-29T04:32:35.723Z"
   },
   {
    "duration": 0,
    "start_time": "2022-04-29T04:32:35.725Z"
   },
   {
    "duration": 0,
    "start_time": "2022-04-29T04:32:35.726Z"
   },
   {
    "duration": 1083,
    "start_time": "2022-04-29T04:34:27.410Z"
   },
   {
    "duration": 158,
    "start_time": "2022-04-29T04:34:28.495Z"
   },
   {
    "duration": 0,
    "start_time": "2022-04-29T04:34:28.656Z"
   },
   {
    "duration": 0,
    "start_time": "2022-04-29T04:34:28.657Z"
   },
   {
    "duration": 0,
    "start_time": "2022-04-29T04:34:28.658Z"
   },
   {
    "duration": 0,
    "start_time": "2022-04-29T04:34:28.659Z"
   },
   {
    "duration": 0,
    "start_time": "2022-04-29T04:34:28.673Z"
   },
   {
    "duration": 0,
    "start_time": "2022-04-29T04:34:28.674Z"
   },
   {
    "duration": 0,
    "start_time": "2022-04-29T04:34:28.675Z"
   },
   {
    "duration": 0,
    "start_time": "2022-04-29T04:34:28.676Z"
   },
   {
    "duration": 1,
    "start_time": "2022-04-29T04:34:28.677Z"
   },
   {
    "duration": 0,
    "start_time": "2022-04-29T04:34:28.678Z"
   },
   {
    "duration": 0,
    "start_time": "2022-04-29T04:34:28.679Z"
   },
   {
    "duration": 0,
    "start_time": "2022-04-29T04:34:28.681Z"
   },
   {
    "duration": 0,
    "start_time": "2022-04-29T04:34:28.682Z"
   },
   {
    "duration": 0,
    "start_time": "2022-04-29T04:34:28.683Z"
   },
   {
    "duration": 0,
    "start_time": "2022-04-29T04:34:28.683Z"
   },
   {
    "duration": 1,
    "start_time": "2022-04-29T04:34:28.684Z"
   },
   {
    "duration": 0,
    "start_time": "2022-04-29T04:34:28.685Z"
   },
   {
    "duration": 1203,
    "start_time": "2022-04-29T04:35:26.572Z"
   },
   {
    "duration": 152,
    "start_time": "2022-04-29T04:35:27.777Z"
   },
   {
    "duration": 0,
    "start_time": "2022-04-29T04:35:27.932Z"
   },
   {
    "duration": 0,
    "start_time": "2022-04-29T04:35:27.933Z"
   },
   {
    "duration": 0,
    "start_time": "2022-04-29T04:35:27.934Z"
   },
   {
    "duration": 0,
    "start_time": "2022-04-29T04:35:27.935Z"
   },
   {
    "duration": 0,
    "start_time": "2022-04-29T04:35:27.935Z"
   },
   {
    "duration": 0,
    "start_time": "2022-04-29T04:35:27.937Z"
   },
   {
    "duration": 0,
    "start_time": "2022-04-29T04:35:27.937Z"
   },
   {
    "duration": 0,
    "start_time": "2022-04-29T04:35:27.938Z"
   },
   {
    "duration": 0,
    "start_time": "2022-04-29T04:35:27.939Z"
   },
   {
    "duration": 0,
    "start_time": "2022-04-29T04:35:27.940Z"
   },
   {
    "duration": 0,
    "start_time": "2022-04-29T04:35:27.941Z"
   },
   {
    "duration": 0,
    "start_time": "2022-04-29T04:35:27.941Z"
   },
   {
    "duration": 0,
    "start_time": "2022-04-29T04:35:27.942Z"
   },
   {
    "duration": 0,
    "start_time": "2022-04-29T04:35:27.943Z"
   },
   {
    "duration": 0,
    "start_time": "2022-04-29T04:35:27.944Z"
   },
   {
    "duration": 0,
    "start_time": "2022-04-29T04:35:27.946Z"
   },
   {
    "duration": 0,
    "start_time": "2022-04-29T04:35:27.946Z"
   },
   {
    "duration": 71,
    "start_time": "2022-04-29T04:41:11.551Z"
   },
   {
    "duration": 349,
    "start_time": "2022-04-29T04:41:44.590Z"
   },
   {
    "duration": 1173,
    "start_time": "2022-04-29T04:42:26.437Z"
   },
   {
    "duration": 389,
    "start_time": "2022-04-29T04:42:27.612Z"
   },
   {
    "duration": 50,
    "start_time": "2022-04-29T04:42:28.003Z"
   },
   {
    "duration": 123,
    "start_time": "2022-04-29T04:42:28.055Z"
   },
   {
    "duration": 79,
    "start_time": "2022-04-29T04:42:28.180Z"
   },
   {
    "duration": 76,
    "start_time": "2022-04-29T04:42:28.261Z"
   },
   {
    "duration": 46,
    "start_time": "2022-04-29T04:42:28.339Z"
   },
   {
    "duration": 18,
    "start_time": "2022-04-29T04:42:28.386Z"
   },
   {
    "duration": 68,
    "start_time": "2022-04-29T04:42:28.406Z"
   },
   {
    "duration": 8,
    "start_time": "2022-04-29T04:42:28.477Z"
   },
   {
    "duration": 54,
    "start_time": "2022-04-29T04:42:28.486Z"
   },
   {
    "duration": 144,
    "start_time": "2022-04-29T04:42:28.542Z"
   },
   {
    "duration": 6,
    "start_time": "2022-04-29T04:42:28.687Z"
   },
   {
    "duration": 271,
    "start_time": "2022-04-29T04:42:28.694Z"
   },
   {
    "duration": 269,
    "start_time": "2022-04-29T04:42:28.972Z"
   },
   {
    "duration": 272,
    "start_time": "2022-04-29T04:42:29.243Z"
   },
   {
    "duration": 26,
    "start_time": "2022-04-29T04:42:29.517Z"
   },
   {
    "duration": 5,
    "start_time": "2022-04-29T04:42:29.545Z"
   },
   {
    "duration": 28,
    "start_time": "2022-04-29T04:42:29.551Z"
   },
   {
    "duration": 33,
    "start_time": "2022-04-29T04:43:16.913Z"
   },
   {
    "duration": 33,
    "start_time": "2022-04-29T04:44:02.072Z"
   },
   {
    "duration": 106,
    "start_time": "2022-04-29T06:33:59.301Z"
   },
   {
    "duration": 328,
    "start_time": "2022-04-29T06:41:23.990Z"
   },
   {
    "duration": 1175,
    "start_time": "2022-04-29T06:55:21.076Z"
   },
   {
    "duration": 389,
    "start_time": "2022-04-29T06:55:22.254Z"
   },
   {
    "duration": 46,
    "start_time": "2022-04-29T06:55:22.645Z"
   },
   {
    "duration": 125,
    "start_time": "2022-04-29T06:55:22.693Z"
   },
   {
    "duration": 80,
    "start_time": "2022-04-29T06:55:22.820Z"
   },
   {
    "duration": 73,
    "start_time": "2022-04-29T06:55:22.901Z"
   },
   {
    "duration": 26,
    "start_time": "2022-04-29T06:55:22.976Z"
   },
   {
    "duration": 17,
    "start_time": "2022-04-29T06:55:23.004Z"
   },
   {
    "duration": 66,
    "start_time": "2022-04-29T06:55:23.023Z"
   },
   {
    "duration": 7,
    "start_time": "2022-04-29T06:55:23.092Z"
   },
   {
    "duration": 34,
    "start_time": "2022-04-29T06:55:23.100Z"
   },
   {
    "duration": 122,
    "start_time": "2022-04-29T06:55:23.136Z"
   },
   {
    "duration": 14,
    "start_time": "2022-04-29T06:55:23.260Z"
   },
   {
    "duration": 258,
    "start_time": "2022-04-29T06:55:23.276Z"
   },
   {
    "duration": 249,
    "start_time": "2022-04-29T06:55:23.536Z"
   },
   {
    "duration": 263,
    "start_time": "2022-04-29T06:55:23.786Z"
   },
   {
    "duration": 257,
    "start_time": "2022-04-29T06:55:24.050Z"
   },
   {
    "duration": 26,
    "start_time": "2022-04-29T06:55:24.309Z"
   },
   {
    "duration": 5,
    "start_time": "2022-04-29T06:55:24.337Z"
   },
   {
    "duration": 31,
    "start_time": "2022-04-29T06:55:24.344Z"
   },
   {
    "duration": 1401,
    "start_time": "2022-04-29T18:39:05.581Z"
   },
   {
    "duration": 389,
    "start_time": "2022-04-29T18:39:06.984Z"
   },
   {
    "duration": 46,
    "start_time": "2022-04-29T18:39:07.375Z"
   },
   {
    "duration": 116,
    "start_time": "2022-04-29T18:39:07.423Z"
   },
   {
    "duration": 64,
    "start_time": "2022-04-29T18:39:07.541Z"
   },
   {
    "duration": 75,
    "start_time": "2022-04-29T18:39:07.606Z"
   },
   {
    "duration": 41,
    "start_time": "2022-04-29T18:39:07.682Z"
   },
   {
    "duration": 27,
    "start_time": "2022-04-29T18:39:07.726Z"
   },
   {
    "duration": 90,
    "start_time": "2022-04-29T18:39:07.755Z"
   },
   {
    "duration": 10,
    "start_time": "2022-04-29T18:39:07.848Z"
   },
   {
    "duration": 71,
    "start_time": "2022-04-29T18:39:07.860Z"
   },
   {
    "duration": 204,
    "start_time": "2022-04-29T18:39:07.933Z"
   },
   {
    "duration": 8,
    "start_time": "2022-04-29T18:39:08.139Z"
   },
   {
    "duration": 332,
    "start_time": "2022-04-29T18:39:08.149Z"
   },
   {
    "duration": 384,
    "start_time": "2022-04-29T18:39:08.483Z"
   },
   {
    "duration": 242,
    "start_time": "2022-04-29T18:39:08.869Z"
   },
   {
    "duration": 247,
    "start_time": "2022-04-29T18:39:09.113Z"
   },
   {
    "duration": 24,
    "start_time": "2022-04-29T18:39:09.362Z"
   },
   {
    "duration": 5,
    "start_time": "2022-04-29T18:39:09.387Z"
   },
   {
    "duration": 29,
    "start_time": "2022-04-29T18:39:09.394Z"
   },
   {
    "duration": 1224,
    "start_time": "2022-04-29T18:49:49.802Z"
   },
   {
    "duration": 387,
    "start_time": "2022-04-29T18:49:51.028Z"
   },
   {
    "duration": 42,
    "start_time": "2022-04-29T18:49:51.417Z"
   },
   {
    "duration": 124,
    "start_time": "2022-04-29T18:49:51.461Z"
   },
   {
    "duration": 70,
    "start_time": "2022-04-29T18:49:51.588Z"
   },
   {
    "duration": 64,
    "start_time": "2022-04-29T18:49:51.660Z"
   },
   {
    "duration": 26,
    "start_time": "2022-04-29T18:49:51.726Z"
   },
   {
    "duration": 16,
    "start_time": "2022-04-29T18:49:51.754Z"
   },
   {
    "duration": 71,
    "start_time": "2022-04-29T18:49:51.771Z"
   },
   {
    "duration": 8,
    "start_time": "2022-04-29T18:49:51.844Z"
   },
   {
    "duration": 32,
    "start_time": "2022-04-29T18:49:51.854Z"
   },
   {
    "duration": 131,
    "start_time": "2022-04-29T18:49:51.888Z"
   },
   {
    "duration": 5,
    "start_time": "2022-04-29T18:49:52.022Z"
   },
   {
    "duration": 236,
    "start_time": "2022-04-29T18:49:52.030Z"
   },
   {
    "duration": 230,
    "start_time": "2022-04-29T18:49:52.268Z"
   },
   {
    "duration": 236,
    "start_time": "2022-04-29T18:49:52.500Z"
   },
   {
    "duration": 235,
    "start_time": "2022-04-29T18:49:52.737Z"
   },
   {
    "duration": 23,
    "start_time": "2022-04-29T18:49:52.974Z"
   },
   {
    "duration": 4,
    "start_time": "2022-04-29T18:49:52.999Z"
   },
   {
    "duration": 23,
    "start_time": "2022-04-29T18:49:53.005Z"
   }
  ],
  "kernelspec": {
   "display_name": "Python 3 (ipykernel)",
   "language": "python",
   "name": "python3"
  },
  "language_info": {
   "codemirror_mode": {
    "name": "ipython",
    "version": 3
   },
   "file_extension": ".py",
   "mimetype": "text/x-python",
   "name": "python",
   "nbconvert_exporter": "python",
   "pygments_lexer": "ipython3",
   "version": "3.9.7"
  },
  "toc": {
   "base_numbering": 1,
   "nav_menu": {},
   "number_sections": true,
   "sideBar": true,
   "skip_h1_title": true,
   "title_cell": "Table of Contents",
   "title_sidebar": "Contents",
   "toc_cell": false,
   "toc_position": {},
   "toc_section_display": true,
   "toc_window_display": false
  }
 },
 "nbformat": 4,
 "nbformat_minor": 5
}
