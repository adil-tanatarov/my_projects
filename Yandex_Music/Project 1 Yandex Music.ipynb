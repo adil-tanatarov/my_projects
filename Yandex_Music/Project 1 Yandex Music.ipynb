{
 "cells": [
  {
   "cell_type": "markdown",
   "metadata": {
    "id": "E0vqbgi9ay0H"
   },
   "source": [
    "# Проект исследования предпочтений пользователей сервиса Яндекс.Музыка"
   ]
  },
  {
   "cell_type": "markdown",
   "metadata": {
    "id": "VUC88oWjTJw2"
   },
   "source": [
    "Сравнение Москвы и Петербурга окружено мифами. Например:\n",
    " * Москва — мегаполис, подчинённый жёсткому ритму рабочей недели;\n",
    " * Петербург — культурная столица, со своими вкусами.\n",
    "\n",
    "На данных Яндекс.Музыки вы сравните поведение пользователей двух столиц.\n",
    "\n",
    "**Цель исследования** — проверьте три гипотезы:\n",
    "1. Активность пользователей зависит от дня недели. Причём в Москве и Петербурге это проявляется по-разному.\n",
    "2. В понедельник утром в Москве преобладают одни жанры, а в Петербурге — другие. Так же и вечером пятницы преобладают разные жанры — в зависимости от города. \n",
    "3. Москва и Петербург предпочитают разные жанры музыки. В Москве чаще слушают поп-музыку, в Петербурге — русский рэп.\n",
    "\n",
    "**Ход исследования**\n",
    "\n",
    "Данные о поведении пользователей вы получите из файла `yandex_music_project.csv`. О качестве данных ничего не известно. Поэтому перед проверкой гипотез понадобится обзор данных. \n",
    "\n",
    "Мы проверим данные на ошибки и оцените их влияние на исследование. Затем, на этапе предобработки поищем возможность исправить самые критичные ошибки данных.\n",
    " \n",
    "Таким образом, исследование пройдёт в три этапа:\n",
    " 1. Обзор данных.\n",
    " 2. Предобработка данных.\n",
    " 3. Проверка гипотез.\n",
    "\n"
   ]
  },
  {
   "cell_type": "markdown",
   "metadata": {
    "id": "Ml1hmfXC_Zcs"
   },
   "source": [
    "## Обзор данных\n",
    "\n",
    "Составим первое представление о данных Яндекс.Музыки.\n",
    "\n",
    "\n"
   ]
  },
  {
   "cell_type": "code",
   "execution_count": 1,
   "metadata": {
    "id": "AXN7PHPN_Zcs"
   },
   "outputs": [],
   "source": [
    "import pandas as pd# импорт библиотеки pandas"
   ]
  },
  {
   "cell_type": "code",
   "execution_count": 2,
   "metadata": {
    "id": "fFVu7vqh_Zct"
   },
   "outputs": [],
   "source": [
    "df = pd.read_csv('/datasets/yandex_music_project.csv')# чтение файла с данными и сохранение в df"
   ]
  },
  {
   "cell_type": "code",
   "execution_count": 3,
   "metadata": {
    "id": "oWTVX3gW_Zct"
   },
   "outputs": [
    {
     "name": "stdout",
     "output_type": "stream",
     "text": [
      "     userID                        Track            artist   genre  \\\n",
      "0  FFB692EC            Kamigata To Boots  The Mass Missile    rock   \n",
      "1  55204538  Delayed Because of Accident  Andreas Rönnberg    rock   \n",
      "2    20EC38            Funiculì funiculà       Mario Lanza     pop   \n",
      "3  A3DD03C9        Dragons in the Sunset        Fire + Ice    folk   \n",
      "4  E2DC1FAE                  Soul People        Space Echo   dance   \n",
      "5  842029A1                    Преданная         IMPERVTOR  rusrap   \n",
      "6  4CB90AA5                         True      Roman Messer   dance   \n",
      "7  F03E1C1F             Feeling This Way   Polina Griffith   dance   \n",
      "8  8FA1D3BE     И вновь продолжается бой               NaN  ruspop   \n",
      "9  E772D5C0                    Pessimist               NaN   dance   \n",
      "\n",
      "             City        time        Day  \n",
      "0  Saint-Petersburg  20:28:33  Wednesday  \n",
      "1            Moscow  14:07:09     Friday  \n",
      "2  Saint-Petersburg  20:58:07  Wednesday  \n",
      "3  Saint-Petersburg  08:37:09     Monday  \n",
      "4            Moscow  08:34:34     Monday  \n",
      "5  Saint-Petersburg  13:09:41     Friday  \n",
      "6            Moscow  13:00:07  Wednesday  \n",
      "7            Moscow  20:47:49  Wednesday  \n",
      "8            Moscow  09:17:40     Friday  \n",
      "9  Saint-Petersburg  21:20:49  Wednesday  \n"
     ]
    }
   ],
   "source": [
    "print(df.head(10))\n",
    "# получение первых 10 строк таблицы df"
   ]
  },
  {
   "cell_type": "code",
   "execution_count": 4,
   "metadata": {
    "id": "DSf2kIb-_Zct"
   },
   "outputs": [
    {
     "name": "stdout",
     "output_type": "stream",
     "text": [
      "<class 'pandas.core.frame.DataFrame'>\n",
      "RangeIndex: 65079 entries, 0 to 65078\n",
      "Data columns (total 7 columns):\n",
      "  userID    65079 non-null object\n",
      "Track       63848 non-null object\n",
      "artist      57876 non-null object\n",
      "genre       63881 non-null object\n",
      "  City      65079 non-null object\n",
      "time        65079 non-null object\n",
      "Day         65079 non-null object\n",
      "dtypes: object(7)\n",
      "memory usage: 3.5+ MB\n"
     ]
    }
   ],
   "source": [
    "df.info()# получение общей информации о данных в таблице df"
   ]
  },
  {
   "cell_type": "markdown",
   "metadata": {
    "id": "TaQ2Iwbr_Zct"
   },
   "source": [
    "Итак, в таблице семь столбцов. Тип данных во всех столбцах — `object`.\n",
    "\n",
    "Согласно документации к данным:\n",
    "* `userID` — идентификатор пользователя;\n",
    "* `Track` — название трека;  \n",
    "* `artist` — имя исполнителя;\n",
    "* `genre` — название жанра;\n",
    "* `City` — город пользователя;\n",
    "* `time` — время начала прослушивания;\n",
    "* `Day` — день недели.\n",
    "\n",
    "В названиях колонок видны три нарушения стиля:\n",
    "1. Строчные буквы сочетаются с прописными.\n",
    "2. Встречаются пробелы.\n",
    "3. Встречаются пропуски и неявные дубликаты в колонке с жанрами\n",
    "\n",
    "\n",
    "\n",
    "Количество значений в столбцах различается. Значит, в данных есть пропущенные значения.\n"
   ]
  },
  {
   "cell_type": "markdown",
   "metadata": {
    "id": "MCB6-dXG_Zct"
   },
   "source": [
    "**Выводы**\n",
    "\n",
    "- в каждой строке таблицы — данные о прослушанном треке. Часть колонок описывает саму композицию: название, исполнителя и жанр. Остальные данные рассказывают о пользователе: из какого он города, когда он слушал музыку. \n",
    "\n",
    "- предварительно можно утверждать, что, данных достаточно для проверки гипотез. Но встречаются пропуски в данных, а в названиях колонок — расхождения с хорошим стилем.\n",
    "\n",
    "- чтобы двигаться дальше, нужно устранить проблемы в данных."
   ]
  },
  {
   "cell_type": "markdown",
   "metadata": {
    "id": "SjYF6Ub9_Zct"
   },
   "source": [
    "## Предобработка данных\n",
    "Исправим стиль в заголовках столбцов, исключим пропуски. Затем проверим данные на дубликаты."
   ]
  },
  {
   "cell_type": "markdown",
   "metadata": {
    "id": "dIaKXr29_Zct"
   },
   "source": [
    "### Стиль заголовков\n",
    "Выведем на экран названия столбцов:"
   ]
  },
  {
   "cell_type": "code",
   "execution_count": 5,
   "metadata": {
    "id": "oKOTdF_Q_Zct"
   },
   "outputs": [
    {
     "name": "stdout",
     "output_type": "stream",
     "text": [
      "Index(['  userID', 'Track', 'artist', 'genre', '  City  ', 'time', 'Day'], dtype='object')\n"
     ]
    }
   ],
   "source": [
    "print(df.columns)# перечень названий столбцов таблицы df"
   ]
  },
  {
   "cell_type": "markdown",
   "metadata": {
    "id": "zj5534cv_Zct"
   },
   "source": [
    "Приведем названия в соответствие с хорошим стилем:\n",
    "* несколько слов в названии запишем в «змеином_регистре»,\n",
    "* все символы сделаем строчными,\n",
    "* устраним пробелы."
   ]
  },
  {
   "cell_type": "code",
   "execution_count": 6,
   "metadata": {
    "id": "ISlFqs5y_Zct"
   },
   "outputs": [],
   "source": [
    "df = df.rename(columns={\n",
    "    '  userID': 'user_id',\n",
    "    'Track': 'track',\n",
    "    '  City  ': 'city',\n",
    "    'Day': 'day'\n",
    "})# переименование столбцов"
   ]
  },
  {
   "cell_type": "markdown",
   "metadata": {
    "id": "1dqbh00J_Zct"
   },
   "source": [
    "Проверим результат"
   ]
  },
  {
   "cell_type": "code",
   "execution_count": 7,
   "metadata": {
    "id": "d4NOAmTW_Zct"
   },
   "outputs": [
    {
     "name": "stdout",
     "output_type": "stream",
     "text": [
      "Index(['user_id', 'track', 'artist', 'genre', 'city', 'time', 'day'], dtype='object')\n"
     ]
    }
   ],
   "source": [
    "df.columns() # проверка результатов - перечень названий столбцов"
   ]
  },
  {
   "cell_type": "markdown",
   "metadata": {
    "id": "5ISfbcfY_Zct"
   },
   "source": [
    "### Пропуски значений\n",
    "Сначала посчитайте, сколько в таблице пропущенных значений. Для этого достаточно двух методов `pandas`:"
   ]
  },
  {
   "cell_type": "code",
   "execution_count": 8,
   "metadata": {
    "id": "RskX29qr_Zct"
   },
   "outputs": [
    {
     "name": "stdout",
     "output_type": "stream",
     "text": [
      "user_id       0\n",
      "track      1231\n",
      "artist     7203\n",
      "genre      1198\n",
      "city          0\n",
      "time          0\n",
      "day           0\n",
      "dtype: int64\n"
     ]
    }
   ],
   "source": [
    "print(df.isna().sum())# подсчёт пропусков"
   ]
  },
  {
   "cell_type": "markdown",
   "metadata": {
    "id": "qubhgnlO_Zct"
   },
   "source": [
    "Не все пропущенные значения влияют на исследование. Так в `track` и `artist` пропуски не важны для вашей работы. Достаточно заменить их явными обозначениями.\n",
    "\n",
    "Но пропуски в `genre` могут помешать сравнению музыкальных вкусов в Москве и Санкт-Петербурге. На практике было бы правильно установить причину пропусков и восстановить данные. Такой возможности нет в учебном проекте. Придётся:\n",
    "* заполнить и эти пропуски явными обозначениями,\n",
    "* оценить, насколько они повредят расчётам. "
   ]
  },
  {
   "cell_type": "markdown",
   "metadata": {
    "id": "fSv2laPA_Zct"
   },
   "source": [
    "Заменим пропущенные значения в столбцах `track`, `artist` и `genre` на строку `'unknown'`. Для этого создадим список `columns_to_replace`, переберем его элементы циклом `for` и для каждого столбца выполним замену пропущенных значений:"
   ]
  },
  {
   "cell_type": "code",
   "execution_count": 9,
   "metadata": {
    "id": "KplB5qWs_Zct"
   },
   "outputs": [],
   "source": [
    "columns_to_replace = ['track', 'artist', 'genre'] # список столбцов для заполнения пропусков\n",
    "\n",
    "for column in columns_to_replace:\n",
    "    df[column] = df[column].fillna('unknown') # заполняем пропуски значением \"unknown\""
   ]
  },
  {
   "cell_type": "markdown",
   "metadata": {
    "id": "Ilsm-MZo_Zct"
   },
   "source": [
    "Убедимся, что в таблице не осталось пропусков. Для этого ещё раз посчитаем пропущенные значения."
   ]
  },
  {
   "cell_type": "code",
   "execution_count": 10,
   "metadata": {
    "id": "Tq4nYRX4_Zct"
   },
   "outputs": [
    {
     "name": "stdout",
     "output_type": "stream",
     "text": [
      "user_id    0\n",
      "track      0\n",
      "artist     0\n",
      "genre      0\n",
      "city       0\n",
      "time       0\n",
      "day        0\n",
      "dtype: int64\n"
     ]
    }
   ],
   "source": [
    "print(df.isna().sum())# подсчёт пропусков"
   ]
  },
  {
   "cell_type": "markdown",
   "metadata": {
    "id": "BWKRtBJ3_Zct"
   },
   "source": [
    "### Дубликаты\n",
    "Посчитаем явные дубликаты в таблице одной командой:"
   ]
  },
  {
   "cell_type": "code",
   "execution_count": 11,
   "metadata": {
    "id": "36eES_S0_Zct"
   },
   "outputs": [
    {
     "name": "stdout",
     "output_type": "stream",
     "text": [
      "3826\n"
     ]
    }
   ],
   "source": [
    "print(df.duplicated().sum())# подсчёт явных дубликатов"
   ]
  },
  {
   "cell_type": "markdown",
   "metadata": {
    "id": "Ot25h6XR_Zct"
   },
   "source": [
    "Вызовем специальный метод `pandas`, чтобы удалить явные дубликаты:"
   ]
  },
  {
   "cell_type": "code",
   "execution_count": 12,
   "metadata": {
    "id": "exFHq6tt_Zct"
   },
   "outputs": [],
   "source": [
    "df = df.drop_duplicates().reset_index(drop=True)\n",
    "# удаление явных дубликатов (с удалением старых индексов и формированием новых)"
   ]
  },
  {
   "cell_type": "markdown",
   "metadata": {
    "id": "Im2YwBEG_Zct"
   },
   "source": [
    "Ещё раз посчитаем явные дубликаты в таблице — убедимся, что полностью от них избавились:"
   ]
  },
  {
   "cell_type": "code",
   "execution_count": 13,
   "metadata": {
    "id": "-8PuNWQ0_Zct"
   },
   "outputs": [
    {
     "name": "stdout",
     "output_type": "stream",
     "text": [
      "0\n"
     ]
    }
   ],
   "source": [
    "print(df.duplicated().sum())# проверка на отсутствие дубликатов"
   ]
  },
  {
   "cell_type": "markdown",
   "metadata": {
    "id": "QlFBsxAr_Zct"
   },
   "source": [
    "Теперь избавимся от неявных дубликатов в колонке `genre`. Например, название одного и того же жанра может быть записано немного по-разному. Такие ошибки тоже повлияют на результат исследования."
   ]
  },
  {
   "cell_type": "markdown",
   "metadata": {
    "id": "eSjWwsOh_Zct"
   },
   "source": [
    "Выведем на экран список уникальных названий жанров, отсортированный в алфавитном порядке. Для этого:\n",
    "* извлечем нужный столбец датафрейма, \n",
    "* применим к нему метод сортировки,\n",
    "* для отсортированного столбца вызовем метод, который вернёт уникальные значения из столбца."
   ]
  },
  {
   "cell_type": "code",
   "execution_count": 14,
   "metadata": {
    "id": "JIUcqzZN_Zct"
   },
   "outputs": [
    {
     "name": "stdout",
     "output_type": "stream",
     "text": [
      "['rock' 'pop' 'folk' 'dance' 'rusrap' 'ruspop' 'world' 'electronic'\n",
      " 'unknown' 'alternative' 'children' 'rnb' 'hip' 'jazz' 'postrock' 'latin'\n",
      " 'classical' 'metal' 'reggae' 'tatar' 'blues' 'instrumental' 'rusrock'\n",
      " 'dnb' 'türk' 'post' 'country' 'psychedelic' 'conjazz' 'indie'\n",
      " 'posthardcore' 'local' 'avantgarde' 'punk' 'videogame' 'techno' 'house'\n",
      " 'christmas' 'melodic' 'caucasian' 'reggaeton' 'soundtrack' 'singer' 'ska'\n",
      " 'shanson' 'ambient' 'film' 'western' 'rap' 'beats' \"hard'n'heavy\"\n",
      " 'progmetal' 'minimal' 'contemporary' 'new' 'soul' 'holiday' 'german'\n",
      " 'tropical' 'fairytail' 'spiritual' 'urban' 'gospel' 'nujazz' 'folkmetal'\n",
      " 'trance' 'miscellaneous' 'anime' 'hardcore' 'progressive' 'chanson'\n",
      " 'numetal' 'vocal' 'estrada' 'russian' 'classicmetal' 'dubstep' 'club'\n",
      " 'deep' 'southern' 'black' 'folkrock' 'fitness' 'french' 'disco'\n",
      " 'religious' 'hiphop' 'drum' 'extrememetal' 'türkçe' 'experimental' 'easy'\n",
      " 'metalcore' 'modern' 'argentinetango' 'old' 'breaks' 'eurofolk'\n",
      " 'stonerrock' 'industrial' 'funk' 'jpop' 'middle' 'variété' 'other'\n",
      " 'adult' 'christian' 'gothic' 'international' 'muslim' 'relax' 'schlager'\n",
      " 'caribbean' 'ukrrock' 'nu' 'breakbeat' 'comedy' 'chill' 'newage'\n",
      " 'specialty' 'uzbek' 'k-pop' 'balkan' 'chinese' 'meditative' 'dub' 'power'\n",
      " 'death' 'grime' 'arabesk' 'romance' 'flamenco' 'leftfield' 'european'\n",
      " 'tech' 'newwave' 'dancehall' 'mpb' 'piano' 'top' 'bigroom' 'opera'\n",
      " 'celtic' 'tradjazz' 'acoustic' 'epicmetal' 'hip-hop' 'historisch'\n",
      " 'downbeat' 'downtempo' 'africa' 'audiobook' 'jewish' 'sängerportrait'\n",
      " 'deutschrock' 'eastern' 'action' 'future' 'electropop' 'folklore'\n",
      " 'bollywood' 'marschmusik' 'rnr' 'karaoke' 'indian' 'rancheras'\n",
      " 'электроника' 'afrikaans' 'tango' 'rhythm' 'sound' 'deutschspr' 'trip'\n",
      " 'lovers' 'choral' 'dancepop' 'podcasts' 'retro' 'smooth' 'mexican'\n",
      " 'brazilian' 'ïîï' 'mood' 'surf' 'author' 'gangsta' 'triphop'\n",
      " 'inspirational' 'idm' 'ethnic' 'bluegrass' 'broadway' 'animated'\n",
      " 'americana' 'karadeniz' 'rockabilly' 'colombian' 'self' 'hop' 'synthrock'\n",
      " 'sertanejo' 'japanese' 'canzone' 'swing' 'lounge' 'sport' 'korean'\n",
      " 'ragga' 'traditional' 'gitarre' 'frankreich' 'alternativepunk' 'emo'\n",
      " 'laiko' 'cantopop' 'glitch' 'documentary' 'rockalternative' 'thrash'\n",
      " 'hymn' 'oceania' 'rockother' 'popeurodance' 'dark' 'vi' 'grunge'\n",
      " 'hardstyle' 'samba' 'garage' 'soft' 'art' 'folktronica' 'entehno'\n",
      " 'mediterranean' 'chamber' 'cuban' 'taraftar' 'rockindie' 'gypsy'\n",
      " 'hardtechno' 'shoegazing' 'skarock' 'bossa' 'salsa' 'latino' 'worldbeat'\n",
      " 'malaysian' 'baile' 'ghazal' 'loungeelectronic' 'arabic' 'popelectronic'\n",
      " 'acid' 'kayokyoku' 'neoklassik' 'tribal' 'tanzorchester' 'native'\n",
      " 'independent' 'cantautori' 'handsup' 'poprussian' 'punjabi' 'synthpop'\n",
      " 'rave' 'französisch' 'quebecois' 'speech' 'soulful' 'teen' 'jam' 'ram'\n",
      " 'horror' 'scenic' 'orchestral' 'neue' 'roots' 'slow' 'jungle' 'indipop'\n",
      " 'axé' 'fado' 'showtunes' 'arena' 'irish' 'mandopop' 'forró' 'popdance'\n",
      " 'dirty' 'regional']\n"
     ]
    }
   ],
   "source": [
    "print(df['genre'].unique())# Просмотр уникальных названий жанров"
   ]
  },
  {
   "cell_type": "markdown",
   "metadata": {
    "id": "qej-Qmuo_Zct"
   },
   "source": [
    "Просмотрим список и найдем неявные дубликаты названия `hiphop`. Это могут быть названия с ошибками или альтернативные названия того же жанра.\n",
    "\n",
    "Чтобы очистить от них таблицу, напишем функцию `replace_wrong_genres()` с двумя параметрами: \n",
    "* `wrong_genres` — список дубликатов,\n",
    "* `correct_genre` — строка с правильным значением.\n",
    "\n",
    "Функция должна исправить колонку `genre` в таблице `df`: заменить каждое значение из списка `wrong_genres` на значение из `correct_genre`."
   ]
  },
  {
   "cell_type": "code",
   "execution_count": 15,
   "metadata": {
    "id": "ErNDkmns_Zct"
   },
   "outputs": [],
   "source": [
    "def replace_wrong_values(wrong_values, correct_value): # функция для перезаписи неверных значений\n",
    "    for wrong_value in wrong_values: # перебираем неверные значения\n",
    "        df['genre'] = df['genre'].replace(wrong_value, correct_value) \n",
    "        # для каждого неверного значения вызываем метод replace()\n"
   ]
  },
  {
   "cell_type": "markdown",
   "metadata": {
    "id": "aDoBJxbA_Zct"
   },
   "source": [
    "Вызовем `replace_wrong_genres()` и передадим ей такие аргументы, чтобы она устранила неявные дубликаты: вместо `hip`, `hop` и `hip-hop` в таблице должно быть значение `hiphop`:"
   ]
  },
  {
   "cell_type": "code",
   "execution_count": 16,
   "metadata": {
    "id": "YN5i2hpmSo09"
   },
   "outputs": [],
   "source": [
    "duplicates = ['hip', 'hop', 'hip-hop'] # список неверных значений\n",
    "genre = 'hiphop' # верное значение\n",
    "replace_wrong_values(duplicates, genre)# устраняем неявные дубликаты"
   ]
  },
  {
   "cell_type": "markdown",
   "metadata": {
    "id": "zQKF16_RG15m"
   },
   "source": [
    "Проверим, что заменили неправильные названия:\n",
    "\n",
    "*   hip\n",
    "*   hop\n",
    "*   hip-hop\n",
    "\n",
    "Выведем отсортированный список уникальных значений столбца `genre`:"
   ]
  },
  {
   "cell_type": "code",
   "execution_count": 17,
   "metadata": {
    "id": "wvixALnFG15m"
   },
   "outputs": [
    {
     "name": "stdout",
     "output_type": "stream",
     "text": [
      "['rock' 'pop' 'folk' 'dance' 'rusrap' 'ruspop' 'world' 'electronic'\n",
      " 'unknown' 'alternative' 'children' 'rnb' 'hiphop' 'jazz' 'postrock'\n",
      " 'latin' 'classical' 'metal' 'reggae' 'tatar' 'blues' 'instrumental'\n",
      " 'rusrock' 'dnb' 'türk' 'post' 'country' 'psychedelic' 'conjazz' 'indie'\n",
      " 'posthardcore' 'local' 'avantgarde' 'punk' 'videogame' 'techno' 'house'\n",
      " 'christmas' 'melodic' 'caucasian' 'reggaeton' 'soundtrack' 'singer' 'ska'\n",
      " 'shanson' 'ambient' 'film' 'western' 'rap' 'beats' \"hard'n'heavy\"\n",
      " 'progmetal' 'minimal' 'contemporary' 'new' 'soul' 'holiday' 'german'\n",
      " 'tropical' 'fairytail' 'spiritual' 'urban' 'gospel' 'nujazz' 'folkmetal'\n",
      " 'trance' 'miscellaneous' 'anime' 'hardcore' 'progressive' 'chanson'\n",
      " 'numetal' 'vocal' 'estrada' 'russian' 'classicmetal' 'dubstep' 'club'\n",
      " 'deep' 'southern' 'black' 'folkrock' 'fitness' 'french' 'disco'\n",
      " 'religious' 'drum' 'extrememetal' 'türkçe' 'experimental' 'easy'\n",
      " 'metalcore' 'modern' 'argentinetango' 'old' 'breaks' 'eurofolk'\n",
      " 'stonerrock' 'industrial' 'funk' 'jpop' 'middle' 'variété' 'other'\n",
      " 'adult' 'christian' 'gothic' 'international' 'muslim' 'relax' 'schlager'\n",
      " 'caribbean' 'ukrrock' 'nu' 'breakbeat' 'comedy' 'chill' 'newage'\n",
      " 'specialty' 'uzbek' 'k-pop' 'balkan' 'chinese' 'meditative' 'dub' 'power'\n",
      " 'death' 'grime' 'arabesk' 'romance' 'flamenco' 'leftfield' 'european'\n",
      " 'tech' 'newwave' 'dancehall' 'mpb' 'piano' 'top' 'bigroom' 'opera'\n",
      " 'celtic' 'tradjazz' 'acoustic' 'epicmetal' 'historisch' 'downbeat'\n",
      " 'downtempo' 'africa' 'audiobook' 'jewish' 'sängerportrait' 'deutschrock'\n",
      " 'eastern' 'action' 'future' 'electropop' 'folklore' 'bollywood'\n",
      " 'marschmusik' 'rnr' 'karaoke' 'indian' 'rancheras' 'электроника'\n",
      " 'afrikaans' 'tango' 'rhythm' 'sound' 'deutschspr' 'trip' 'lovers'\n",
      " 'choral' 'dancepop' 'podcasts' 'retro' 'smooth' 'mexican' 'brazilian'\n",
      " 'ïîï' 'mood' 'surf' 'author' 'gangsta' 'triphop' 'inspirational' 'idm'\n",
      " 'ethnic' 'bluegrass' 'broadway' 'animated' 'americana' 'karadeniz'\n",
      " 'rockabilly' 'colombian' 'self' 'synthrock' 'sertanejo' 'japanese'\n",
      " 'canzone' 'swing' 'lounge' 'sport' 'korean' 'ragga' 'traditional'\n",
      " 'gitarre' 'frankreich' 'alternativepunk' 'emo' 'laiko' 'cantopop'\n",
      " 'glitch' 'documentary' 'rockalternative' 'thrash' 'hymn' 'oceania'\n",
      " 'rockother' 'popeurodance' 'dark' 'vi' 'grunge' 'hardstyle' 'samba'\n",
      " 'garage' 'soft' 'art' 'folktronica' 'entehno' 'mediterranean' 'chamber'\n",
      " 'cuban' 'taraftar' 'rockindie' 'gypsy' 'hardtechno' 'shoegazing'\n",
      " 'skarock' 'bossa' 'salsa' 'latino' 'worldbeat' 'malaysian' 'baile'\n",
      " 'ghazal' 'loungeelectronic' 'arabic' 'popelectronic' 'acid' 'kayokyoku'\n",
      " 'neoklassik' 'tribal' 'tanzorchester' 'native' 'independent' 'cantautori'\n",
      " 'handsup' 'poprussian' 'punjabi' 'synthpop' 'rave' 'französisch'\n",
      " 'quebecois' 'speech' 'soulful' 'teen' 'jam' 'ram' 'horror' 'scenic'\n",
      " 'orchestral' 'neue' 'roots' 'slow' 'jungle' 'indipop' 'axé' 'fado'\n",
      " 'showtunes' 'arena' 'irish' 'mandopop' 'forró' 'popdance' 'dirty'\n",
      " 'regional']\n"
     ]
    }
   ],
   "source": [
    "print(df['genre'].unique())# Проверка на неявные дубликаты"
   ]
  },
  {
   "cell_type": "markdown",
   "metadata": {
    "id": "jz6a9-7HQUDd"
   },
   "source": [
    "**Выводы**\n",
    "\n",
    "Предобработка обнаружила три проблемы в данных:\n",
    "\n",
    "- нарушения в стиле заголовков,\n",
    "- пропущенные значения,\n",
    "- дубликаты — явные и неявные.\n",
    "\n",
    "Мы исправили заголовки, чтобы упростить работу с таблицей. Без дубликатов исследование станет более точным.\n",
    "\n",
    "Пропущенные значения мы заменили на `'unknown'`. Ещё предстоит увидеть, не повредят ли исследованию пропуски в колонке `genre`.\n",
    "\n",
    "Теперь можно перейти к проверке гипотез. "
   ]
  },
  {
   "cell_type": "markdown",
   "metadata": {
    "id": "WttZHXH0SqKk"
   },
   "source": [
    "## Проверка гипотез"
   ]
  },
  {
   "cell_type": "markdown",
   "metadata": {
    "id": "Im936VVi_Zcu"
   },
   "source": [
    "### Сравнение поведения пользователей двух столиц"
   ]
  },
  {
   "cell_type": "markdown",
   "metadata": {
    "id": "nwt_MuaL_Zcu"
   },
   "source": [
    "Первая гипотеза утверждает, что пользователи по-разному слушают музыку в Москве и Санкт-Петербурге. Проверьте это предположение по данным о трёх днях недели — понедельнике, среде и пятнице. Для этого:\n",
    "\n",
    "* Разделим пользователей Москвы и Санкт-Петербурга\n",
    "* Сравним, сколько треков послушала каждая группа пользователей в понедельник, среду и пятницу.\n"
   ]
  },
  {
   "cell_type": "markdown",
   "metadata": {
    "id": "8Dw_YMmT_Zcu"
   },
   "source": [
    "Для тренировки сначала выполним каждый из расчётов по отдельности. \n",
    "\n",
    "Оценим активность пользователей в каждом городе. Сгруппируем данные по городу и посчитаем прослушивания в каждой группе.\n",
    "\n"
   ]
  },
  {
   "cell_type": "code",
   "execution_count": 18,
   "metadata": {
    "id": "0_Qs96oh_Zcu"
   },
   "outputs": [
    {
     "name": "stdout",
     "output_type": "stream",
     "text": [
      "city\n",
      "Moscow              42741\n",
      "Saint-Petersburg    18512\n",
      "Name: genre, dtype: int64\n"
     ]
    }
   ],
   "source": [
    "print(df.groupby('city')['genre'].count())# Подсчёт прослушиваний в каждом городе"
   ]
  },
  {
   "cell_type": "markdown",
   "metadata": {
    "id": "dzli3w8o_Zcu"
   },
   "source": [
    "В Москве прослушиваний больше, чем в Петербурге. Из этого не следует, что московские пользователи чаще слушают музыку. Просто самих пользователей в Москве больше.\n",
    "\n",
    "Теперь сгруппируем данные по дню недели и подсчитаем прослушивания в понедельник, среду и пятницу. Учтем, что в данных есть информация только о прослушиваниях только за эти дни.\n"
   ]
  },
  {
   "cell_type": "code",
   "execution_count": 19,
   "metadata": {
    "id": "uZMKjiJz_Zcu"
   },
   "outputs": [
    {
     "name": "stdout",
     "output_type": "stream",
     "text": [
      "day\n",
      "Friday       21840\n",
      "Monday       21354\n",
      "Wednesday    18059\n",
      "Name: city, dtype: int64\n"
     ]
    }
   ],
   "source": [
    "print(df.groupby('day')['city'].count())# Подсчёт прослушиваний в каждый из трёх дней"
   ]
  },
  {
   "cell_type": "markdown",
   "metadata": {
    "id": "cC2tNrlL_Zcu"
   },
   "source": [
    "В среднем пользователи из двух городов менее активны по средам. Но картина может измениться, если рассмотреть каждый город в отдельности."
   ]
  },
  {
   "cell_type": "markdown",
   "metadata": {
    "id": "POzs8bGa_Zcu"
   },
   "source": [
    "Мы видели, как работает группировка по городу и по дням недели. Теперь напишем функцию, которая объединит два эти расчёта.\n",
    "\n",
    "Создадим функцию `number_tracks()`, которая посчитает прослушивания для заданного дня и города. Ей понадобятся два параметра:\n",
    "* день недели,\n",
    "* название города.\n",
    "\n",
    "В функции сохраним в переменную строки исходной таблицы, у которых значение:\n",
    "  * в колонке `day` равно параметру `day`,\n",
    "  * в колонке `city` равно параметру `city`.\n",
    "\n",
    "Для этого применим последовательную фильтрацию с логической индексацией.\n",
    "\n",
    "Затем посчитаем значения в столбце `user_id` получившейся таблицы. Результат сохраним в новую переменную. Вернем эту переменную из функции."
   ]
  },
  {
   "cell_type": "code",
   "execution_count": 20,
   "metadata": {
    "id": "Nz3GdQB1_Zcu"
   },
   "outputs": [],
   "source": [
    "def number_tracks(day, city):# <создание функции number_tracks() с двумя параметрами>\n",
    "    track_list = df[df['day'] == day] # значение в столбце 'day' равно параметру day\n",
    "    track_list = track_list[track_list['city'] == city] # в столбце 'city' равно параметру city \n",
    "    track_list_count = track_list['user_id'].count()\n",
    "    return track_list_count\n",
    "# используем последовательную фильтрацию с помощью логической индексации.\n",
    "# В переменной track_list_count сохраняется число значений столбца 'user_id',\n",
    "# рассчитанное методом count() для таблицы track_list.\n",
    "# Функция возвращает число - значение track_list_count.\n",
    "\n",
    "# Функция для подсчёта прослушиваний для конкретного города и дня.\n",
    "# С помощью последовательной фильтрации с логической индексацией она \n",
    "# сначала получит из исходной таблицы строки с нужным днём,\n",
    "# затем из результата отфильтрует строки с нужным городом,\n",
    "# методом count() посчитает количество значений в колонке user_id. \n",
    "# Это количество функция вернёт в качестве результата"
   ]
  },
  {
   "cell_type": "markdown",
   "metadata": {
    "id": "ytf7xFrFJQ2r"
   },
   "source": [
    "Вызовем `number_tracks()` шесть раз, меняя значение параметров — так, чтобы получить данные для каждого города в каждый из трёх дней."
   ]
  },
  {
   "cell_type": "code",
   "execution_count": 21,
   "metadata": {
    "id": "rJcRATNQ_Zcu"
   },
   "outputs": [
    {
     "name": "stdout",
     "output_type": "stream",
     "text": [
      "15740\n"
     ]
    }
   ],
   "source": [
    "day = 'Monday'\n",
    "city = 'Moscow'\n",
    "print(number_tracks(day, city))# количество прослушиваний в Москве по понедельникам"
   ]
  },
  {
   "cell_type": "code",
   "execution_count": 22,
   "metadata": {
    "id": "hq_ncZ5T_Zcu"
   },
   "outputs": [
    {
     "data": {
      "text/plain": [
       "5614"
      ]
     },
     "execution_count": 22,
     "metadata": {},
     "output_type": "execute_result"
    }
   ],
   "source": [
    "day = 'Monday'\n",
    "city = 'Saint-Petersburg'\n",
    "number_tracks(day, city)# количество прослушиваний в Санкт-Петербурге по понедельникам"
   ]
  },
  {
   "cell_type": "code",
   "execution_count": 23,
   "metadata": {
    "id": "_NTy2VPU_Zcu"
   },
   "outputs": [
    {
     "data": {
      "text/plain": [
       "11056"
      ]
     },
     "execution_count": 23,
     "metadata": {},
     "output_type": "execute_result"
    }
   ],
   "source": [
    "day = 'Wednesday'\n",
    "city = 'Moscow'\n",
    "number_tracks(day, city)# количество прослушиваний в Москве по средам"
   ]
  },
  {
   "cell_type": "code",
   "execution_count": 24,
   "metadata": {
    "id": "j2y3TAwo_Zcu"
   },
   "outputs": [
    {
     "data": {
      "text/plain": [
       "7003"
      ]
     },
     "execution_count": 24,
     "metadata": {},
     "output_type": "execute_result"
    }
   ],
   "source": [
    "day = 'Wednesday'\n",
    "city = 'Saint-Petersburg'\n",
    "number_tracks(day, city)# количество прослушиваний в Санкт-Петербурге по средам"
   ]
  },
  {
   "cell_type": "code",
   "execution_count": 25,
   "metadata": {
    "id": "vYDw5u_K_Zcu"
   },
   "outputs": [
    {
     "data": {
      "text/plain": [
       "15945"
      ]
     },
     "execution_count": 25,
     "metadata": {},
     "output_type": "execute_result"
    }
   ],
   "source": [
    "day = 'Friday'\n",
    "city = 'Moscow'\n",
    "number_tracks(day, city)# количество прослушиваний в Москве по пятницам"
   ]
  },
  {
   "cell_type": "code",
   "execution_count": 26,
   "metadata": {
    "id": "8_yzFtW3_Zcu"
   },
   "outputs": [
    {
     "data": {
      "text/plain": [
       "5895"
      ]
     },
     "execution_count": 26,
     "metadata": {},
     "output_type": "execute_result"
    }
   ],
   "source": [
    "day = 'Friday'\n",
    "city = 'Saint-Petersburg'\n",
    "number_tracks(day, city)# количество прослушиваний в Санкт-Петербурге по пятницам"
   ]
  },
  {
   "cell_type": "markdown",
   "metadata": {
    "id": "7QXffbO-_Zcu"
   },
   "source": [
    "Создадим c помощью конструктора `pd.DataFrame` таблицу, где\n",
    "* названия колонок — `['city', 'monday', 'wednesday', 'friday']`;\n",
    "* данные — результаты, которые вы получили с помощью `number_tracks`."
   ]
  },
  {
   "cell_type": "code",
   "execution_count": 27,
   "metadata": {
    "id": "APAcLpOr_Zcu"
   },
   "outputs": [
    {
     "data": {
      "text/html": [
       "<div>\n",
       "<style scoped>\n",
       "    .dataframe tbody tr th:only-of-type {\n",
       "        vertical-align: middle;\n",
       "    }\n",
       "\n",
       "    .dataframe tbody tr th {\n",
       "        vertical-align: top;\n",
       "    }\n",
       "\n",
       "    .dataframe thead th {\n",
       "        text-align: right;\n",
       "    }\n",
       "</style>\n",
       "<table border=\"1\" class=\"dataframe\">\n",
       "  <thead>\n",
       "    <tr style=\"text-align: right;\">\n",
       "      <th></th>\n",
       "      <th>city</th>\n",
       "      <th>monday</th>\n",
       "      <th>wednesday</th>\n",
       "      <th>friday</th>\n",
       "    </tr>\n",
       "  </thead>\n",
       "  <tbody>\n",
       "    <tr>\n",
       "      <td>0</td>\n",
       "      <td>Moscow</td>\n",
       "      <td>15740</td>\n",
       "      <td>11056</td>\n",
       "      <td>15945</td>\n",
       "    </tr>\n",
       "    <tr>\n",
       "      <td>1</td>\n",
       "      <td>Saint-Petersburg</td>\n",
       "      <td>5614</td>\n",
       "      <td>7003</td>\n",
       "      <td>5895</td>\n",
       "    </tr>\n",
       "  </tbody>\n",
       "</table>\n",
       "</div>"
      ],
      "text/plain": [
       "               city  monday  wednesday  friday\n",
       "0            Moscow   15740      11056   15945\n",
       "1  Saint-Petersburg    5614       7003    5895"
      ]
     },
     "metadata": {},
     "output_type": "display_data"
    }
   ],
   "source": [
    "columns = ['city', 'monday', 'wednesday', 'friday']\n",
    "data = [['Moscow', 15740, 11056, 15945],['Saint-Petersburg', 5614, 7003, 5895]]\n",
    "display(pd.DataFrame(data = data, columns = columns))\n",
    "# Таблица с результатами прослушиваний по дням недели в Москве и Питере"
   ]
  },
  {
   "cell_type": "markdown",
   "metadata": {
    "id": "-EgPIHYu_Zcu"
   },
   "source": [
    "**Выводы**\n",
    "\n",
    "Данные показывают разницу поведения пользователей:\n",
    "\n",
    "- В Москве пик прослушиваний приходится на понедельник и пятницу, а в среду заметен спад.\n",
    "- В Петербурге, наоборот, больше слушают музыку по средам. Активность в понедельник и пятницу здесь почти в равной мере уступает среде.\n",
    "\n",
    "Значит, данные говорят в пользу первой гипотезы."
   ]
  },
  {
   "cell_type": "markdown",
   "metadata": {
    "id": "atZAxtq4_Zcu"
   },
   "source": [
    "### Музыка в начале и в конце недели"
   ]
  },
  {
   "cell_type": "markdown",
   "metadata": {
    "id": "eXrQqXFH_Zcu"
   },
   "source": [
    "Согласно второй гипотезе, утром в понедельник в Москве преобладают одни жанры, а в Петербурге — другие. Так же и вечером пятницы преобладают разные жанры — в зависимости от города."
   ]
  },
  {
   "cell_type": "markdown",
   "metadata": {
    "id": "S8UcW6Hw_Zcu"
   },
   "source": [
    "Сохраним таблицы с данными в две переменные:\n",
    "* по Москве — в `moscow_general`;\n",
    "* по Санкт-Петербургу — в `spb_general`."
   ]
  },
  {
   "cell_type": "code",
   "execution_count": 28,
   "metadata": {
    "id": "qeaFfM_P_Zcu"
   },
   "outputs": [],
   "source": [
    "moscow_general = df[df['city'] == 'Moscow']\n",
    "# получаем таблицу с данными прослушиваний по Москве\n"
   ]
  },
  {
   "cell_type": "code",
   "execution_count": 29,
   "metadata": {
    "id": "ORaVRKto_Zcu"
   },
   "outputs": [],
   "source": [
    "spb_general = df[df['city'] == 'Saint-Petersburg']\n",
    "# получаем таблицу с данными прослушиваний по Санкт-Петербургу\n"
   ]
  },
  {
   "cell_type": "markdown",
   "metadata": {
    "id": "MEJV-CX2_Zcu"
   },
   "source": [
    "Создадим функцию `genre_weekday()` с четырьмя параметрами:\n",
    "* таблица (датафрейм) с данными,\n",
    "* день недели,\n",
    "* начальная временная метка в формате 'hh:mm', \n",
    "* последняя временная метка в формате 'hh:mm'.\n",
    "\n",
    "Функция должна вернуть информацию о топ-10 жанров тех треков, которые прослушивали в указанный день, в промежутке между двумя отметками времени."
   ]
  },
  {
   "cell_type": "code",
   "execution_count": 30,
   "metadata": {
    "id": "laJT9BYl_Zcu"
   },
   "outputs": [],
   "source": [
    "def genre_weekday(table, day, time1, time2):\n",
    "# Объявляем функцию genre_weekday() с параметрами table, day, time1, time2,\n",
    "# которая возвращает информацию о самых популярных жанрах в указанный день в заданное время:\n",
    "# 1) в переменную genre_df сохраняются те строки переданного датафрейма table, для которых одновременно:\n",
    "    genre_df = table[table['day'] == day]#    - значение в столбце day равно значению аргумента day\n",
    "    genre_df = genre_df[genre_df['time'] > time1]#    - значение в столбце time больше значения аргумента time1\n",
    "    genre_df = genre_df[genre_df['time'] < time2]#    - значение в столбце time меньше значения аргумента time2\n",
    "#    Используем последовательную фильтрацию с помощью логической индексации.\n",
    "    genre_df_count = genre_df.groupby('genre')['track'].count()# 2) группируем подсчет прослушиваний по жанрам\n",
    "    genre_df_sorted = genre_df_count.sort_values(ascending=False)# 3) сортируем подсчет по жанрам по убыванию\n",
    "    return genre_df_sorted.head(10)# 4) возврат топ-10 жанров в указанный день, в заданное время."
   ]
  },
  {
   "cell_type": "markdown",
   "metadata": {
    "id": "la2s2_PF_Zcu"
   },
   "source": [
    "Cравним результаты функции `genre_weekday()` для Москвы и Санкт-Петербурга в понедельник утром (с 7:00 до 11:00) и в пятницу вечером (с 17:00 до 23:00):"
   ]
  },
  {
   "cell_type": "code",
   "execution_count": 31,
   "metadata": {
    "id": "yz7itPUQ_Zcu"
   },
   "outputs": [
    {
     "name": "stdout",
     "output_type": "stream",
     "text": [
      "genre\n",
      "pop            781\n",
      "dance          549\n",
      "electronic     480\n",
      "rock           474\n",
      "hiphop         286\n",
      "ruspop         186\n",
      "world          181\n",
      "rusrap         175\n",
      "alternative    164\n",
      "unknown        161\n",
      "Name: track, dtype: int64\n"
     ]
    }
   ],
   "source": [
    "print(genre_weekday(moscow_general, 'Monday', '07:00', '11:00')) \n",
    "# топ-10 для утра понедельника в Москве "
   ]
  },
  {
   "cell_type": "code",
   "execution_count": 32,
   "metadata": {
    "id": "kwUcHPdy_Zcu"
   },
   "outputs": [
    {
     "name": "stdout",
     "output_type": "stream",
     "text": [
      "genre\n",
      "pop            218\n",
      "dance          182\n",
      "rock           162\n",
      "electronic     147\n",
      "hiphop          80\n",
      "ruspop          64\n",
      "alternative     58\n",
      "rusrap          55\n",
      "jazz            44\n",
      "classical       40\n",
      "Name: track, dtype: int64\n"
     ]
    }
   ],
   "source": [
    "print(genre_weekday(spb_general, 'Monday', '07:00', '11:00'))\n",
    "# топ-10 для утра понедельника в Петербурге"
   ]
  },
  {
   "cell_type": "code",
   "execution_count": 33,
   "metadata": {
    "id": "EzXVRE1o_Zcu"
   },
   "outputs": [
    {
     "name": "stdout",
     "output_type": "stream",
     "text": [
      "genre\n",
      "pop            713\n",
      "rock           517\n",
      "dance          495\n",
      "electronic     482\n",
      "hiphop         273\n",
      "world          208\n",
      "ruspop         170\n",
      "alternative    163\n",
      "classical      163\n",
      "rusrap         142\n",
      "Name: track, dtype: int64\n"
     ]
    }
   ],
   "source": [
    "print(genre_weekday(moscow_general, 'Friday', '17:00', '23:00'))\n",
    "# топ-10 для вечера пятницы в Москве"
   ]
  },
  {
   "cell_type": "code",
   "execution_count": 34,
   "metadata": {
    "id": "JZaEKu5v_Zcu"
   },
   "outputs": [
    {
     "name": "stdout",
     "output_type": "stream",
     "text": [
      "genre\n",
      "pop            256\n",
      "rock           216\n",
      "electronic     216\n",
      "dance          210\n",
      "hiphop          97\n",
      "alternative     63\n",
      "jazz            61\n",
      "classical       60\n",
      "rusrap          59\n",
      "world           54\n",
      "Name: track, dtype: int64\n"
     ]
    }
   ],
   "source": [
    "print(genre_weekday(spb_general, 'Friday', '17:00', '23:00'))\n",
    "# топ-10 для вечера пятницы в Петербурге"
   ]
  },
  {
   "cell_type": "markdown",
   "metadata": {
    "id": "wrCe4MNX_Zcu"
   },
   "source": [
    "**Выводы**\n",
    "\n",
    "Если сравнить топ-10 жанров в понедельник утром, можно сделать такие выводы:\n",
    "\n",
    "1. В Москве и Петербурге слушают похожую музыку. Единственное отличие — в московский рейтинг вошёл жанр “world”, а в петербургский — джаз и классика.\n",
    "\n",
    "2. В Москве пропущенных значений оказалось так много, что значение `'unknown'` заняло десятое место среди самых популярных жанров. Значит, пропущенные значения занимают существенную долю в данных и угрожают достоверности исследования.\n",
    "\n",
    "Вечер пятницы не меняет эту картину. Некоторые жанры поднимаются немного выше, другие спускаются, но в целом топ-10 остаётся тем же самым.\n",
    "\n",
    "Таким образом, вторая гипотеза подтвердилась лишь частично:\n",
    "* Пользователи слушают похожую музыку в начале недели и в конце.\n",
    "* Разница между Москвой и Петербургом не слишком выражена. В Москве чаще слушают русскую популярную музыку, в Петербурге — джаз.\n",
    "\n",
    "Однако пропуски в данных ставят под сомнение этот результат. В Москве их так много, что рейтинг топ-10 мог бы выглядеть иначе, если бы не утерянные  данные о жанрах."
   ]
  },
  {
   "cell_type": "markdown",
   "metadata": {
    "id": "JolODAqr_Zcu"
   },
   "source": [
    "### Жанровые предпочтения в Москве и Петербурге\n",
    "\n",
    "Гипотеза: Петербург — столица рэпа, музыку этого жанра там слушают чаще, чем в Москве.  А Москва — город контрастов, в котором, тем не менее, преобладает поп-музыка."
   ]
  },
  {
   "cell_type": "markdown",
   "metadata": {
    "id": "DlegSvaT_Zcu"
   },
   "source": [
    "Сгруппируем таблицу `moscow_general` по жанру и посчитаем прослушивания треков каждого жанра методом `count()`. Затем отсортируем результат в порядке убывания и сохраним его в таблице `moscow_genres`."
   ]
  },
  {
   "cell_type": "code",
   "execution_count": 35,
   "metadata": {
    "id": "r19lIPke_Zcu"
   },
   "outputs": [],
   "source": [
    "moscow_genres = moscow_general.groupby('genre')['genre'].count().sort_values(ascending=False)\n",
    "# группируем данные по Москве и считаем методом count() количество прослушиваний по жанрам\n",
    "# сортируем в порядке убывания и сохраняем топ-10 в moscow_genres"
   ]
  },
  {
   "cell_type": "markdown",
   "metadata": {
    "id": "6kMuomxTiIr8"
   },
   "source": [
    "Выведем на экран первые десять строк `moscow_genres`:"
   ]
  },
  {
   "cell_type": "code",
   "execution_count": 36,
   "metadata": {
    "id": "WhCSooF8_Zcv"
   },
   "outputs": [
    {
     "data": {
      "text/plain": [
       "genre\n",
       "pop            5892\n",
       "dance          4435\n",
       "rock           3965\n",
       "electronic     3786\n",
       "hiphop         2096\n",
       "classical      1616\n",
       "world          1432\n",
       "alternative    1379\n",
       "ruspop         1372\n",
       "rusrap         1161\n",
       "Name: genre, dtype: int64"
      ]
     },
     "execution_count": 36,
     "metadata": {},
     "output_type": "execute_result"
    }
   ],
   "source": [
    "moscow_genres.head(10)# смотрим топ-10 по Москве"
   ]
  },
  {
   "cell_type": "markdown",
   "metadata": {
    "id": "cnPG2vnN_Zcv"
   },
   "source": [
    "Теперь повторим то же и для Петербурга.\n",
    "\n",
    "Сгруппируем таблицу `spb_general` по жанру. Посчитаем прослушивания треков каждого жанра. Результат отсортируем в порядке убывания и сохраним в таблице `spb_genres`:\n"
   ]
  },
  {
   "cell_type": "code",
   "execution_count": 37,
   "metadata": {
    "id": "gluLIpE7_Zcv"
   },
   "outputs": [],
   "source": [
    "spb_genres = spb_general.groupby('genre')['genre'].count().sort_values(ascending=False)\n",
    "# группируем данные по Спб и считаем методом count() количество прослушиваний по жанрам\n",
    "# сортируем в порядке убывания и сохраняем топ-10 в spb_genres"
   ]
  },
  {
   "cell_type": "markdown",
   "metadata": {
    "id": "5Doha_ODgyQ8"
   },
   "source": [
    "Выведем на экран первые десять строк `spb_genres`:"
   ]
  },
  {
   "cell_type": "code",
   "execution_count": 38,
   "metadata": {
    "id": "uaGJHjVU_Zcv"
   },
   "outputs": [
    {
     "data": {
      "text/plain": [
       "genre\n",
       "pop            2431\n",
       "dance          1932\n",
       "rock           1879\n",
       "electronic     1736\n",
       "hiphop          960\n",
       "alternative     649\n",
       "classical       646\n",
       "rusrap          564\n",
       "ruspop          538\n",
       "world           515\n",
       "Name: genre, dtype: int64"
      ]
     },
     "execution_count": 38,
     "metadata": {},
     "output_type": "execute_result"
    }
   ],
   "source": [
    "spb_genres.head(10)# смотрим топ-10 по Санкт_Петербургу"
   ]
  },
  {
   "cell_type": "markdown",
   "metadata": {
    "id": "RY51YJYu_Zcv"
   },
   "source": [
    "**Выводы**"
   ]
  },
  {
   "cell_type": "markdown",
   "metadata": {
    "id": "nVhnJEm__Zcv"
   },
   "source": [
    "Гипотеза частично подтвердилась:\n",
    "* Поп-музыка — самый популярный жанр в Москве, как и предполагала гипотеза. Более того, в топ-10 жанров встречается близкий жанр — русская популярная музыка.\n",
    "* Вопреки ожиданиям, рэп одинаково популярен в Москве и Петербурге. \n"
   ]
  },
  {
   "cell_type": "markdown",
   "metadata": {
    "id": "ykKQ0N65_Zcv"
   },
   "source": [
    "## Итоги исследования"
   ]
  },
  {
   "cell_type": "markdown",
   "metadata": {
    "id": "tjUwbHb3_Zcv"
   },
   "source": [
    "Мы проверили три гипотезы и установили:\n",
    "\n",
    "1. День недели по-разному влияет на активность пользователей в Москве и Петербурге. \n",
    "\n",
    "Первая гипотеза полностью подтвердилась.\n",
    "\n",
    "2. Музыкальные предпочтения не сильно меняются в течение недели — будь то Москва или Петербург. Небольшие различия заметны в начале недели, по понедельникам:\n",
    "* в Москве слушают музыку жанра “world”,\n",
    "* в Петербурге — джаз и классику.\n",
    "\n",
    "Таким образом, вторая гипотеза подтвердилась лишь отчасти. Этот результат мог оказаться иным, если бы не пропуски в данных.\n",
    "\n",
    "3. Во вкусах пользователей Москвы и Петербурга больше общего чем различий. Вопреки ожиданиям, предпочтения жанров в Петербурге напоминают московские.\n",
    "\n",
    "Третья гипотеза не подтвердилась. Если различия в предпочтениях и существуют, на основной массе пользователей они незаметны."
   ]
  }
 ],
 "metadata": {
  "ExecuteTimeLog": [
   {
    "duration": 340,
    "start_time": "2022-02-01T08:59:45.758Z"
   },
   {
    "duration": 315,
    "start_time": "2022-02-01T09:00:47.004Z"
   },
   {
    "duration": 305,
    "start_time": "2022-02-01T09:01:13.857Z"
   },
   {
    "duration": 370,
    "start_time": "2022-02-01T09:01:54.287Z"
   },
   {
    "duration": 461,
    "start_time": "2022-02-01T09:02:10.512Z"
   },
   {
    "duration": 550,
    "start_time": "2022-02-01T09:06:14.617Z"
   },
   {
    "duration": 308,
    "start_time": "2022-02-01T09:06:39.125Z"
   },
   {
    "duration": 286,
    "start_time": "2022-02-01T09:06:50.658Z"
   },
   {
    "duration": 360,
    "start_time": "2022-02-01T09:07:02.457Z"
   },
   {
    "duration": 778,
    "start_time": "2022-02-01T09:07:26.102Z"
   },
   {
    "duration": 193,
    "start_time": "2022-02-01T09:07:30.142Z"
   },
   {
    "duration": 20,
    "start_time": "2022-02-01T09:07:34.938Z"
   },
   {
    "duration": 10,
    "start_time": "2022-02-01T09:08:07.657Z"
   },
   {
    "duration": 25,
    "start_time": "2022-02-01T09:08:55.056Z"
   },
   {
    "duration": 349,
    "start_time": "2022-02-01T09:09:28.136Z"
   },
   {
    "duration": 14,
    "start_time": "2022-02-01T09:09:59.102Z"
   },
   {
    "duration": 11,
    "start_time": "2022-02-01T09:12:49.744Z"
   },
   {
    "duration": 14,
    "start_time": "2022-02-01T09:13:34.931Z"
   },
   {
    "duration": 31,
    "start_time": "2022-02-01T09:16:26.657Z"
   },
   {
    "duration": 11,
    "start_time": "2022-02-01T09:18:15.546Z"
   },
   {
    "duration": 5,
    "start_time": "2022-02-01T09:26:34.737Z"
   },
   {
    "duration": 75,
    "start_time": "2022-02-01T09:38:24.450Z"
   },
   {
    "duration": 11,
    "start_time": "2022-02-01T09:38:40.738Z"
   },
   {
    "duration": 5,
    "start_time": "2022-02-01T09:39:29.047Z"
   },
   {
    "duration": 22,
    "start_time": "2022-02-01T09:41:10.068Z"
   },
   {
    "duration": 5,
    "start_time": "2022-02-01T09:41:14.076Z"
   },
   {
    "duration": 105,
    "start_time": "2022-02-01T09:52:48.846Z"
   },
   {
    "duration": 47,
    "start_time": "2022-02-01T09:54:34.506Z"
   },
   {
    "duration": 30,
    "start_time": "2022-02-01T10:05:47.337Z"
   },
   {
    "duration": 33,
    "start_time": "2022-02-01T10:06:00.846Z"
   },
   {
    "duration": 86,
    "start_time": "2022-02-01T10:12:57.663Z"
   },
   {
    "duration": 102,
    "start_time": "2022-02-01T10:13:00.784Z"
   },
   {
    "duration": 89,
    "start_time": "2022-02-01T10:13:14.998Z"
   },
   {
    "duration": 9,
    "start_time": "2022-02-01T10:20:17.257Z"
   },
   {
    "duration": 15,
    "start_time": "2022-02-01T10:35:58.873Z"
   },
   {
    "duration": 14,
    "start_time": "2022-02-01T10:40:39.709Z"
   },
   {
    "duration": 4,
    "start_time": "2022-02-01T10:40:43.907Z"
   },
   {
    "duration": 13,
    "start_time": "2022-02-01T10:40:47.064Z"
   },
   {
    "duration": 9,
    "start_time": "2022-02-01T10:41:30.858Z"
   },
   {
    "duration": 44,
    "start_time": "2022-02-01T10:47:34.746Z"
   },
   {
    "duration": 398,
    "start_time": "2022-02-01T10:48:29.002Z"
   },
   {
    "duration": 19,
    "start_time": "2022-02-01T10:48:46.180Z"
   },
   {
    "duration": 15,
    "start_time": "2022-02-01T10:49:15.947Z"
   },
   {
    "duration": 27,
    "start_time": "2022-02-01T10:49:35.097Z"
   },
   {
    "duration": 14,
    "start_time": "2022-02-01T10:49:47.451Z"
   },
   {
    "duration": 369,
    "start_time": "2022-02-01T10:58:31.354Z"
   },
   {
    "duration": 303,
    "start_time": "2022-02-01T10:58:46.479Z"
   },
   {
    "duration": 317,
    "start_time": "2022-02-01T11:12:24.936Z"
   },
   {
    "duration": 43,
    "start_time": "2022-02-01T11:12:37.330Z"
   },
   {
    "duration": 18,
    "start_time": "2022-02-01T11:13:13.000Z"
   },
   {
    "duration": 6,
    "start_time": "2022-02-01T11:45:48.874Z"
   },
   {
    "duration": 59,
    "start_time": "2022-02-01T11:55:02.520Z"
   },
   {
    "duration": 52,
    "start_time": "2022-02-01T11:59:16.703Z"
   },
   {
    "duration": 34,
    "start_time": "2022-02-01T11:59:37.961Z"
   },
   {
    "duration": 52,
    "start_time": "2022-02-01T12:11:38.270Z"
   },
   {
    "duration": 6,
    "start_time": "2022-02-01T12:11:48.467Z"
   },
   {
    "duration": 70,
    "start_time": "2022-02-01T12:11:54.304Z"
   },
   {
    "duration": 68,
    "start_time": "2022-02-01T12:11:59.402Z"
   },
   {
    "duration": 65,
    "start_time": "2022-02-01T12:12:05.716Z"
   },
   {
    "duration": 6,
    "start_time": "2022-02-01T12:19:07.818Z"
   },
   {
    "duration": 20,
    "start_time": "2022-02-01T12:19:12.072Z"
   },
   {
    "duration": 12,
    "start_time": "2022-02-01T12:21:01.926Z"
   },
   {
    "duration": 47,
    "start_time": "2022-02-01T12:21:06.681Z"
   },
   {
    "duration": 43,
    "start_time": "2022-02-01T12:21:20.816Z"
   },
   {
    "duration": 48,
    "start_time": "2022-02-01T12:21:24.829Z"
   },
   {
    "duration": 26,
    "start_time": "2022-02-01T12:21:35.184Z"
   },
   {
    "duration": 47,
    "start_time": "2022-02-01T12:21:39.528Z"
   },
   {
    "duration": 27,
    "start_time": "2022-02-01T12:21:41.992Z"
   },
   {
    "duration": 8,
    "start_time": "2022-02-01T12:39:19.241Z"
   },
   {
    "duration": 23,
    "start_time": "2022-02-01T12:39:23.257Z"
   },
   {
    "duration": 21,
    "start_time": "2022-02-01T12:39:26.784Z"
   },
   {
    "duration": 34,
    "start_time": "2022-02-01T12:39:30.119Z"
   },
   {
    "duration": 39,
    "start_time": "2022-02-01T12:39:31.005Z"
   },
   {
    "duration": 21,
    "start_time": "2022-02-01T12:39:31.757Z"
   },
   {
    "duration": 29,
    "start_time": "2022-02-01T12:39:34.612Z"
   },
   {
    "duration": 17,
    "start_time": "2022-02-01T12:48:19.623Z"
   },
   {
    "duration": 16,
    "start_time": "2022-02-01T12:48:59.330Z"
   },
   {
    "duration": 17,
    "start_time": "2022-02-01T12:49:14.494Z"
   },
   {
    "duration": 7,
    "start_time": "2022-02-01T12:59:59.590Z"
   },
   {
    "duration": 7,
    "start_time": "2022-02-01T13:00:02.267Z"
   },
   {
    "duration": 113,
    "start_time": "2022-02-01T13:48:22.790Z"
   },
   {
    "duration": 6,
    "start_time": "2022-02-01T13:48:55.505Z"
   },
   {
    "duration": 633,
    "start_time": "2022-02-01T13:55:47.531Z"
   },
   {
    "duration": 5,
    "start_time": "2022-02-01T14:00:38.541Z"
   },
   {
    "duration": 35,
    "start_time": "2022-02-01T14:00:44.121Z"
   },
   {
    "duration": 39,
    "start_time": "2022-02-01T14:02:16.106Z"
   },
   {
    "duration": 29,
    "start_time": "2022-02-01T14:03:55.040Z"
   },
   {
    "duration": 34,
    "start_time": "2022-02-01T14:05:20.114Z"
   },
   {
    "duration": 29,
    "start_time": "2022-02-01T14:07:19.852Z"
   },
   {
    "duration": 29,
    "start_time": "2022-02-01T14:07:22.237Z"
   },
   {
    "duration": 30,
    "start_time": "2022-02-01T14:12:36.569Z"
   },
   {
    "duration": 7,
    "start_time": "2022-02-01T14:12:59.514Z"
   },
   {
    "duration": 7,
    "start_time": "2022-02-01T14:13:01.769Z"
   },
   {
    "duration": 6,
    "start_time": "2022-02-01T14:13:06.231Z"
   },
   {
    "duration": 28,
    "start_time": "2022-02-01T14:13:08.582Z"
   },
   {
    "duration": 27,
    "start_time": "2022-02-01T14:13:41.380Z"
   },
   {
    "duration": 27,
    "start_time": "2022-02-01T14:16:08.877Z"
   },
   {
    "duration": 28,
    "start_time": "2022-02-01T14:17:45.879Z"
   },
   {
    "duration": 330,
    "start_time": "2022-02-01T14:23:34.859Z"
   },
   {
    "duration": 276,
    "start_time": "2022-02-01T14:25:00.728Z"
   },
   {
    "duration": 280,
    "start_time": "2022-02-01T14:26:54.732Z"
   },
   {
    "duration": 309,
    "start_time": "2022-02-01T14:27:17.185Z"
   },
   {
    "duration": 279,
    "start_time": "2022-02-01T14:27:45.815Z"
   },
   {
    "duration": 338,
    "start_time": "2022-02-01T14:27:58.740Z"
   },
   {
    "duration": 716,
    "start_time": "2022-02-01T14:28:18.363Z"
   },
   {
    "duration": 166,
    "start_time": "2022-02-01T14:28:24.077Z"
   },
   {
    "duration": 12,
    "start_time": "2022-02-01T14:28:28.982Z"
   },
   {
    "duration": 33,
    "start_time": "2022-02-01T14:28:33.724Z"
   },
   {
    "duration": 4,
    "start_time": "2022-02-01T14:28:41.265Z"
   },
   {
    "duration": 27,
    "start_time": "2022-02-01T14:28:47.322Z"
   },
   {
    "duration": 4,
    "start_time": "2022-02-01T14:28:51.005Z"
   },
   {
    "duration": 29,
    "start_time": "2022-02-01T14:28:56.116Z"
   },
   {
    "duration": 22,
    "start_time": "2022-02-01T14:29:00.625Z"
   },
   {
    "duration": 30,
    "start_time": "2022-02-01T14:29:03.573Z"
   },
   {
    "duration": 87,
    "start_time": "2022-02-01T14:29:07.479Z"
   },
   {
    "duration": 96,
    "start_time": "2022-02-01T14:29:09.896Z"
   },
   {
    "duration": 75,
    "start_time": "2022-02-01T14:29:14.427Z"
   },
   {
    "duration": 9,
    "start_time": "2022-02-01T14:29:19.076Z"
   },
   {
    "duration": 5,
    "start_time": "2022-02-01T14:29:24.689Z"
   },
   {
    "duration": 14,
    "start_time": "2022-02-01T14:29:33.869Z"
   },
   {
    "duration": 8,
    "start_time": "2022-02-01T14:29:41.252Z"
   },
   {
    "duration": 13,
    "start_time": "2022-02-01T14:29:57.978Z"
   },
   {
    "duration": 13,
    "start_time": "2022-02-01T14:30:02.463Z"
   },
   {
    "duration": 5,
    "start_time": "2022-02-01T14:30:10.131Z"
   },
   {
    "duration": 20,
    "start_time": "2022-02-01T14:30:13.815Z"
   },
   {
    "duration": 27,
    "start_time": "2022-02-01T14:30:16.623Z"
   },
   {
    "duration": 21,
    "start_time": "2022-02-01T14:30:19.050Z"
   },
   {
    "duration": 19,
    "start_time": "2022-02-01T14:30:20.314Z"
   },
   {
    "duration": 22,
    "start_time": "2022-02-01T14:30:21.314Z"
   },
   {
    "duration": 20,
    "start_time": "2022-02-01T14:30:24.120Z"
   },
   {
    "duration": 14,
    "start_time": "2022-02-01T14:30:32.782Z"
   },
   {
    "duration": 18,
    "start_time": "2022-02-01T14:30:43.896Z"
   },
   {
    "duration": 12,
    "start_time": "2022-02-01T14:30:49.585Z"
   },
   {
    "duration": 6,
    "start_time": "2022-02-01T14:30:57.783Z"
   },
   {
    "duration": 30,
    "start_time": "2022-02-01T14:31:04.963Z"
   },
   {
    "duration": 29,
    "start_time": "2022-02-01T14:31:28.554Z"
   },
   {
    "duration": 25,
    "start_time": "2022-02-01T14:33:20.695Z"
   },
   {
    "duration": 27,
    "start_time": "2022-02-01T14:33:27.639Z"
   },
   {
    "duration": 28,
    "start_time": "2022-02-01T14:36:19.958Z"
   },
   {
    "duration": 30,
    "start_time": "2022-02-01T14:36:23.628Z"
   },
   {
    "duration": 26,
    "start_time": "2022-02-01T14:36:27.452Z"
   },
   {
    "duration": 27,
    "start_time": "2022-02-01T14:36:29.880Z"
   },
   {
    "duration": 6,
    "start_time": "2022-02-01T14:37:57.593Z"
   },
   {
    "duration": 23,
    "start_time": "2022-02-01T14:38:01.994Z"
   },
   {
    "duration": 16,
    "start_time": "2022-02-01T14:38:04.102Z"
   },
   {
    "duration": 22,
    "start_time": "2022-02-01T14:38:06.276Z"
   },
   {
    "duration": 16,
    "start_time": "2022-02-01T14:38:08.833Z"
   },
   {
    "duration": 336,
    "start_time": "2022-02-01T14:51:41.193Z"
   },
   {
    "duration": 300,
    "start_time": "2022-02-01T14:52:12.994Z"
   },
   {
    "duration": 462,
    "start_time": "2022-02-01T14:55:08.772Z"
   },
   {
    "duration": 797,
    "start_time": "2022-02-01T14:56:07.639Z"
   },
   {
    "duration": 389,
    "start_time": "2022-02-01T14:59:12.061Z"
   },
   {
    "duration": 366,
    "start_time": "2022-02-01T15:00:40.146Z"
   },
   {
    "duration": 16,
    "start_time": "2022-02-01T15:00:58.743Z"
   },
   {
    "duration": 12,
    "start_time": "2022-02-01T15:02:49.177Z"
   },
   {
    "duration": 13,
    "start_time": "2022-02-01T15:02:53.920Z"
   },
   {
    "duration": 8,
    "start_time": "2022-02-01T15:03:00.837Z"
   },
   {
    "duration": 8,
    "start_time": "2022-02-01T15:04:13.758Z"
   },
   {
    "duration": 7,
    "start_time": "2022-02-01T15:04:34.651Z"
   },
   {
    "duration": 4,
    "start_time": "2022-02-01T15:32:56.414Z"
   },
   {
    "duration": 220,
    "start_time": "2022-02-01T15:32:56.423Z"
   },
   {
    "duration": 11,
    "start_time": "2022-02-01T15:32:56.645Z"
   },
   {
    "duration": 76,
    "start_time": "2022-02-01T15:32:56.660Z"
   },
   {
    "duration": 6,
    "start_time": "2022-02-01T15:32:56.739Z"
   },
   {
    "duration": 27,
    "start_time": "2022-02-01T15:32:56.748Z"
   },
   {
    "duration": 7,
    "start_time": "2022-02-01T15:32:56.778Z"
   },
   {
    "duration": 60,
    "start_time": "2022-02-01T15:32:56.787Z"
   },
   {
    "duration": 21,
    "start_time": "2022-02-01T15:32:56.851Z"
   },
   {
    "duration": 48,
    "start_time": "2022-02-01T15:32:56.875Z"
   },
   {
    "duration": 106,
    "start_time": "2022-02-01T15:32:56.926Z"
   },
   {
    "duration": 105,
    "start_time": "2022-02-01T15:32:57.035Z"
   },
   {
    "duration": 83,
    "start_time": "2022-02-01T15:32:57.142Z"
   },
   {
    "duration": 13,
    "start_time": "2022-02-01T15:32:57.228Z"
   },
   {
    "duration": 6,
    "start_time": "2022-02-01T15:32:57.244Z"
   },
   {
    "duration": 26,
    "start_time": "2022-02-01T15:32:57.253Z"
   },
   {
    "duration": 42,
    "start_time": "2022-02-01T15:32:57.282Z"
   },
   {
    "duration": 12,
    "start_time": "2022-02-01T15:32:57.327Z"
   },
   {
    "duration": 13,
    "start_time": "2022-02-01T15:32:57.342Z"
   },
   {
    "duration": 5,
    "start_time": "2022-02-01T15:32:57.358Z"
   },
   {
    "duration": 58,
    "start_time": "2022-02-01T15:32:57.365Z"
   },
   {
    "duration": 21,
    "start_time": "2022-02-01T15:32:57.425Z"
   },
   {
    "duration": 21,
    "start_time": "2022-02-01T15:32:57.448Z"
   },
   {
    "duration": 64,
    "start_time": "2022-02-01T15:32:57.474Z"
   },
   {
    "duration": 27,
    "start_time": "2022-02-01T15:32:57.541Z"
   },
   {
    "duration": 21,
    "start_time": "2022-02-01T15:32:57.570Z"
   },
   {
    "duration": 40,
    "start_time": "2022-02-01T15:32:57.593Z"
   },
   {
    "duration": 20,
    "start_time": "2022-02-01T15:32:57.636Z"
   },
   {
    "duration": 17,
    "start_time": "2022-02-01T15:32:57.658Z"
   },
   {
    "duration": 6,
    "start_time": "2022-02-01T15:32:57.677Z"
   },
   {
    "duration": 56,
    "start_time": "2022-02-01T15:32:57.686Z"
   },
   {
    "duration": 16,
    "start_time": "2022-02-01T15:32:57.744Z"
   },
   {
    "duration": 24,
    "start_time": "2022-02-01T15:32:57.762Z"
   },
   {
    "duration": 15,
    "start_time": "2022-02-01T15:32:57.824Z"
   },
   {
    "duration": 15,
    "start_time": "2022-02-01T15:32:57.842Z"
   },
   {
    "duration": 6,
    "start_time": "2022-02-01T15:32:57.860Z"
   },
   {
    "duration": 14,
    "start_time": "2022-02-01T15:32:57.869Z"
   },
   {
    "duration": 7,
    "start_time": "2022-02-01T15:32:57.885Z"
   },
   {
    "duration": 767,
    "start_time": "2022-02-10T20:19:13.414Z"
   },
   {
    "duration": 171,
    "start_time": "2022-02-10T20:19:14.184Z"
   },
   {
    "duration": 11,
    "start_time": "2022-02-10T20:19:14.358Z"
   },
   {
    "duration": 38,
    "start_time": "2022-02-10T20:19:14.372Z"
   },
   {
    "duration": 4,
    "start_time": "2022-02-10T20:19:14.413Z"
   },
   {
    "duration": 54,
    "start_time": "2022-02-10T20:19:14.419Z"
   },
   {
    "duration": 9,
    "start_time": "2022-02-10T20:19:14.475Z"
   },
   {
    "duration": 32,
    "start_time": "2022-02-10T20:19:14.490Z"
   },
   {
    "duration": 44,
    "start_time": "2022-02-10T20:19:14.527Z"
   },
   {
    "duration": 26,
    "start_time": "2022-02-10T20:19:14.573Z"
   },
   {
    "duration": 110,
    "start_time": "2022-02-10T20:19:14.601Z"
   },
   {
    "duration": 98,
    "start_time": "2022-02-10T20:19:14.713Z"
   },
   {
    "duration": 80,
    "start_time": "2022-02-10T20:19:14.814Z"
   },
   {
    "duration": 11,
    "start_time": "2022-02-10T20:19:14.897Z"
   },
   {
    "duration": 8,
    "start_time": "2022-02-10T20:19:14.911Z"
   },
   {
    "duration": 15,
    "start_time": "2022-02-10T20:19:14.947Z"
   },
   {
    "duration": 12,
    "start_time": "2022-02-10T20:19:14.965Z"
   },
   {
    "duration": 15,
    "start_time": "2022-02-10T20:19:14.980Z"
   },
   {
    "duration": 55,
    "start_time": "2022-02-10T20:19:14.998Z"
   },
   {
    "duration": 6,
    "start_time": "2022-02-10T20:19:15.056Z"
   },
   {
    "duration": 29,
    "start_time": "2022-02-10T20:19:15.065Z"
   },
   {
    "duration": 57,
    "start_time": "2022-02-10T20:19:15.097Z"
   },
   {
    "duration": 19,
    "start_time": "2022-02-10T20:19:15.159Z"
   },
   {
    "duration": 18,
    "start_time": "2022-02-10T20:19:15.181Z"
   },
   {
    "duration": 49,
    "start_time": "2022-02-10T20:19:15.201Z"
   },
   {
    "duration": 21,
    "start_time": "2022-02-10T20:19:15.253Z"
   },
   {
    "duration": 13,
    "start_time": "2022-02-10T20:19:15.276Z"
   },
   {
    "duration": 16,
    "start_time": "2022-02-10T20:19:15.291Z"
   },
   {
    "duration": 48,
    "start_time": "2022-02-10T20:19:15.310Z"
   },
   {
    "duration": 6,
    "start_time": "2022-02-10T20:19:15.361Z"
   },
   {
    "duration": 30,
    "start_time": "2022-02-10T20:19:15.369Z"
   },
   {
    "duration": 17,
    "start_time": "2022-02-10T20:19:15.402Z"
   },
   {
    "duration": 45,
    "start_time": "2022-02-10T20:19:15.422Z"
   },
   {
    "duration": 14,
    "start_time": "2022-02-10T20:19:15.470Z"
   },
   {
    "duration": 10,
    "start_time": "2022-02-10T20:19:15.487Z"
   },
   {
    "duration": 8,
    "start_time": "2022-02-10T20:19:15.500Z"
   },
   {
    "duration": 12,
    "start_time": "2022-02-10T20:19:15.549Z"
   },
   {
    "duration": 13,
    "start_time": "2022-02-10T20:19:15.564Z"
   }
  ],
  "colab": {
   "collapsed_sections": [
    "E0vqbgi9ay0H",
    "VUC88oWjTJw2"
   ],
   "name": "yandex_music_project_2021.2.ipynb",
   "provenance": []
  },
  "kernelspec": {
   "display_name": "Python 3 (ipykernel)",
   "language": "python",
   "name": "python3"
  },
  "language_info": {
   "codemirror_mode": {
    "name": "ipython",
    "version": 3
   },
   "file_extension": ".py",
   "mimetype": "text/x-python",
   "name": "python",
   "nbconvert_exporter": "python",
   "pygments_lexer": "ipython3",
   "version": "3.9.7"
  },
  "toc": {
   "base_numbering": 1,
   "nav_menu": {},
   "number_sections": true,
   "sideBar": true,
   "skip_h1_title": true,
   "title_cell": "Table of Contents",
   "title_sidebar": "Contents",
   "toc_cell": false,
   "toc_position": {},
   "toc_section_display": true,
   "toc_window_display": false
  }
 },
 "nbformat": 4,
 "nbformat_minor": 1
}
