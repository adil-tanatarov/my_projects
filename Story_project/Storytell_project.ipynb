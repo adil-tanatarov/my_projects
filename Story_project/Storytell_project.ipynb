{
 "cells": [
  {
   "cell_type": "markdown",
   "id": "9dd414b5",
   "metadata": {},
   "source": [
    "<div style=\"border:solid green 2px; padding: 20px\">\n",
    "<b>Привет, Адиль!</b>\n",
    "\n",
    "Меня зовут Румянцева Екатерина, и я буду проверять твой проект. Предлагаю общаться на «ты» :) Но если это не удобно - дай знать, и мы перейдем на \"вы\". \n",
    "\n",
    "Моя основная цель — не указать на совершенные тобою ошибки, а поделиться своим опытом и помочь тебе стать аналитиком данных. Ты уже проделал большую работу над проектом, но давай сделаем его еще лучше. Ниже ты найдешь мои комментарии - **пожалуйста, не перемещай, не изменяй и не удаляй их**. Увидев у тебя ошибку, в первый раз я лишь укажу на ее наличие и дам тебе возможность самому найти и исправить ее. На реальной работе твой начальник будет поступать так же, а я пытаюсь подготовить тебя именно к работе аналитиком. Но если ты пока не справишься с такой задачей - при следующей проверке я дам более точную подсказку. Я буду использовать цветовую разметку:\n",
    "\n",
    "<div class=\"alert alert-danger\">\n",
    "<b>Комментарий ревьюера ❌:</b> Так выделены самые важные замечания. Без их отработки проект не будет принят. </div>\n",
    "\n",
    "<div class=\"alert alert-warning\">\n",
    "<b>Комментарий ревьюера ⚠️:</b> Так выделены небольшие замечания. Я надеюсь, что их ты тоже учтешь - твой проект от этого станет только лучше. Но настаивать на их отработке не буду.\n",
    "\n",
    "</div>\n",
    "\n",
    "<div class=\"alert alert-success\">\n",
    "<b>Комментарий ревьюера ✔️:</b> Так я выделяю все остальные комментарии.</div>\n",
    "\n",
    "Давай работать над проектом в диалоге: **если ты что-то меняешь в проекте или отвечаешь на мои комменатри — пиши об этом.** Мне будет легче отследить изменения, если ты выделишь свои комментарии:\n",
    "<div class=\"alert alert-info\"> <b>Комментарий студента:</b> Например, вот так.</div>\n",
    "\n",
    "Всё это поможет выполнить повторную проверку твоего проекта оперативнее."
   ]
  },
  {
   "cell_type": "markdown",
   "id": "e12c0944",
   "metadata": {},
   "source": [
    "<div class=\"alert alert-success\">\n",
    "<b>Комментарий ревьюера ✔️:</b>\n",
    "    \n",
    "Адиль, спасибо что выполнил такую объемную работу! В ходе проверки я отметила много положительных моментов, ты увидишь их в моих комментариях! Ты молодец!\n",
    "    \n",
    "Есть ряд моментов, которые нужно поправить. Я уверена - ты со всем справишься!"
   ]
  },
  {
   "cell_type": "markdown",
   "id": "e134fc1e",
   "metadata": {},
   "source": [
    "<div class=\"alert alert-success\">\n",
    "<b>Комментарий ревьюера ✔️:</b> \n",
    "    \n",
    "Адиль, привет! Мои новые комментарии с пометкой v. 2."
   ]
  },
  {
   "cell_type": "markdown",
   "id": "c8095bfa",
   "metadata": {},
   "source": [
    "# Проект A/B тестирования"
   ]
  },
  {
   "cell_type": "markdown",
   "id": "1dd3b0dc",
   "metadata": {},
   "source": [
    "## Описание проекта\n",
    "\n",
    "Вместе с отделом маркетинга мы подготовили список гипотез для увеличения выручки.\n",
    "\n",
    "Приоритизируем гипотезы, запустим A/B-тест и проанализируем результаты."
   ]
  },
  {
   "cell_type": "markdown",
   "id": "9c583269",
   "metadata": {},
   "source": [
    "## Описание данных\n",
    "\n",
    "#### Данные для первой части\n",
    "\n",
    "Hypothesis.csv\n",
    "- Hypothesis — краткое описание гипотезы;\n",
    "- Reach — охват пользователей по 10-балльной шкале;\n",
    "- Impact — влияние на пользователей по 10-балльной шкале;\n",
    "- Confidence — уверенность в гипотезе по 10-балльной шкале;\n",
    "- Efforts — затраты ресурсов на проверку гипотезы по 10-балльной шкале. Чем больше значение Efforts, тем дороже проверка гипотезы\n",
    "\n",
    "#### Данные для второй части\n",
    "\n",
    "Orders.csv\n",
    "- transactionId — идентификатор заказа;\n",
    "- visitorId — идентификатор пользователя, совершившего заказ;\n",
    "- date — дата, когда был совершён заказ;\n",
    "- revenue — выручка заказа;\n",
    "- group — группа A/B-теста, в которую попал заказ\n",
    "\n",
    "Visitors.csv\n",
    "- date — дата;\n",
    "- group — группа A/B-теста;\n",
    "- visitors — количество пользователей в указанную дату в указанной группе A/B-теста"
   ]
  },
  {
   "cell_type": "markdown",
   "id": "f47a23fc",
   "metadata": {},
   "source": [
    "## Импорт данных и библиотек"
   ]
  },
  {
   "cell_type": "code",
   "execution_count": 1,
   "id": "2e1f0290",
   "metadata": {},
   "outputs": [],
   "source": [
    "import pandas as pd\n",
    "import numpy as np\n",
    "from datetime import datetime, timedelta\n",
    "from matplotlib import pyplot as plt\n",
    "import math as mth\n",
    "from scipy import stats as st\n",
    "import datetime as dt\n",
    "from pandas.plotting import register_matplotlib_converters\n",
    "import warnings\n",
    "register_matplotlib_converters()"
   ]
  },
  {
   "cell_type": "code",
   "execution_count": 2,
   "id": "d98dc195",
   "metadata": {
    "scrolled": false
   },
   "outputs": [
    {
     "data": {
      "text/html": [
       "<div>\n",
       "<style scoped>\n",
       "    .dataframe tbody tr th:only-of-type {\n",
       "        vertical-align: middle;\n",
       "    }\n",
       "\n",
       "    .dataframe tbody tr th {\n",
       "        vertical-align: top;\n",
       "    }\n",
       "\n",
       "    .dataframe thead th {\n",
       "        text-align: right;\n",
       "    }\n",
       "</style>\n",
       "<table border=\"1\" class=\"dataframe\">\n",
       "  <thead>\n",
       "    <tr style=\"text-align: right;\">\n",
       "      <th></th>\n",
       "      <th>Hypothesis</th>\n",
       "      <th>Reach</th>\n",
       "      <th>Impact</th>\n",
       "      <th>Confidence</th>\n",
       "      <th>Efforts</th>\n",
       "    </tr>\n",
       "  </thead>\n",
       "  <tbody>\n",
       "    <tr>\n",
       "      <th>0</th>\n",
       "      <td>Добавить два новых канала привлечения трафика, что позволит привлекать на 30% больше пользователей</td>\n",
       "      <td>3</td>\n",
       "      <td>10</td>\n",
       "      <td>8</td>\n",
       "      <td>6</td>\n",
       "    </tr>\n",
       "    <tr>\n",
       "      <th>1</th>\n",
       "      <td>Запустить собственную службу доставки, что сократит срок доставки заказов</td>\n",
       "      <td>2</td>\n",
       "      <td>5</td>\n",
       "      <td>4</td>\n",
       "      <td>10</td>\n",
       "    </tr>\n",
       "    <tr>\n",
       "      <th>2</th>\n",
       "      <td>Добавить блоки рекомендаций товаров на сайт интернет магазина, чтобы повысить конверсию и средний чек заказа</td>\n",
       "      <td>8</td>\n",
       "      <td>3</td>\n",
       "      <td>7</td>\n",
       "      <td>3</td>\n",
       "    </tr>\n",
       "    <tr>\n",
       "      <th>3</th>\n",
       "      <td>Изменить структура категорий, что увеличит конверсию, т.к. пользователи быстрее найдут нужный товар</td>\n",
       "      <td>8</td>\n",
       "      <td>3</td>\n",
       "      <td>3</td>\n",
       "      <td>8</td>\n",
       "    </tr>\n",
       "    <tr>\n",
       "      <th>4</th>\n",
       "      <td>Изменить цвет фона главной страницы, чтобы увеличить вовлеченность пользователей</td>\n",
       "      <td>3</td>\n",
       "      <td>1</td>\n",
       "      <td>1</td>\n",
       "      <td>1</td>\n",
       "    </tr>\n",
       "  </tbody>\n",
       "</table>\n",
       "</div>"
      ],
      "text/plain": [
       "                                                                                                     Hypothesis  \\\n",
       "0            Добавить два новых канала привлечения трафика, что позволит привлекать на 30% больше пользователей   \n",
       "1                                     Запустить собственную службу доставки, что сократит срок доставки заказов   \n",
       "2  Добавить блоки рекомендаций товаров на сайт интернет магазина, чтобы повысить конверсию и средний чек заказа   \n",
       "3           Изменить структура категорий, что увеличит конверсию, т.к. пользователи быстрее найдут нужный товар   \n",
       "4                              Изменить цвет фона главной страницы, чтобы увеличить вовлеченность пользователей   \n",
       "\n",
       "   Reach  Impact  Confidence  Efforts  \n",
       "0      3      10           8        6  \n",
       "1      2       5           4       10  \n",
       "2      8       3           7        3  \n",
       "3      8       3           3        8  \n",
       "4      3       1           1        1  "
      ]
     },
     "metadata": {},
     "output_type": "display_data"
    },
    {
     "data": {
      "text/html": [
       "<div>\n",
       "<style scoped>\n",
       "    .dataframe tbody tr th:only-of-type {\n",
       "        vertical-align: middle;\n",
       "    }\n",
       "\n",
       "    .dataframe tbody tr th {\n",
       "        vertical-align: top;\n",
       "    }\n",
       "\n",
       "    .dataframe thead th {\n",
       "        text-align: right;\n",
       "    }\n",
       "</style>\n",
       "<table border=\"1\" class=\"dataframe\">\n",
       "  <thead>\n",
       "    <tr style=\"text-align: right;\">\n",
       "      <th></th>\n",
       "      <th>transactionId</th>\n",
       "      <th>visitorId</th>\n",
       "      <th>date</th>\n",
       "      <th>revenue</th>\n",
       "      <th>group</th>\n",
       "    </tr>\n",
       "  </thead>\n",
       "  <tbody>\n",
       "    <tr>\n",
       "      <th>0</th>\n",
       "      <td>3667963787</td>\n",
       "      <td>3312258926</td>\n",
       "      <td>2019-08-15</td>\n",
       "      <td>1650</td>\n",
       "      <td>B</td>\n",
       "    </tr>\n",
       "    <tr>\n",
       "      <th>1</th>\n",
       "      <td>2804400009</td>\n",
       "      <td>3642806036</td>\n",
       "      <td>2019-08-15</td>\n",
       "      <td>730</td>\n",
       "      <td>B</td>\n",
       "    </tr>\n",
       "    <tr>\n",
       "      <th>2</th>\n",
       "      <td>2961555356</td>\n",
       "      <td>4069496402</td>\n",
       "      <td>2019-08-15</td>\n",
       "      <td>400</td>\n",
       "      <td>A</td>\n",
       "    </tr>\n",
       "    <tr>\n",
       "      <th>3</th>\n",
       "      <td>3797467345</td>\n",
       "      <td>1196621759</td>\n",
       "      <td>2019-08-15</td>\n",
       "      <td>9759</td>\n",
       "      <td>B</td>\n",
       "    </tr>\n",
       "    <tr>\n",
       "      <th>4</th>\n",
       "      <td>2282983706</td>\n",
       "      <td>2322279887</td>\n",
       "      <td>2019-08-15</td>\n",
       "      <td>2308</td>\n",
       "      <td>B</td>\n",
       "    </tr>\n",
       "  </tbody>\n",
       "</table>\n",
       "</div>"
      ],
      "text/plain": [
       "   transactionId   visitorId        date  revenue group\n",
       "0     3667963787  3312258926  2019-08-15     1650     B\n",
       "1     2804400009  3642806036  2019-08-15      730     B\n",
       "2     2961555356  4069496402  2019-08-15      400     A\n",
       "3     3797467345  1196621759  2019-08-15     9759     B\n",
       "4     2282983706  2322279887  2019-08-15     2308     B"
      ]
     },
     "metadata": {},
     "output_type": "display_data"
    },
    {
     "data": {
      "text/html": [
       "<div>\n",
       "<style scoped>\n",
       "    .dataframe tbody tr th:only-of-type {\n",
       "        vertical-align: middle;\n",
       "    }\n",
       "\n",
       "    .dataframe tbody tr th {\n",
       "        vertical-align: top;\n",
       "    }\n",
       "\n",
       "    .dataframe thead th {\n",
       "        text-align: right;\n",
       "    }\n",
       "</style>\n",
       "<table border=\"1\" class=\"dataframe\">\n",
       "  <thead>\n",
       "    <tr style=\"text-align: right;\">\n",
       "      <th></th>\n",
       "      <th>date</th>\n",
       "      <th>group</th>\n",
       "      <th>visitors</th>\n",
       "    </tr>\n",
       "  </thead>\n",
       "  <tbody>\n",
       "    <tr>\n",
       "      <th>0</th>\n",
       "      <td>2019-08-01</td>\n",
       "      <td>A</td>\n",
       "      <td>719</td>\n",
       "    </tr>\n",
       "    <tr>\n",
       "      <th>1</th>\n",
       "      <td>2019-08-02</td>\n",
       "      <td>A</td>\n",
       "      <td>619</td>\n",
       "    </tr>\n",
       "    <tr>\n",
       "      <th>2</th>\n",
       "      <td>2019-08-03</td>\n",
       "      <td>A</td>\n",
       "      <td>507</td>\n",
       "    </tr>\n",
       "    <tr>\n",
       "      <th>3</th>\n",
       "      <td>2019-08-04</td>\n",
       "      <td>A</td>\n",
       "      <td>717</td>\n",
       "    </tr>\n",
       "    <tr>\n",
       "      <th>4</th>\n",
       "      <td>2019-08-05</td>\n",
       "      <td>A</td>\n",
       "      <td>756</td>\n",
       "    </tr>\n",
       "  </tbody>\n",
       "</table>\n",
       "</div>"
      ],
      "text/plain": [
       "         date group  visitors\n",
       "0  2019-08-01     A       719\n",
       "1  2019-08-02     A       619\n",
       "2  2019-08-03     A       507\n",
       "3  2019-08-04     A       717\n",
       "4  2019-08-05     A       756"
      ]
     },
     "metadata": {},
     "output_type": "display_data"
    }
   ],
   "source": [
    "try:\n",
    "    hypothesis, orders, visitors = (pd.read_csv(r'E:\\Yandex_Practikum\\AB_test\\hypothesis.csv'),\n",
    "    pd.read_csv(r'E:\\Yandex_Practikum\\AB_test\\orders.csv'),\n",
    "    pd.read_csv(r'E:\\Yandex_Practikum\\AB_test\\visitors.csv'))\n",
    "except:\n",
    "    hypothesis, orders, visitors = (pd.read_csv('/datasets/hypothesis.csv'),\n",
    "    pd.read_csv('/datasets/orders.csv'),\n",
    "    pd.read_csv('/datasets/visitors.csv'))\n",
    "\n",
    "pd.options.display.max_colwidth = 150\n",
    "display(hypothesis.head())\n",
    "display(orders.head())\n",
    "display(visitors.head())"
   ]
  },
  {
   "cell_type": "markdown",
   "id": "c7143e37",
   "metadata": {},
   "source": [
    "<div class=\"alert alert-success\">\n",
    "<b>Комментарий ревьюера ✔️:</b> \n",
    "\n",
    "Адиль, здорово, что используешь конструкцию `try - except`!\n",
    "Также большой плюс, что вывел текст гипотез целиком."
   ]
  },
  {
   "cell_type": "markdown",
   "id": "34379372",
   "metadata": {},
   "source": [
    "### Проверим тип данных, дубликаты и пропуски"
   ]
  },
  {
   "cell_type": "code",
   "execution_count": 3,
   "id": "ccb17dfd",
   "metadata": {
    "scrolled": true
   },
   "outputs": [],
   "source": [
    "def pre_check(df):\n",
    "    print('Типы данных:')\n",
    "    df.info()\n",
    "    print(' ')\n",
    "    print('Дубликаты:', df.duplicated().sum())\n",
    "    print('Пропуски:', df.isna().sum())"
   ]
  },
  {
   "cell_type": "code",
   "execution_count": 4,
   "id": "5e7847db",
   "metadata": {},
   "outputs": [
    {
     "name": "stdout",
     "output_type": "stream",
     "text": [
      "Типы данных:\n",
      "<class 'pandas.core.frame.DataFrame'>\n",
      "RangeIndex: 62 entries, 0 to 61\n",
      "Data columns (total 3 columns):\n",
      " #   Column    Non-Null Count  Dtype \n",
      "---  ------    --------------  ----- \n",
      " 0   date      62 non-null     object\n",
      " 1   group     62 non-null     object\n",
      " 2   visitors  62 non-null     int64 \n",
      "dtypes: int64(1), object(2)\n",
      "memory usage: 1.6+ KB\n",
      " \n",
      "Дубликаты: 0\n",
      "Пропуски: date        0\n",
      "group       0\n",
      "visitors    0\n",
      "dtype: int64\n",
      "None\n"
     ]
    }
   ],
   "source": [
    "print(pre_check(visitors))"
   ]
  },
  {
   "cell_type": "code",
   "execution_count": 5,
   "id": "0c752b37",
   "metadata": {
    "scrolled": false
   },
   "outputs": [
    {
     "name": "stdout",
     "output_type": "stream",
     "text": [
      "Типы данных:\n",
      "<class 'pandas.core.frame.DataFrame'>\n",
      "RangeIndex: 1197 entries, 0 to 1196\n",
      "Data columns (total 5 columns):\n",
      " #   Column         Non-Null Count  Dtype \n",
      "---  ------         --------------  ----- \n",
      " 0   transactionId  1197 non-null   int64 \n",
      " 1   visitorId      1197 non-null   int64 \n",
      " 2   date           1197 non-null   object\n",
      " 3   revenue        1197 non-null   int64 \n",
      " 4   group          1197 non-null   object\n",
      "dtypes: int64(3), object(2)\n",
      "memory usage: 46.9+ KB\n",
      " \n",
      "Дубликаты: 0\n",
      "Пропуски: transactionId    0\n",
      "visitorId        0\n",
      "date             0\n",
      "revenue          0\n",
      "group            0\n",
      "dtype: int64\n",
      "None\n"
     ]
    }
   ],
   "source": [
    "print(pre_check(orders))"
   ]
  },
  {
   "cell_type": "code",
   "execution_count": 6,
   "id": "53e64a9c",
   "metadata": {
    "scrolled": false
   },
   "outputs": [
    {
     "name": "stdout",
     "output_type": "stream",
     "text": [
      "Типы данных:\n",
      "<class 'pandas.core.frame.DataFrame'>\n",
      "RangeIndex: 9 entries, 0 to 8\n",
      "Data columns (total 5 columns):\n",
      " #   Column      Non-Null Count  Dtype \n",
      "---  ------      --------------  ----- \n",
      " 0   Hypothesis  9 non-null      object\n",
      " 1   Reach       9 non-null      int64 \n",
      " 2   Impact      9 non-null      int64 \n",
      " 3   Confidence  9 non-null      int64 \n",
      " 4   Efforts     9 non-null      int64 \n",
      "dtypes: int64(4), object(1)\n",
      "memory usage: 488.0+ bytes\n",
      " \n",
      "Дубликаты: 0\n",
      "Пропуски: Hypothesis    0\n",
      "Reach         0\n",
      "Impact        0\n",
      "Confidence    0\n",
      "Efforts       0\n",
      "dtype: int64\n",
      "None\n"
     ]
    }
   ],
   "source": [
    "print(pre_check(hypothesis))"
   ]
  },
  {
   "cell_type": "markdown",
   "id": "b355fef3",
   "metadata": {},
   "source": [
    "<div class=\"alert alert-warning\">\n",
    "<b>Комментарий ревьюера ⚠️:</b> Обрати внимание, ты используешь один и тот же код, только передаешь в него разные таблицы. В таких случаях удобно оборчивать такой код в функцию и вызывать функцию, передавая ей в качестве аргумента таблицу."
   ]
  },
  {
   "cell_type": "markdown",
   "id": "9940c4b6",
   "metadata": {},
   "source": [
    "<div class=\"alert alert-danger\">\n",
    "<b>Комментарий ревьюера ❌:</b> \n",
    "    \n",
    "Адиль, перед началом работы над созданием таблицы с коммулятивными данными, я рекомендую тебе провести дополнительные исследования данных в файлах `orders` и `visitors`:\n",
    "   - проверь сколько групп в А/В тесте;\n",
    "   - какой период проведения теста;\n",
    "   - какое количество покупателей в каждой группе (можем смотреть в таблице с заказами);\n",
    "   - были ли пользователи, которые попали в каждую из групп теста.\n",
    "    \n",
    "**Опыт таких манипуляций с данными тебе пригодится в дальнейшем обучении**.\n",
    "    "
   ]
  },
  {
   "cell_type": "code",
   "execution_count": 7,
   "id": "31b552b9",
   "metadata": {
    "scrolled": true
   },
   "outputs": [
    {
     "name": "stdout",
     "output_type": "stream",
     "text": [
      "['A' 'B']\n"
     ]
    }
   ],
   "source": [
    "print(visitors['group'].unique()) # посмотрим количество групп в тесте"
   ]
  },
  {
   "cell_type": "code",
   "execution_count": 8,
   "id": "eb54c728",
   "metadata": {
    "scrolled": true
   },
   "outputs": [
    {
     "name": "stdout",
     "output_type": "stream",
     "text": [
      "2019-08-01\n",
      "2019-08-31\n"
     ]
    }
   ],
   "source": [
    "print(visitors['date'].min()) # посмотрим длительность теста\n",
    "print(visitors['date'].max())"
   ]
  },
  {
   "cell_type": "markdown",
   "id": "44c9958f",
   "metadata": {},
   "source": [
    "<div class=\"alert alert-info\">\n",
    "    \n",
    "Тест длился один месяц.\n",
    "    \n",
    "</div>"
   ]
  },
  {
   "cell_type": "code",
   "execution_count": 9,
   "id": "e615f402",
   "metadata": {
    "scrolled": true
   },
   "outputs": [
    {
     "name": "stdout",
     "output_type": "stream",
     "text": [
      "group\n",
      "A    503\n",
      "B    586\n",
      "Name: visitorId, dtype: int64\n"
     ]
    }
   ],
   "source": [
    "print(orders.groupby('group')['visitorId'].nunique())"
   ]
  },
  {
   "cell_type": "markdown",
   "id": "c3d88e60",
   "metadata": {},
   "source": [
    "<div class=\"alert alert-info\">\n",
    "    \n",
    "В каждой группе примерно одинаковое количество пользователей. Разница статистически незначимая.\n",
    "    \n",
    "</div>"
   ]
  },
  {
   "cell_type": "code",
   "execution_count": 10,
   "id": "29edc1bd",
   "metadata": {},
   "outputs": [
    {
     "data": {
      "text/plain": [
       "group    58\n",
       "dtype: int64"
      ]
     },
     "execution_count": 10,
     "metadata": {},
     "output_type": "execute_result"
    }
   ],
   "source": [
    "groups_ab = orders.pivot_table(index='visitorId', values='group', aggfunc='nunique')\n",
    "groups_ab.reset_index()\n",
    "groups_ab.query('group > 1').count()"
   ]
  },
  {
   "cell_type": "markdown",
   "id": "86c32af3",
   "metadata": {},
   "source": [
    "<div class=\"alert alert-info\">\n",
    "    \n",
    "58 пользователей попали в обе группы. Учтем это при дальнейшем анализе.\n",
    "    \n",
    "</div>"
   ]
  },
  {
   "cell_type": "markdown",
   "id": "dcce6b52",
   "metadata": {},
   "source": [
    "<div class=\"alert alert-success\">\n",
    "<b>Комментарий ревьюера v. 2 ✔️:</b> Хорошо!"
   ]
  },
  {
   "cell_type": "markdown",
   "id": "7e88acfe",
   "metadata": {},
   "source": [
    "### Часть 1. Приоритизация гипотез"
   ]
  },
  {
   "cell_type": "code",
   "execution_count": 11,
   "id": "b11a5b2d",
   "metadata": {
    "scrolled": true
   },
   "outputs": [
    {
     "data": {
      "text/html": [
       "<div>\n",
       "<style scoped>\n",
       "    .dataframe tbody tr th:only-of-type {\n",
       "        vertical-align: middle;\n",
       "    }\n",
       "\n",
       "    .dataframe tbody tr th {\n",
       "        vertical-align: top;\n",
       "    }\n",
       "\n",
       "    .dataframe thead th {\n",
       "        text-align: right;\n",
       "    }\n",
       "</style>\n",
       "<table border=\"1\" class=\"dataframe\">\n",
       "  <thead>\n",
       "    <tr style=\"text-align: right;\">\n",
       "      <th></th>\n",
       "      <th>Hypothesis</th>\n",
       "      <th>Reach</th>\n",
       "      <th>Impact</th>\n",
       "      <th>Confidence</th>\n",
       "      <th>Efforts</th>\n",
       "      <th>ice_score</th>\n",
       "    </tr>\n",
       "  </thead>\n",
       "  <tbody>\n",
       "    <tr>\n",
       "      <th>8</th>\n",
       "      <td>Запустить акцию, дающую скидку на товар в день рождения</td>\n",
       "      <td>1</td>\n",
       "      <td>9</td>\n",
       "      <td>9</td>\n",
       "      <td>5</td>\n",
       "      <td>16.20</td>\n",
       "    </tr>\n",
       "    <tr>\n",
       "      <th>0</th>\n",
       "      <td>Добавить два новых канала привлечения трафика, что позволит привлекать на 30% больше пользователей</td>\n",
       "      <td>3</td>\n",
       "      <td>10</td>\n",
       "      <td>8</td>\n",
       "      <td>6</td>\n",
       "      <td>13.33</td>\n",
       "    </tr>\n",
       "    <tr>\n",
       "      <th>7</th>\n",
       "      <td>Добавить форму подписки на все основные страницы, чтобы собрать базу клиентов для email-рассылок</td>\n",
       "      <td>10</td>\n",
       "      <td>7</td>\n",
       "      <td>8</td>\n",
       "      <td>5</td>\n",
       "      <td>11.20</td>\n",
       "    </tr>\n",
       "    <tr>\n",
       "      <th>6</th>\n",
       "      <td>Показать на главной странице баннеры с актуальными акциями и распродажами, чтобы увеличить конверсию</td>\n",
       "      <td>5</td>\n",
       "      <td>3</td>\n",
       "      <td>8</td>\n",
       "      <td>3</td>\n",
       "      <td>8.00</td>\n",
       "    </tr>\n",
       "    <tr>\n",
       "      <th>2</th>\n",
       "      <td>Добавить блоки рекомендаций товаров на сайт интернет магазина, чтобы повысить конверсию и средний чек заказа</td>\n",
       "      <td>8</td>\n",
       "      <td>3</td>\n",
       "      <td>7</td>\n",
       "      <td>3</td>\n",
       "      <td>7.00</td>\n",
       "    </tr>\n",
       "    <tr>\n",
       "      <th>1</th>\n",
       "      <td>Запустить собственную службу доставки, что сократит срок доставки заказов</td>\n",
       "      <td>2</td>\n",
       "      <td>5</td>\n",
       "      <td>4</td>\n",
       "      <td>10</td>\n",
       "      <td>2.00</td>\n",
       "    </tr>\n",
       "    <tr>\n",
       "      <th>5</th>\n",
       "      <td>Добавить страницу отзывов клиентов о магазине, что позволит увеличить количество заказов</td>\n",
       "      <td>3</td>\n",
       "      <td>2</td>\n",
       "      <td>2</td>\n",
       "      <td>3</td>\n",
       "      <td>1.33</td>\n",
       "    </tr>\n",
       "    <tr>\n",
       "      <th>3</th>\n",
       "      <td>Изменить структура категорий, что увеличит конверсию, т.к. пользователи быстрее найдут нужный товар</td>\n",
       "      <td>8</td>\n",
       "      <td>3</td>\n",
       "      <td>3</td>\n",
       "      <td>8</td>\n",
       "      <td>1.12</td>\n",
       "    </tr>\n",
       "    <tr>\n",
       "      <th>4</th>\n",
       "      <td>Изменить цвет фона главной страницы, чтобы увеличить вовлеченность пользователей</td>\n",
       "      <td>3</td>\n",
       "      <td>1</td>\n",
       "      <td>1</td>\n",
       "      <td>1</td>\n",
       "      <td>1.00</td>\n",
       "    </tr>\n",
       "  </tbody>\n",
       "</table>\n",
       "</div>"
      ],
      "text/plain": [
       "                                                                                                     Hypothesis  \\\n",
       "8                                                       Запустить акцию, дающую скидку на товар в день рождения   \n",
       "0            Добавить два новых канала привлечения трафика, что позволит привлекать на 30% больше пользователей   \n",
       "7              Добавить форму подписки на все основные страницы, чтобы собрать базу клиентов для email-рассылок   \n",
       "6          Показать на главной странице баннеры с актуальными акциями и распродажами, чтобы увеличить конверсию   \n",
       "2  Добавить блоки рекомендаций товаров на сайт интернет магазина, чтобы повысить конверсию и средний чек заказа   \n",
       "1                                     Запустить собственную службу доставки, что сократит срок доставки заказов   \n",
       "5                      Добавить страницу отзывов клиентов о магазине, что позволит увеличить количество заказов   \n",
       "3           Изменить структура категорий, что увеличит конверсию, т.к. пользователи быстрее найдут нужный товар   \n",
       "4                              Изменить цвет фона главной страницы, чтобы увеличить вовлеченность пользователей   \n",
       "\n",
       "   Reach  Impact  Confidence  Efforts  ice_score  \n",
       "8      1       9           9        5      16.20  \n",
       "0      3      10           8        6      13.33  \n",
       "7     10       7           8        5      11.20  \n",
       "6      5       3           8        3       8.00  \n",
       "2      8       3           7        3       7.00  \n",
       "1      2       5           4       10       2.00  \n",
       "5      3       2           2        3       1.33  \n",
       "3      8       3           3        8       1.12  \n",
       "4      3       1           1        1       1.00  "
      ]
     },
     "metadata": {},
     "output_type": "display_data"
    }
   ],
   "source": [
    "hypothesis['ice_score'] = (hypothesis['Impact'] * hypothesis['Confidence'] / hypothesis['Efforts']).round(2)\n",
    "display(hypothesis.sort_values(by='ice_score', ascending=False).head(10))"
   ]
  },
  {
   "cell_type": "code",
   "execution_count": 12,
   "id": "067c4950",
   "metadata": {
    "scrolled": false
   },
   "outputs": [
    {
     "data": {
      "text/html": [
       "<div>\n",
       "<style scoped>\n",
       "    .dataframe tbody tr th:only-of-type {\n",
       "        vertical-align: middle;\n",
       "    }\n",
       "\n",
       "    .dataframe tbody tr th {\n",
       "        vertical-align: top;\n",
       "    }\n",
       "\n",
       "    .dataframe thead th {\n",
       "        text-align: right;\n",
       "    }\n",
       "</style>\n",
       "<table border=\"1\" class=\"dataframe\">\n",
       "  <thead>\n",
       "    <tr style=\"text-align: right;\">\n",
       "      <th></th>\n",
       "      <th>Hypothesis</th>\n",
       "      <th>Reach</th>\n",
       "      <th>Impact</th>\n",
       "      <th>Confidence</th>\n",
       "      <th>Efforts</th>\n",
       "      <th>ice_score</th>\n",
       "      <th>rice_score</th>\n",
       "    </tr>\n",
       "  </thead>\n",
       "  <tbody>\n",
       "    <tr>\n",
       "      <th>7</th>\n",
       "      <td>Добавить форму подписки на все основные страницы, чтобы собрать базу клиентов для email-рассылок</td>\n",
       "      <td>10</td>\n",
       "      <td>7</td>\n",
       "      <td>8</td>\n",
       "      <td>5</td>\n",
       "      <td>11.20</td>\n",
       "      <td>112.0</td>\n",
       "    </tr>\n",
       "    <tr>\n",
       "      <th>2</th>\n",
       "      <td>Добавить блоки рекомендаций товаров на сайт интернет магазина, чтобы повысить конверсию и средний чек заказа</td>\n",
       "      <td>8</td>\n",
       "      <td>3</td>\n",
       "      <td>7</td>\n",
       "      <td>3</td>\n",
       "      <td>7.00</td>\n",
       "      <td>56.0</td>\n",
       "    </tr>\n",
       "    <tr>\n",
       "      <th>0</th>\n",
       "      <td>Добавить два новых канала привлечения трафика, что позволит привлекать на 30% больше пользователей</td>\n",
       "      <td>3</td>\n",
       "      <td>10</td>\n",
       "      <td>8</td>\n",
       "      <td>6</td>\n",
       "      <td>13.33</td>\n",
       "      <td>40.0</td>\n",
       "    </tr>\n",
       "    <tr>\n",
       "      <th>6</th>\n",
       "      <td>Показать на главной странице баннеры с актуальными акциями и распродажами, чтобы увеличить конверсию</td>\n",
       "      <td>5</td>\n",
       "      <td>3</td>\n",
       "      <td>8</td>\n",
       "      <td>3</td>\n",
       "      <td>8.00</td>\n",
       "      <td>40.0</td>\n",
       "    </tr>\n",
       "    <tr>\n",
       "      <th>8</th>\n",
       "      <td>Запустить акцию, дающую скидку на товар в день рождения</td>\n",
       "      <td>1</td>\n",
       "      <td>9</td>\n",
       "      <td>9</td>\n",
       "      <td>5</td>\n",
       "      <td>16.20</td>\n",
       "      <td>16.2</td>\n",
       "    </tr>\n",
       "    <tr>\n",
       "      <th>3</th>\n",
       "      <td>Изменить структура категорий, что увеличит конверсию, т.к. пользователи быстрее найдут нужный товар</td>\n",
       "      <td>8</td>\n",
       "      <td>3</td>\n",
       "      <td>3</td>\n",
       "      <td>8</td>\n",
       "      <td>1.12</td>\n",
       "      <td>9.0</td>\n",
       "    </tr>\n",
       "    <tr>\n",
       "      <th>1</th>\n",
       "      <td>Запустить собственную службу доставки, что сократит срок доставки заказов</td>\n",
       "      <td>2</td>\n",
       "      <td>5</td>\n",
       "      <td>4</td>\n",
       "      <td>10</td>\n",
       "      <td>2.00</td>\n",
       "      <td>4.0</td>\n",
       "    </tr>\n",
       "    <tr>\n",
       "      <th>5</th>\n",
       "      <td>Добавить страницу отзывов клиентов о магазине, что позволит увеличить количество заказов</td>\n",
       "      <td>3</td>\n",
       "      <td>2</td>\n",
       "      <td>2</td>\n",
       "      <td>3</td>\n",
       "      <td>1.33</td>\n",
       "      <td>4.0</td>\n",
       "    </tr>\n",
       "    <tr>\n",
       "      <th>4</th>\n",
       "      <td>Изменить цвет фона главной страницы, чтобы увеличить вовлеченность пользователей</td>\n",
       "      <td>3</td>\n",
       "      <td>1</td>\n",
       "      <td>1</td>\n",
       "      <td>1</td>\n",
       "      <td>1.00</td>\n",
       "      <td>3.0</td>\n",
       "    </tr>\n",
       "  </tbody>\n",
       "</table>\n",
       "</div>"
      ],
      "text/plain": [
       "                                                                                                     Hypothesis  \\\n",
       "7              Добавить форму подписки на все основные страницы, чтобы собрать базу клиентов для email-рассылок   \n",
       "2  Добавить блоки рекомендаций товаров на сайт интернет магазина, чтобы повысить конверсию и средний чек заказа   \n",
       "0            Добавить два новых канала привлечения трафика, что позволит привлекать на 30% больше пользователей   \n",
       "6          Показать на главной странице баннеры с актуальными акциями и распродажами, чтобы увеличить конверсию   \n",
       "8                                                       Запустить акцию, дающую скидку на товар в день рождения   \n",
       "3           Изменить структура категорий, что увеличит конверсию, т.к. пользователи быстрее найдут нужный товар   \n",
       "1                                     Запустить собственную службу доставки, что сократит срок доставки заказов   \n",
       "5                      Добавить страницу отзывов клиентов о магазине, что позволит увеличить количество заказов   \n",
       "4                              Изменить цвет фона главной страницы, чтобы увеличить вовлеченность пользователей   \n",
       "\n",
       "   Reach  Impact  Confidence  Efforts  ice_score  rice_score  \n",
       "7     10       7           8        5      11.20       112.0  \n",
       "2      8       3           7        3       7.00        56.0  \n",
       "0      3      10           8        6      13.33        40.0  \n",
       "6      5       3           8        3       8.00        40.0  \n",
       "8      1       9           9        5      16.20        16.2  \n",
       "3      8       3           3        8       1.12         9.0  \n",
       "1      2       5           4       10       2.00         4.0  \n",
       "5      3       2           2        3       1.33         4.0  \n",
       "4      3       1           1        1       1.00         3.0  "
      ]
     },
     "metadata": {},
     "output_type": "display_data"
    }
   ],
   "source": [
    "hypothesis['rice_score'] = hypothesis['Reach'] * hypothesis['Impact'] * hypothesis['Confidence'] / hypothesis['Efforts']\n",
    "display(hypothesis.sort_values(by='rice_score', ascending=False).head(10))"
   ]
  },
  {
   "cell_type": "markdown",
   "id": "a52de685",
   "metadata": {},
   "source": [
    "<div class=\"alert alert-info\">\n",
    "    \n",
    "- после применения фреймворка ICE наиболее приоритетными стали гипотезы 8,0 и 7\n",
    "- после применения фреймворка RICE, показатель Reach(охват) изменил приоритетность. Теперь приоритетными стали гипотезы 7,2 и 0, а гипотеза 8 стала пятой по приоритетности.\n",
    "    \n",
    "Гипотеза 8 была самой приоритетной, но имеет очень малый охват. Т.к. за время проведения АВ-теста слишком мало пользователей будут праздновать свои именины.\n",
    "    \n",
    "С учетом охвата(Reach) самой приоритетной стала гипотеза 7, т.к. имеет наибольший охват - 10 баллов и высокий Impact - 7, при том же значении Efforts(стоимости проверки гипотезы) - 5\n",
    "    \n",
    "Гипотеза 0 в топе-3 в обоих расчетах за счет параметра Impact(степень влияния) - 10, а охват в 30% можно считать относительно полным, т.к. задача привлечь дополнительные 30% пользователей. Новые каналы привлечения имеют высокий Impact за счет таргетирования рекламы \n",
    "    \n",
    "</div>"
   ]
  },
  {
   "cell_type": "markdown",
   "id": "1e66320f",
   "metadata": {},
   "source": [
    "<div class=\"alert alert-success\">\n",
    "<b>Комментарий ревьюера ✔️:</b> Адиль, хороший анализ! Молодец!"
   ]
  },
  {
   "cell_type": "markdown",
   "id": "fd216374",
   "metadata": {},
   "source": [
    "<div class=\"alert alert-danger\">\n",
    "<b>Комментарий ревьюера ❌:</b> \n",
    "    \n",
    "Смотри, тут начинается исследование данных - как подготовка к анализу А/В теста. Я бы советовала выделить этот раздел заголовком.\n",
    "    \n",
    "Не выводи на экран вместе с графиками в одной ячейке таблицы. Лучше разделить этот код -  отдельно вывести таблицу отдельно график. Также в юпитере мы не используем print() при выводе таблиц.\n",
    "    \n",
    "По оформлению графиков - у всех графиков должны быть названия, а оси подписаны. Подписи сетки данных должны читаться. Попробуй увеличить размер графиков.\n",
    "    \n",
    "Для того чтобы не выводилась вот эта строчка `<matplotlib.legend.Legend at 0x24f79b4d820>` можно поставить `;` после `plt.legend()` или написать еще строку - `plt.show()`.\n",
    "    \n"
   ]
  },
  {
   "cell_type": "markdown",
   "id": "526d6c46",
   "metadata": {},
   "source": [
    "## Анализ результатов А/В-теста"
   ]
  },
  {
   "cell_type": "code",
   "execution_count": 13,
   "id": "20b483a2",
   "metadata": {
    "scrolled": true
   },
   "outputs": [
    {
     "data": {
      "text/html": [
       "<div>\n",
       "<style scoped>\n",
       "    .dataframe tbody tr th:only-of-type {\n",
       "        vertical-align: middle;\n",
       "    }\n",
       "\n",
       "    .dataframe tbody tr th {\n",
       "        vertical-align: top;\n",
       "    }\n",
       "\n",
       "    .dataframe thead th {\n",
       "        text-align: right;\n",
       "    }\n",
       "</style>\n",
       "<table border=\"1\" class=\"dataframe\">\n",
       "  <thead>\n",
       "    <tr style=\"text-align: right;\">\n",
       "      <th></th>\n",
       "      <th>date</th>\n",
       "      <th>group</th>\n",
       "      <th>orders</th>\n",
       "      <th>buyers</th>\n",
       "      <th>revenue</th>\n",
       "      <th>visitors</th>\n",
       "    </tr>\n",
       "  </thead>\n",
       "  <tbody>\n",
       "    <tr>\n",
       "      <th>0</th>\n",
       "      <td>2019-08-01</td>\n",
       "      <td>A</td>\n",
       "      <td>24</td>\n",
       "      <td>20</td>\n",
       "      <td>148579</td>\n",
       "      <td>719</td>\n",
       "    </tr>\n",
       "    <tr>\n",
       "      <th>1</th>\n",
       "      <td>2019-08-01</td>\n",
       "      <td>B</td>\n",
       "      <td>21</td>\n",
       "      <td>20</td>\n",
       "      <td>101217</td>\n",
       "      <td>713</td>\n",
       "    </tr>\n",
       "    <tr>\n",
       "      <th>2</th>\n",
       "      <td>2019-08-02</td>\n",
       "      <td>A</td>\n",
       "      <td>44</td>\n",
       "      <td>38</td>\n",
       "      <td>242401</td>\n",
       "      <td>1338</td>\n",
       "    </tr>\n",
       "    <tr>\n",
       "      <th>3</th>\n",
       "      <td>2019-08-02</td>\n",
       "      <td>B</td>\n",
       "      <td>45</td>\n",
       "      <td>43</td>\n",
       "      <td>266748</td>\n",
       "      <td>1294</td>\n",
       "    </tr>\n",
       "    <tr>\n",
       "      <th>4</th>\n",
       "      <td>2019-08-03</td>\n",
       "      <td>A</td>\n",
       "      <td>68</td>\n",
       "      <td>62</td>\n",
       "      <td>354874</td>\n",
       "      <td>1845</td>\n",
       "    </tr>\n",
       "  </tbody>\n",
       "</table>\n",
       "</div>"
      ],
      "text/plain": [
       "         date group  orders  buyers  revenue  visitors\n",
       "0  2019-08-01     A      24      20   148579       719\n",
       "1  2019-08-01     B      21      20   101217       713\n",
       "2  2019-08-02     A      44      38   242401      1338\n",
       "3  2019-08-02     B      45      43   266748      1294\n",
       "4  2019-08-03     A      68      62   354874      1845"
      ]
     },
     "metadata": {},
     "output_type": "display_data"
    }
   ],
   "source": [
    "# посмотрим стабильность кумулятивных метрик\n",
    "\n",
    "datesGroups = orders[['date','group']].drop_duplicates() \n",
    "ordersAggregated = datesGroups.apply(lambda x: orders[np.logical_and(orders['date'] <= x['date'], orders['group'] == x['group'])].agg({'date': 'max', 'group': 'max', 'transactionId': 'nunique', 'visitorId': 'nunique', 'revenue': 'sum'}), axis=1).sort_values(by=['date','group'])\n",
    "visitorsAggregated = datesGroups.apply(lambda x: visitors[np.logical_and(visitors['date'] <= x['date'], visitors['group'] == x['group'])].agg({'date' : 'max', 'group' : 'max', 'visitors' : 'sum'}), axis=1).sort_values(by=['date','group'])\n",
    "cumulativeData = ordersAggregated.merge(visitorsAggregated, left_on=['date', 'group'], right_on=['date', 'group'])\n",
    "cumulativeData.columns = ['date', 'group', 'orders', 'buyers', 'revenue', 'visitors']\n",
    "\n",
    "display(cumulativeData.head(5))"
   ]
  },
  {
   "cell_type": "code",
   "execution_count": 14,
   "id": "4224f54e",
   "metadata": {},
   "outputs": [
    {
     "data": {
      "image/png": "[encoded data removed]",
      "text/plain": [
       "<Figure size 864x576 with 1 Axes>"
      ]
     },
     "metadata": {
      "needs_background": "light"
     },
     "output_type": "display_data"
    }
   ],
   "source": [
    "cumulativeRevenueA = cumulativeData[cumulativeData['group']=='A'][['date','revenue', 'orders']]\n",
    "cumulativeRevenueB = cumulativeData[cumulativeData['group']=='B'][['date','revenue', 'orders']]\n",
    "K = plt.figure() \n",
    "K.set_figwidth(12)\n",
    "K.set_figheight(8)\n",
    "plt.plot(cumulativeRevenueA['date'], cumulativeRevenueA['revenue'], label='A')\n",
    "plt.plot(cumulativeRevenueB['date'], cumulativeRevenueB['revenue'], label='B')\n",
    "plt.gcf().autofmt_xdate()\n",
    "plt.ylabel('Выручка, $')\n",
    "plt.xlabel('Дата тестирования')\n",
    "plt.title('Динамика выручки группы А и В по дням')\n",
    "plt.legend()\n",
    "plt.show()"
   ]
  },
  {
   "cell_type": "markdown",
   "id": "fed39a93",
   "metadata": {},
   "source": [
    "<div class=\"alert alert-info\">\n",
    "    \n",
    "В середине теста группа В начала превосходить группу А по сумме выручки, вероятно присутствуют заказы с аномальными значениями. Проверим их в ходе дальнейшего анализа.\n",
    "    \n",
    "</div>"
   ]
  },
  {
   "cell_type": "markdown",
   "id": "15b1b20a",
   "metadata": {},
   "source": [
    "<div class=\"alert alert-success\">\n",
    "<b>Комментарий ревьюера ✔️:</b> По выводам согласна с тобой."
   ]
  },
  {
   "cell_type": "code",
   "execution_count": 15,
   "id": "4f8f593c",
   "metadata": {
    "scrolled": false
   },
   "outputs": [
    {
     "data": {
      "image/png": "[encoded data removed]",
      "text/plain": [
       "<Figure size 864x576 with 1 Axes>"
      ]
     },
     "metadata": {
      "needs_background": "light"
     },
     "output_type": "display_data"
    }
   ],
   "source": [
    "# для каждой группы построим графики кумулятивного среднего чека по дням\n",
    "\n",
    "K = plt.figure() \n",
    "K.set_figwidth(12)\n",
    "K.set_figheight(8)\n",
    "plt.plot(cumulativeRevenueA['date'], cumulativeRevenueA['revenue']/cumulativeRevenueA['orders'], label='A')\n",
    "plt.plot(cumulativeRevenueB['date'], cumulativeRevenueB['revenue']/cumulativeRevenueB['orders'], label='B')\n",
    "plt.gcf().autofmt_xdate()\n",
    "plt.ylabel('Сумма чека, $')\n",
    "plt.xlabel('Дата тестирования')\n",
    "plt.title('Динамика среднего чека группы А и В по дням')\n",
    "plt.legend()\n",
    "plt.show()"
   ]
  },
  {
   "cell_type": "markdown",
   "id": "c8caf81f",
   "metadata": {},
   "source": [
    "<div class=\"alert alert-info\">\n",
    "    \n",
    "По динамике среднего чека также наблюдаются сильные колебания. В середине теста у группы В средний чек сильно возрастает.\n",
    "    \n",
    "</div>"
   ]
  },
  {
   "cell_type": "markdown",
   "id": "ce3a542d",
   "metadata": {},
   "source": [
    "<div class=\"alert alert-success\">\n",
    "<b>Комментарий ревьюера ✔️:</b> Да, хорошо."
   ]
  },
  {
   "cell_type": "code",
   "execution_count": 16,
   "id": "d63cea1a",
   "metadata": {
    "scrolled": false
   },
   "outputs": [
    {
     "data": {
      "image/png": "[encoded data removed]",
      "text/plain": [
       "<Figure size 864x576 with 1 Axes>"
      ]
     },
     "metadata": {
      "needs_background": "light"
     },
     "output_type": "display_data"
    }
   ],
   "source": [
    "# построим график относительно различия кумулятивного среднего чека группы B к группе A\n",
    "\n",
    "mergedCumulativeRevenue = cumulativeRevenueA.merge(cumulativeRevenueB, left_on='date', right_on='date', how='left', suffixes=['A', 'B'])\n",
    "K = plt.figure() \n",
    "K.set_figwidth(12)\n",
    "K.set_figheight(8)\n",
    "plt.plot(mergedCumulativeRevenue['date'], (mergedCumulativeRevenue['revenueB']/mergedCumulativeRevenue['ordersB'])/(mergedCumulativeRevenue['revenueA']/mergedCumulativeRevenue['ordersA'])-1)\n",
    "plt.axhline(y=0, color='black', linestyle='--')\n",
    "plt.gcf().autofmt_xdate()\n",
    "plt.ylabel('Относительное изменение')\n",
    "plt.xlabel('Дата тестирования')\n",
    "plt.title('График относительно различия кумулятивного среднего чека группы B к группе A')\n",
    "plt.show()"
   ]
  },
  {
   "cell_type": "markdown",
   "id": "df513afa",
   "metadata": {},
   "source": [
    "<div class=\"alert alert-info\">\n",
    "    \n",
    "В некоторые даты наблюдаются значительные изменения различия средних чеков, видимо в эти дни были сделаны аномальные заказы.\n",
    "    \n",
    "</div>"
   ]
  },
  {
   "cell_type": "markdown",
   "id": "86a6f3a6",
   "metadata": {},
   "source": [
    "<div class=\"alert alert-success\">\n",
    "<b>Комментарий ревьюера ✔️:</b> Да, вполне вероятно"
   ]
  },
  {
   "cell_type": "code",
   "execution_count": 17,
   "id": "ff63cebb",
   "metadata": {
    "scrolled": false
   },
   "outputs": [
    {
     "data": {
      "image/png": "[encoded data removed]",
      "text/plain": [
       "<Figure size 864x576 with 1 Axes>"
      ]
     },
     "metadata": {
      "needs_background": "light"
     },
     "output_type": "display_data"
    }
   ],
   "source": [
    "# посмотрим кумулятивные метрики по конверсии в группах\n",
    "\n",
    "cumulativeData['conversion'] = cumulativeData['orders']/cumulativeData['visitors'] # добавим столбец с конверсией\n",
    "\n",
    "cumulativeDataA = cumulativeData[cumulativeData['group']=='A']\n",
    "cumulativeDataB = cumulativeData[cumulativeData['group']=='B']\n",
    "K = plt.figure() \n",
    "K.set_figwidth(12)\n",
    "K.set_figheight(8)\n",
    "plt.plot(cumulativeDataA['date'], cumulativeDataA['conversion'], label='A')\n",
    "plt.plot(cumulativeDataB['date'], cumulativeDataB['conversion'], label='B')\n",
    "plt.gcf().autofmt_xdate()\n",
    "plt.ylabel('Конверсия')\n",
    "plt.xlabel('Дата тестирования')\n",
    "plt.title('Кумулятивные метрики по конверсии в группах')\n",
    "plt.legend()\n",
    "plt.show()"
   ]
  },
  {
   "cell_type": "markdown",
   "id": "e5841b85",
   "metadata": {},
   "source": [
    "<div class=\"alert alert-info\">\n",
    "    \n",
    "У группы В после первой недели теста конверсия становится больше чем у группы А и превосходит до конца теста.\n",
    "    \n",
    "</div>"
   ]
  },
  {
   "cell_type": "markdown",
   "id": "74fd1528",
   "metadata": {},
   "source": [
    "<div class=\"alert alert-success\">\n",
    "<b>Комментарий ревьюера ✔️:</b> Хорошо."
   ]
  },
  {
   "cell_type": "code",
   "execution_count": 18,
   "id": "e31f3a0f",
   "metadata": {},
   "outputs": [
    {
     "data": {
      "image/png": "[encoded data removed]",
      "text/plain": [
       "<Figure size 864x576 with 1 Axes>"
      ]
     },
     "metadata": {
      "needs_background": "light"
     },
     "output_type": "display_data"
    }
   ],
   "source": [
    "# посмотрим относительную конверсию группы В к группе А\n",
    "\n",
    "mergedCumulativeConversions = cumulativeDataA[['date','conversion']].merge(cumulativeDataB[['date','conversion']], left_on='date', right_on='date', how='left', suffixes=['A', 'B'])\n",
    "K = plt.figure() \n",
    "K.set_figwidth(12)\n",
    "K.set_figheight(8)\n",
    "plt.plot(mergedCumulativeConversions['date'], mergedCumulativeConversions['conversionB']/mergedCumulativeConversions['conversionA']-1, label=\"Относительный прирост конверсии группы B относительно группы A\")\n",
    "\n",
    "plt.axhline(y=0, color='black', linestyle='--')\n",
    "plt.axhline(y= 0.2, color='grey', linestyle='--')\n",
    "plt.axis([mergedCumulativeConversions['date'].min(), mergedCumulativeConversions['date'].max(), -0.5, 0.5])\n",
    "plt.gcf().autofmt_xdate()\n",
    "plt.ylabel('Относительный прирост')\n",
    "plt.xlabel('Дата тестирования')\n",
    "plt.title('Относительная конверсия группы В к группе А')\n",
    "plt.legend()\n",
    "plt.show()"
   ]
  },
  {
   "cell_type": "markdown",
   "id": "ac951f68",
   "metadata": {},
   "source": [
    "<div class=\"alert alert-info\">\n",
    "    \n",
    "Относительный прирост конверсии группы В к группе А в середине теста достигает 20%, а к концу теста устанавливается на уровне 10-12%.\n",
    "    \n",
    "</div>"
   ]
  },
  {
   "cell_type": "markdown",
   "id": "ef65f711",
   "metadata": {},
   "source": [
    "<div class=\"alert alert-success\">\n",
    "<b>Комментарий ревьюера ✔️:</b> \n",
    "    \n",
    "Отлично. Молодец что прочертил вторую `axhline`."
   ]
  },
  {
   "cell_type": "markdown",
   "id": "6929e824",
   "metadata": {},
   "source": [
    "### Проанализируем выбросы и всплески (крайние значения данных)"
   ]
  },
  {
   "cell_type": "code",
   "execution_count": 19,
   "id": "c621c3b7",
   "metadata": {
    "scrolled": true
   },
   "outputs": [
    {
     "data": {
      "text/html": [
       "<div>\n",
       "<style scoped>\n",
       "    .dataframe tbody tr th:only-of-type {\n",
       "        vertical-align: middle;\n",
       "    }\n",
       "\n",
       "    .dataframe tbody tr th {\n",
       "        vertical-align: top;\n",
       "    }\n",
       "\n",
       "    .dataframe thead th {\n",
       "        text-align: right;\n",
       "    }\n",
       "</style>\n",
       "<table border=\"1\" class=\"dataframe\">\n",
       "  <thead>\n",
       "    <tr style=\"text-align: right;\">\n",
       "      <th></th>\n",
       "      <th>userId</th>\n",
       "      <th>orders</th>\n",
       "    </tr>\n",
       "  </thead>\n",
       "  <tbody>\n",
       "    <tr>\n",
       "      <th>1023</th>\n",
       "      <td>4256040402</td>\n",
       "      <td>11</td>\n",
       "    </tr>\n",
       "    <tr>\n",
       "      <th>591</th>\n",
       "      <td>2458001652</td>\n",
       "      <td>11</td>\n",
       "    </tr>\n",
       "    <tr>\n",
       "      <th>569</th>\n",
       "      <td>2378935119</td>\n",
       "      <td>9</td>\n",
       "    </tr>\n",
       "    <tr>\n",
       "      <th>487</th>\n",
       "      <td>2038680547</td>\n",
       "      <td>8</td>\n",
       "    </tr>\n",
       "    <tr>\n",
       "      <th>44</th>\n",
       "      <td>199603092</td>\n",
       "      <td>5</td>\n",
       "    </tr>\n",
       "    <tr>\n",
       "      <th>744</th>\n",
       "      <td>3062433592</td>\n",
       "      <td>5</td>\n",
       "    </tr>\n",
       "    <tr>\n",
       "      <th>55</th>\n",
       "      <td>237748145</td>\n",
       "      <td>5</td>\n",
       "    </tr>\n",
       "    <tr>\n",
       "      <th>917</th>\n",
       "      <td>3803269165</td>\n",
       "      <td>5</td>\n",
       "    </tr>\n",
       "    <tr>\n",
       "      <th>299</th>\n",
       "      <td>1230306981</td>\n",
       "      <td>5</td>\n",
       "    </tr>\n",
       "    <tr>\n",
       "      <th>897</th>\n",
       "      <td>3717692402</td>\n",
       "      <td>5</td>\n",
       "    </tr>\n",
       "  </tbody>\n",
       "</table>\n",
       "</div>"
      ],
      "text/plain": [
       "          userId  orders\n",
       "1023  4256040402      11\n",
       "591   2458001652      11\n",
       "569   2378935119       9\n",
       "487   2038680547       8\n",
       "44     199603092       5\n",
       "744   3062433592       5\n",
       "55     237748145       5\n",
       "917   3803269165       5\n",
       "299   1230306981       5\n",
       "897   3717692402       5"
      ]
     },
     "metadata": {},
     "output_type": "display_data"
    }
   ],
   "source": [
    "ordersByUsers = (orders.groupby('visitorId', as_index=False).agg({'transactionId': 'nunique'})) # количество заказов на одного пользователя\n",
    "ordersByUsers.columns = ['userId', 'orders']\n",
    "\n",
    "display(ordersByUsers.sort_values(by='orders', ascending=False).head(10))"
   ]
  },
  {
   "cell_type": "code",
   "execution_count": 20,
   "id": "112fa820",
   "metadata": {},
   "outputs": [
    {
     "data": {
      "image/png": "[encoded data removed]",
      "text/plain": [
       "<Figure size 432x288 with 1 Axes>"
      ]
     },
     "metadata": {
      "needs_background": "light"
     },
     "output_type": "display_data"
    }
   ],
   "source": [
    "ordersByUsers['orders'].hist() # смотрим распределение по гистограмме\n",
    "plt.ylabel('Количество пользователей')\n",
    "plt.xlabel('Количество заказов')\n",
    "plt.title('Количество заказов на одного пользователя')\n",
    "plt.show()"
   ]
  },
  {
   "cell_type": "code",
   "execution_count": 21,
   "id": "3c78dd5b",
   "metadata": {
    "scrolled": true
   },
   "outputs": [
    {
     "data": {
      "image/png": "[encoded data removed]",
      "text/plain": [
       "<Figure size 432x288 with 1 Axes>"
      ]
     },
     "metadata": {
      "needs_background": "light"
     },
     "output_type": "display_data"
    }
   ],
   "source": [
    "x_orders = pd.Series(range(0, len(ordersByUsers))) # посмотрим точечное распределение\n",
    "plt.scatter(x_orders, ordersByUsers['orders'])\n",
    "plt.ylabel('Количество заказов')\n",
    "plt.xlabel('Количество пользователей')\n",
    "plt.title('Распределение заказов на одного пользователя')\n",
    "plt.show()"
   ]
  },
  {
   "cell_type": "markdown",
   "id": "fdfd5c98",
   "metadata": {},
   "source": [
    "<div class=\"alert alert-info\">\n",
    "    \n",
    "По графикам видно что большинство пользователей делают 1-2 заказа. Посмотрим 95 и 99 перцентили по заказам.\n",
    "    \n",
    "</div>"
   ]
  },
  {
   "cell_type": "code",
   "execution_count": 22,
   "id": "5809d664",
   "metadata": {
    "scrolled": true
   },
   "outputs": [
    {
     "name": "stdout",
     "output_type": "stream",
     "text": [
      "[1. 2. 4.]\n"
     ]
    }
   ],
   "source": [
    "print(np.percentile(ordersByUsers['orders'], [90, 95, 99]))"
   ]
  },
  {
   "cell_type": "markdown",
   "id": "ece10716",
   "metadata": {},
   "source": [
    "<div class=\"alert alert-info\">\n",
    "    \n",
    "Не больше 5% пользователей делали более 2 заказов, и не более 1% - больше 4-х.\n",
    "    \n",
    "</div>"
   ]
  },
  {
   "cell_type": "markdown",
   "id": "0564edc3",
   "metadata": {},
   "source": [
    "<div class=\"alert alert-success\">\n",
    "<b>Комментарий ревьюера ✔️:</b> \n",
    "    \n",
    "По расчетам все здорово! Не забудь про оформление графиков."
   ]
  },
  {
   "cell_type": "code",
   "execution_count": 23,
   "id": "1202818f",
   "metadata": {
    "scrolled": true
   },
   "outputs": [
    {
     "data": {
      "text/html": [
       "<div>\n",
       "<style scoped>\n",
       "    .dataframe tbody tr th:only-of-type {\n",
       "        vertical-align: middle;\n",
       "    }\n",
       "\n",
       "    .dataframe tbody tr th {\n",
       "        vertical-align: top;\n",
       "    }\n",
       "\n",
       "    .dataframe thead th {\n",
       "        text-align: right;\n",
       "    }\n",
       "</style>\n",
       "<table border=\"1\" class=\"dataframe\">\n",
       "  <thead>\n",
       "    <tr style=\"text-align: right;\">\n",
       "      <th></th>\n",
       "      <th>transactionId</th>\n",
       "      <th>visitorId</th>\n",
       "      <th>date</th>\n",
       "      <th>revenue</th>\n",
       "      <th>group</th>\n",
       "    </tr>\n",
       "  </thead>\n",
       "  <tbody>\n",
       "    <tr>\n",
       "      <th>425</th>\n",
       "      <td>590470918</td>\n",
       "      <td>1920142716</td>\n",
       "      <td>2019-08-19</td>\n",
       "      <td>1294500</td>\n",
       "      <td>B</td>\n",
       "    </tr>\n",
       "    <tr>\n",
       "      <th>1196</th>\n",
       "      <td>3936777065</td>\n",
       "      <td>2108080724</td>\n",
       "      <td>2019-08-15</td>\n",
       "      <td>202740</td>\n",
       "      <td>B</td>\n",
       "    </tr>\n",
       "    <tr>\n",
       "      <th>858</th>\n",
       "      <td>192721366</td>\n",
       "      <td>1316129916</td>\n",
       "      <td>2019-08-27</td>\n",
       "      <td>93940</td>\n",
       "      <td>A</td>\n",
       "    </tr>\n",
       "    <tr>\n",
       "      <th>1136</th>\n",
       "      <td>666610489</td>\n",
       "      <td>1307669133</td>\n",
       "      <td>2019-08-13</td>\n",
       "      <td>92550</td>\n",
       "      <td>A</td>\n",
       "    </tr>\n",
       "    <tr>\n",
       "      <th>744</th>\n",
       "      <td>3668308183</td>\n",
       "      <td>888512513</td>\n",
       "      <td>2019-08-27</td>\n",
       "      <td>86620</td>\n",
       "      <td>B</td>\n",
       "    </tr>\n",
       "    <tr>\n",
       "      <th>682</th>\n",
       "      <td>1216533772</td>\n",
       "      <td>4266935830</td>\n",
       "      <td>2019-08-29</td>\n",
       "      <td>78990</td>\n",
       "      <td>B</td>\n",
       "    </tr>\n",
       "    <tr>\n",
       "      <th>662</th>\n",
       "      <td>1811671147</td>\n",
       "      <td>4266935830</td>\n",
       "      <td>2019-08-29</td>\n",
       "      <td>78990</td>\n",
       "      <td>A</td>\n",
       "    </tr>\n",
       "    <tr>\n",
       "      <th>743</th>\n",
       "      <td>3603576309</td>\n",
       "      <td>4133034833</td>\n",
       "      <td>2019-08-09</td>\n",
       "      <td>67990</td>\n",
       "      <td>A</td>\n",
       "    </tr>\n",
       "    <tr>\n",
       "      <th>1103</th>\n",
       "      <td>1348774318</td>\n",
       "      <td>1164614297</td>\n",
       "      <td>2019-08-12</td>\n",
       "      <td>66350</td>\n",
       "      <td>A</td>\n",
       "    </tr>\n",
       "    <tr>\n",
       "      <th>1099</th>\n",
       "      <td>316924019</td>\n",
       "      <td>148427295</td>\n",
       "      <td>2019-08-12</td>\n",
       "      <td>65710</td>\n",
       "      <td>A</td>\n",
       "    </tr>\n",
       "  </tbody>\n",
       "</table>\n",
       "</div>"
      ],
      "text/plain": [
       "      transactionId   visitorId        date  revenue group\n",
       "425       590470918  1920142716  2019-08-19  1294500     B\n",
       "1196     3936777065  2108080724  2019-08-15   202740     B\n",
       "858       192721366  1316129916  2019-08-27    93940     A\n",
       "1136      666610489  1307669133  2019-08-13    92550     A\n",
       "744      3668308183   888512513  2019-08-27    86620     B\n",
       "682      1216533772  4266935830  2019-08-29    78990     B\n",
       "662      1811671147  4266935830  2019-08-29    78990     A\n",
       "743      3603576309  4133034833  2019-08-09    67990     A\n",
       "1103     1348774318  1164614297  2019-08-12    66350     A\n",
       "1099      316924019   148427295  2019-08-12    65710     A"
      ]
     },
     "metadata": {},
     "output_type": "display_data"
    }
   ],
   "source": [
    "display(orders.sort_values(by='revenue', ascending=False).head(10)) # смотрим распределение по сумме выручки\n"
   ]
  },
  {
   "cell_type": "code",
   "execution_count": 24,
   "id": "77b72b9b",
   "metadata": {},
   "outputs": [
    {
     "data": {
      "image/png": "[encoded data removed]",
      "text/plain": [
       "<Figure size 432x288 with 1 Axes>"
      ]
     },
     "metadata": {
      "needs_background": "light"
     },
     "output_type": "display_data"
    }
   ],
   "source": [
    "plt.hist(orders['revenue']); # смотрим распределение по гистограмме\n",
    "plt.ylabel('Количество пользователей')\n",
    "plt.xlabel('Сумма выручки')\n",
    "plt.title('График выручки на одного пользователя')\n",
    "plt.show()"
   ]
  },
  {
   "cell_type": "code",
   "execution_count": 25,
   "id": "075b7b41",
   "metadata": {
    "scrolled": true
   },
   "outputs": [
    {
     "data": {
      "image/png": "[encoded data removed]",
      "text/plain": [
       "<Figure size 432x288 with 1 Axes>"
      ]
     },
     "metadata": {
      "needs_background": "light"
     },
     "output_type": "display_data"
    }
   ],
   "source": [
    "x_revenue = pd.Series(range(0, len(orders['revenue']))) # смотрим распределение по диаграмме рассеяния\n",
    "plt.scatter(x_revenue, orders['revenue'])\n",
    "plt.ylabel('Сумма выручки')\n",
    "plt.xlabel('Количество пользователей')\n",
    "plt.title('Распределение сумм заказов по пользователям')\n",
    "plt.show()"
   ]
  },
  {
   "cell_type": "markdown",
   "id": "2bb50e09",
   "metadata": {},
   "source": [
    "<div class=\"alert alert-info\">\n",
    "    \n",
    "По графикам видно что присутствуют аномальные значения по суммам заказа. Посмотрим 95 и 99 перцентили по суммам заказов.\n",
    "    \n",
    "</div>"
   ]
  },
  {
   "cell_type": "code",
   "execution_count": 26,
   "id": "ca95a986",
   "metadata": {
    "scrolled": true
   },
   "outputs": [
    {
     "name": "stdout",
     "output_type": "stream",
     "text": [
      "[18168.  28000.  58233.2]\n"
     ]
    }
   ],
   "source": [
    "print(np.percentile(orders['revenue'], [90, 95, 99]))"
   ]
  },
  {
   "cell_type": "markdown",
   "id": "615b3cda",
   "metadata": {},
   "source": [
    "<div class=\"alert alert-info\">\n",
    "    \n",
    "Не больше 5% пользователей делали заказы на сумму более 28 тысяч, и не более 1% - больше 58 тысяч.\n",
    "    \n",
    "</div>"
   ]
  },
  {
   "cell_type": "markdown",
   "id": "506f63fb",
   "metadata": {},
   "source": [
    "<div class=\"alert alert-success\">\n",
    "<b>Комментарий ревьюера ✔️:</b> \n",
    "    \n",
    "Верно!"
   ]
  },
  {
   "cell_type": "markdown",
   "id": "e5c31a03",
   "metadata": {},
   "source": [
    "<div class=\"alert alert-danger\">\n",
    "<b>Комментарий ревьюера ❌:</b> \n",
    "    \n",
    "Адиль, весь код выше не нужен нам для анализа A/Б теста. Мы можем напрямую обращаться к нашим файлам `orders` и `visitors`.\n",
    "    \n",
    "    \n",
    "По оформлению стат тестов:\n",
    "- Обязательно заранее прописываем какой критерий будем использовать и почему именно его,\n",
    "- Задаем уровень значимости (альфа)\n",
    "- Формулируем гипотезы для каждого теста.\n",
    "- все выводимые значения подписываем.\n"
   ]
  },
  {
   "cell_type": "code",
   "execution_count": 27,
   "id": "6134c659",
   "metadata": {},
   "outputs": [],
   "source": [
    "# разделим пользователей на группы А и В, и посчитаем статистическую значимость различий по конверсии и среднему чеку, \n",
    "# как по \"сырым\", так и по очищенным данным\n",
    "\n",
    "ordersByUsersA = (\n",
    "    orders[orders['group'] == 'A']\n",
    "    .groupby('visitorId', as_index=False)\n",
    "    .agg({'transactionId': pd.Series.nunique})\n",
    ")\n",
    "ordersByUsersA.columns = ['userId', 'orders']\n",
    "\n",
    "ordersByUsersB = (\n",
    "    orders[orders['group'] == 'B']\n",
    "    .groupby('visitorId', as_index=False)\n",
    "    .agg({'transactionId': pd.Series.nunique})\n",
    ")\n",
    "ordersByUsersB.columns = ['userId', 'orders']\n",
    "\n",
    "# в переменных sampleA и sampleB, пользователям с заказами будет соответствовать число заказов пользователя. А пользователям без заказов — нули.\n",
    "\n",
    "sampleA = pd.concat([ordersByUsersA['orders'],pd.Series(0, index=np.arange(visitors[visitors['group']=='A']['visitors'].sum() - len(ordersByUsersA['orders'])), name='orders')],axis=0)\n",
    "\n",
    "sampleB = pd.concat([ordersByUsersB['orders'],pd.Series(0, index=np.arange(visitors[visitors['group']=='B']['visitors'].sum() - len(ordersByUsersB['orders'])), name='orders')],axis=0)"
   ]
  },
  {
   "cell_type": "markdown",
   "id": "a2aeff2c",
   "metadata": {},
   "source": [
    "<div class=\"alert alert-danger\">\n",
    "<b>Комментарий ревьюера v. 2 ❌:</b> \n",
    " \n",
    "Тут вместо `orders['visitorId'].nunique()` нужно обращаться к файлу visitors, например, для группы В вот так - ` visitors[visitors['group']=='B']['visitors'].sum()`, так как в файле заказов только покупатели. Исправь пожалуйста, тоже самое нужно поправить в очищенных данных."
   ]
  },
  {
   "cell_type": "markdown",
   "id": "57b97797",
   "metadata": {},
   "source": [
    "### Проверим гипотезы"
   ]
  },
  {
   "cell_type": "markdown",
   "id": "6d055ded",
   "metadata": {},
   "source": [
    "#### В последующих проверках гипотез применим непараметрический тест Манна-Уитни и вычислим относительное различие в среднем между группами, т.к. имеем 2 массива данных, разделенных по группе и по каждому дню тестирования.\n",
    "\n",
    "- нулевая гипотеза: средняя конверсия пользователей группы А и В равны\n",
    "- альтернативная гипотеза: средняя конверсия пользователей группы А и В различаются"
   ]
  },
  {
   "cell_type": "code",
   "execution_count": 28,
   "id": "1055950e",
   "metadata": {
    "scrolled": true
   },
   "outputs": [
    {
     "name": "stdout",
     "output_type": "stream",
     "text": [
      "p-значение:0.01679\n",
      "Отвергаем нулевую гипотезу\n"
     ]
    }
   ],
   "source": [
    "alpha = .05 # критический уровень статистической значимости\n",
    "\n",
    "results = st.mannwhitneyu(sampleA, sampleB)\n",
    "\n",
    "print(\"p-значение:{0:.5f}\".format(results.pvalue))\n",
    "\n",
    "if results.pvalue < alpha:\n",
    "    print(\"Отвергаем нулевую гипотезу\")\n",
    "else:\n",
    "    print(\"Не получилось отвергнуть нулевую гипотезу\") "
   ]
  },
  {
   "cell_type": "code",
   "execution_count": 29,
   "id": "1561dccf",
   "metadata": {},
   "outputs": [
    {
     "name": "stdout",
     "output_type": "stream",
     "text": [
      "p-значение:0.138\n"
     ]
    }
   ],
   "source": [
    "# относительный прирост средней конверсии группы В к группе А\n",
    "\n",
    "pvalue = sampleB.mean() / sampleA.mean() - 1\n",
    "\n",
    "print(\"p-значение:{0:.3f}\".format(pvalue))"
   ]
  },
  {
   "cell_type": "markdown",
   "id": "f3a91b7d",
   "metadata": {},
   "source": [
    "<div class=\"alert alert-success\">\n",
    "<b>Комментарий ревьюера v. 3 ✔️:</b> Хорошо!"
   ]
  },
  {
   "cell_type": "markdown",
   "id": "4d558a49",
   "metadata": {},
   "source": [
    "<div class=\"alert alert-danger\">\n",
    "<b>Комментарий ревьюера v. 2 ❌:</b> Выше, это просто расчет прироста одной конверсии над другой. Это не статистическая проверка, тут не нужны гипотезы."
   ]
  },
  {
   "cell_type": "markdown",
   "id": "4082e085",
   "metadata": {},
   "source": [
    "<div class=\"alert alert-info\">\n",
    "    \n",
    "Статистической значимость различия в среднем количестве заказов присутствует, значение p-value меньше 0,05. А относительный прирост среднего группы В относительно группы А равен 13,8%  \n",
    "    \n",
    "</div>"
   ]
  },
  {
   "cell_type": "markdown",
   "id": "9bb6d105",
   "metadata": {},
   "source": [
    "<div class=\"alert alert-success\">\n",
    "<b>Комментарий ревьюера ✔️:</b> По выводам - согласна с тобой."
   ]
  },
  {
   "cell_type": "markdown",
   "id": "4b5a1710",
   "metadata": {},
   "source": [
    "- нулевая гипотеза: средний чек пользователей группы А и В равны\n",
    "- альтернативная гипотеза: средний чек пользователей группы А и В различаются"
   ]
  },
  {
   "cell_type": "markdown",
   "id": "718a18f8",
   "metadata": {},
   "source": [
    "<div class=\"alert alert-danger\">\n",
    "<b>Комментарий ревьюера v. 2 ❌:</b>  Тут мы проверяем средний чек, исправь гипотезы пожалуйста. Также нужно исправить гипотезы по очищенным данным."
   ]
  },
  {
   "cell_type": "markdown",
   "id": "d0522b13",
   "metadata": {},
   "source": [
    "<div class=\"alert alert-success\">\n",
    "<b>Комментарий ревьюера v. 3 ✔️:</b> Принято!"
   ]
  },
  {
   "cell_type": "code",
   "execution_count": 30,
   "id": "012dd89c",
   "metadata": {
    "scrolled": false
   },
   "outputs": [
    {
     "name": "stdout",
     "output_type": "stream",
     "text": [
      "p-значение:0.729\n",
      "Не получилось отвергнуть нулевую гипотезу\n"
     ]
    }
   ],
   "source": [
    "# посчитаем статистическую значимость по средним чекам\n",
    "alpha = .05 # критический уровень статистической значимости\n",
    "\n",
    "results = st.mannwhitneyu(orders[orders['group']=='A']['revenue'], orders[orders['group']=='B']['revenue'])\n",
    "\n",
    "print(\"p-значение:{0:.3f}\".format(results.pvalue))\n",
    "\n",
    "if results.pvalue < alpha:\n",
    "    print(\"Отвергаем нулевую гипотезу\")\n",
    "else:\n",
    "    print(\"Не получилось отвергнуть нулевую гипотезу\") "
   ]
  },
  {
   "cell_type": "markdown",
   "id": "f84775f4",
   "metadata": {},
   "source": [
    "<div class=\"alert alert-danger\">\n",
    "<b>Комментарий ревьюера v. 2 ❌:</b> Тоже самое, тут гипотезы не уместны. Удали их везде, где находишь прирост показателей, пожалуйста."
   ]
  },
  {
   "cell_type": "code",
   "execution_count": 31,
   "id": "a208bc69",
   "metadata": {},
   "outputs": [
    {
     "name": "stdout",
     "output_type": "stream",
     "text": [
      "p-значение:0.259\n"
     ]
    }
   ],
   "source": [
    "# относительный прирост среднего группы В к группе А\n",
    "\n",
    "p_value = orders[orders['group']=='B']['revenue'].mean()/orders[orders['group']=='A']['revenue'].mean() - 1\n",
    "\n",
    "print(\"p-значение:{0:.3f}\".format(p_value))"
   ]
  },
  {
   "cell_type": "markdown",
   "id": "e55e6a02",
   "metadata": {},
   "source": [
    "<div class=\"alert alert-info\">\n",
    "    \n",
    "По \"сырым данным\" статистической значимости различия в среднем чеке отсутствует, значение p-value много больше 0,05. А относительный различие среднего чека группы В относительно группы А равен 25,9%.\n",
    "    \n",
    "</div>"
   ]
  },
  {
   "cell_type": "markdown",
   "id": "fba5b022",
   "metadata": {},
   "source": [
    "<div class=\"alert alert-warning\">\n",
    "<b>Комментарий ревьюера ⚠️:</b> Почему основные аномалии в количестве заказов на пользователя?"
   ]
  },
  {
   "cell_type": "markdown",
   "id": "a85725fa",
   "metadata": {},
   "source": [
    "<div class=\"alert alert-danger\">\n",
    "<b>Комментарий ревьюера ❌:</b> По коду ниже:\n",
    "        \n",
    "- не нужно писать границы аномалий в виде ранее полученых цифр руками в код. Вместо цифр, укажи код расчета соответствующего перцентиля.\n",
    "    \n",
    "- тут также стоит отказаться от ссылок на файл `data`\n",
    "    \n",
    "- нужно привести в порядок оформление стат тестов.\n"
   ]
  },
  {
   "cell_type": "markdown",
   "id": "557c0837",
   "metadata": {},
   "source": [
    "### Проверим гипотезы по \"очищенным\" данным"
   ]
  },
  {
   "cell_type": "code",
   "execution_count": 32,
   "id": "a706d1f7",
   "metadata": {},
   "outputs": [],
   "source": [
    "# подготовим очищенные от аномалий данные, создадим список с пользователяти, сделавшими аномальные заказы\n",
    "\n",
    "usersWithManyOrders = ordersByUsers[ordersByUsers['orders'] > np.percentile(ordersByUsers['orders'], 95)]['userId']\n",
    "\n",
    "usersWithExpensiveOrders = orders[orders['revenue'] > np.percentile(orders['revenue'], 95)]['visitorId']\n",
    "\n",
    "abnormalUsers = (\n",
    "    pd.concat([usersWithManyOrders, usersWithExpensiveOrders], axis=0)\n",
    "    .drop_duplicates()\n",
    "    .sort_values()\n",
    ")\n",
    "\n",
    "# очистим данные от аномалий и посчитаем статистическую значимость количества заказов по \"очищенным\" данным\n",
    "\n",
    "sampleAFiltered = pd.concat(\n",
    "    [\n",
    "        ordersByUsersA[\n",
    "            np.logical_not(ordersByUsersA['userId'].isin(abnormalUsers))\n",
    "        ]['orders'],\n",
    "        pd.Series(\n",
    "            0,\n",
    "            index=np.arange(\n",
    "                visitors[visitors['group']=='A']['visitors'].sum() - len(ordersByUsersA['orders'])\n",
    "            ),\n",
    "            name='orders',\n",
    "        ),\n",
    "    ],\n",
    "    axis=0,\n",
    ")\n",
    "\n",
    "sampleBFiltered = pd.concat(\n",
    "    [\n",
    "        ordersByUsersB[\n",
    "            np.logical_not(ordersByUsersB['userId'].isin(abnormalUsers))\n",
    "        ]['orders'],\n",
    "        pd.Series(\n",
    "            0,\n",
    "            index=np.arange(\n",
    "                visitors[visitors['group']=='B']['visitors'].sum() - len(ordersByUsersB['orders'])\n",
    "            ),\n",
    "            name='orders',\n",
    "        ),\n",
    "    ],\n",
    "    axis=0,\n",
    ")"
   ]
  },
  {
   "cell_type": "markdown",
   "id": "291815ba",
   "metadata": {},
   "source": [
    "<div class=\"alert alert-danger\">\n",
    "<b>Комментарий ревьюера v. 2 ❌:</b>  Писала выше, тут нужно поправить код в формировании массивов"
   ]
  },
  {
   "cell_type": "markdown",
   "id": "cb652afe",
   "metadata": {},
   "source": [
    "- нулевая гипотеза: средняя конверсия пользователей группы А и В по \"очищенным\" данным равны\n",
    "- альтернативная гипотеза: средняя конверсия пользователей группы А и В по \"очищенным\" данным различаются"
   ]
  },
  {
   "cell_type": "code",
   "execution_count": 33,
   "id": "03779813",
   "metadata": {},
   "outputs": [
    {
     "name": "stdout",
     "output_type": "stream",
     "text": [
      "p-значение:0.01217\n",
      "Отвергаем нулевую гипотезу\n"
     ]
    }
   ],
   "source": [
    "alpha = .05 # критический уровень статистической значимости\n",
    "\n",
    "p_value = st.mannwhitneyu(sampleAFiltered, sampleBFiltered)[1]\n",
    "\n",
    "print(\"p-значение:{0:.5f}\".format(p_value))\n",
    "\n",
    "if p_value < alpha:\n",
    "    print(\"Отвергаем нулевую гипотезу\")\n",
    "else:\n",
    "    print(\"Не получилось отвергнуть нулевую гипотезу\") "
   ]
  },
  {
   "cell_type": "code",
   "execution_count": 34,
   "id": "ccdc6244",
   "metadata": {},
   "outputs": [
    {
     "name": "stdout",
     "output_type": "stream",
     "text": [
      "p-значение:0.17569\n"
     ]
    }
   ],
   "source": [
    "# относительный прирост средней конверсии группы В к группе А\n",
    "\n",
    "p_value = sampleBFiltered.mean()/sampleAFiltered.mean()-1\n",
    "\n",
    "print(\"p-значение:{0:.5f}\".format(p_value))"
   ]
  },
  {
   "cell_type": "markdown",
   "id": "6bfe7663",
   "metadata": {},
   "source": [
    "<div class=\"alert alert-info\">\n",
    "    \n",
    "Статистическая значимость различия аналогична \"сырым\" данным. Группа В опережает группу А.\n",
    "    \n",
    "</div>"
   ]
  },
  {
   "cell_type": "markdown",
   "id": "5b5d7a8c",
   "metadata": {},
   "source": [
    "<div class=\"alert alert-success\">\n",
    "<b>Комментарий ревьюера ✔️:</b> По выводам - верно."
   ]
  },
  {
   "cell_type": "markdown",
   "id": "c998f83c",
   "metadata": {},
   "source": [
    "- нулевая гипотеза: средний чек пользователей группы А и В по \"очищенным\" данным равны\n",
    "- альтернативная гипотеза: средний чек пользователей группы А и В по \"очищенным\" данным различаются"
   ]
  },
  {
   "cell_type": "code",
   "execution_count": 35,
   "id": "d0aadf3e",
   "metadata": {},
   "outputs": [
    {
     "name": "stdout",
     "output_type": "stream",
     "text": [
      "p-значение:0.75287\n",
      "Не получилось отвергнуть нулевую гипотезу\n"
     ]
    }
   ],
   "source": [
    "# посчитаем статистическую значимость различия средних чеков\n",
    "\n",
    "alpha = .05 # критический уровень статистической значимости\n",
    "\n",
    "p_value = st.mannwhitneyu(\n",
    "            orders[\n",
    "                np.logical_and(\n",
    "                    orders['group'] == 'A',\n",
    "                    np.logical_not(orders['visitorId'].isin(abnormalUsers)),\n",
    "                )\n",
    "            ]['revenue'],\n",
    "            orders[\n",
    "                np.logical_and(\n",
    "                    orders['group'] == 'B',\n",
    "                    np.logical_not(orders['visitorId'].isin(abnormalUsers)),\n",
    "                )\n",
    "            ]['revenue'],\n",
    "        )[1]\n",
    "\n",
    "print(\"p-значение:{0:.5f}\".format(p_value))\n",
    "\n",
    "if p_value < alpha:\n",
    "    print(\"Отвергаем нулевую гипотезу\")\n",
    "else:\n",
    "    print(\"Не получилось отвергнуть нулевую гипотезу\") "
   ]
  },
  {
   "cell_type": "code",
   "execution_count": 36,
   "id": "34374a2d",
   "metadata": {},
   "outputs": [
    {
     "name": "stdout",
     "output_type": "stream",
     "text": [
      "p-значение:-0.022\n"
     ]
    }
   ],
   "source": [
    "# относительный прирост среднего группы В к группе А\n",
    "\n",
    "pvalue = (\n",
    "        orders[\n",
    "            np.logical_and(\n",
    "                orders['group'] == 'B',\n",
    "                np.logical_not(orders['visitorId'].isin(abnormalUsers)),\n",
    "            )\n",
    "        ]['revenue'].mean()\n",
    "        / orders[\n",
    "            np.logical_and(\n",
    "                orders['group'] == 'A',\n",
    "                np.logical_not(orders['visitorId'].isin(abnormalUsers)),\n",
    "            )\n",
    "        ]['revenue'].mean()\n",
    "        - 1\n",
    "    )\n",
    "\n",
    "print(\"p-значение:{0:.3f}\".format(pvalue))"
   ]
  },
  {
   "cell_type": "markdown",
   "id": "94bd4715",
   "metadata": {},
   "source": [
    "<div class=\"alert alert-info\">\n",
    "    \n",
    "Статистическая значимость различия среднего чека не изменилась относительно \"сырых\" данных, а прирост среднего группы В к группе А исчез, и даже снизился на 2%\n",
    "    \n",
    "</div>"
   ]
  },
  {
   "cell_type": "markdown",
   "id": "c687dea0",
   "metadata": {},
   "source": [
    "<div class=\"alert alert-success\">\n",
    "<b>Комментарий ревьюера ✔️:</b> Да. согласна с тобой."
   ]
  },
  {
   "cell_type": "markdown",
   "id": "92827005",
   "metadata": {},
   "source": [
    "### Выводы из А/В теста\n",
    "\n",
    "- после первой недели теста у группы В наблюдается опережение и прирост конверсии относительно группы А, как по \"сырым\", так и по \"очищенным\" данным\n",
    "- по сырым данным нет статистически значимого различия по среднему чеку между группами. Даже после удаления аномалий статистически значимое различие отсутствует\n",
    "- график различия конверсии между группами говорит, что результаты группы B лучше группы A: имеют тенденцию к росту, к концу теста прирост снизился вдвое относительно максимального, и зафиксировался около среднего значения\n",
    "- график различия среднего чека сильно колеблется: он указал на присутствие аномалий. Но сделать из этого графика определённые выводы нельзя\n",
    "\n",
    "### Решение по результатам теста: остановить тест, зафиксировать победу группы В. \n",
    "\n",
    "- Показатели последней по выручке и конверсии превосходят группу А и не проявляют тенденции к снижению.\n",
    "- Показатели среднего чека группы В по \"сырым\" данным также выше, и с группой А сравниваются только по \"очищенным\" данным."
   ]
  },
  {
   "cell_type": "markdown",
   "id": "f6ea9c67",
   "metadata": {},
   "source": [
    "<div class=\"alert alert-success\">\n",
    "<b>Комментарий ревьюера ✔️:</b> Хорошо. Согласна с тобой!"
   ]
  },
  {
   "cell_type": "markdown",
   "id": "29cdbf5f",
   "metadata": {},
   "source": [
    "<div style=\"border:solid green 2px; padding: 20px\">\n",
    "\n",
    "**Общий вывод по проекту**\n",
    "    \n",
    "\n",
    "Адиль, спасибо за твой проект! Проделана большая работа, ты молодец! \n",
    "\n",
    "На что стоит обратить внимание🤓:\n",
    "\n",
    "- произвести дополнительные исследования данных\n",
    "- исправить недочеты в оформлении графиков\n",
    "- проработать над оформлением стат. тестов\n",
    "- заменить константы границ аномалий на код расчета перцентиля\n",
    "    \n",
    "\n",
    "Остальные рекомендации ты найдешь в моих комментариях!\n",
    "\n",
    "Желаю удачи и жду твой проект на повторное ревью!😉"
   ]
  },
  {
   "cell_type": "markdown",
   "id": "73247b6c",
   "metadata": {},
   "source": [
    "<div style=\"border:solid green 2px; padding: 20px\">\n",
    "\n",
    "**Общий вывод по проекту**\n",
    "\n",
    "Осталось немного:\n",
    "    \n",
    "- откорректировать код для формирования массивов стат теста конверсии по сырым и по очищенным данным,\n",
    "- откорретировать формулировку гипотез, удалить лишние гипотезы.\n",
    "\n",
    "Желаю удачи и жду твой проект на повторное ревью!😉"
   ]
  },
  {
   "cell_type": "markdown",
   "id": "2c71efb4",
   "metadata": {},
   "source": [
    "<div style=\"border:solid green 2px; padding: 20px\">\n",
    "\n",
    "**Общий вывод по проекту**\n",
    "\n",
    "Адиль, желаю успехов в дальнейшем обучении! Всего хорошего!"
   ]
  },
  {
   "cell_type": "code",
   "execution_count": null,
   "id": "e4229873",
   "metadata": {},
   "outputs": [],
   "source": []
  }
 ],
 "metadata": {
  "ExecuteTimeLog": [
   {
    "duration": 117,
    "start_time": "2022-08-11T21:16:34.571Z"
   },
   {
    "duration": 1279,
    "start_time": "2022-08-12T17:20:21.944Z"
   },
   {
    "duration": 253,
    "start_time": "2022-08-12T17:20:23.225Z"
   },
   {
    "duration": 15,
    "start_time": "2022-08-12T17:20:23.480Z"
   },
   {
    "duration": 14,
    "start_time": "2022-08-12T17:20:23.497Z"
   },
   {
    "duration": 13,
    "start_time": "2022-08-12T17:20:23.513Z"
   },
   {
    "duration": 5,
    "start_time": "2022-08-12T17:20:23.527Z"
   },
   {
    "duration": 36,
    "start_time": "2022-08-12T17:20:23.534Z"
   },
   {
    "duration": 13,
    "start_time": "2022-08-12T17:20:23.572Z"
   },
   {
    "duration": 555,
    "start_time": "2022-08-12T17:20:23.587Z"
   },
   {
    "duration": 278,
    "start_time": "2022-08-12T17:20:24.146Z"
   },
   {
    "duration": 422,
    "start_time": "2022-08-12T17:20:24.426Z"
   },
   {
    "duration": 288,
    "start_time": "2022-08-12T17:20:24.850Z"
   },
   {
    "duration": 436,
    "start_time": "2022-08-12T17:20:25.139Z"
   },
   {
    "duration": 156,
    "start_time": "2022-08-12T17:20:25.577Z"
   },
   {
    "duration": 138,
    "start_time": "2022-08-12T17:20:25.735Z"
   },
   {
    "duration": 4,
    "start_time": "2022-08-12T17:20:25.875Z"
   },
   {
    "duration": 142,
    "start_time": "2022-08-12T17:20:25.880Z"
   },
   {
    "duration": 147,
    "start_time": "2022-08-12T17:20:26.024Z"
   },
   {
    "duration": 5,
    "start_time": "2022-08-12T17:20:26.172Z"
   },
   {
    "duration": 295,
    "start_time": "2022-08-12T17:20:26.178Z"
   },
   {
    "duration": 183,
    "start_time": "2022-08-12T17:20:26.475Z"
   },
   {
    "duration": 9,
    "start_time": "2022-08-12T17:20:26.671Z"
   },
   {
    "duration": 31,
    "start_time": "2022-08-12T17:20:26.682Z"
   },
   {
    "duration": 13,
    "start_time": "2022-08-12T17:20:26.714Z"
   },
   {
    "duration": 4,
    "start_time": "2022-08-12T17:23:16.814Z"
   },
   {
    "duration": 92,
    "start_time": "2022-08-12T17:29:43.654Z"
   },
   {
    "duration": 6,
    "start_time": "2022-08-12T17:30:16.703Z"
   },
   {
    "duration": 12,
    "start_time": "2022-08-12T17:49:28.749Z"
   },
   {
    "duration": 12,
    "start_time": "2022-08-12T17:50:01.428Z"
   },
   {
    "duration": 50,
    "start_time": "2022-08-12T17:50:51.395Z"
   },
   {
    "duration": 49,
    "start_time": "2022-08-12T17:50:57.319Z"
   },
   {
    "duration": 49,
    "start_time": "2022-08-12T17:51:10.918Z"
   },
   {
    "duration": 4,
    "start_time": "2022-08-12T17:56:28.190Z"
   },
   {
    "duration": 17,
    "start_time": "2022-08-12T17:57:24.816Z"
   },
   {
    "duration": 16,
    "start_time": "2022-08-12T17:57:51.717Z"
   },
   {
    "duration": 512,
    "start_time": "2022-08-12T18:07:45.545Z"
   },
   {
    "duration": 261,
    "start_time": "2022-08-12T18:08:31.750Z"
   },
   {
    "duration": 349,
    "start_time": "2022-08-12T18:08:45.237Z"
   },
   {
    "duration": 255,
    "start_time": "2022-08-12T18:09:00.018Z"
   },
   {
    "duration": 254,
    "start_time": "2022-08-12T18:09:40.002Z"
   },
   {
    "duration": 107,
    "start_time": "2022-08-12T18:10:15.996Z"
   },
   {
    "duration": 144,
    "start_time": "2022-08-12T18:11:05.655Z"
   },
   {
    "duration": 116,
    "start_time": "2022-08-12T18:11:22.079Z"
   },
   {
    "duration": 1073,
    "start_time": "2022-08-12T18:14:21.437Z"
   },
   {
    "duration": 122,
    "start_time": "2022-08-12T18:14:22.512Z"
   },
   {
    "duration": 13,
    "start_time": "2022-08-12T18:14:22.636Z"
   },
   {
    "duration": 17,
    "start_time": "2022-08-12T18:14:22.651Z"
   },
   {
    "duration": 14,
    "start_time": "2022-08-12T18:14:22.669Z"
   },
   {
    "duration": 7,
    "start_time": "2022-08-12T18:14:22.685Z"
   },
   {
    "duration": 11,
    "start_time": "2022-08-12T18:14:22.693Z"
   },
   {
    "duration": 22,
    "start_time": "2022-08-12T18:14:22.705Z"
   },
   {
    "duration": 16,
    "start_time": "2022-08-12T18:14:22.729Z"
   },
   {
    "duration": 11,
    "start_time": "2022-08-12T18:14:22.748Z"
   },
   {
    "duration": 24,
    "start_time": "2022-08-12T18:14:22.760Z"
   },
   {
    "duration": 270,
    "start_time": "2022-08-12T18:14:22.785Z"
   },
   {
    "duration": 269,
    "start_time": "2022-08-12T18:14:23.057Z"
   },
   {
    "duration": 257,
    "start_time": "2022-08-12T18:14:23.328Z"
   },
   {
    "duration": 332,
    "start_time": "2022-08-12T18:14:23.587Z"
   },
   {
    "duration": 268,
    "start_time": "2022-08-12T18:14:23.921Z"
   },
   {
    "duration": 360,
    "start_time": "2022-08-12T18:14:24.191Z"
   },
   {
    "duration": 10,
    "start_time": "2022-08-12T18:14:24.552Z"
   },
   {
    "duration": 115,
    "start_time": "2022-08-12T18:14:24.564Z"
   },
   {
    "duration": 124,
    "start_time": "2022-08-12T18:14:24.681Z"
   },
   {
    "duration": 5,
    "start_time": "2022-08-12T18:14:24.807Z"
   },
   {
    "duration": 13,
    "start_time": "2022-08-12T18:14:24.814Z"
   },
   {
    "duration": 157,
    "start_time": "2022-08-12T18:14:24.830Z"
   },
   {
    "duration": 140,
    "start_time": "2022-08-12T18:14:24.989Z"
   },
   {
    "duration": 6,
    "start_time": "2022-08-12T18:14:25.131Z"
   },
   {
    "duration": 415,
    "start_time": "2022-08-12T18:14:25.139Z"
   },
   {
    "duration": 0,
    "start_time": "2022-08-12T18:14:25.557Z"
   },
   {
    "duration": 0,
    "start_time": "2022-08-12T18:14:25.558Z"
   },
   {
    "duration": 0,
    "start_time": "2022-08-12T18:14:25.559Z"
   },
   {
    "duration": 902,
    "start_time": "2022-08-12T18:18:53.736Z"
   },
   {
    "duration": 924,
    "start_time": "2022-08-12T18:20:37.957Z"
   },
   {
    "duration": 125,
    "start_time": "2022-08-12T18:23:06.618Z"
   },
   {
    "duration": 1055,
    "start_time": "2022-08-12T18:25:59.938Z"
   },
   {
    "duration": 118,
    "start_time": "2022-08-12T18:26:00.995Z"
   },
   {
    "duration": 15,
    "start_time": "2022-08-12T18:26:01.114Z"
   },
   {
    "duration": 40,
    "start_time": "2022-08-12T18:26:01.131Z"
   },
   {
    "duration": 36,
    "start_time": "2022-08-12T18:26:01.172Z"
   },
   {
    "duration": 44,
    "start_time": "2022-08-12T18:26:01.209Z"
   },
   {
    "duration": 35,
    "start_time": "2022-08-12T18:26:01.255Z"
   },
   {
    "duration": 33,
    "start_time": "2022-08-12T18:26:01.292Z"
   },
   {
    "duration": 74,
    "start_time": "2022-08-12T18:26:01.327Z"
   },
   {
    "duration": 69,
    "start_time": "2022-08-12T18:26:01.404Z"
   },
   {
    "duration": 47,
    "start_time": "2022-08-12T18:26:01.474Z"
   },
   {
    "duration": 247,
    "start_time": "2022-08-12T18:26:01.523Z"
   },
   {
    "duration": 263,
    "start_time": "2022-08-12T18:26:01.772Z"
   },
   {
    "duration": 249,
    "start_time": "2022-08-12T18:26:02.036Z"
   },
   {
    "duration": 327,
    "start_time": "2022-08-12T18:26:02.287Z"
   },
   {
    "duration": 264,
    "start_time": "2022-08-12T18:26:02.616Z"
   },
   {
    "duration": 329,
    "start_time": "2022-08-12T18:26:02.882Z"
   },
   {
    "duration": 10,
    "start_time": "2022-08-12T18:26:03.213Z"
   },
   {
    "duration": 124,
    "start_time": "2022-08-12T18:26:03.225Z"
   },
   {
    "duration": 114,
    "start_time": "2022-08-12T18:26:03.357Z"
   },
   {
    "duration": 4,
    "start_time": "2022-08-12T18:26:03.473Z"
   },
   {
    "duration": 14,
    "start_time": "2022-08-12T18:26:03.479Z"
   },
   {
    "duration": 133,
    "start_time": "2022-08-12T18:26:03.494Z"
   },
   {
    "duration": 119,
    "start_time": "2022-08-12T18:26:03.629Z"
   },
   {
    "duration": 9,
    "start_time": "2022-08-12T18:26:03.750Z"
   },
   {
    "duration": 199,
    "start_time": "2022-08-12T18:26:03.761Z"
   },
   {
    "duration": 9,
    "start_time": "2022-08-12T18:26:03.961Z"
   },
   {
    "duration": 14,
    "start_time": "2022-08-12T18:26:03.973Z"
   },
   {
    "duration": 17,
    "start_time": "2022-08-12T18:26:03.989Z"
   },
   {
    "duration": 1148,
    "start_time": "2022-08-13T17:40:25.236Z"
   },
   {
    "duration": 319,
    "start_time": "2022-08-13T17:40:26.386Z"
   },
   {
    "duration": 13,
    "start_time": "2022-08-13T17:40:26.706Z"
   },
   {
    "duration": 22,
    "start_time": "2022-08-13T17:40:26.721Z"
   },
   {
    "duration": 21,
    "start_time": "2022-08-13T17:40:26.744Z"
   },
   {
    "duration": 9,
    "start_time": "2022-08-13T17:40:26.766Z"
   },
   {
    "duration": 13,
    "start_time": "2022-08-13T17:40:26.776Z"
   },
   {
    "duration": 14,
    "start_time": "2022-08-13T17:40:26.790Z"
   },
   {
    "duration": 24,
    "start_time": "2022-08-13T17:40:26.805Z"
   },
   {
    "duration": 10,
    "start_time": "2022-08-13T17:40:26.831Z"
   },
   {
    "duration": 23,
    "start_time": "2022-08-13T17:40:26.843Z"
   },
   {
    "duration": 241,
    "start_time": "2022-08-13T17:40:26.867Z"
   },
   {
    "duration": 329,
    "start_time": "2022-08-13T17:40:27.110Z"
   },
   {
    "duration": 216,
    "start_time": "2022-08-13T17:40:27.441Z"
   },
   {
    "duration": 354,
    "start_time": "2022-08-13T17:40:27.658Z"
   },
   {
    "duration": 237,
    "start_time": "2022-08-13T17:40:28.013Z"
   },
   {
    "duration": 342,
    "start_time": "2022-08-13T17:40:28.251Z"
   },
   {
    "duration": 9,
    "start_time": "2022-08-13T17:40:28.594Z"
   },
   {
    "duration": 107,
    "start_time": "2022-08-13T17:40:28.605Z"
   },
   {
    "duration": 104,
    "start_time": "2022-08-13T17:40:28.713Z"
   },
   {
    "duration": 3,
    "start_time": "2022-08-13T17:40:28.819Z"
   },
   {
    "duration": 18,
    "start_time": "2022-08-13T17:40:28.823Z"
   },
   {
    "duration": 147,
    "start_time": "2022-08-13T17:40:28.842Z"
   },
   {
    "duration": 185,
    "start_time": "2022-08-13T17:40:28.991Z"
   },
   {
    "duration": 4,
    "start_time": "2022-08-13T17:40:29.178Z"
   },
   {
    "duration": 134,
    "start_time": "2022-08-13T17:40:29.183Z"
   },
   {
    "duration": 8,
    "start_time": "2022-08-13T17:40:29.319Z"
   },
   {
    "duration": 13,
    "start_time": "2022-08-13T17:40:29.337Z"
   },
   {
    "duration": 10,
    "start_time": "2022-08-13T17:40:29.352Z"
   },
   {
    "duration": 300,
    "start_time": "2022-08-13T17:42:29.200Z"
   },
   {
    "duration": 291,
    "start_time": "2022-08-13T17:42:45.985Z"
   },
   {
    "duration": 250,
    "start_time": "2022-08-13T17:43:10.731Z"
   },
   {
    "duration": 257,
    "start_time": "2022-08-13T17:44:29.073Z"
   },
   {
    "duration": 218,
    "start_time": "2022-08-13T17:44:41.367Z"
   },
   {
    "duration": 205,
    "start_time": "2022-08-13T17:45:41.203Z"
   },
   {
    "duration": 203,
    "start_time": "2022-08-13T17:45:56.295Z"
   },
   {
    "duration": 201,
    "start_time": "2022-08-13T17:46:07.067Z"
   },
   {
    "duration": 210,
    "start_time": "2022-08-13T17:46:34.053Z"
   },
   {
    "duration": 217,
    "start_time": "2022-08-13T17:46:47.912Z"
   },
   {
    "duration": 248,
    "start_time": "2022-08-13T17:47:06.113Z"
   },
   {
    "duration": 251,
    "start_time": "2022-08-13T17:47:44.137Z"
   },
   {
    "duration": 318,
    "start_time": "2022-08-13T17:47:52.654Z"
   },
   {
    "duration": 257,
    "start_time": "2022-08-13T17:48:05.561Z"
   },
   {
    "duration": 286,
    "start_time": "2022-08-13T17:48:45.569Z"
   },
   {
    "duration": 258,
    "start_time": "2022-08-13T17:52:26.261Z"
   },
   {
    "duration": 295,
    "start_time": "2022-08-13T17:53:29.223Z"
   },
   {
    "duration": 337,
    "start_time": "2022-08-13T17:54:22.362Z"
   },
   {
    "duration": 324,
    "start_time": "2022-08-13T17:54:39.490Z"
   },
   {
    "duration": 307,
    "start_time": "2022-08-13T17:54:52.486Z"
   },
   {
    "duration": 418,
    "start_time": "2022-08-13T17:55:15.611Z"
   },
   {
    "duration": 319,
    "start_time": "2022-08-13T17:57:32.776Z"
   },
   {
    "duration": 485,
    "start_time": "2022-08-13T17:58:52.870Z"
   },
   {
    "duration": 451,
    "start_time": "2022-08-13T17:59:10.839Z"
   },
   {
    "duration": 309,
    "start_time": "2022-08-13T18:00:12.424Z"
   },
   {
    "duration": 417,
    "start_time": "2022-08-13T18:01:31.404Z"
   },
   {
    "duration": 155,
    "start_time": "2022-08-13T18:02:14.029Z"
   },
   {
    "duration": 133,
    "start_time": "2022-08-13T18:03:35.893Z"
   },
   {
    "duration": 140,
    "start_time": "2022-08-13T18:05:38.862Z"
   },
   {
    "duration": 127,
    "start_time": "2022-08-13T18:06:51.083Z"
   },
   {
    "duration": 197,
    "start_time": "2022-08-13T18:08:15.511Z"
   },
   {
    "duration": 155,
    "start_time": "2022-08-13T18:10:46.821Z"
   },
   {
    "duration": 140,
    "start_time": "2022-08-13T18:11:02.378Z"
   },
   {
    "duration": 1068,
    "start_time": "2022-08-13T18:11:22.381Z"
   },
   {
    "duration": 128,
    "start_time": "2022-08-13T18:11:23.452Z"
   },
   {
    "duration": 16,
    "start_time": "2022-08-13T18:11:23.582Z"
   },
   {
    "duration": 14,
    "start_time": "2022-08-13T18:11:23.600Z"
   },
   {
    "duration": 12,
    "start_time": "2022-08-13T18:11:23.615Z"
   },
   {
    "duration": 3,
    "start_time": "2022-08-13T18:11:23.639Z"
   },
   {
    "duration": 21,
    "start_time": "2022-08-13T18:11:23.644Z"
   },
   {
    "duration": 10,
    "start_time": "2022-08-13T18:11:23.667Z"
   },
   {
    "duration": 30,
    "start_time": "2022-08-13T18:11:23.679Z"
   },
   {
    "duration": 15,
    "start_time": "2022-08-13T18:11:23.714Z"
   },
   {
    "duration": 19,
    "start_time": "2022-08-13T18:11:23.731Z"
   },
   {
    "duration": 270,
    "start_time": "2022-08-13T18:11:23.751Z"
   },
   {
    "duration": 287,
    "start_time": "2022-08-13T18:11:24.022Z"
   },
   {
    "duration": 302,
    "start_time": "2022-08-13T18:11:24.311Z"
   },
   {
    "duration": 444,
    "start_time": "2022-08-13T18:11:24.615Z"
   },
   {
    "duration": 296,
    "start_time": "2022-08-13T18:11:25.062Z"
   },
   {
    "duration": 380,
    "start_time": "2022-08-13T18:11:25.360Z"
   },
   {
    "duration": 18,
    "start_time": "2022-08-13T18:11:25.742Z"
   },
   {
    "duration": 132,
    "start_time": "2022-08-13T18:11:25.762Z"
   },
   {
    "duration": 123,
    "start_time": "2022-08-13T18:11:25.895Z"
   },
   {
    "duration": 5,
    "start_time": "2022-08-13T18:11:26.019Z"
   },
   {
    "duration": 18,
    "start_time": "2022-08-13T18:11:26.027Z"
   },
   {
    "duration": 170,
    "start_time": "2022-08-13T18:11:26.047Z"
   },
   {
    "duration": 158,
    "start_time": "2022-08-13T18:11:26.219Z"
   },
   {
    "duration": 4,
    "start_time": "2022-08-13T18:11:26.378Z"
   },
   {
    "duration": 252,
    "start_time": "2022-08-13T18:11:26.383Z"
   },
   {
    "duration": 16,
    "start_time": "2022-08-13T18:11:26.640Z"
   },
   {
    "duration": 35,
    "start_time": "2022-08-13T18:11:26.659Z"
   },
   {
    "duration": 25,
    "start_time": "2022-08-13T18:11:26.697Z"
   },
   {
    "duration": 1023,
    "start_time": "2022-08-13T18:35:21.627Z"
   },
   {
    "duration": 159,
    "start_time": "2022-08-13T18:35:22.652Z"
   },
   {
    "duration": 2,
    "start_time": "2022-08-13T18:35:22.812Z"
   },
   {
    "duration": 18,
    "start_time": "2022-08-13T18:35:22.816Z"
   },
   {
    "duration": 12,
    "start_time": "2022-08-13T18:35:22.836Z"
   },
   {
    "duration": 11,
    "start_time": "2022-08-13T18:35:22.849Z"
   },
   {
    "duration": 7,
    "start_time": "2022-08-13T18:35:22.861Z"
   },
   {
    "duration": 7,
    "start_time": "2022-08-13T18:35:22.869Z"
   },
   {
    "duration": 8,
    "start_time": "2022-08-13T18:35:22.877Z"
   },
   {
    "duration": 13,
    "start_time": "2022-08-13T18:35:22.886Z"
   },
   {
    "duration": 9,
    "start_time": "2022-08-13T18:35:22.901Z"
   },
   {
    "duration": 34,
    "start_time": "2022-08-13T18:35:22.911Z"
   },
   {
    "duration": 253,
    "start_time": "2022-08-13T18:35:22.947Z"
   },
   {
    "duration": 274,
    "start_time": "2022-08-13T18:35:23.203Z"
   },
   {
    "duration": 279,
    "start_time": "2022-08-13T18:35:23.478Z"
   },
   {
    "duration": 367,
    "start_time": "2022-08-13T18:35:23.759Z"
   },
   {
    "duration": 289,
    "start_time": "2022-08-13T18:35:24.127Z"
   },
   {
    "duration": 382,
    "start_time": "2022-08-13T18:35:24.417Z"
   },
   {
    "duration": 10,
    "start_time": "2022-08-13T18:35:24.800Z"
   },
   {
    "duration": 129,
    "start_time": "2022-08-13T18:35:24.811Z"
   },
   {
    "duration": 112,
    "start_time": "2022-08-13T18:35:24.942Z"
   },
   {
    "duration": 4,
    "start_time": "2022-08-13T18:35:25.055Z"
   },
   {
    "duration": 11,
    "start_time": "2022-08-13T18:35:25.060Z"
   },
   {
    "duration": 136,
    "start_time": "2022-08-13T18:35:25.072Z"
   },
   {
    "duration": 134,
    "start_time": "2022-08-13T18:35:25.209Z"
   },
   {
    "duration": 7,
    "start_time": "2022-08-13T18:35:25.345Z"
   },
   {
    "duration": 193,
    "start_time": "2022-08-13T18:35:25.353Z"
   },
   {
    "duration": 9,
    "start_time": "2022-08-13T18:35:25.547Z"
   },
   {
    "duration": 13,
    "start_time": "2022-08-13T18:35:25.557Z"
   },
   {
    "duration": 10,
    "start_time": "2022-08-13T18:35:25.572Z"
   },
   {
    "duration": 1530,
    "start_time": "2022-08-14T04:18:52.660Z"
   },
   {
    "duration": 395,
    "start_time": "2022-08-14T04:18:54.193Z"
   },
   {
    "duration": 3,
    "start_time": "2022-08-14T04:18:54.590Z"
   },
   {
    "duration": 34,
    "start_time": "2022-08-14T04:18:54.595Z"
   },
   {
    "duration": 47,
    "start_time": "2022-08-14T04:18:54.631Z"
   },
   {
    "duration": 12,
    "start_time": "2022-08-14T04:18:54.679Z"
   },
   {
    "duration": 4,
    "start_time": "2022-08-14T04:18:54.692Z"
   },
   {
    "duration": 8,
    "start_time": "2022-08-14T04:18:54.697Z"
   },
   {
    "duration": 57,
    "start_time": "2022-08-14T04:18:54.707Z"
   },
   {
    "duration": 18,
    "start_time": "2022-08-14T04:18:54.767Z"
   },
   {
    "duration": 10,
    "start_time": "2022-08-14T04:18:54.787Z"
   },
   {
    "duration": 25,
    "start_time": "2022-08-14T04:18:54.798Z"
   },
   {
    "duration": 339,
    "start_time": "2022-08-14T04:18:54.824Z"
   },
   {
    "duration": 323,
    "start_time": "2022-08-14T04:18:55.171Z"
   },
   {
    "duration": 305,
    "start_time": "2022-08-14T04:18:55.495Z"
   },
   {
    "duration": 458,
    "start_time": "2022-08-14T04:18:55.801Z"
   },
   {
    "duration": 331,
    "start_time": "2022-08-14T04:18:56.261Z"
   },
   {
    "duration": 461,
    "start_time": "2022-08-14T04:18:56.593Z"
   },
   {
    "duration": 13,
    "start_time": "2022-08-14T04:18:57.056Z"
   },
   {
    "duration": 154,
    "start_time": "2022-08-14T04:18:57.071Z"
   },
   {
    "duration": 127,
    "start_time": "2022-08-14T04:18:57.229Z"
   },
   {
    "duration": 5,
    "start_time": "2022-08-14T04:18:57.357Z"
   },
   {
    "duration": 12,
    "start_time": "2022-08-14T04:18:57.363Z"
   },
   {
    "duration": 175,
    "start_time": "2022-08-14T04:18:57.377Z"
   },
   {
    "duration": 134,
    "start_time": "2022-08-14T04:18:57.554Z"
   },
   {
    "duration": 4,
    "start_time": "2022-08-14T04:18:57.690Z"
   },
   {
    "duration": 238,
    "start_time": "2022-08-14T04:18:57.695Z"
   },
   {
    "duration": 18,
    "start_time": "2022-08-14T04:18:57.938Z"
   },
   {
    "duration": 50,
    "start_time": "2022-08-14T04:18:57.958Z"
   },
   {
    "duration": 1,
    "start_time": "2022-08-14T04:18:58.009Z"
   },
   {
    "duration": 127,
    "start_time": "2022-08-14T04:20:04.797Z"
   },
   {
    "duration": 20,
    "start_time": "2022-08-14T04:21:36.334Z"
   },
   {
    "duration": 35,
    "start_time": "2022-08-14T04:22:15.410Z"
   },
   {
    "duration": 67,
    "start_time": "2022-08-14T04:22:35.851Z"
   },
   {
    "duration": 66,
    "start_time": "2022-08-14T04:23:46.055Z"
   },
   {
    "duration": 98,
    "start_time": "2022-08-14T04:24:53.605Z"
   },
   {
    "duration": 90,
    "start_time": "2022-08-14T04:25:36.791Z"
   },
   {
    "duration": 48,
    "start_time": "2022-08-14T04:25:59.259Z"
   },
   {
    "duration": 116,
    "start_time": "2022-08-14T05:02:42.862Z"
   },
   {
    "duration": 105,
    "start_time": "2022-08-14T05:03:56.585Z"
   },
   {
    "duration": 108,
    "start_time": "2022-08-14T05:04:52.567Z"
   },
   {
    "duration": 117,
    "start_time": "2022-08-14T05:11:33.371Z"
   },
   {
    "duration": 254,
    "start_time": "2022-08-14T05:13:11.342Z"
   },
   {
    "duration": 170,
    "start_time": "2022-08-14T05:13:38.482Z"
   },
   {
    "duration": 10,
    "start_time": "2022-08-14T05:41:51.324Z"
   },
   {
    "duration": 15,
    "start_time": "2022-08-14T05:42:10.714Z"
   },
   {
    "duration": 67,
    "start_time": "2022-08-14T05:45:30.724Z"
   },
   {
    "duration": 63,
    "start_time": "2022-08-14T05:48:44.102Z"
   },
   {
    "duration": 3,
    "start_time": "2022-08-14T05:49:27.786Z"
   },
   {
    "duration": 71,
    "start_time": "2022-08-14T05:49:32.705Z"
   },
   {
    "duration": 5,
    "start_time": "2022-08-14T05:49:43.232Z"
   },
   {
    "duration": 6,
    "start_time": "2022-08-14T05:54:59.924Z"
   },
   {
    "duration": 7,
    "start_time": "2022-08-14T05:57:15.828Z"
   },
   {
    "duration": 4,
    "start_time": "2022-08-14T06:01:23.384Z"
   },
   {
    "duration": 968,
    "start_time": "2022-08-14T06:02:24.162Z"
   },
   {
    "duration": 132,
    "start_time": "2022-08-14T06:02:25.132Z"
   },
   {
    "duration": 4,
    "start_time": "2022-08-14T06:02:25.266Z"
   },
   {
    "duration": 17,
    "start_time": "2022-08-14T06:02:25.272Z"
   },
   {
    "duration": 14,
    "start_time": "2022-08-14T06:02:25.291Z"
   },
   {
    "duration": 22,
    "start_time": "2022-08-14T06:02:25.307Z"
   },
   {
    "duration": 7,
    "start_time": "2022-08-14T06:02:25.331Z"
   },
   {
    "duration": 5,
    "start_time": "2022-08-14T06:02:25.340Z"
   },
   {
    "duration": 10,
    "start_time": "2022-08-14T06:02:25.347Z"
   },
   {
    "duration": 16,
    "start_time": "2022-08-14T06:02:25.360Z"
   },
   {
    "duration": 11,
    "start_time": "2022-08-14T06:02:25.377Z"
   },
   {
    "duration": 41,
    "start_time": "2022-08-14T06:02:25.389Z"
   },
   {
    "duration": 277,
    "start_time": "2022-08-14T06:02:25.433Z"
   },
   {
    "duration": 282,
    "start_time": "2022-08-14T06:02:25.722Z"
   },
   {
    "duration": 285,
    "start_time": "2022-08-14T06:02:26.006Z"
   },
   {
    "duration": 425,
    "start_time": "2022-08-14T06:02:26.292Z"
   },
   {
    "duration": 311,
    "start_time": "2022-08-14T06:02:26.719Z"
   },
   {
    "duration": 398,
    "start_time": "2022-08-14T06:02:27.031Z"
   },
   {
    "duration": 13,
    "start_time": "2022-08-14T06:02:27.431Z"
   },
   {
    "duration": 136,
    "start_time": "2022-08-14T06:02:27.446Z"
   },
   {
    "duration": 125,
    "start_time": "2022-08-14T06:02:27.584Z"
   },
   {
    "duration": 88,
    "start_time": "2022-08-14T06:02:27.710Z"
   },
   {
    "duration": 0,
    "start_time": "2022-08-14T06:02:27.800Z"
   },
   {
    "duration": 0,
    "start_time": "2022-08-14T06:02:27.801Z"
   },
   {
    "duration": 0,
    "start_time": "2022-08-14T06:02:27.802Z"
   },
   {
    "duration": 0,
    "start_time": "2022-08-14T06:02:27.804Z"
   },
   {
    "duration": 0,
    "start_time": "2022-08-14T06:02:27.805Z"
   },
   {
    "duration": 0,
    "start_time": "2022-08-14T06:02:27.807Z"
   },
   {
    "duration": 0,
    "start_time": "2022-08-14T06:02:27.808Z"
   },
   {
    "duration": 0,
    "start_time": "2022-08-14T06:02:27.809Z"
   },
   {
    "duration": 0,
    "start_time": "2022-08-14T06:02:27.810Z"
   },
   {
    "duration": 0,
    "start_time": "2022-08-14T06:02:27.813Z"
   },
   {
    "duration": 0,
    "start_time": "2022-08-14T06:02:27.814Z"
   },
   {
    "duration": 0,
    "start_time": "2022-08-14T06:02:27.820Z"
   },
   {
    "duration": 0,
    "start_time": "2022-08-14T06:02:27.820Z"
   },
   {
    "duration": 1043,
    "start_time": "2022-08-14T06:03:16.353Z"
   },
   {
    "duration": 153,
    "start_time": "2022-08-14T06:03:17.398Z"
   },
   {
    "duration": 3,
    "start_time": "2022-08-14T06:03:17.552Z"
   },
   {
    "duration": 19,
    "start_time": "2022-08-14T06:03:17.558Z"
   },
   {
    "duration": 13,
    "start_time": "2022-08-14T06:03:17.579Z"
   },
   {
    "duration": 27,
    "start_time": "2022-08-14T06:03:17.594Z"
   },
   {
    "duration": 9,
    "start_time": "2022-08-14T06:03:17.631Z"
   },
   {
    "duration": 7,
    "start_time": "2022-08-14T06:03:17.641Z"
   },
   {
    "duration": 7,
    "start_time": "2022-08-14T06:03:17.650Z"
   },
   {
    "duration": 15,
    "start_time": "2022-08-14T06:03:17.660Z"
   },
   {
    "duration": 10,
    "start_time": "2022-08-14T06:03:17.677Z"
   },
   {
    "duration": 27,
    "start_time": "2022-08-14T06:03:17.689Z"
   },
   {
    "duration": 262,
    "start_time": "2022-08-14T06:03:17.719Z"
   },
   {
    "duration": 298,
    "start_time": "2022-08-14T06:03:17.982Z"
   },
   {
    "duration": 302,
    "start_time": "2022-08-14T06:03:18.282Z"
   },
   {
    "duration": 440,
    "start_time": "2022-08-14T06:03:18.585Z"
   },
   {
    "duration": 307,
    "start_time": "2022-08-14T06:03:19.027Z"
   },
   {
    "duration": 411,
    "start_time": "2022-08-14T06:03:19.335Z"
   },
   {
    "duration": 13,
    "start_time": "2022-08-14T06:03:19.747Z"
   },
   {
    "duration": 141,
    "start_time": "2022-08-14T06:03:19.762Z"
   },
   {
    "duration": 143,
    "start_time": "2022-08-14T06:03:19.905Z"
   },
   {
    "duration": 5,
    "start_time": "2022-08-14T06:03:20.050Z"
   },
   {
    "duration": 14,
    "start_time": "2022-08-14T06:03:20.056Z"
   },
   {
    "duration": 164,
    "start_time": "2022-08-14T06:03:20.072Z"
   },
   {
    "duration": 139,
    "start_time": "2022-08-14T06:03:20.237Z"
   },
   {
    "duration": 4,
    "start_time": "2022-08-14T06:03:20.378Z"
   },
   {
    "duration": 238,
    "start_time": "2022-08-14T06:03:20.383Z"
   },
   {
    "duration": 8,
    "start_time": "2022-08-14T06:03:20.624Z"
   },
   {
    "duration": 25,
    "start_time": "2022-08-14T06:03:20.634Z"
   },
   {
    "duration": 26,
    "start_time": "2022-08-14T06:03:20.661Z"
   },
   {
    "duration": 184,
    "start_time": "2022-08-14T06:03:20.688Z"
   },
   {
    "duration": 0,
    "start_time": "2022-08-14T06:03:20.874Z"
   },
   {
    "duration": 0,
    "start_time": "2022-08-14T06:03:20.874Z"
   },
   {
    "duration": 0,
    "start_time": "2022-08-14T06:03:20.875Z"
   },
   {
    "duration": 0,
    "start_time": "2022-08-14T06:03:20.876Z"
   },
   {
    "duration": 8,
    "start_time": "2022-08-14T06:06:50.468Z"
   },
   {
    "duration": 8,
    "start_time": "2022-08-14T06:06:52.761Z"
   },
   {
    "duration": 9,
    "start_time": "2022-08-14T06:07:50.634Z"
   },
   {
    "duration": 1301,
    "start_time": "2022-08-15T11:16:10.949Z"
   },
   {
    "duration": 269,
    "start_time": "2022-08-15T11:16:12.252Z"
   },
   {
    "duration": 4,
    "start_time": "2022-08-15T11:16:12.522Z"
   },
   {
    "duration": 25,
    "start_time": "2022-08-15T11:16:12.529Z"
   },
   {
    "duration": 14,
    "start_time": "2022-08-15T11:16:12.556Z"
   },
   {
    "duration": 17,
    "start_time": "2022-08-15T11:16:12.571Z"
   },
   {
    "duration": 4,
    "start_time": "2022-08-15T11:16:12.589Z"
   },
   {
    "duration": 8,
    "start_time": "2022-08-15T11:16:12.595Z"
   },
   {
    "duration": 9,
    "start_time": "2022-08-15T11:16:12.605Z"
   },
   {
    "duration": 23,
    "start_time": "2022-08-15T11:16:12.617Z"
   },
   {
    "duration": 19,
    "start_time": "2022-08-15T11:16:12.642Z"
   },
   {
    "duration": 41,
    "start_time": "2022-08-15T11:16:12.663Z"
   },
   {
    "duration": 346,
    "start_time": "2022-08-15T11:16:12.706Z"
   },
   {
    "duration": 320,
    "start_time": "2022-08-15T11:16:13.054Z"
   },
   {
    "duration": 303,
    "start_time": "2022-08-15T11:16:13.376Z"
   },
   {
    "duration": 470,
    "start_time": "2022-08-15T11:16:13.681Z"
   },
   {
    "duration": 344,
    "start_time": "2022-08-15T11:16:14.153Z"
   },
   {
    "duration": 444,
    "start_time": "2022-08-15T11:16:14.498Z"
   },
   {
    "duration": 19,
    "start_time": "2022-08-15T11:16:14.945Z"
   },
   {
    "duration": 152,
    "start_time": "2022-08-15T11:16:14.966Z"
   },
   {
    "duration": 143,
    "start_time": "2022-08-15T11:16:15.120Z"
   },
   {
    "duration": 5,
    "start_time": "2022-08-15T11:16:15.265Z"
   },
   {
    "duration": 22,
    "start_time": "2022-08-15T11:16:15.272Z"
   },
   {
    "duration": 166,
    "start_time": "2022-08-15T11:16:15.296Z"
   },
   {
    "duration": 167,
    "start_time": "2022-08-15T11:16:15.464Z"
   },
   {
    "duration": 6,
    "start_time": "2022-08-15T11:16:15.632Z"
   },
   {
    "duration": 281,
    "start_time": "2022-08-15T11:16:15.640Z"
   },
   {
    "duration": 7,
    "start_time": "2022-08-15T11:16:15.924Z"
   },
   {
    "duration": 5,
    "start_time": "2022-08-15T11:16:15.932Z"
   },
   {
    "duration": 15,
    "start_time": "2022-08-15T11:16:15.939Z"
   },
   {
    "duration": 30,
    "start_time": "2022-08-15T11:16:15.956Z"
   },
   {
    "duration": 179,
    "start_time": "2022-08-15T11:16:15.989Z"
   },
   {
    "duration": 0,
    "start_time": "2022-08-15T11:16:16.170Z"
   },
   {
    "duration": 0,
    "start_time": "2022-08-15T11:16:16.172Z"
   },
   {
    "duration": 0,
    "start_time": "2022-08-15T11:16:16.174Z"
   },
   {
    "duration": 0,
    "start_time": "2022-08-15T11:16:16.175Z"
   },
   {
    "duration": 12,
    "start_time": "2022-08-15T11:17:52.789Z"
   },
   {
    "duration": 14,
    "start_time": "2022-08-15T11:23:45.577Z"
   },
   {
    "duration": 11,
    "start_time": "2022-08-15T11:23:58.085Z"
   },
   {
    "duration": 8,
    "start_time": "2022-08-15T11:27:10.630Z"
   },
   {
    "duration": 1082,
    "start_time": "2022-08-15T11:30:32.052Z"
   },
   {
    "duration": 143,
    "start_time": "2022-08-15T11:30:33.136Z"
   },
   {
    "duration": 3,
    "start_time": "2022-08-15T11:30:33.281Z"
   },
   {
    "duration": 39,
    "start_time": "2022-08-15T11:30:33.286Z"
   },
   {
    "duration": 34,
    "start_time": "2022-08-15T11:30:33.327Z"
   },
   {
    "duration": 18,
    "start_time": "2022-08-15T11:30:33.362Z"
   },
   {
    "duration": 24,
    "start_time": "2022-08-15T11:30:33.381Z"
   },
   {
    "duration": 40,
    "start_time": "2022-08-15T11:30:33.407Z"
   },
   {
    "duration": 27,
    "start_time": "2022-08-15T11:30:33.449Z"
   },
   {
    "duration": 25,
    "start_time": "2022-08-15T11:30:33.479Z"
   },
   {
    "duration": 44,
    "start_time": "2022-08-15T11:30:33.507Z"
   },
   {
    "duration": 32,
    "start_time": "2022-08-15T11:30:33.553Z"
   },
   {
    "duration": 285,
    "start_time": "2022-08-15T11:30:33.587Z"
   },
   {
    "duration": 357,
    "start_time": "2022-08-15T11:30:33.873Z"
   },
   {
    "duration": 296,
    "start_time": "2022-08-15T11:30:34.231Z"
   },
   {
    "duration": 377,
    "start_time": "2022-08-15T11:30:34.529Z"
   },
   {
    "duration": 325,
    "start_time": "2022-08-15T11:30:34.908Z"
   },
   {
    "duration": 394,
    "start_time": "2022-08-15T11:30:35.235Z"
   },
   {
    "duration": 10,
    "start_time": "2022-08-15T11:30:35.630Z"
   },
   {
    "duration": 129,
    "start_time": "2022-08-15T11:30:35.642Z"
   },
   {
    "duration": 130,
    "start_time": "2022-08-15T11:30:35.773Z"
   },
   {
    "duration": 5,
    "start_time": "2022-08-15T11:30:35.905Z"
   },
   {
    "duration": 19,
    "start_time": "2022-08-15T11:30:35.912Z"
   },
   {
    "duration": 171,
    "start_time": "2022-08-15T11:30:35.932Z"
   },
   {
    "duration": 171,
    "start_time": "2022-08-15T11:30:36.105Z"
   },
   {
    "duration": 10,
    "start_time": "2022-08-15T11:30:36.278Z"
   },
   {
    "duration": 260,
    "start_time": "2022-08-15T11:30:36.290Z"
   },
   {
    "duration": 7,
    "start_time": "2022-08-15T11:30:36.553Z"
   },
   {
    "duration": 21,
    "start_time": "2022-08-15T11:30:36.562Z"
   },
   {
    "duration": 21,
    "start_time": "2022-08-15T11:30:36.586Z"
   },
   {
    "duration": 7,
    "start_time": "2022-08-15T11:30:36.609Z"
   },
   {
    "duration": 18,
    "start_time": "2022-08-15T11:30:36.618Z"
   },
   {
    "duration": 8,
    "start_time": "2022-08-15T11:30:36.638Z"
   },
   {
    "duration": 12,
    "start_time": "2022-08-15T11:30:36.647Z"
   },
   {
    "duration": 27,
    "start_time": "2022-08-15T11:30:36.660Z"
   },
   {
    "duration": 72,
    "start_time": "2022-08-15T11:30:36.688Z"
   },
   {
    "duration": 71,
    "start_time": "2022-08-15T11:31:53.172Z"
   },
   {
    "duration": 99,
    "start_time": "2022-08-15T11:32:45.382Z"
   },
   {
    "duration": 101,
    "start_time": "2022-08-15T11:36:21.850Z"
   },
   {
    "duration": 15,
    "start_time": "2022-08-15T11:37:08.582Z"
   },
   {
    "duration": 11,
    "start_time": "2022-08-15T11:39:53.870Z"
   },
   {
    "duration": 6,
    "start_time": "2022-08-15T11:40:36.981Z"
   },
   {
    "duration": 14,
    "start_time": "2022-08-15T11:47:18.255Z"
   },
   {
    "duration": 8,
    "start_time": "2022-08-15T11:47:25.825Z"
   },
   {
    "duration": 68,
    "start_time": "2022-08-15T12:09:48.523Z"
   },
   {
    "duration": 81,
    "start_time": "2022-08-15T12:09:58.433Z"
   },
   {
    "duration": 82,
    "start_time": "2022-08-15T12:13:57.231Z"
   },
   {
    "duration": 17,
    "start_time": "2022-08-15T12:20:10.707Z"
   },
   {
    "duration": 7,
    "start_time": "2022-08-15T12:22:11.629Z"
   },
   {
    "duration": 8,
    "start_time": "2022-08-15T12:22:22.465Z"
   },
   {
    "duration": 1071,
    "start_time": "2022-08-15T12:22:49.967Z"
   },
   {
    "duration": 139,
    "start_time": "2022-08-15T12:22:51.040Z"
   },
   {
    "duration": 3,
    "start_time": "2022-08-15T12:22:51.180Z"
   },
   {
    "duration": 48,
    "start_time": "2022-08-15T12:22:51.186Z"
   },
   {
    "duration": 15,
    "start_time": "2022-08-15T12:22:51.236Z"
   },
   {
    "duration": 13,
    "start_time": "2022-08-15T12:22:51.253Z"
   },
   {
    "duration": 6,
    "start_time": "2022-08-15T12:22:51.268Z"
   },
   {
    "duration": 9,
    "start_time": "2022-08-15T12:22:51.275Z"
   },
   {
    "duration": 40,
    "start_time": "2022-08-15T12:22:51.285Z"
   },
   {
    "duration": 15,
    "start_time": "2022-08-15T12:22:51.328Z"
   },
   {
    "duration": 12,
    "start_time": "2022-08-15T12:22:51.345Z"
   },
   {
    "duration": 11,
    "start_time": "2022-08-15T12:22:51.359Z"
   },
   {
    "duration": 278,
    "start_time": "2022-08-15T12:22:51.371Z"
   },
   {
    "duration": 322,
    "start_time": "2022-08-15T12:22:51.650Z"
   },
   {
    "duration": 312,
    "start_time": "2022-08-15T12:22:51.973Z"
   },
   {
    "duration": 411,
    "start_time": "2022-08-15T12:22:52.291Z"
   },
   {
    "duration": 319,
    "start_time": "2022-08-15T12:22:52.710Z"
   },
   {
    "duration": 380,
    "start_time": "2022-08-15T12:22:53.031Z"
   },
   {
    "duration": 11,
    "start_time": "2022-08-15T12:22:53.414Z"
   },
   {
    "duration": 136,
    "start_time": "2022-08-15T12:22:53.426Z"
   },
   {
    "duration": 143,
    "start_time": "2022-08-15T12:22:53.563Z"
   },
   {
    "duration": 5,
    "start_time": "2022-08-15T12:22:53.708Z"
   },
   {
    "duration": 29,
    "start_time": "2022-08-15T12:22:53.714Z"
   },
   {
    "duration": 185,
    "start_time": "2022-08-15T12:22:53.745Z"
   },
   {
    "duration": 147,
    "start_time": "2022-08-15T12:22:53.932Z"
   },
   {
    "duration": 13,
    "start_time": "2022-08-15T12:22:54.080Z"
   },
   {
    "duration": 226,
    "start_time": "2022-08-15T12:22:54.094Z"
   },
   {
    "duration": 6,
    "start_time": "2022-08-15T12:22:54.323Z"
   },
   {
    "duration": 28,
    "start_time": "2022-08-15T12:22:54.331Z"
   },
   {
    "duration": 61,
    "start_time": "2022-08-15T12:22:54.361Z"
   },
   {
    "duration": 18,
    "start_time": "2022-08-15T12:22:54.424Z"
   },
   {
    "duration": 22,
    "start_time": "2022-08-15T12:22:54.443Z"
   },
   {
    "duration": 49,
    "start_time": "2022-08-15T12:22:54.466Z"
   },
   {
    "duration": 19,
    "start_time": "2022-08-15T12:22:54.517Z"
   },
   {
    "duration": 19,
    "start_time": "2022-08-15T12:22:54.538Z"
   },
   {
    "duration": 10,
    "start_time": "2022-08-15T12:22:54.559Z"
   },
   {
    "duration": 117,
    "start_time": "2022-08-15T14:01:05.458Z"
   },
   {
    "duration": 51,
    "start_time": "2022-08-15T14:35:30.791Z"
   },
   {
    "duration": 1379,
    "start_time": "2022-08-15T14:39:02.451Z"
   },
   {
    "duration": 284,
    "start_time": "2022-08-15T14:39:03.832Z"
   },
   {
    "duration": 4,
    "start_time": "2022-08-15T14:39:04.117Z"
   },
   {
    "duration": 19,
    "start_time": "2022-08-15T14:39:04.123Z"
   },
   {
    "duration": 15,
    "start_time": "2022-08-15T14:39:04.143Z"
   },
   {
    "duration": 14,
    "start_time": "2022-08-15T14:39:04.160Z"
   },
   {
    "duration": 3,
    "start_time": "2022-08-15T14:39:04.176Z"
   },
   {
    "duration": 7,
    "start_time": "2022-08-15T14:39:04.181Z"
   },
   {
    "duration": 7,
    "start_time": "2022-08-15T14:39:04.190Z"
   },
   {
    "duration": 15,
    "start_time": "2022-08-15T14:39:04.200Z"
   },
   {
    "duration": 12,
    "start_time": "2022-08-15T14:39:04.217Z"
   },
   {
    "duration": 41,
    "start_time": "2022-08-15T14:39:04.231Z"
   },
   {
    "duration": 286,
    "start_time": "2022-08-15T14:39:04.274Z"
   },
   {
    "duration": 329,
    "start_time": "2022-08-15T14:39:04.562Z"
   },
   {
    "duration": 331,
    "start_time": "2022-08-15T14:39:04.893Z"
   },
   {
    "duration": 504,
    "start_time": "2022-08-15T14:39:05.226Z"
   },
   {
    "duration": 339,
    "start_time": "2022-08-15T14:39:05.732Z"
   },
   {
    "duration": 434,
    "start_time": "2022-08-15T14:39:06.073Z"
   },
   {
    "duration": 18,
    "start_time": "2022-08-15T14:39:06.509Z"
   },
   {
    "duration": 197,
    "start_time": "2022-08-15T14:39:06.530Z"
   },
   {
    "duration": 170,
    "start_time": "2022-08-15T14:39:06.728Z"
   },
   {
    "duration": 5,
    "start_time": "2022-08-15T14:39:06.899Z"
   },
   {
    "duration": 13,
    "start_time": "2022-08-15T14:39:06.905Z"
   },
   {
    "duration": 173,
    "start_time": "2022-08-15T14:39:06.920Z"
   },
   {
    "duration": 226,
    "start_time": "2022-08-15T14:39:07.094Z"
   },
   {
    "duration": 5,
    "start_time": "2022-08-15T14:39:07.322Z"
   },
   {
    "duration": 158,
    "start_time": "2022-08-15T14:39:07.329Z"
   },
   {
    "duration": 26,
    "start_time": "2022-08-15T14:39:07.490Z"
   },
   {
    "duration": 5,
    "start_time": "2022-08-15T14:39:07.518Z"
   },
   {
    "duration": 17,
    "start_time": "2022-08-15T14:39:07.525Z"
   },
   {
    "duration": 29,
    "start_time": "2022-08-15T14:39:07.544Z"
   },
   {
    "duration": 15,
    "start_time": "2022-08-15T14:39:07.575Z"
   },
   {
    "duration": 22,
    "start_time": "2022-08-15T14:39:07.592Z"
   },
   {
    "duration": 6,
    "start_time": "2022-08-15T14:39:07.616Z"
   },
   {
    "duration": 44,
    "start_time": "2022-08-15T14:39:07.624Z"
   },
   {
    "duration": 9,
    "start_time": "2022-08-15T14:39:07.670Z"
   },
   {
    "duration": 1110,
    "start_time": "2022-08-15T14:44:23.012Z"
   },
   {
    "duration": 143,
    "start_time": "2022-08-15T14:44:24.124Z"
   },
   {
    "duration": 3,
    "start_time": "2022-08-15T14:44:24.269Z"
   },
   {
    "duration": 18,
    "start_time": "2022-08-15T14:44:24.274Z"
   },
   {
    "duration": 15,
    "start_time": "2022-08-15T14:44:24.294Z"
   },
   {
    "duration": 15,
    "start_time": "2022-08-15T14:44:24.310Z"
   },
   {
    "duration": 7,
    "start_time": "2022-08-15T14:44:24.326Z"
   },
   {
    "duration": 35,
    "start_time": "2022-08-15T14:44:24.335Z"
   },
   {
    "duration": 10,
    "start_time": "2022-08-15T14:44:24.371Z"
   },
   {
    "duration": 17,
    "start_time": "2022-08-15T14:44:24.384Z"
   },
   {
    "duration": 13,
    "start_time": "2022-08-15T14:44:24.402Z"
   },
   {
    "duration": 14,
    "start_time": "2022-08-15T14:44:24.417Z"
   },
   {
    "duration": 315,
    "start_time": "2022-08-15T14:44:24.433Z"
   },
   {
    "duration": 332,
    "start_time": "2022-08-15T14:44:24.750Z"
   },
   {
    "duration": 341,
    "start_time": "2022-08-15T14:44:25.084Z"
   },
   {
    "duration": 451,
    "start_time": "2022-08-15T14:44:25.427Z"
   },
   {
    "duration": 335,
    "start_time": "2022-08-15T14:44:25.880Z"
   },
   {
    "duration": 479,
    "start_time": "2022-08-15T14:44:26.217Z"
   },
   {
    "duration": 14,
    "start_time": "2022-08-15T14:44:26.698Z"
   },
   {
    "duration": 178,
    "start_time": "2022-08-15T14:44:26.714Z"
   },
   {
    "duration": 145,
    "start_time": "2022-08-15T14:44:26.893Z"
   },
   {
    "duration": 4,
    "start_time": "2022-08-15T14:44:27.040Z"
   },
   {
    "duration": 23,
    "start_time": "2022-08-15T14:44:27.046Z"
   },
   {
    "duration": 161,
    "start_time": "2022-08-15T14:44:27.071Z"
   },
   {
    "duration": 168,
    "start_time": "2022-08-15T14:44:27.234Z"
   },
   {
    "duration": 5,
    "start_time": "2022-08-15T14:44:27.404Z"
   },
   {
    "duration": 242,
    "start_time": "2022-08-15T14:44:27.410Z"
   },
   {
    "duration": 31,
    "start_time": "2022-08-15T14:44:27.655Z"
   },
   {
    "duration": 4,
    "start_time": "2022-08-15T14:44:27.688Z"
   },
   {
    "duration": 11,
    "start_time": "2022-08-15T14:44:27.693Z"
   },
   {
    "duration": 9,
    "start_time": "2022-08-15T14:44:27.706Z"
   },
   {
    "duration": 15,
    "start_time": "2022-08-15T14:44:27.717Z"
   },
   {
    "duration": 51,
    "start_time": "2022-08-15T14:44:27.734Z"
   },
   {
    "duration": 4,
    "start_time": "2022-08-15T14:44:27.787Z"
   },
   {
    "duration": 14,
    "start_time": "2022-08-15T14:44:27.793Z"
   },
   {
    "duration": 8,
    "start_time": "2022-08-15T14:44:27.809Z"
   }
  ],
  "kernelspec": {
   "display_name": "Python 3 (ipykernel)",
   "language": "python",
   "name": "python3"
  },
  "language_info": {
   "codemirror_mode": {
    "name": "ipython",
    "version": 3
   },
   "file_extension": ".py",
   "mimetype": "text/x-python",
   "name": "python",
   "nbconvert_exporter": "python",
   "pygments_lexer": "ipython3",
   "version": "3.9.12"
  },
  "toc": {
   "base_numbering": 1,
   "nav_menu": {},
   "number_sections": true,
   "sideBar": true,
   "skip_h1_title": true,
   "title_cell": "Table of Contents",
   "title_sidebar": "Contents",
   "toc_cell": false,
   "toc_position": {},
   "toc_section_display": true,
   "toc_window_display": false
  }
 },
 "nbformat": 4,
 "nbformat_minor": 5
}
